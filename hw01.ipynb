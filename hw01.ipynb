{
 "cells": [
  {
   "cell_type": "markdown",
   "metadata": {},
   "source": [
    "\n",
    "\n",
    "# Homework 1: Basic Python, Arrays, and DataFrames\n",
    "\n",
    "## Due Tuesday, April 16th at 11:59PM\n",
    "\n",
    "Welcome to Homework 1! This week's homework will cover basic Python, arrays, and DataFrames. You can find additional help on these topics in [Chapter 1](https://www.inferentialthinking.com/chapters/01/what-is-data-science.html) of Computational and Inferential Thinking and [BPD 1-11](https://notes.dsc10.com/01-getting_started/tools.html) in the `babypandas` notes.\n",
    "\n",
    "\n",
    "### Instructions\n",
    "\n",
    "Remember to start early and submit often. You are given six slip days throughout the quarter to extend deadlines. See the syllabus for more details. With the exception of using slip days, late work will not be accepted unless you have made special arrangements with your instructor.\n",
    "\n",
    "**Important**: For homeworks, the `otter` tests don't usually tell you that your answer is correct. More often, they help catch careless mistakes. It's up to you to ensure that your answer is correct. If you're not sure, ask someone (not for the answer, but for some guidance about your approach). These are great questions for office hours (the schedule can be found [here](https://dsc10.com/calendar)) or Ed. Directly sharing answers is not okay, but discussing problems with the course staff or with other students is encouraged. "
   ]
  },
  {
   "cell_type": "code",
   "execution_count": 1,
   "metadata": {},
   "outputs": [],
   "source": [
    "# Please don't change this cell, but do make sure to run it.\n",
    "import babypandas as bpd\n",
    "import matplotlib.pyplot as plt\n",
    "import numpy as np\n",
    "import otter\n",
    "grader = otter.Notebook()\n",
    "\n",
    "plt.style.use('ggplot')"
   ]
  },
  {
   "cell_type": "markdown",
   "metadata": {},
   "source": [
    "## 1. Characters in *The Wonderful Wizard of Oz* 👠🧠❤️🦁"
   ]
  },
  {
   "cell_type": "markdown",
   "metadata": {},
   "source": [
    "In Lecture 1, we counted the number of times that the characters Amy, Beth, Jo, Meg, and Laurie were named in each chapter of the classic book _Little Women_. In this question, we'll look at another classic book – _The Wonderful Wizard of Oz (1900)_ by L. Frank Baum and illustrated by W.W. Denslow. In 1956, the copyright protections of the original book (but not the 1939 film produced by Metro-Goldwyn-Mayer!) expired, and so sites like Project Gutenberg are now able to post copies of the book without violating any copyright laws. [Click here](https://www.gutenberg.org/files/55/55-h/55-h.htm) to read a version of the book that has all of its original illustrations!"
   ]
  },
  {
   "cell_type": "markdown",
   "metadata": {},
   "source": [
    "<center><img src=images/wizard-of-oz-illustration.png width=350><br>(<a href=\"https://www.nypl.org/events/exhibitions/galleries/childhood/item/5458\">source</a>)</center>"
   ]
  },
  {
   "cell_type": "markdown",
   "metadata": {},
   "source": [
    "Four of the main characters in _The Wonderful Wizard of Oz_ are Dorothy Gale (👠), Scarecrow (🧠), The Tin Man (❤️), and The Cowardly Lion (🦁).\n",
    "\n",
    "Below, we've written code that shows the number of mentions of each of these four characters in the first 12 chapters of the book. However, instead of displaying this information in a line chart, as was done in Lecture 1, we will use a bar chart.\n",
    "\n",
    "Run the cell below to generate this bar chart of the first 12 chapters. This cell contains code that hasn't yet been covered in the course. It isn't expected that you'll understand the code, but you should be able to interpret the bar chart it generates."
   ]
  },
  {
   "cell_type": "code",
   "execution_count": 2,
   "metadata": {},
   "outputs": [
    {
     "data": {
      "image/png": "[encoded data removed]",
      "text/plain": [
       "<Figure size 1008x576 with 1 Axes>"
      ]
     },
     "metadata": {},
     "output_type": "display_data"
    }
   ],
   "source": [
    "# Open the book and split it into chapters.\n",
    "book_file = 'data/the-wonderful-wizard-of-oz.txt'\n",
    "raw_book = open(book_file, encoding=\"utf-8\").read()\n",
    "end_pos = raw_book.index('Chapter XIII')\n",
    "chapters = raw_book[:end_pos].split('Chapter ')[1:]\n",
    "\n",
    "# Find the number of words in each chapter.\n",
    "chapter_lengths = (np.array([len(c.split(' ')) for c in chapters]) / 100)\n",
    "\n",
    "# Find the number of mentions per 100 words for each character and chapter.\n",
    "characters = bpd.DataFrame().assign(\n",
    "    Chapter=np.arange(1, 13),\n",
    "    Dorothy=np.char.count(chapters, 'Dorothy') / chapter_lengths,\n",
    "    Scarecrow=np.char.count(chapters, 'Scarecrow') / chapter_lengths,\n",
    "    Lion=np.char.count(chapters, 'Lion') / chapter_lengths,\n",
    "    Tin_Man=np.char.count(chapters, 'Tin Woodman') / chapter_lengths\n",
    ")\n",
    "\n",
    "characters.plot(kind='bar', x='Chapter', figsize=(14, 8))\n",
    "plt.ylabel('Mentions per 100 words in chapter');"
   ]
  },
  {
   "cell_type": "markdown",
   "metadata": {},
   "source": [
    "Looking at the bar chart, we see that the height of the bar for Dorothy in Chapter 1 is 1.62 and the y-axis of this graph is “Mentions per 100 words in chapter”. This means that 1.62 of every 100 words in Chapter 1 are `\"Dorothy\"`. In other words, $1.62\\%$ of the words in Chapter 1 are `\"Dorothy\"`."
   ]
  },
  {
   "cell_type": "markdown",
   "metadata": {},
   "source": [
    "**Question 1.1.**  The following sentences are the very first time Scarecrow, Tin Man (real name Tin Woodman), and the Lion are mentioned in the book, respectively:\n",
    "\n",
    "> There was a great cornfield beyond the fence, and not far away she saw a Scarecrow, placed high on a pole to keep the birds from the ripe corn.\n",
    "\n",
    "> \"Oil my neck, first,\" replied the Tin Woodman.\n",
    "\n",
    "> Just as he spoke there came from the forest a terrible roar, and the next moment a great Lion bounded into the road.\n",
    "\n",
    "Based on the above bar chart, which chapters are each of these sentences from? Assign the variables `scarecrow_debut`, `tin_man_debut`, `lion_debut` to an integer between 1 and 12."
   ]
  },
  {
   "cell_type": "code",
   "execution_count": 3,
   "metadata": {},
   "outputs": [],
   "source": [
    "scarecrow_debut = 3\n",
    "tin_man_debut = 5\n",
    "lion_debut = 6"
   ]
  },
  {
   "cell_type": "code",
   "execution_count": 4,
   "metadata": {
    "deletable": false,
    "editable": false
   },
   "outputs": [
    {
     "data": {
      "text/html": [
       "<p><strong><pre style='display: inline;'>q1_1</pre></strong> passed!</p>"
      ],
      "text/plain": [
       "q1_1 results: All test cases passed!"
      ]
     },
     "execution_count": 4,
     "metadata": {},
     "output_type": "execute_result"
    }
   ],
   "source": [
    "grader.check(\"q1_1\")"
   ]
  },
  {
   "cell_type": "markdown",
   "metadata": {},
   "source": [
    "**Question 1.2.** Dorothy is mentioned 38 times in Chapter 12. How many times is Lion mentioned in Chapter 12? Assign the variable `lion_mentioned` to 1, 2, 3, 4, or 5 corresponding to the answer choices below. Remember to input your answer as a **number from 1-5 corresponding to the option numbers below, and not to the number of times Lion is mentioned.** For example, if you think Lion is mentioned 13 times, you should set `lion_mentioned` to 5, not 13.\n",
    "\n",
    "1. 20 times\n",
    "1. 15 times\n",
    "1. 17 times\n",
    "1. 19 times\n",
    "1. 13 times"
   ]
  },
  {
   "cell_type": "code",
   "execution_count": 5,
   "metadata": {},
   "outputs": [],
   "source": [
    "lion_mentioned = 3"
   ]
  },
  {
   "cell_type": "code",
   "execution_count": 6,
   "metadata": {
    "deletable": false,
    "editable": false
   },
   "outputs": [
    {
     "data": {
      "text/html": [
       "<p><strong><pre style='display: inline;'>q1_2</pre></strong> passed!</p>"
      ],
      "text/plain": [
       "q1_2 results: All test cases passed!"
      ]
     },
     "execution_count": 6,
     "metadata": {},
     "output_type": "execute_result"
    }
   ],
   "source": [
    "grader.check(\"q1_2\")"
   ]
  },
  {
   "cell_type": "markdown",
   "metadata": {},
   "source": [
    "**Question 1.3.** Chapter 11 is quite long, as it is the chapter when the characters reach the Emerald City. For reference, Chapter 8 is 1764 words long while Chapter 11 is 3294 words long. Based on this information and the plot, which of the following is correct? Assign the variable `oz_part3` to 1, 2, 3, or 4.\n",
    "\n",
    "1. Scarecrow is mentioned more times in Chapter 8 than in Chapter 11. Tin Man is mentioned more times in Chapter 8 than in Chapter 11.\n",
    "1. Scarecrow is mentioned more times in Chapter 8 than in Chapter 11. Tin Man is mentioned fewer times in Chapter 8 than in Chapter 11.\n",
    "1. Scarecrow is mentioned fewer times in Chapter 8 than in Chapter 11. Tin Man is mentioned more times in Chapter 8 than in Chapter 11.\n",
    "1. Scarecrow is mentioned fewer times in Chapter 8 than in Chapter 11. Tin Man is mentioned fewer times in Chapter 8 than in Chapter 11."
   ]
  },
  {
   "cell_type": "code",
   "execution_count": 7,
   "metadata": {},
   "outputs": [],
   "source": [
    "oz_part3 = 1"
   ]
  },
  {
   "cell_type": "code",
   "execution_count": 8,
   "metadata": {
    "deletable": false,
    "editable": false
   },
   "outputs": [
    {
     "data": {
      "text/html": [
       "<p><strong><pre style='display: inline;'>q1_3</pre></strong> passed!</p>"
      ],
      "text/plain": [
       "q1_3 results: All test cases passed!"
      ]
     },
     "execution_count": 8,
     "metadata": {},
     "output_type": "execute_result"
    }
   ],
   "source": [
    "grader.check(\"q1_3\")"
   ]
  },
  {
   "cell_type": "markdown",
   "metadata": {},
   "source": [
    "**Question 1.4.** Which of the following is a valid conclusion we can make based off of the above plot alone? Assign `oz_part4` to 1, 2, 3, 4, or 5. There is only one correct answer.\n",
    "\n",
    "1. Lion is mentioned more times in Chapter 10 than he is in Chapter 6.\n",
    "\n",
    "1. The chapter that Tin Man is mentioned the most in is Chapter 12.\n",
    "\n",
    "1. Lion is mentioned roughly the same number of times in each of Chapters 6, 8, and 10.\n",
    "\n",
    "1. The chapter that Dorothy is mentioned the least in is Chapter 8.\n",
    "\n",
    "1. Scarecrow and Tin Man are mentioned roughly the same number of times in Chapter 6."
   ]
  },
  {
   "cell_type": "code",
   "execution_count": 9,
   "metadata": {},
   "outputs": [],
   "source": [
    "oz_part4 = 5"
   ]
  },
  {
   "cell_type": "code",
   "execution_count": 10,
   "metadata": {
    "deletable": false,
    "editable": false
   },
   "outputs": [
    {
     "data": {
      "text/html": [
       "<p><strong><pre style='display: inline;'>q1_4</pre></strong> passed!</p>"
      ],
      "text/plain": [
       "q1_4 results: All test cases passed!"
      ]
     },
     "execution_count": 10,
     "metadata": {},
     "output_type": "execute_result"
    }
   ],
   "source": [
    "grader.check(\"q1_4\")"
   ]
  },
  {
   "cell_type": "markdown",
   "metadata": {},
   "source": [
    "**_Note:_**  The tests in this section only check that you set each variable to a number in the correct range. Unlike in labs, tests in homeworks **do not** check that you answered correctly; they only check that your answer is *reasonable*, or in the correct format. To put it another way: all of your tests might pass, but that doesn't mean you'll get full credit – some of your answers may still be wrong. It's up to you to make sure that they're right!"
   ]
  },
  {
   "cell_type": "markdown",
   "metadata": {},
   "source": [
    "## 2. Python Basics 🐍"
   ]
  },
  {
   "cell_type": "markdown",
   "metadata": {},
   "source": [
    "**Question 2.1.** When you run the following cell, Python produces a cryptic error message."
   ]
  },
  {
   "cell_type": "code",
   "execution_count": 11,
   "metadata": {
    "tags": []
   },
   "outputs": [],
   "source": [
    "# 2024 = 2025 - 1.0"
   ]
  },
  {
   "cell_type": "markdown",
   "metadata": {},
   "source": [
    "Choose the best explanation of what's wrong with the code, and then assign 1, 2, 3, or 4 to `basics_1` below to indicate your answer.\n",
    "\n",
    "1. This is trying to create a variable named `2024`, which doesn't make sense because `2024` is a number.\n",
    "\n",
    "1. The left hand side is an `int`, while the right hand side is a `float`. The left side should be `2024.0` instead.\n",
    "\n",
    "1. The result should be written after the calculation. It should be `2025 - 1.0 = 2024`.\n",
    "\n",
    "1. Python is not able to subtract a `float` from an `int` because they are of different data types.\n"
   ]
  },
  {
   "cell_type": "markdown",
   "metadata": {},
   "source": [
    "<font color=red>**🚨 Important: Once you have finished this question, \"comment\"  out the above code cell out by replacing it with `# 2024= 2025 - 1.0`. This will prevent the error message from appearing when your notebook is graded.**</font>\n",
    "\n",
    "***Note:*** A shortcut for \"commenting\" out code is to highlight the code and press `command` or `control` and `/`."
   ]
  },
  {
   "cell_type": "code",
   "execution_count": 12,
   "metadata": {
    "tags": []
   },
   "outputs": [],
   "source": [
    "basics_1 = 1"
   ]
  },
  {
   "cell_type": "code",
   "execution_count": 13,
   "metadata": {
    "deletable": false,
    "editable": false
   },
   "outputs": [
    {
     "data": {
      "text/html": [
       "<p><strong><pre style='display: inline;'>q2_1</pre></strong> passed!</p>"
      ],
      "text/plain": [
       "q2_1 results: All test cases passed!"
      ]
     },
     "execution_count": 13,
     "metadata": {},
     "output_type": "execute_result"
    }
   ],
   "source": [
    "grader.check(\"q2_1\")"
   ]
  },
  {
   "cell_type": "markdown",
   "metadata": {},
   "source": [
    "**Question 2.2.** Consider the following poorly-written code."
   ]
  },
  {
   "cell_type": "code",
   "execution_count": 14,
   "metadata": {
    "tags": []
   },
   "outputs": [],
   "source": [
    "three = 3\n",
    "four = 4\n",
    "three = three + four\n",
    "three = three * four\n",
    "three = three * three\n",
    "three = -three"
   ]
  },
  {
   "cell_type": "markdown",
   "metadata": {},
   "source": [
    "As this code executes, what values does the variable `three` take on? Assign 1, 2, 3, or 4 to `basics_2` to indicate your answer.\n",
    "\n",
    "1. The variable `three` takes on the values 3, 7, 12, 144, -144.\n",
    "\n",
    "1. The variable `three` takes on the values 3, 7, 28, 784, -784.\n",
    "\n",
    "1. The variable `three` takes on the values 3, 7, 28, 84, -84.\n",
    "\n",
    "1. The variable `three` takes on the values 3, 7, 12, 36, -36."
   ]
  },
  {
   "cell_type": "code",
   "execution_count": 15,
   "metadata": {},
   "outputs": [],
   "source": [
    "basics_2 = 2"
   ]
  },
  {
   "cell_type": "code",
   "execution_count": 16,
   "metadata": {
    "deletable": false,
    "editable": false
   },
   "outputs": [
    {
     "data": {
      "text/html": [
       "<p><strong><pre style='display: inline;'>q2_2</pre></strong> passed!</p>"
      ],
      "text/plain": [
       "q2_2 results: All test cases passed!"
      ]
     },
     "execution_count": 16,
     "metadata": {},
     "output_type": "execute_result"
    }
   ],
   "source": [
    "grader.check(\"q2_2\")"
   ]
  },
  {
   "cell_type": "markdown",
   "metadata": {},
   "source": [
    "## 3. Road Trip   🚘 "
   ]
  },
  {
   "cell_type": "markdown",
   "metadata": {},
   "source": [
    "Over spring break, you plan on going on a road trip to Palm Springs with your friends Abel and Oren. Before you go, you want to plan whose car (Abel's or Oren's) and which route (Route A or Route B) to take. Answer the questions below using Python to perform all the intermediate calculations such as adding, squaring, and dividing.\n",
    "\n",
    "<font color=red>**🚨 Important: The `math` package has not been imported. You don't need it for this question, and you should not import it, otherwise the Gradescope autograder may error.**</font>\n",
    "\n",
    "**Question 3.1.** First, you need to decide on the route. You plan to take the route for which the average speed is faster. \n",
    "\n",
    "For Route A, you will have to take 3 freeways, each with a different speed limit. Below is a table showing the speed limits (which we will assume is the speed you will travel at) and the time you will have to spend on each freeway on Route A.\n",
    "\n",
    "| Freeway | Speed Limit (miles per hour) | Time (hours)|\n",
    "| --- | --- | --- |\n",
    "| I-5 | 70 | 3 |\n",
    "| CA-73 | 55 | 2 |\n",
    "| CA-133 | 45 | 1 |\n",
    "\n",
    "Using this information, calculate the average speed, in miles per hour, if you take Route A, and assign your answer to the variable `route_A`. Recall from math and physics that the average speed is the total distance driven divided by the total time taken."
   ]
  },
  {
   "cell_type": "code",
   "execution_count": 17,
   "metadata": {
    "tags": []
   },
   "outputs": [
    {
     "data": {
      "text/plain": [
       "60.833333333333336"
      ]
     },
     "execution_count": 17,
     "metadata": {},
     "output_type": "execute_result"
    }
   ],
   "source": [
    "distance_I5 = 70 * 3 \n",
    "distance_CA73 = 55 * 2  \n",
    "distance_CA133 = 45 * 1  \n",
    "\n",
    "total_distance = distance_I5 + distance_CA73 + distance_CA133\n",
    "\n",
    "total_time = 3 + 2 + 1  \n",
    "\n",
    "route_A = total_distance / total_time\n",
    "\n",
    "route_A  "
   ]
  },
  {
   "cell_type": "code",
   "execution_count": 18,
   "metadata": {
    "deletable": false,
    "editable": false
   },
   "outputs": [
    {
     "data": {
      "text/html": [
       "<p><strong><pre style='display: inline;'>q3_1</pre></strong> passed!</p>"
      ],
      "text/plain": [
       "q3_1 results: All test cases passed!"
      ]
     },
     "execution_count": 18,
     "metadata": {},
     "output_type": "execute_result"
    }
   ],
   "source": [
    "grader.check(\"q3_1\")"
   ]
  },
  {
   "cell_type": "markdown",
   "metadata": {},
   "source": [
    "**Question 3.2.** Next, let's consider the other route you might take. For Route B, you will have to take 3 freeways, each with a different speed limit. Below is a table showing the speed limits (which we will assume is the speed you will travel at) and the *distance* you will need to travel on each freeway on Route B.\n",
    "\n",
    "| Freeway | Speed Limit (miles per hour) | Distance (miles)|\n",
    "| --- | --- | --- |\n",
    "| I-5 | 70 | 150 |\n",
    "| CA-57 | 65 | 110 |\n",
    "| CA-109 | 55 | 90 |\n",
    "\n",
    "Using this information, calculate the average speed, in miles per hour, if you take Route B, and assign your answer to the variable `route_B`.\n",
    "\n",
    "Note that the third column is **`'Distance (miles)'`, not `'Time (hours)'`**. Unlike in Question 3.1, you aren't given the amount of time you'll spend on each freeway; you need to compute these times yourself. To calculate the time it will take on each freeway, divide the distance for that freeway by the speed for that freeway. Finally, add up the times for each freeway to find the total time."
   ]
  },
  {
   "cell_type": "code",
   "execution_count": 19,
   "metadata": {
    "tags": []
   },
   "outputs": [
    {
     "data": {
      "text/plain": [
       "63.96750045645426"
      ]
     },
     "execution_count": 19,
     "metadata": {},
     "output_type": "execute_result"
    }
   ],
   "source": [
    "distance_I5_B = 150\n",
    "distance_CA57 = 110\n",
    "distance_CA109 = 90\n",
    "\n",
    "speed_limit_I5 = 70\n",
    "speed_limit_CA57 = 65\n",
    "speed_limit_CA109 = 55\n",
    "\n",
    "time_I5_B = distance_I5_B / speed_limit_I5\n",
    "time_CA57 = distance_CA57 / speed_limit_CA57\n",
    "time_CA109 = distance_CA109 / speed_limit_CA109\n",
    "\n",
    "total_time2 = time_I5_B + time_CA57 + time_CA109\n",
    "\n",
    "total_distance2 = distance_I5_B + distance_CA57 + distance_CA109\n",
    "\n",
    "route_B = total_distance2 / total_time2\n",
    "\n",
    "route_B"
   ]
  },
  {
   "cell_type": "code",
   "execution_count": 20,
   "metadata": {
    "deletable": false,
    "editable": false
   },
   "outputs": [
    {
     "data": {
      "text/html": [
       "<p><strong><pre style='display: inline;'>q3_2</pre></strong> passed!</p>"
      ],
      "text/plain": [
       "q3_2 results: All test cases passed!"
      ]
     },
     "execution_count": 20,
     "metadata": {},
     "output_type": "execute_result"
    }
   ],
   "source": [
    "grader.check(\"q3_2\")"
   ]
  },
  {
   "cell_type": "markdown",
   "metadata": {},
   "source": [
    "**Question 3.3.** Now it's time to decide whose car to take (Abel's or Oren's). You decide to take the car with the biggest fuel tank. \n",
    "\n",
    "Unfortunately, Abel doesn't know the exact volume of his car's fuel tank, only that the tank has a height of 16 inches, a width of 12 inches, and a length of 32 inches. Oren doesn't know the exact volume of his car's fuel tank either, but knows that his tank is in the shape of a cube. What is the length of one of the sides of Oren's fuel tank (in inches) so that it stores the same amount of fuel as Abel's? Save your answer in the variable `side_length`."
   ]
  },
  {
   "cell_type": "code",
   "execution_count": 21,
   "metadata": {},
   "outputs": [
    {
     "data": {
      "text/plain": [
       "18.315427880853306"
      ]
     },
     "execution_count": 21,
     "metadata": {},
     "output_type": "execute_result"
    }
   ],
   "source": [
    "length_Abel = 32\n",
    "width_Abel = 12\n",
    "height_Abel = 16\n",
    "\n",
    "volume_Abel = length_Abel * width_Abel * height_Abel\n",
    "\n",
    "\n",
    "side_length = (volume_Abel) ** (1/3)\n",
    "\n",
    "side_length"
   ]
  },
  {
   "cell_type": "code",
   "execution_count": 22,
   "metadata": {
    "deletable": false,
    "editable": false
   },
   "outputs": [
    {
     "data": {
      "text/html": [
       "<p><strong><pre style='display: inline;'>q3_3</pre></strong> passed!</p>"
      ],
      "text/plain": [
       "q3_3 results: All test cases passed!"
      ]
     },
     "execution_count": 22,
     "metadata": {},
     "output_type": "execute_result"
    }
   ],
   "source": [
    "grader.check(\"q3_3\")"
   ]
  },
  {
   "cell_type": "markdown",
   "metadata": {},
   "source": [
    "In this problem, though you calculated three different quantities in three different ways, all of your results are actually considered **means**, of various kinds!\n",
    "\n",
    "In Question 3.1, given $n$ values $x_1, x_2, ..., x_n$, you found an *arithmetic mean*, using the formula\n",
    "\n",
    "$${x_1+x_2+...+x_n \\over n},$$\n",
    "\n",
    "where the numerator represented total distance and the denominator represented total time. An arithmetic mean is the usual type of mean or average you're used to seeing. It turns out that you actually computed a more sophisticated arithmetic mean, known as a _weighted arithmetic mean_, \n",
    "\n",
    "$$\\frac{w_1 x_1 + w_2 x_2 + ... + w_n x_n}{w_1 + w_2 + ... + w_n},$$\n",
    "\n",
    "where the weights $w_1, w_2, w_3$ were the times on each freeway.\n",
    "\n",
    "In Question 3.2, given  $n$ values $x_1, x_2, ..., x_n$, you found a *harmonic mean*, using the formula\n",
    "\n",
    "$${n \\over {{1 \\over x_1}+{1 \\over x_2}+ ... + {1 \\over x_n}}},$$ \n",
    "\n",
    "\n",
    "where the numerator represented total distance and the denominator represented total time. To calculate the total time, you needed to sum the time taken for each part of the trip, calculated using the fact that time is distance over speed. Again, it turns out that you actually computed the _weighted harmonic mean_, but this time the weights were the distances on each of the freeways. If you're curious, see the formula [here](https://en.wikipedia.org/wiki/Harmonic_mean#Weighted_harmonic_mean).\n",
    "\n",
    "Finally in Question 3.3, given $n$ values $x_1, x_2, ..., x_n$, you found a *geometric mean*, using the formula \n",
    "\n",
    "$${\\sqrt[n]{x_1 \\cdot x_2 \\cdot ... \\cdot x_n}},$$ \n",
    "\n",
    "where each value represented a dimension of the fuel tank. \n",
    "\n",
    "As you can see, there are many different notions of the mean. You'll learn about some of them if you take DSC 40A!"
   ]
  },
  {
   "cell_type": "markdown",
   "metadata": {},
   "source": [
    "## 4. Social Media Usage Among Communities 📱"
   ]
  },
  {
   "cell_type": "markdown",
   "metadata": {},
   "source": [
    "In this problem, we want to compare and contrast social media usage among Americans who live in different types of communities (urban, suburban, and rural). The data below comes from [Pew Research Center's 2023 Social Media Fact Sheet](https://www.pewresearch.org/internet/fact-sheet/teens-and-social-media-fact-sheet/?tabId=tab-26288fdf-8b5e-4076-97e4-84f6ce9ecbf7). It shows what percent of residents of each type of community use TikTok, Snapchat, and Instagram.\n",
    "\n",
    "| Percent of community using platform       | Urban  | Suburban  | Rural |\n",
    "|-------------------------------------------|-------------|-----------|-----------|\n",
    "| TikTok        | 67 | 62 | 62 | \n",
    "| Snapchat       | 59 | 58 | 64 | \n",
    "| Instagram    | 65 | 58  | 55 | \n",
    "\n",
    "We define the **dissimilarity** between two communities as the largest absolute difference between their three respective usage percentages.\n",
    "\n",
    "To better understand dissimilarity, consider the following hypothetical situation, where we compare the social media usage in community A and community B. Suppose:\n",
    "* Community A's *usage of Facebook* is **10 percent more** than community B's.\n",
    "* Community A's *usage of Instagram* is **4 percent less** than community B's.\n",
    "* Community A's *usage of LinkedIn* is **7 percent less** than community B's.\n",
    "\n",
    "Then, we would say the dissimilarity between community A and community B is 10, since 10 is larger than both 4 and 7."
   ]
  },
  {
   "cell_type": "markdown",
   "metadata": {},
   "source": [
    "**Question 4.1.** \n",
    "Using this method, compute the dissimilarity between urban and suburban communities.  Assign the result to the variable `dissimilarity`. Use a single expression (a single line of code) to compute the answer. Let Python perform all the arithmetic (like subtracting) rather than calculating the expression yourself. \n",
    "\n",
    "**_Hint:_**  The built-in `abs` function computes absolute values. "
   ]
  },
  {
   "cell_type": "code",
   "execution_count": 23,
   "metadata": {
    "tags": []
   },
   "outputs": [
    {
     "data": {
      "text/plain": [
       "7"
      ]
     },
     "execution_count": 23,
     "metadata": {},
     "output_type": "execute_result"
    }
   ],
   "source": [
    "dissimilarity = dissimilarity = max(abs(67 - 62), abs(59 - 58), abs(65 - 58))\n",
    "dissimilarity"
   ]
  },
  {
   "cell_type": "code",
   "execution_count": 24,
   "metadata": {
    "deletable": false,
    "editable": false
   },
   "outputs": [
    {
     "data": {
      "text/html": [
       "<p><strong><pre style='display: inline;'>q4_1</pre></strong> passed!</p>"
      ],
      "text/plain": [
       "q4_1 results: All test cases passed!"
      ]
     },
     "execution_count": 24,
     "metadata": {},
     "output_type": "execute_result"
    }
   ],
   "source": [
    "grader.check(\"q4_1\")"
   ]
  },
  {
   "cell_type": "markdown",
   "metadata": {},
   "source": [
    "**Question 4.2.** Which pair of communities is **most** dissimilar, according to this measurement? Assign either 1, 2, or 3 to the variable `most_dissimilar` below. Check whether your answer matches up with your intuition.\n",
    "\n",
    "1. urban and suburban communities\n",
    "1. suburban and rural communities\n",
    "1. urban and rural communities"
   ]
  },
  {
   "cell_type": "code",
   "execution_count": 25,
   "metadata": {
    "tags": []
   },
   "outputs": [],
   "source": [
    "most_dissimilar = 3"
   ]
  },
  {
   "cell_type": "code",
   "execution_count": 26,
   "metadata": {
    "deletable": false,
    "editable": false
   },
   "outputs": [
    {
     "data": {
      "text/html": [
       "<p><strong><pre style='display: inline;'>q4_2</pre></strong> passed!</p>"
      ],
      "text/plain": [
       "q4_2 results: All test cases passed!"
      ]
     },
     "execution_count": 26,
     "metadata": {},
     "output_type": "execute_result"
    }
   ],
   "source": [
    "grader.check(\"q4_2\")"
   ]
  },
  {
   "cell_type": "markdown",
   "metadata": {},
   "source": [
    "**Question 4.3.** It turns out that if we were to eliminate a certain one of the three social media percentages in the table (getting rid of one of the rows) and recalculate dissimilarities based on the remaining two percentages only, we would find the dissimilarity between each pair of communities to be the same as if we had used all three percentages. In other words, one of the three rows of the table ends up not factoring into the calculation for dissimilarity, for all three pairs of communities.\n",
    "\n",
    "Which percentage can be eliminated without changing the dissimilarity of any pair of communities in the table? Assign either 1, 2, or 3 to the variable `disposable` below.\n",
    "\n",
    "1. TikTok\n",
    "1. Snapchat\n",
    "1. Instagram"
   ]
  },
  {
   "cell_type": "code",
   "execution_count": 27,
   "metadata": {
    "tags": []
   },
   "outputs": [],
   "source": [
    "disposable = 1"
   ]
  },
  {
   "cell_type": "code",
   "execution_count": 28,
   "metadata": {
    "deletable": false,
    "editable": false
   },
   "outputs": [
    {
     "data": {
      "text/html": [
       "<p><strong><pre style='display: inline;'>q4_3</pre></strong> passed!</p>"
      ],
      "text/plain": [
       "q4_3 results: All test cases passed!"
      ]
     },
     "execution_count": 28,
     "metadata": {},
     "output_type": "execute_result"
    }
   ],
   "source": [
    "grader.check(\"q4_3\")"
   ]
  },
  {
   "cell_type": "markdown",
   "metadata": {},
   "source": [
    "## 5. Arrays 🗃️"
   ]
  },
  {
   "cell_type": "markdown",
   "metadata": {},
   "source": [
    "**Question 5.1.** Make an array called `quirky_numbers` containing the following numbers (in the given order):\n",
    "\n",
    "1. The square root of 67\n",
    "2. 33 degrees, in radians\n",
    "3. $\\frac{3^4 + 9^4}{1000}$\n",
    "4. The mathematical constant $e$ divided by 7 (that is, $\\frac{e}{7}$)\n",
    "5. The base 10 logarithm of 88\n",
    "\n",
    "<font color=red>**🚨 Important: The `math` package has not been imported. You don't need it for this question, and you should not import it, otherwise the Gradescope autograder may error.**</font>\n",
    "\n",
    "**_Hint:_**  Check out the functions and constants available in the `numpy` module, which has been imported as `np`. If you're unsure of what function to use, a quick Google search should do the trick. Do **not** round any of the values in the array. \n",
    "\n",
    "**_Note:_**  In this problem, as with all others, we'll only check that your answer is correct. There may be several valid ways to produce the correct answer."
   ]
  },
  {
   "cell_type": "code",
   "execution_count": 29,
   "metadata": {
    "scrolled": true,
    "tags": []
   },
   "outputs": [
    {
     "data": {
      "text/plain": [
       "array([8.18535277, 0.57595865, 6.642     , 0.38832598, 1.94448267])"
      ]
     },
     "execution_count": 29,
     "metadata": {},
     "output_type": "execute_result"
    }
   ],
   "source": [
    "import numpy as np\n",
    "\n",
    "quirky_numbers = np.array([\n",
    "    np.sqrt(67),                    \n",
    "    np.radians(33),                 \n",
    "    (3**4 + 9**4) / 1000,               \n",
    "    np.e / 7,                       \n",
    "    np.log10(88)                    \n",
    "])\n",
    "\n",
    "quirky_numbers"
   ]
  },
  {
   "cell_type": "code",
   "execution_count": 30,
   "metadata": {
    "deletable": false,
    "editable": false
   },
   "outputs": [
    {
     "data": {
      "text/html": [
       "<p><strong><pre style='display: inline;'>q5_1</pre></strong> passed!</p>"
      ],
      "text/plain": [
       "q5_1 results: All test cases passed!"
      ]
     },
     "execution_count": 30,
     "metadata": {},
     "output_type": "execute_result"
    }
   ],
   "source": [
    "grader.check(\"q5_1\")"
   ]
  },
  {
   "cell_type": "markdown",
   "metadata": {
    "deletable": false,
    "editable": false
   },
   "source": [
    "**Question 5.2.** Make an array called `likes` containing the following three strings, in the specified order:\n",
    "- `'I like surfing'`\n",
    "- `'otters'`\n",
    "- `'and popcorn.'`\n",
    "\n",
    "<!--\n",
    "BEGIN QUESTION\n",
    "name: q5_2\n",
    "-->"
   ]
  },
  {
   "cell_type": "code",
   "execution_count": 31,
   "metadata": {
    "tags": []
   },
   "outputs": [
    {
     "data": {
      "text/plain": [
       "array(['I like surfing', 'otters', 'and popcorn.'], dtype='<U14')"
      ]
     },
     "execution_count": 31,
     "metadata": {},
     "output_type": "execute_result"
    }
   ],
   "source": [
    "likes = np.array(['I like surfing', 'otters', 'and popcorn.'])\n",
    "likes"
   ]
  },
  {
   "cell_type": "code",
   "execution_count": 32,
   "metadata": {
    "deletable": false,
    "editable": false
   },
   "outputs": [
    {
     "data": {
      "text/html": [
       "<p><strong><pre style='display: inline;'>q5_2</pre></strong> passed!</p>"
      ],
      "text/plain": [
       "q5_2 results: All test cases passed!"
      ]
     },
     "execution_count": 32,
     "metadata": {},
     "output_type": "execute_result"
    }
   ],
   "source": [
    "grader.check(\"q5_2\")"
   ]
  },
  {
   "cell_type": "markdown",
   "metadata": {},
   "source": [
    "<center><img src=images/otter.webp width=300>\n",
    "<br>\n",
    "<a href=\"https://www.npr.org/2023/07/13/1187295769/otter-santa-cruz-surfboard-surfers-california\">An otter in Santa Cruz is hassling surfers — and stealing their boards</a></center>\n",
    "\n",
    "\n",
    "In [Lecture 3](https://dsc10.com/resources/lectures/lec03/lec03.html#String-methods), we looked at several string methods, like `upper` and `replace`. Strings have another method that we haven't seen yet, called `join`. `join` takes one argument, an array of strings, and it returns a single string. Specifically, `some_string.join(some_array)` evaluates to a new string consisting of all of elements in `some_array`, with `some_string` inserted **in between each element**.\n",
    "\n",
    "For example, `'-'.join(np.array(['call', '858', '534', '2230']))` evaluates to `'call-858-534-2230'`.\n",
    "\n",
    "**Question 5.3.** Use the array `likes` and the method `join` to make two strings:\n",
    "\n",
    "1. `'I like surfing, otters, and popcorn.'` (call this one `by_comma`)\n",
    "1. `'I like surfing otters and popcorn.'` (call this one `by_space`)"
   ]
  },
  {
   "cell_type": "code",
   "execution_count": 33,
   "metadata": {
    "scrolled": true,
    "tags": []
   },
   "outputs": [
    {
     "name": "stdout",
     "output_type": "stream",
     "text": [
      "I like surfing, otters, and popcorn.\n",
      "I like surfing otters and popcorn.\n"
     ]
    }
   ],
   "source": [
    "by_comma = ', '.join(likes)\n",
    "by_space = ' '.join(likes)\n",
    "\n",
    "# Don't change the lines below.\n",
    "print(by_comma)\n",
    "print(by_space)"
   ]
  },
  {
   "cell_type": "code",
   "execution_count": 34,
   "metadata": {
    "deletable": false,
    "editable": false
   },
   "outputs": [
    {
     "data": {
      "text/html": [
       "<p><strong><pre style='display: inline;'>q5_3</pre></strong> passed!</p>"
      ],
      "text/plain": [
       "q5_3 results: All test cases passed!"
      ]
     },
     "execution_count": 34,
     "metadata": {},
     "output_type": "execute_result"
    }
   ],
   "source": [
    "grader.check(\"q5_3\")"
   ]
  },
  {
   "cell_type": "markdown",
   "metadata": {},
   "source": [
    "Now let's get some practice accessing individual elements of arrays.  In Python (and in many programming languages), elements are accessed by *integer position*, with the position of the first element being zero. That's probably not the way you learned to count, so it's easy to get mixed up here. Be careful!"
   ]
  },
  {
   "cell_type": "markdown",
   "metadata": {},
   "source": [
    "**Question 5.4.** The cell below creates an array of strings."
   ]
  },
  {
   "cell_type": "code",
   "execution_count": 35,
   "metadata": {
    "scrolled": true,
    "tags": []
   },
   "outputs": [
    {
     "data": {
      "text/plain": [
       "array(['fruits', '🍎', '🍇', '🍓', 'mouse', '🐭', 'panda', '🐼'], dtype='<U6')"
      ]
     },
     "execution_count": 35,
     "metadata": {},
     "output_type": "execute_result"
    }
   ],
   "source": [
    "some_strings = np.array(['fruits', '🍎', '🍇', '🍓', 'mouse', '🐭', 'panda', '🐼'])\n",
    "some_strings"
   ]
  },
  {
   "cell_type": "markdown",
   "metadata": {},
   "source": [
    "What is the integer position of `'🍓'` in the array? You can just type in the answer, which should be of type `int`. This is a conceptual question, not a coding question.\n",
    "\n",
    "**_Note:_**  Your answer should be a **positive** integer!"
   ]
  },
  {
   "cell_type": "code",
   "execution_count": 36,
   "metadata": {
    "tags": []
   },
   "outputs": [
    {
     "data": {
      "text/plain": [
       "3"
      ]
     },
     "execution_count": 36,
     "metadata": {},
     "output_type": "execute_result"
    }
   ],
   "source": [
    "strawberry_position = 3\n",
    "strawberry_position"
   ]
  },
  {
   "cell_type": "code",
   "execution_count": 37,
   "metadata": {
    "deletable": false,
    "editable": false
   },
   "outputs": [
    {
     "data": {
      "text/html": [
       "<p><strong><pre style='display: inline;'>q5_4</pre></strong> passed!</p>"
      ],
      "text/plain": [
       "q5_4 results: All test cases passed!"
      ]
     },
     "execution_count": 37,
     "metadata": {},
     "output_type": "execute_result"
    }
   ],
   "source": [
    "grader.check(\"q5_4\")"
   ]
  },
  {
   "cell_type": "markdown",
   "metadata": {},
   "source": [
    "**Question 5.5.** Suppose you have an array with 249 elements. What is the integer position of the sixth-to-last element in this array? You can just type in the answer, which should be of type `int`. This is a conceptual question, not a coding question.\n",
    "\n",
    "**_Note:_**  Again, your answer should be a **positive** integer!"
   ]
  },
  {
   "cell_type": "code",
   "execution_count": 38,
   "metadata": {
    "scrolled": true,
    "tags": []
   },
   "outputs": [
    {
     "data": {
      "text/plain": [
       "243"
      ]
     },
     "execution_count": 38,
     "metadata": {},
     "output_type": "execute_result"
    }
   ],
   "source": [
    "sixth_last_position = 243\n",
    "sixth_last_position"
   ]
  },
  {
   "cell_type": "code",
   "execution_count": 39,
   "metadata": {
    "deletable": false,
    "editable": false
   },
   "outputs": [
    {
     "data": {
      "text/html": [
       "<p><strong><pre style='display: inline;'>q5_5</pre></strong> passed!</p>"
      ],
      "text/plain": [
       "q5_5 results: All test cases passed!"
      ]
     },
     "execution_count": 39,
     "metadata": {},
     "output_type": "execute_result"
    }
   ],
   "source": [
    "grader.check(\"q5_5\")"
   ]
  },
  {
   "cell_type": "markdown",
   "metadata": {},
   "source": [
    "**Question 5.6.** Suppose you have an array with 743 elements. At what integer position is the middle element of this array? You can just type in the answer, which should be of type `int`. This is a conceptual question, not a coding question.\n",
    "\n",
    "**_Note:_**  Again, your answer should be a **positive** integer!"
   ]
  },
  {
   "cell_type": "code",
   "execution_count": 40,
   "metadata": {
    "tags": []
   },
   "outputs": [
    {
     "data": {
      "text/plain": [
       "371"
      ]
     },
     "execution_count": 40,
     "metadata": {},
     "output_type": "execute_result"
    }
   ],
   "source": [
    "mid_position = 371\n",
    "mid_position"
   ]
  },
  {
   "cell_type": "code",
   "execution_count": 41,
   "metadata": {
    "deletable": false,
    "editable": false
   },
   "outputs": [
    {
     "data": {
      "text/html": [
       "<p><strong><pre style='display: inline;'>q5_6</pre></strong> passed!</p>"
      ],
      "text/plain": [
       "q5_6 results: All test cases passed!"
      ]
     },
     "execution_count": 41,
     "metadata": {},
     "output_type": "execute_result"
    }
   ],
   "source": [
    "grader.check(\"q5_6\")"
   ]
  },
  {
   "cell_type": "markdown",
   "metadata": {},
   "source": [
    "By the way, it's also possible to use negative integer positions to access elements in an array, which can be easier than using positive integer positions sometimes.  If a position is negative, you count from the end of the array rather than from the beginning. Position -1 corresponds to the last element, -2 corresponds to the second-to-last element, and so on. For instance, to find the third-to-last element of `some_strings`, we could use:"
   ]
  },
  {
   "cell_type": "code",
   "execution_count": 42,
   "metadata": {
    "scrolled": true,
    "tags": []
   },
   "outputs": [
    {
     "data": {
      "text/plain": [
       "'🐭'"
      ]
     },
     "execution_count": 42,
     "metadata": {},
     "output_type": "execute_result"
    }
   ],
   "source": [
    "some_strings[-3]"
   ]
  },
  {
   "cell_type": "markdown",
   "metadata": {},
   "source": [
    "## 6. DSC 10 Enrollments 📈"
   ]
  },
  {
   "cell_type": "markdown",
   "metadata": {},
   "source": [
    "In this question, we'll look at enrollment data from the fall and spring offerings of DSC 10 this academic year. The fourth column of the table below shows how many UCSD undergraduate students in the current offering of DSC 10 come from each of the university's eight colleges. It looks like Sixth College is the most popular, with 62 students. The last column shows how many of those students are DSC majors. There are hardly any!\n",
    "\n",
    "For comparison's sake, we also have the corresponding data from the Fall 2023 offering of DSC 10. You can see that most DSC majors take this course in the fall! \n",
    "\n",
    "Throughout this problem, we'll assume that all students in DSC 10 come from one of the eight colleges in the table. We've excluded graduate students, exchange students, etc.\n",
    "\n",
    "| College   |   Fall 23 Students |   Fall 23 DSC Major Students |   Spring 24 Students |   Spring 24 DSC Major Students |\n",
    "|:----------|-------------------:|-----------------------------:|---------------------:|-------------------------------:|\n",
    "| Eighth    |                 32 |                           27 |                   13 |                              0 |\n",
    "| Seventh   |                 93 |                           66 |                   25 |                              1 |\n",
    "| Sixth     |                 90 |                           54 |                   62 |                              0 |\n",
    "| Roosevelt |                 51 |                           36 |                   32 |                              0 |\n",
    "| Warren    |                 74 |                           52 |                   25 |                              0 |\n",
    "| Marshall  |                 57 |                           32 |                   22 |                              0 |\n",
    "| Muir      |                 47 |                           36 |                   22 |                              0 |\n",
    "| Revelle   |                 38 |                           24 |                   17 |                              0 |\n",
    "\n",
    "In this problem, we'll be working with the data from this table as *arrays*. Here are those arrays:"
   ]
  },
  {
   "cell_type": "code",
   "execution_count": 43,
   "metadata": {
    "scrolled": true
   },
   "outputs": [
    {
     "data": {
      "text/plain": [
       "array([32, 93, 90, 51, 74, 57, 47, 38])"
      ]
     },
     "execution_count": 43,
     "metadata": {},
     "output_type": "execute_result"
    }
   ],
   "source": [
    "students_23 = np.array([32, 93, 90, 51, 74, 57, 47, 38])\n",
    "students_23"
   ]
  },
  {
   "cell_type": "code",
   "execution_count": 44,
   "metadata": {},
   "outputs": [
    {
     "data": {
      "text/plain": [
       "array([27, 66, 54, 36, 52, 32, 36, 24])"
      ]
     },
     "execution_count": 44,
     "metadata": {},
     "output_type": "execute_result"
    }
   ],
   "source": [
    "majors_23 = np.array([27, 66, 54, 36, 52, 32, 36, 24])\n",
    "majors_23"
   ]
  },
  {
   "cell_type": "code",
   "execution_count": 45,
   "metadata": {},
   "outputs": [
    {
     "data": {
      "text/plain": [
       "array([13, 25, 62, 32, 25, 22, 22, 17])"
      ]
     },
     "execution_count": 45,
     "metadata": {},
     "output_type": "execute_result"
    }
   ],
   "source": [
    "students_24 = np.array([13, 25, 62, 32, 25, 22, 22, 17])\n",
    "students_24"
   ]
  },
  {
   "cell_type": "code",
   "execution_count": 46,
   "metadata": {},
   "outputs": [
    {
     "data": {
      "text/plain": [
       "array([0, 1, 0, 0, 0, 0, 0, 0])"
      ]
     },
     "execution_count": 46,
     "metadata": {},
     "output_type": "execute_result"
    }
   ],
   "source": [
    "majors_24 = np.array([0, 1, 0, 0, 0, 0, 0, 0])\n",
    "majors_24"
   ]
  },
  {
   "cell_type": "markdown",
   "metadata": {},
   "source": [
    "Remember, the `numpy` package (`np` for short) provides many handy functions for working with arrays. These are specifically designed to work with arrays and are faster than using Python's built-in functions. \n",
    "\n",
    "Some frequently used array functions are `np.min`, `np.max`, `np.sum`, `np.abs`, and `np.round`. There are many more, which you can browse by typing `np.` into a code cell and hitting the `tab` key. These are all in addition to array methods, which we access using dot notation. (For instance, both `arr.max()` and `np.max(arr)` return the largest element in the array `arr`.)"
   ]
  },
  {
   "cell_type": "markdown",
   "metadata": {},
   "source": [
    "**Question 6.1.** Assign `enrolled_23` and `enrolled_24` to the number of students that were enrolled in DSC 10 in Fall 2023 and Spring 2024, respectively."
   ]
  },
  {
   "cell_type": "code",
   "execution_count": 47,
   "metadata": {},
   "outputs": [
    {
     "name": "stdout",
     "output_type": "stream",
     "text": [
      "Students in Fall 2023: 482\n",
      "Students in Spring 2024: 218\n"
     ]
    }
   ],
   "source": [
    "enrolled_23 = np.sum(students_23)\n",
    "enrolled_24 = np.sum(students_24)\n",
    "\n",
    "# Don't change the lines below.\n",
    "print('Students in Fall 2023:', enrolled_23)\n",
    "print('Students in Spring 2024:', enrolled_24)"
   ]
  },
  {
   "cell_type": "code",
   "execution_count": 48,
   "metadata": {
    "deletable": false,
    "editable": false
   },
   "outputs": [
    {
     "data": {
      "text/html": [
       "<p><strong><pre style='display: inline;'>q6_1</pre></strong> passed!</p>"
      ],
      "text/plain": [
       "q6_1 results: All test cases passed!"
      ]
     },
     "execution_count": 48,
     "metadata": {},
     "output_type": "execute_result"
    }
   ],
   "source": [
    "grader.check(\"q6_1\")"
   ]
  },
  {
   "cell_type": "markdown",
   "metadata": {},
   "source": [
    "**Question 6.2.** How many non-DSC major students from the Fall 2023 offering of DSC 10 came from each of the eight colleges? Your answer should be an array called `non_majors_23`, with the colleges in the same order as they appear in the table above. For instance, the first element of `non_majors_23` should be the number of non-DSC majors in the Fall 2023 offering of DSC 10 who were in Eighth College."
   ]
  },
  {
   "cell_type": "code",
   "execution_count": 49,
   "metadata": {},
   "outputs": [
    {
     "data": {
      "text/plain": [
       "array([ 5, 27, 36, 15, 22, 25, 11, 14])"
      ]
     },
     "execution_count": 49,
     "metadata": {},
     "output_type": "execute_result"
    }
   ],
   "source": [
    "non_majors_23 = np.array(students_23) - np.array(majors_23)\n",
    "non_majors_23"
   ]
  },
  {
   "cell_type": "code",
   "execution_count": 50,
   "metadata": {
    "deletable": false,
    "editable": false
   },
   "outputs": [
    {
     "data": {
      "text/html": [
       "<p><strong><pre style='display: inline;'>q6_2</pre></strong> passed!</p>"
      ],
      "text/plain": [
       "q6_2 results: All test cases passed!"
      ]
     },
     "execution_count": 50,
     "metadata": {},
     "output_type": "execute_result"
    }
   ],
   "source": [
    "grader.check(\"q6_2\")"
   ]
  },
  {
   "cell_type": "markdown",
   "metadata": {},
   "source": [
    "**Question 6.3.** What percentage of Fall 2023 DSC 10 students from each college were DSC majors? Your answer should be an array called `percent_majors_23`, with the colleges in the same order as they appear in the table above, and with percentages rounded to two decimal places."
   ]
  },
  {
   "cell_type": "code",
   "execution_count": 51,
   "metadata": {},
   "outputs": [
    {
     "data": {
      "text/plain": [
       "array([84.38, 70.97, 60.  , 70.59, 70.27, 56.14, 76.6 , 63.16])"
      ]
     },
     "execution_count": 51,
     "metadata": {},
     "output_type": "execute_result"
    }
   ],
   "source": [
    "percent_majors_23 = np.round(majors_23/students_23*100,2)\n",
    "percent_majors_23"
   ]
  },
  {
   "cell_type": "code",
   "execution_count": 52,
   "metadata": {
    "deletable": false,
    "editable": false
   },
   "outputs": [
    {
     "data": {
      "text/html": [
       "<p><strong><pre style='display: inline;'>q6_3</pre></strong> passed!</p>"
      ],
      "text/plain": [
       "q6_3 results: All test cases passed!"
      ]
     },
     "execution_count": 52,
     "metadata": {},
     "output_type": "execute_result"
    }
   ],
   "source": [
    "grader.check(\"q6_3\")"
   ]
  },
  {
   "cell_type": "markdown",
   "metadata": {},
   "source": [
    "## 7. Analyzing Bob Ross Paintings 🎨"
   ]
  },
  {
   "cell_type": "markdown",
   "metadata": {},
   "source": [
    "<center><img src=\"./images/bob_ross.jpg\" width = 400/></center>\n",
    "\n",
    "Bob Ross was an iconic American landscape painter, most well-known for hosting an instructional television show in the 80s and 90s called *The Joy of Painting*. In each episode, Bob Ross taught viewers to paint a different landscape picture while encouraging them to bring out \"the artist hidden in the bottom of every single one of us.\" The file `data/bob_ross.csv` contains information on individual elements seen within Bob Ross' paintings across 403 episodes. For example, in [Season 1, Episode 1](https://www.youtube.com/watch?v=oh5p5f5_-7A), Bob shows how to create the painting below, titled \"A Walk in the Woods\".\n",
    "\n",
    "&nbsp;\n",
    "<center><img src=\"./images/bob_ross_s1_painting.png\" width = 400/></center>"
   ]
  },
  {
   "cell_type": "markdown",
   "metadata": {},
   "source": [
    "**Question 7.1.** Read this file into a DataFrame called `bob_ross`. "
   ]
  },
  {
   "cell_type": "code",
   "execution_count": 53,
   "metadata": {},
   "outputs": [
    {
     "data": {
      "text/html": [
       "<div>\n",
       "<style scoped>\n",
       "    .dataframe tbody tr th:only-of-type {\n",
       "        vertical-align: middle;\n",
       "    }\n",
       "\n",
       "    .dataframe tbody tr th {\n",
       "        vertical-align: top;\n",
       "    }\n",
       "\n",
       "    .dataframe thead th {\n",
       "        text-align: right;\n",
       "    }\n",
       "</style>\n",
       "<table border=\"1\" class=\"dataframe\">\n",
       "  <thead>\n",
       "    <tr style=\"text-align: right;\">\n",
       "      <th></th>\n",
       "      <th>EPISODE</th>\n",
       "      <th>SEASON</th>\n",
       "      <th>EPISODE_NUMBER</th>\n",
       "      <th>TITLE</th>\n",
       "      <th>APPLE_FRAME</th>\n",
       "      <th>AURORA_BOREALIS</th>\n",
       "      <th>BARN</th>\n",
       "      <th>BEACH</th>\n",
       "      <th>BOAT</th>\n",
       "      <th>BRIDGE</th>\n",
       "      <th>...</th>\n",
       "      <th>TOMB_FRAME</th>\n",
       "      <th>TREES</th>\n",
       "      <th>TRIPLE_FRAME</th>\n",
       "      <th>WATERFALL</th>\n",
       "      <th>WAVES</th>\n",
       "      <th>WINDMILL</th>\n",
       "      <th>WINDOW_FRAME</th>\n",
       "      <th>WINTER</th>\n",
       "      <th>WOOD_FRAMED</th>\n",
       "      <th>TOTAL_ELEMENTS</th>\n",
       "    </tr>\n",
       "  </thead>\n",
       "  <tbody>\n",
       "    <tr>\n",
       "      <th>0</th>\n",
       "      <td>S01E01</td>\n",
       "      <td>1</td>\n",
       "      <td>1</td>\n",
       "      <td>\"A WALK IN THE WOODS\"</td>\n",
       "      <td>0</td>\n",
       "      <td>0</td>\n",
       "      <td>0</td>\n",
       "      <td>0</td>\n",
       "      <td>0</td>\n",
       "      <td>0</td>\n",
       "      <td>...</td>\n",
       "      <td>0</td>\n",
       "      <td>1</td>\n",
       "      <td>0</td>\n",
       "      <td>0</td>\n",
       "      <td>0</td>\n",
       "      <td>0</td>\n",
       "      <td>0</td>\n",
       "      <td>0</td>\n",
       "      <td>0</td>\n",
       "      <td>5</td>\n",
       "    </tr>\n",
       "    <tr>\n",
       "      <th>1</th>\n",
       "      <td>S01E02</td>\n",
       "      <td>1</td>\n",
       "      <td>2</td>\n",
       "      <td>\"MT. MCKINLEY\"</td>\n",
       "      <td>0</td>\n",
       "      <td>0</td>\n",
       "      <td>0</td>\n",
       "      <td>0</td>\n",
       "      <td>0</td>\n",
       "      <td>0</td>\n",
       "      <td>...</td>\n",
       "      <td>0</td>\n",
       "      <td>1</td>\n",
       "      <td>0</td>\n",
       "      <td>0</td>\n",
       "      <td>0</td>\n",
       "      <td>0</td>\n",
       "      <td>0</td>\n",
       "      <td>1</td>\n",
       "      <td>0</td>\n",
       "      <td>8</td>\n",
       "    </tr>\n",
       "    <tr>\n",
       "      <th>2</th>\n",
       "      <td>S01E03</td>\n",
       "      <td>1</td>\n",
       "      <td>3</td>\n",
       "      <td>\"EBONY SUNSET\"</td>\n",
       "      <td>0</td>\n",
       "      <td>0</td>\n",
       "      <td>0</td>\n",
       "      <td>0</td>\n",
       "      <td>0</td>\n",
       "      <td>0</td>\n",
       "      <td>...</td>\n",
       "      <td>0</td>\n",
       "      <td>1</td>\n",
       "      <td>0</td>\n",
       "      <td>0</td>\n",
       "      <td>0</td>\n",
       "      <td>0</td>\n",
       "      <td>0</td>\n",
       "      <td>1</td>\n",
       "      <td>0</td>\n",
       "      <td>9</td>\n",
       "    </tr>\n",
       "    <tr>\n",
       "      <th>3</th>\n",
       "      <td>S01E04</td>\n",
       "      <td>1</td>\n",
       "      <td>4</td>\n",
       "      <td>\"WINTER MIST\"</td>\n",
       "      <td>0</td>\n",
       "      <td>0</td>\n",
       "      <td>0</td>\n",
       "      <td>0</td>\n",
       "      <td>0</td>\n",
       "      <td>0</td>\n",
       "      <td>...</td>\n",
       "      <td>0</td>\n",
       "      <td>1</td>\n",
       "      <td>0</td>\n",
       "      <td>0</td>\n",
       "      <td>0</td>\n",
       "      <td>0</td>\n",
       "      <td>0</td>\n",
       "      <td>0</td>\n",
       "      <td>0</td>\n",
       "      <td>7</td>\n",
       "    </tr>\n",
       "    <tr>\n",
       "      <th>4</th>\n",
       "      <td>S01E05</td>\n",
       "      <td>1</td>\n",
       "      <td>5</td>\n",
       "      <td>\"QUIET STREAM\"</td>\n",
       "      <td>0</td>\n",
       "      <td>0</td>\n",
       "      <td>0</td>\n",
       "      <td>0</td>\n",
       "      <td>0</td>\n",
       "      <td>0</td>\n",
       "      <td>...</td>\n",
       "      <td>0</td>\n",
       "      <td>1</td>\n",
       "      <td>0</td>\n",
       "      <td>0</td>\n",
       "      <td>0</td>\n",
       "      <td>0</td>\n",
       "      <td>0</td>\n",
       "      <td>0</td>\n",
       "      <td>0</td>\n",
       "      <td>4</td>\n",
       "    </tr>\n",
       "    <tr>\n",
       "      <th>...</th>\n",
       "      <td>...</td>\n",
       "      <td>...</td>\n",
       "      <td>...</td>\n",
       "      <td>...</td>\n",
       "      <td>...</td>\n",
       "      <td>...</td>\n",
       "      <td>...</td>\n",
       "      <td>...</td>\n",
       "      <td>...</td>\n",
       "      <td>...</td>\n",
       "      <td>...</td>\n",
       "      <td>...</td>\n",
       "      <td>...</td>\n",
       "      <td>...</td>\n",
       "      <td>...</td>\n",
       "      <td>...</td>\n",
       "      <td>...</td>\n",
       "      <td>...</td>\n",
       "      <td>...</td>\n",
       "      <td>...</td>\n",
       "      <td>...</td>\n",
       "    </tr>\n",
       "    <tr>\n",
       "      <th>398</th>\n",
       "      <td>S31E09</td>\n",
       "      <td>31</td>\n",
       "      <td>9</td>\n",
       "      <td>\"EVERGREEN VALLEY\"</td>\n",
       "      <td>0</td>\n",
       "      <td>0</td>\n",
       "      <td>0</td>\n",
       "      <td>0</td>\n",
       "      <td>0</td>\n",
       "      <td>0</td>\n",
       "      <td>...</td>\n",
       "      <td>0</td>\n",
       "      <td>1</td>\n",
       "      <td>0</td>\n",
       "      <td>0</td>\n",
       "      <td>0</td>\n",
       "      <td>0</td>\n",
       "      <td>0</td>\n",
       "      <td>0</td>\n",
       "      <td>0</td>\n",
       "      <td>7</td>\n",
       "    </tr>\n",
       "    <tr>\n",
       "      <th>399</th>\n",
       "      <td>S31E10</td>\n",
       "      <td>31</td>\n",
       "      <td>10</td>\n",
       "      <td>\"BALMY BEACH\"</td>\n",
       "      <td>0</td>\n",
       "      <td>0</td>\n",
       "      <td>0</td>\n",
       "      <td>1</td>\n",
       "      <td>0</td>\n",
       "      <td>0</td>\n",
       "      <td>...</td>\n",
       "      <td>0</td>\n",
       "      <td>0</td>\n",
       "      <td>0</td>\n",
       "      <td>0</td>\n",
       "      <td>1</td>\n",
       "      <td>0</td>\n",
       "      <td>0</td>\n",
       "      <td>0</td>\n",
       "      <td>0</td>\n",
       "      <td>7</td>\n",
       "    </tr>\n",
       "    <tr>\n",
       "      <th>400</th>\n",
       "      <td>S31E11</td>\n",
       "      <td>31</td>\n",
       "      <td>11</td>\n",
       "      <td>\"LAKE AT THE RIDGE\"</td>\n",
       "      <td>0</td>\n",
       "      <td>0</td>\n",
       "      <td>0</td>\n",
       "      <td>0</td>\n",
       "      <td>0</td>\n",
       "      <td>0</td>\n",
       "      <td>...</td>\n",
       "      <td>0</td>\n",
       "      <td>1</td>\n",
       "      <td>0</td>\n",
       "      <td>0</td>\n",
       "      <td>0</td>\n",
       "      <td>0</td>\n",
       "      <td>0</td>\n",
       "      <td>0</td>\n",
       "      <td>0</td>\n",
       "      <td>11</td>\n",
       "    </tr>\n",
       "    <tr>\n",
       "      <th>401</th>\n",
       "      <td>S31E12</td>\n",
       "      <td>31</td>\n",
       "      <td>12</td>\n",
       "      <td>\"IN THE MIDST OF WINTER\"</td>\n",
       "      <td>0</td>\n",
       "      <td>0</td>\n",
       "      <td>1</td>\n",
       "      <td>0</td>\n",
       "      <td>0</td>\n",
       "      <td>0</td>\n",
       "      <td>...</td>\n",
       "      <td>0</td>\n",
       "      <td>1</td>\n",
       "      <td>0</td>\n",
       "      <td>0</td>\n",
       "      <td>0</td>\n",
       "      <td>0</td>\n",
       "      <td>0</td>\n",
       "      <td>1</td>\n",
       "      <td>0</td>\n",
       "      <td>9</td>\n",
       "    </tr>\n",
       "    <tr>\n",
       "      <th>402</th>\n",
       "      <td>S31E13</td>\n",
       "      <td>31</td>\n",
       "      <td>13</td>\n",
       "      <td>\"WILDERNESS DAY\"</td>\n",
       "      <td>0</td>\n",
       "      <td>0</td>\n",
       "      <td>0</td>\n",
       "      <td>0</td>\n",
       "      <td>0</td>\n",
       "      <td>0</td>\n",
       "      <td>...</td>\n",
       "      <td>0</td>\n",
       "      <td>1</td>\n",
       "      <td>0</td>\n",
       "      <td>0</td>\n",
       "      <td>0</td>\n",
       "      <td>0</td>\n",
       "      <td>0</td>\n",
       "      <td>0</td>\n",
       "      <td>0</td>\n",
       "      <td>4</td>\n",
       "    </tr>\n",
       "  </tbody>\n",
       "</table>\n",
       "<p>403 rows × 71 columns</p>\n",
       "</div>"
      ],
      "text/plain": [
       "    EPISODE  SEASON  EPISODE_NUMBER                     TITLE  APPLE_FRAME  \\\n",
       "0    S01E01       1               1     \"A WALK IN THE WOODS\"            0   \n",
       "1    S01E02       1               2            \"MT. MCKINLEY\"            0   \n",
       "2    S01E03       1               3            \"EBONY SUNSET\"            0   \n",
       "3    S01E04       1               4             \"WINTER MIST\"            0   \n",
       "4    S01E05       1               5            \"QUIET STREAM\"            0   \n",
       "..      ...     ...             ...                       ...          ...   \n",
       "398  S31E09      31               9        \"EVERGREEN VALLEY\"            0   \n",
       "399  S31E10      31              10             \"BALMY BEACH\"            0   \n",
       "400  S31E11      31              11       \"LAKE AT THE RIDGE\"            0   \n",
       "401  S31E12      31              12  \"IN THE MIDST OF WINTER\"            0   \n",
       "402  S31E13      31              13          \"WILDERNESS DAY\"            0   \n",
       "\n",
       "     AURORA_BOREALIS  BARN  BEACH  BOAT  BRIDGE  ...  TOMB_FRAME  TREES  \\\n",
       "0                  0     0      0     0       0  ...           0      1   \n",
       "1                  0     0      0     0       0  ...           0      1   \n",
       "2                  0     0      0     0       0  ...           0      1   \n",
       "3                  0     0      0     0       0  ...           0      1   \n",
       "4                  0     0      0     0       0  ...           0      1   \n",
       "..               ...   ...    ...   ...     ...  ...         ...    ...   \n",
       "398                0     0      0     0       0  ...           0      1   \n",
       "399                0     0      1     0       0  ...           0      0   \n",
       "400                0     0      0     0       0  ...           0      1   \n",
       "401                0     1      0     0       0  ...           0      1   \n",
       "402                0     0      0     0       0  ...           0      1   \n",
       "\n",
       "     TRIPLE_FRAME  WATERFALL  WAVES  WINDMILL  WINDOW_FRAME  WINTER  \\\n",
       "0               0          0      0         0             0       0   \n",
       "1               0          0      0         0             0       1   \n",
       "2               0          0      0         0             0       1   \n",
       "3               0          0      0         0             0       0   \n",
       "4               0          0      0         0             0       0   \n",
       "..            ...        ...    ...       ...           ...     ...   \n",
       "398             0          0      0         0             0       0   \n",
       "399             0          0      1         0             0       0   \n",
       "400             0          0      0         0             0       0   \n",
       "401             0          0      0         0             0       1   \n",
       "402             0          0      0         0             0       0   \n",
       "\n",
       "     WOOD_FRAMED  TOTAL_ELEMENTS  \n",
       "0              0               5  \n",
       "1              0               8  \n",
       "2              0               9  \n",
       "3              0               7  \n",
       "4              0               4  \n",
       "..           ...             ...  \n",
       "398            0               7  \n",
       "399            0               7  \n",
       "400            0              11  \n",
       "401            0               9  \n",
       "402            0               4  \n",
       "\n",
       "[403 rows x 71 columns]"
      ]
     },
     "execution_count": 53,
     "metadata": {},
     "output_type": "execute_result"
    }
   ],
   "source": [
    "bob_ross = bpd.read_csv(\"data/bob_ross.csv\")\n",
    "bob_ross"
   ]
  },
  {
   "cell_type": "code",
   "execution_count": 54,
   "metadata": {
    "deletable": false,
    "editable": false
   },
   "outputs": [
    {
     "data": {
      "text/html": [
       "<p><strong><pre style='display: inline;'>q7_1</pre></strong> passed!</p>"
      ],
      "text/plain": [
       "q7_1 results: All test cases passed!"
      ]
     },
     "execution_count": 54,
     "metadata": {},
     "output_type": "execute_result"
    }
   ],
   "source": [
    "grader.check(\"q7_1\")"
   ]
  },
  {
   "cell_type": "markdown",
   "metadata": {},
   "source": [
    "This dataset contains 403 rows and 71 columns. Each column contains a different element that may or may not appear in a painting. The dataset uses the number 1 to mean that the element is included in the painting, and 0 if not. Notice, for example, that in Season 1, Episode 1, the dataset records a 1 for `'TREES'` and a 0 for `'WINDMILL'`, which corresponds to what we see in the painting shown above.\n",
    "\n",
    "It's hard to tell which different painting elements are included in our dataset, because the DataFrame above displays with an ellipsis (...) truncating the dataset in between the columns `'BRIDGE'` and `'TOMB_FRAME'`. This is because the `babypandas` display settings default to showing a maximum of 20 columns, the first 10 and the last 10. \n",
    "\n",
    "If you want to see the names of all the columns, you can run the cell below. "
   ]
  },
  {
   "cell_type": "code",
   "execution_count": 55,
   "metadata": {},
   "outputs": [
    {
     "data": {
      "text/plain": [
       "Index(['EPISODE', 'SEASON', 'EPISODE_NUMBER', 'TITLE', 'APPLE_FRAME',\n",
       "       'AURORA_BOREALIS', 'BARN', 'BEACH', 'BOAT', 'BRIDGE', 'BUILDING',\n",
       "       'BUSHES', 'CABIN', 'CACTUS', 'CIRCLE_FRAME', 'CIRRUS', 'CLIFF',\n",
       "       'CLOUDS', 'CONIFER', 'CUMULUS', 'DECIDUOUS', 'DIANE_ANDRE', 'DOCK',\n",
       "       'DOUBLE_OVAL_FRAME', 'FARM', 'FENCE', 'FIRE', 'FLORIDA_FRAME',\n",
       "       'FLOWERS', 'FOG', 'FRAMED', 'GRASS', 'GUEST', 'HALF_CIRCLE_FRAME',\n",
       "       'HALF_OVAL_FRAME', 'HILLS', 'LAKE', 'LAKES', 'LIGHTHOUSE', 'MILL',\n",
       "       'MOON', 'MOUNTAIN', 'MOUNTAINS', 'NIGHT', 'OCEAN', 'OVAL_FRAME',\n",
       "       'PALM_TREES', 'PATH', 'PERSON', 'PORTRAIT', 'RECTANGLE_3D_FRAME',\n",
       "       'RECTANGULAR_FRAME', 'RIVER', 'ROCKS', 'SEASHELL_FRAME', 'SNOW',\n",
       "       'SNOWY_MOUNTAIN', 'SPLIT_FRAME', 'STEVE_ROSS', 'STRUCTURE', 'SUN',\n",
       "       'TOMB_FRAME', 'TREES', 'TRIPLE_FRAME', 'WATERFALL', 'WAVES', 'WINDMILL',\n",
       "       'WINDOW_FRAME', 'WINTER', 'WOOD_FRAMED', 'TOTAL_ELEMENTS'],\n",
       "      dtype='object')"
      ]
     },
     "execution_count": 55,
     "metadata": {},
     "output_type": "execute_result"
    }
   ],
   "source": [
    "bob_ross.columns"
   ]
  },
  {
   "cell_type": "markdown",
   "metadata": {},
   "source": [
    "**Question 7.2.** Examine the columns `'EPISODE'`, `'SEASON'`, and `'EPISODE_NUMBER'` and consider which would be the best choice of index for this DataFrame. Change the `bob_ross` DataFrame so that it's indexed by this value instead of the default index."
   ]
  },
  {
   "cell_type": "code",
   "execution_count": 71,
   "metadata": {},
   "outputs": [
    {
     "data": {
      "text/html": [
       "<div>\n",
       "<style scoped>\n",
       "    .dataframe tbody tr th:only-of-type {\n",
       "        vertical-align: middle;\n",
       "    }\n",
       "\n",
       "    .dataframe tbody tr th {\n",
       "        vertical-align: top;\n",
       "    }\n",
       "\n",
       "    .dataframe thead th {\n",
       "        text-align: right;\n",
       "    }\n",
       "</style>\n",
       "<table border=\"1\" class=\"dataframe\">\n",
       "  <thead>\n",
       "    <tr style=\"text-align: right;\">\n",
       "      <th></th>\n",
       "      <th>SEASON</th>\n",
       "      <th>EPISODE_NUMBER</th>\n",
       "      <th>TITLE</th>\n",
       "      <th>APPLE_FRAME</th>\n",
       "      <th>AURORA_BOREALIS</th>\n",
       "      <th>BARN</th>\n",
       "      <th>BEACH</th>\n",
       "      <th>BOAT</th>\n",
       "      <th>BRIDGE</th>\n",
       "      <th>BUILDING</th>\n",
       "      <th>...</th>\n",
       "      <th>TOMB_FRAME</th>\n",
       "      <th>TREES</th>\n",
       "      <th>TRIPLE_FRAME</th>\n",
       "      <th>WATERFALL</th>\n",
       "      <th>WAVES</th>\n",
       "      <th>WINDMILL</th>\n",
       "      <th>WINDOW_FRAME</th>\n",
       "      <th>WINTER</th>\n",
       "      <th>WOOD_FRAMED</th>\n",
       "      <th>TOTAL_ELEMENTS</th>\n",
       "    </tr>\n",
       "    <tr>\n",
       "      <th>EPISODE</th>\n",
       "      <th></th>\n",
       "      <th></th>\n",
       "      <th></th>\n",
       "      <th></th>\n",
       "      <th></th>\n",
       "      <th></th>\n",
       "      <th></th>\n",
       "      <th></th>\n",
       "      <th></th>\n",
       "      <th></th>\n",
       "      <th></th>\n",
       "      <th></th>\n",
       "      <th></th>\n",
       "      <th></th>\n",
       "      <th></th>\n",
       "      <th></th>\n",
       "      <th></th>\n",
       "      <th></th>\n",
       "      <th></th>\n",
       "      <th></th>\n",
       "      <th></th>\n",
       "    </tr>\n",
       "  </thead>\n",
       "  <tbody>\n",
       "    <tr>\n",
       "      <th>S01E01</th>\n",
       "      <td>1</td>\n",
       "      <td>1</td>\n",
       "      <td>\"A WALK IN THE WOODS\"</td>\n",
       "      <td>0</td>\n",
       "      <td>0</td>\n",
       "      <td>0</td>\n",
       "      <td>0</td>\n",
       "      <td>0</td>\n",
       "      <td>0</td>\n",
       "      <td>0</td>\n",
       "      <td>...</td>\n",
       "      <td>0</td>\n",
       "      <td>1</td>\n",
       "      <td>0</td>\n",
       "      <td>0</td>\n",
       "      <td>0</td>\n",
       "      <td>0</td>\n",
       "      <td>0</td>\n",
       "      <td>0</td>\n",
       "      <td>0</td>\n",
       "      <td>5</td>\n",
       "    </tr>\n",
       "    <tr>\n",
       "      <th>S01E02</th>\n",
       "      <td>1</td>\n",
       "      <td>2</td>\n",
       "      <td>\"MT. MCKINLEY\"</td>\n",
       "      <td>0</td>\n",
       "      <td>0</td>\n",
       "      <td>0</td>\n",
       "      <td>0</td>\n",
       "      <td>0</td>\n",
       "      <td>0</td>\n",
       "      <td>0</td>\n",
       "      <td>...</td>\n",
       "      <td>0</td>\n",
       "      <td>1</td>\n",
       "      <td>0</td>\n",
       "      <td>0</td>\n",
       "      <td>0</td>\n",
       "      <td>0</td>\n",
       "      <td>0</td>\n",
       "      <td>1</td>\n",
       "      <td>0</td>\n",
       "      <td>8</td>\n",
       "    </tr>\n",
       "    <tr>\n",
       "      <th>S01E03</th>\n",
       "      <td>1</td>\n",
       "      <td>3</td>\n",
       "      <td>\"EBONY SUNSET\"</td>\n",
       "      <td>0</td>\n",
       "      <td>0</td>\n",
       "      <td>0</td>\n",
       "      <td>0</td>\n",
       "      <td>0</td>\n",
       "      <td>0</td>\n",
       "      <td>0</td>\n",
       "      <td>...</td>\n",
       "      <td>0</td>\n",
       "      <td>1</td>\n",
       "      <td>0</td>\n",
       "      <td>0</td>\n",
       "      <td>0</td>\n",
       "      <td>0</td>\n",
       "      <td>0</td>\n",
       "      <td>1</td>\n",
       "      <td>0</td>\n",
       "      <td>9</td>\n",
       "    </tr>\n",
       "    <tr>\n",
       "      <th>S01E04</th>\n",
       "      <td>1</td>\n",
       "      <td>4</td>\n",
       "      <td>\"WINTER MIST\"</td>\n",
       "      <td>0</td>\n",
       "      <td>0</td>\n",
       "      <td>0</td>\n",
       "      <td>0</td>\n",
       "      <td>0</td>\n",
       "      <td>0</td>\n",
       "      <td>0</td>\n",
       "      <td>...</td>\n",
       "      <td>0</td>\n",
       "      <td>1</td>\n",
       "      <td>0</td>\n",
       "      <td>0</td>\n",
       "      <td>0</td>\n",
       "      <td>0</td>\n",
       "      <td>0</td>\n",
       "      <td>0</td>\n",
       "      <td>0</td>\n",
       "      <td>7</td>\n",
       "    </tr>\n",
       "    <tr>\n",
       "      <th>S01E05</th>\n",
       "      <td>1</td>\n",
       "      <td>5</td>\n",
       "      <td>\"QUIET STREAM\"</td>\n",
       "      <td>0</td>\n",
       "      <td>0</td>\n",
       "      <td>0</td>\n",
       "      <td>0</td>\n",
       "      <td>0</td>\n",
       "      <td>0</td>\n",
       "      <td>0</td>\n",
       "      <td>...</td>\n",
       "      <td>0</td>\n",
       "      <td>1</td>\n",
       "      <td>0</td>\n",
       "      <td>0</td>\n",
       "      <td>0</td>\n",
       "      <td>0</td>\n",
       "      <td>0</td>\n",
       "      <td>0</td>\n",
       "      <td>0</td>\n",
       "      <td>4</td>\n",
       "    </tr>\n",
       "    <tr>\n",
       "      <th>...</th>\n",
       "      <td>...</td>\n",
       "      <td>...</td>\n",
       "      <td>...</td>\n",
       "      <td>...</td>\n",
       "      <td>...</td>\n",
       "      <td>...</td>\n",
       "      <td>...</td>\n",
       "      <td>...</td>\n",
       "      <td>...</td>\n",
       "      <td>...</td>\n",
       "      <td>...</td>\n",
       "      <td>...</td>\n",
       "      <td>...</td>\n",
       "      <td>...</td>\n",
       "      <td>...</td>\n",
       "      <td>...</td>\n",
       "      <td>...</td>\n",
       "      <td>...</td>\n",
       "      <td>...</td>\n",
       "      <td>...</td>\n",
       "      <td>...</td>\n",
       "    </tr>\n",
       "    <tr>\n",
       "      <th>S31E09</th>\n",
       "      <td>31</td>\n",
       "      <td>9</td>\n",
       "      <td>\"EVERGREEN VALLEY\"</td>\n",
       "      <td>0</td>\n",
       "      <td>0</td>\n",
       "      <td>0</td>\n",
       "      <td>0</td>\n",
       "      <td>0</td>\n",
       "      <td>0</td>\n",
       "      <td>0</td>\n",
       "      <td>...</td>\n",
       "      <td>0</td>\n",
       "      <td>1</td>\n",
       "      <td>0</td>\n",
       "      <td>0</td>\n",
       "      <td>0</td>\n",
       "      <td>0</td>\n",
       "      <td>0</td>\n",
       "      <td>0</td>\n",
       "      <td>0</td>\n",
       "      <td>7</td>\n",
       "    </tr>\n",
       "    <tr>\n",
       "      <th>S31E10</th>\n",
       "      <td>31</td>\n",
       "      <td>10</td>\n",
       "      <td>\"BALMY BEACH\"</td>\n",
       "      <td>0</td>\n",
       "      <td>0</td>\n",
       "      <td>0</td>\n",
       "      <td>1</td>\n",
       "      <td>0</td>\n",
       "      <td>0</td>\n",
       "      <td>0</td>\n",
       "      <td>...</td>\n",
       "      <td>0</td>\n",
       "      <td>0</td>\n",
       "      <td>0</td>\n",
       "      <td>0</td>\n",
       "      <td>1</td>\n",
       "      <td>0</td>\n",
       "      <td>0</td>\n",
       "      <td>0</td>\n",
       "      <td>0</td>\n",
       "      <td>7</td>\n",
       "    </tr>\n",
       "    <tr>\n",
       "      <th>S31E11</th>\n",
       "      <td>31</td>\n",
       "      <td>11</td>\n",
       "      <td>\"LAKE AT THE RIDGE\"</td>\n",
       "      <td>0</td>\n",
       "      <td>0</td>\n",
       "      <td>0</td>\n",
       "      <td>0</td>\n",
       "      <td>0</td>\n",
       "      <td>0</td>\n",
       "      <td>0</td>\n",
       "      <td>...</td>\n",
       "      <td>0</td>\n",
       "      <td>1</td>\n",
       "      <td>0</td>\n",
       "      <td>0</td>\n",
       "      <td>0</td>\n",
       "      <td>0</td>\n",
       "      <td>0</td>\n",
       "      <td>0</td>\n",
       "      <td>0</td>\n",
       "      <td>11</td>\n",
       "    </tr>\n",
       "    <tr>\n",
       "      <th>S31E12</th>\n",
       "      <td>31</td>\n",
       "      <td>12</td>\n",
       "      <td>\"IN THE MIDST OF WINTER\"</td>\n",
       "      <td>0</td>\n",
       "      <td>0</td>\n",
       "      <td>1</td>\n",
       "      <td>0</td>\n",
       "      <td>0</td>\n",
       "      <td>0</td>\n",
       "      <td>0</td>\n",
       "      <td>...</td>\n",
       "      <td>0</td>\n",
       "      <td>1</td>\n",
       "      <td>0</td>\n",
       "      <td>0</td>\n",
       "      <td>0</td>\n",
       "      <td>0</td>\n",
       "      <td>0</td>\n",
       "      <td>1</td>\n",
       "      <td>0</td>\n",
       "      <td>9</td>\n",
       "    </tr>\n",
       "    <tr>\n",
       "      <th>S31E13</th>\n",
       "      <td>31</td>\n",
       "      <td>13</td>\n",
       "      <td>\"WILDERNESS DAY\"</td>\n",
       "      <td>0</td>\n",
       "      <td>0</td>\n",
       "      <td>0</td>\n",
       "      <td>0</td>\n",
       "      <td>0</td>\n",
       "      <td>0</td>\n",
       "      <td>0</td>\n",
       "      <td>...</td>\n",
       "      <td>0</td>\n",
       "      <td>1</td>\n",
       "      <td>0</td>\n",
       "      <td>0</td>\n",
       "      <td>0</td>\n",
       "      <td>0</td>\n",
       "      <td>0</td>\n",
       "      <td>0</td>\n",
       "      <td>0</td>\n",
       "      <td>4</td>\n",
       "    </tr>\n",
       "  </tbody>\n",
       "</table>\n",
       "<p>403 rows × 70 columns</p>\n",
       "</div>"
      ],
      "text/plain": [
       "         SEASON  EPISODE_NUMBER                     TITLE  APPLE_FRAME  \\\n",
       "EPISODE                                                                  \n",
       "S01E01        1               1     \"A WALK IN THE WOODS\"            0   \n",
       "S01E02        1               2            \"MT. MCKINLEY\"            0   \n",
       "S01E03        1               3            \"EBONY SUNSET\"            0   \n",
       "S01E04        1               4             \"WINTER MIST\"            0   \n",
       "S01E05        1               5            \"QUIET STREAM\"            0   \n",
       "...         ...             ...                       ...          ...   \n",
       "S31E09       31               9        \"EVERGREEN VALLEY\"            0   \n",
       "S31E10       31              10             \"BALMY BEACH\"            0   \n",
       "S31E11       31              11       \"LAKE AT THE RIDGE\"            0   \n",
       "S31E12       31              12  \"IN THE MIDST OF WINTER\"            0   \n",
       "S31E13       31              13          \"WILDERNESS DAY\"            0   \n",
       "\n",
       "         AURORA_BOREALIS  BARN  BEACH  BOAT  BRIDGE  BUILDING  ...  \\\n",
       "EPISODE                                                        ...   \n",
       "S01E01                 0     0      0     0       0         0  ...   \n",
       "S01E02                 0     0      0     0       0         0  ...   \n",
       "S01E03                 0     0      0     0       0         0  ...   \n",
       "S01E04                 0     0      0     0       0         0  ...   \n",
       "S01E05                 0     0      0     0       0         0  ...   \n",
       "...                  ...   ...    ...   ...     ...       ...  ...   \n",
       "S31E09                 0     0      0     0       0         0  ...   \n",
       "S31E10                 0     0      1     0       0         0  ...   \n",
       "S31E11                 0     0      0     0       0         0  ...   \n",
       "S31E12                 0     1      0     0       0         0  ...   \n",
       "S31E13                 0     0      0     0       0         0  ...   \n",
       "\n",
       "         TOMB_FRAME  TREES  TRIPLE_FRAME  WATERFALL  WAVES  WINDMILL  \\\n",
       "EPISODE                                                                \n",
       "S01E01            0      1             0          0      0         0   \n",
       "S01E02            0      1             0          0      0         0   \n",
       "S01E03            0      1             0          0      0         0   \n",
       "S01E04            0      1             0          0      0         0   \n",
       "S01E05            0      1             0          0      0         0   \n",
       "...             ...    ...           ...        ...    ...       ...   \n",
       "S31E09            0      1             0          0      0         0   \n",
       "S31E10            0      0             0          0      1         0   \n",
       "S31E11            0      1             0          0      0         0   \n",
       "S31E12            0      1             0          0      0         0   \n",
       "S31E13            0      1             0          0      0         0   \n",
       "\n",
       "         WINDOW_FRAME  WINTER  WOOD_FRAMED  TOTAL_ELEMENTS  \n",
       "EPISODE                                                     \n",
       "S01E01              0       0            0               5  \n",
       "S01E02              0       1            0               8  \n",
       "S01E03              0       1            0               9  \n",
       "S01E04              0       0            0               7  \n",
       "S01E05              0       0            0               4  \n",
       "...               ...     ...          ...             ...  \n",
       "S31E09              0       0            0               7  \n",
       "S31E10              0       0            0               7  \n",
       "S31E11              0       0            0              11  \n",
       "S31E12              0       1            0               9  \n",
       "S31E13              0       0            0               4  \n",
       "\n",
       "[403 rows x 70 columns]"
      ]
     },
     "execution_count": 71,
     "metadata": {},
     "output_type": "execute_result"
    }
   ],
   "source": [
    "\n",
    "bob_ross = bpd.read_csv(\"data/bob_ross.csv\")\n",
    "bob_ross = bob_ross.set_index('EPISODE')\n",
    "bob_ross"
   ]
  },
  {
   "cell_type": "code",
   "execution_count": 72,
   "metadata": {
    "deletable": false,
    "editable": false
   },
   "outputs": [
    {
     "data": {
      "text/html": [
       "<p><strong><pre style='display: inline;'>q7_2</pre></strong> passed!</p>"
      ],
      "text/plain": [
       "q7_2 results: All test cases passed!"
      ]
     },
     "execution_count": 72,
     "metadata": {},
     "output_type": "execute_result"
    }
   ],
   "source": [
    "grader.check(\"q7_2\")"
   ]
  },
  {
   "cell_type": "markdown",
   "metadata": {},
   "source": [
    "***Note:*** Try running the cell where you set the index a second time. You should see an error message. Can you figure out what the error message means and why that's happening? If not, try asking Google - that's a great first step when you come across an error that you don't understand. If Google doesn't help, feel free to ask a classmate or the staff on Edstem.\n",
    "\n",
    "When you submit your work for autograding, the entire notebook will be run from start to finish. Each cell will run only once, so it's no problem if your code errors on the second run. In this case, it means you're doing something right!"
   ]
  },
  {
   "cell_type": "markdown",
   "metadata": {},
   "source": [
    "**Question 7.3.** Throughout all 31 seasons, how many of Bob’s paintings contained an ocean? Assign your result to `ocean`. "
   ]
  },
  {
   "cell_type": "code",
   "execution_count": 58,
   "metadata": {
    "scrolled": true
   },
   "outputs": [
    {
     "data": {
      "text/plain": [
       "36"
      ]
     },
     "execution_count": 58,
     "metadata": {},
     "output_type": "execute_result"
    }
   ],
   "source": [
    "ocean = bob_ross.get('OCEAN').sum()\n",
    "ocean"
   ]
  },
  {
   "cell_type": "code",
   "execution_count": 59,
   "metadata": {
    "deletable": false,
    "editable": false
   },
   "outputs": [
    {
     "data": {
      "text/html": [
       "<p><strong><pre style='display: inline;'>q7_3</pre></strong> passed!</p>"
      ],
      "text/plain": [
       "q7_3 results: All test cases passed!"
      ]
     },
     "execution_count": 59,
     "metadata": {},
     "output_type": "execute_result"
    }
   ],
   "source": [
    "grader.check(\"q7_3\")"
   ]
  },
  {
   "cell_type": "markdown",
   "metadata": {},
   "source": [
    "**Question 7.4.** What was the first episode in which a lighthouse was painted? Assign your result to `first_lighthouse` as a string in the form `'S__E__'`. For example, if your answer is Season 1 Episode 1 then your answer should be `'S01E01'`. "
   ]
  },
  {
   "cell_type": "code",
   "execution_count": 60,
   "metadata": {},
   "outputs": [
    {
     "data": {
      "text/plain": [
       "'S01E01'"
      ]
     },
     "execution_count": 60,
     "metadata": {},
     "output_type": "execute_result"
    }
   ],
   "source": [
    "first_lighthouse = 'S01E01'\n",
    "\n",
    "first_lighthouse"
   ]
  },
  {
   "cell_type": "code",
   "execution_count": 61,
   "metadata": {
    "deletable": false,
    "editable": false
   },
   "outputs": [
    {
     "data": {
      "text/html": [
       "<p><strong><pre style='display: inline;'>q7_4</pre></strong> passed!</p>"
      ],
      "text/plain": [
       "q7_4 results: All test cases passed!"
      ]
     },
     "execution_count": 61,
     "metadata": {},
     "output_type": "execute_result"
    }
   ],
   "source": [
    "grader.check(\"q7_4\")"
   ]
  },
  {
   "cell_type": "markdown",
   "metadata": {},
   "source": [
    "**Question 7.5.** Which episode titles contain the word `'MOUNTAIN'`? Create an *array* called `mountain_episodes` containing the titles of all such episodes. Then assign to `num_mountain_episodes` the number of such episodes.\n",
    "\n",
    "***Hint:*** To convert a Series into an array, call the function `np.array` on the Series."
   ]
  },
  {
   "cell_type": "code",
   "execution_count": 62,
   "metadata": {},
   "outputs": [
    {
     "data": {
      "text/plain": [
       "51"
      ]
     },
     "execution_count": 62,
     "metadata": {},
     "output_type": "execute_result"
    }
   ],
   "source": [
    "mountain_episodes_mask = bob_ross.get('TITLE').str.contains('MOUNTAIN', case=False)\n",
    "\n",
    "mountain_episodes = np.array(bob_ross.get('TITLE')[mountain_episodes_mask])\n",
    "\n",
    "num_mountain_episodes = len(mountain_episodes)\n",
    "\n",
    "num_mountain_episodes"
   ]
  },
  {
   "cell_type": "code",
   "execution_count": 63,
   "metadata": {
    "deletable": false,
    "editable": false
   },
   "outputs": [
    {
     "data": {
      "text/html": [
       "<p><strong><pre style='display: inline;'>q7_5</pre></strong> passed!</p>"
      ],
      "text/plain": [
       "q7_5 results: All test cases passed!"
      ]
     },
     "execution_count": 63,
     "metadata": {},
     "output_type": "execute_result"
    }
   ],
   "source": [
    "grader.check(\"q7_5\")"
   ]
  },
  {
   "cell_type": "markdown",
   "metadata": {},
   "source": [
    "**Question 7.6.** What proportion of all the paintings with trees in them (`'TREES'`) have **both** a deciduous tree (`'DECIDUOUS'`) and a coniferous tree (`'CONIFER'`)? Assign your result to the variable `decid_and_conif`.  Remember, proportions are always between 0 and 1.\n",
    "\n",
    "***Hint:*** You'll need to use multiple conditions in order to solve this problem. [Section 10](https://notes.dsc10.com/02-data_sets/querying.html) in the course notes will be very useful. "
   ]
  },
  {
   "cell_type": "code",
   "execution_count": 64,
   "metadata": {
    "scrolled": false
   },
   "outputs": [
    {
     "data": {
      "text/plain": [
       "0.22714681440443213"
      ]
     },
     "execution_count": 64,
     "metadata": {},
     "output_type": "execute_result"
    }
   ],
   "source": [
    "trees_present = bob_ross.get('TREES')\n",
    "\n",
    "total_trees_paintings = trees_present.sum()\n",
    "\n",
    "decid_and_conif_present = bob_ross.get('DECIDUOUS') & bob_ross.get('CONIFER') & trees_present\n",
    "\n",
    "decid_and_conif_paintings = decid_and_conif_present.sum()\n",
    "\n",
    "decid_and_conif = decid_and_conif_paintings / total_trees_paintings\n",
    "\n",
    "decid_and_conif"
   ]
  },
  {
   "cell_type": "code",
   "execution_count": 65,
   "metadata": {
    "deletable": false,
    "editable": false
   },
   "outputs": [
    {
     "data": {
      "text/html": [
       "<p><strong><pre style='display: inline;'>q7_6</pre></strong> passed!</p>"
      ],
      "text/plain": [
       "q7_6 results: All test cases passed!"
      ]
     },
     "execution_count": 65,
     "metadata": {},
     "output_type": "execute_result"
    }
   ],
   "source": [
    "grader.check(\"q7_6\")"
   ]
  },
  {
   "cell_type": "markdown",
   "metadata": {},
   "source": [
    "**Question 7.7.** For the paintings in Season 1, calculate the average number of elements in each painting. Assign this average to the variable `season1_average`."
   ]
  },
  {
   "cell_type": "code",
   "execution_count": 66,
   "metadata": {},
   "outputs": [
    {
     "data": {
      "text/plain": [
       "6.538461538461538"
      ]
     },
     "execution_count": 66,
     "metadata": {},
     "output_type": "execute_result"
    }
   ],
   "source": [
    "bob_ross = bpd.read_csv(\"data/bob_ross.csv\")\n",
    "\n",
    "season1_df = bob_ross[bob_ross.get('SEASON') == 1]\n",
    "\n",
    "total_elements_season1 = season1_df.get('TOTAL_ELEMENTS').sum()\n",
    "\n",
    "total_paintings_season1 = season1_df.shape[0]\n",
    "\n",
    "season1_average = total_elements_season1 / total_paintings_season1\n",
    "\n",
    "season1_average"
   ]
  },
  {
   "cell_type": "code",
   "execution_count": 67,
   "metadata": {
    "deletable": false,
    "editable": false
   },
   "outputs": [
    {
     "data": {
      "text/html": [
       "<p><strong><pre style='display: inline;'>q7_7</pre></strong> passed!</p>"
      ],
      "text/plain": [
       "q7_7 results: All test cases passed!"
      ]
     },
     "execution_count": 67,
     "metadata": {},
     "output_type": "execute_result"
    }
   ],
   "source": [
    "grader.check(\"q7_7\")"
   ]
  },
  {
   "cell_type": "markdown",
   "metadata": {},
   "source": [
    "**Question 7.8.** Create an array called `ranked_seasons` containing the season numbers (1 through 31) ordered in descending order according to the average number of elements in paintings from that season. Each element of `ranked_seasons` should be an `int`."
   ]
  },
  {
   "cell_type": "markdown",
   "metadata": {},
   "source": [
    "***Hint:*** After doing some grouping, you'll want to grab the index of the DataFrame using `.index`, then convert it to an array by feeding it in as an input to `np.array`."
   ]
  },
  {
   "cell_type": "code",
   "execution_count": 68,
   "metadata": {},
   "outputs": [
    {
     "data": {
      "text/plain": [
       "array([12, 10, 14,  8, 13, 11,  2,  9, 27, 20, 23, 24, 15, 19,  4, 29,  3,\n",
       "        7, 17, 16, 22, 30, 31, 21,  6,  1, 26, 18, 28,  5, 25])"
      ]
     },
     "execution_count": 68,
     "metadata": {},
     "output_type": "execute_result"
    }
   ],
   "source": [
    "season_avg_elements = bob_ross.groupby('SEASON').mean()\n",
    "\n",
    "sorted_seasons = season_avg_elements.sort_values(by='TOTAL_ELEMENTS', ascending=False)\n",
    "\n",
    "ranked_seasons = sorted_seasons.index.astype(int).to_numpy()\n",
    "\n",
    "ranked_seasons"
   ]
  },
  {
   "cell_type": "code",
   "execution_count": 69,
   "metadata": {
    "deletable": false,
    "editable": false
   },
   "outputs": [
    {
     "data": {
      "text/html": [
       "<p><strong><pre style='display: inline;'>q7_8</pre></strong> passed!</p>"
      ],
      "text/plain": [
       "q7_8 results: All test cases passed!"
      ]
     },
     "execution_count": 69,
     "metadata": {},
     "output_type": "execute_result"
    }
   ],
   "source": [
    "grader.check(\"q7_8\")"
   ]
  },
  {
   "cell_type": "markdown",
   "metadata": {},
   "source": [
    "## Finish Line: Almost there, but make sure to follow the steps below to submit! 🏁\n",
    "\n",
    "**_Citations:_** Did you use any generative artificial intelligence tools to assist you on this assignment? If so, please state, for each tool you used, the name of the tool (ex. ChatGPT) and the problem(s) in this assignment where you used the tool for help."
   ]
  },
  {
   "cell_type": "markdown",
   "metadata": {},
   "source": [
    "<hr style=\"color:Maroon;background-color:Maroon;border:0 none; height: 3px;\">\n",
    "\n",
    "Please cite tools here.\n",
    "\n",
    "<hr style=\"color:Maroon;background-color:Maroon;border:0 none; height: 3px;\">"
   ]
  },
  {
   "cell_type": "markdown",
   "metadata": {},
   "source": [
    "To submit your assignment:\n",
    "\n",
    "1. Make sure to comment out the code in Question 2.1 that causes an error.\n",
    "1. Select `Kernel -> Restart & Run All` to ensure that you have executed all cells, including the test cells. \n",
    "1. Read through the notebook to make sure all cells ran and all tests passed.\n",
    "1. Run the cell below to run all tests, and make sure that they all pass.\n",
    "1. Download your notebook using `File -> Download as -> Notebook (.ipynb)`, then upload your notebook to Gradescope.\n",
    "1. Stick around while the Gradescope autograder grades your work. Make sure you see that all tests have passed on Gradescope.\n",
    "1. Check that you have a confirmation email from Gradescope and save it as proof of your submission. \n",
    "\n",
    "With homeworks, unlike with labs, the grade you see on Gradescope is **not your final score**. We will run correctness tests after the assignment's due date has passed."
   ]
  },
  {
   "cell_type": "code",
   "execution_count": 73,
   "metadata": {
    "scrolled": true
   },
   "outputs": [
    {
     "data": {
      "text/plain": [
       "q1_1 results: All test cases passed!\n",
       "\n",
       "q1_2 results: All test cases passed!\n",
       "\n",
       "q1_3 results: All test cases passed!\n",
       "\n",
       "q1_4 results: All test cases passed!\n",
       "\n",
       "q2_1 results: All test cases passed!\n",
       "\n",
       "q2_2 results: All test cases passed!\n",
       "\n",
       "q3_1 results: All test cases passed!\n",
       "\n",
       "q3_2 results: All test cases passed!\n",
       "\n",
       "q3_3 results: All test cases passed!\n",
       "\n",
       "q4_1 results: All test cases passed!\n",
       "\n",
       "q4_2 results: All test cases passed!\n",
       "\n",
       "q4_3 results: All test cases passed!\n",
       "\n",
       "q5_1 results: All test cases passed!\n",
       "\n",
       "q5_2 results: All test cases passed!\n",
       "\n",
       "q5_3 results: All test cases passed!\n",
       "\n",
       "q5_4 results: All test cases passed!\n",
       "\n",
       "q5_5 results: All test cases passed!\n",
       "\n",
       "q5_6 results: All test cases passed!\n",
       "\n",
       "q6_1 results: All test cases passed!\n",
       "\n",
       "q6_2 results: All test cases passed!\n",
       "\n",
       "q6_3 results: All test cases passed!\n",
       "\n",
       "q7_1 results: All test cases passed!\n",
       "\n",
       "q7_2 results: All test cases passed!\n",
       "\n",
       "q7_3 results: All test cases passed!\n",
       "\n",
       "q7_4 results: All test cases passed!\n",
       "\n",
       "q7_5 results: All test cases passed!\n",
       "\n",
       "q7_6 results: All test cases passed!\n",
       "\n",
       "q7_7 results: All test cases passed!\n",
       "\n",
       "q7_8 results: All test cases passed!"
      ]
     },
     "execution_count": 73,
     "metadata": {},
     "output_type": "execute_result"
    }
   ],
   "source": [
    "grader.check_all()"
   ]
  },
  {
   "cell_type": "code",
   "execution_count": null,
   "metadata": {},
   "outputs": [],
   "source": []
  }
 ],
 "metadata": {
  "kernelspec": {
   "display_name": "Python 3 (ipykernel)",
   "language": "python",
   "name": "python3"
  },
  "language_info": {
   "codemirror_mode": {
    "name": "ipython",
    "version": 3
   },
   "file_extension": ".py",
   "mimetype": "text/x-python",
   "name": "python",
   "nbconvert_exporter": "python",
   "pygments_lexer": "ipython3",
   "version": "3.9.5"
  }
 },
 "nbformat": 4,
 "nbformat_minor": 4
}
