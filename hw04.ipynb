{
 "cells": [
  {
   "cell_type": "markdown",
   "metadata": {},
   "source": [
    "# Homework 4: Simulation, Sampling, and Bootstrapping\n",
    "\n",
    "## Due Tuesday, May 14th at 11:59PM\n",
    "\n",
    "Welcome to Homework 4! This homework will cover:\n",
    "- Simulations (see [CIT 9.3-9.4](https://inferentialthinking.com/chapters/09/3/Simulation.html))\n",
    "- Sampling and Empirical Distributions (see [CIT 10-10.4](https://inferentialthinking.com/chapters/10/Sampling_and_Empirical_Distributions.html))\n",
    "- Bootstrapping and Confidence Intervals (see [CIT 13.2](https://inferentialthinking.com/chapters/13/2/Bootstrap.html) and [CIT 13.3](https://inferentialthinking.com/chapters/13/3/Confidence_Intervals.html))"
   ]
  },
  {
   "cell_type": "markdown",
   "metadata": {},
   "source": [
    "### Instructions\n",
    "\n",
    "Remember to start early and submit often. You are given six slip days throughout the quarter to extend deadlines. See the syllabus for more details. With the exception of using slip days, late work will not be accepted unless you have made special arrangements with your instructor.\n",
    "\n",
    "**Important**: For homeworks, the `otter` tests don't usually tell you that your answer is correct. More often, they help catch careless mistakes. It's up to you to ensure that your answer is correct. If you're not sure, ask someone (not for the answer, but for some guidance about your approach). These are great questions for office hours (the schedule can be found [here](https://dsc10.com/calendar)) or Ed. Directly sharing answers is not okay, but discussing problems with the course staff or with other students is encouraged. "
   ]
  },
  {
   "cell_type": "code",
   "execution_count": 1,
   "metadata": {},
   "outputs": [],
   "source": [
    "# Please don't change this cell, but do make sure to run it.\n",
    "import babypandas as bpd\n",
    "import numpy as np\n",
    "\n",
    "import matplotlib.pyplot as plt\n",
    "plt.style.use('ggplot')\n",
    "\n",
    "import otter\n",
    "grader = otter.Notebook()"
   ]
  },
  {
   "cell_type": "markdown",
   "metadata": {},
   "source": [
    "## 1. Triton Spirit Night Lotto, continued 🔱 🏀 \n",
    "\n",
    "In the last homework, we calculated the probability of winning the grand prize (free housing) on a Spirit Night Lotto lottery ticket, and found that it was quite low 😭."
   ]
  },
  {
   "cell_type": "code",
   "execution_count": 2,
   "metadata": {},
   "outputs": [
    {
     "data": {
      "text/plain": [
       "6.216404065866433e-11"
      ]
     },
     "execution_count": 2,
     "metadata": {},
     "output_type": "execute_result"
    }
   ],
   "source": [
    "# Just run this cell, do not change it!\n",
    "free_housing_chance = (1 / 66) * (1 / 65) * (1 / 64) * (1 / 63) * (1 / 62) * (1 / 15)\n",
    "free_housing_chance"
   ]
  },
  {
   "cell_type": "markdown",
   "metadata": {},
   "source": [
    "In this question, we'll approach the same question not using math, but using simulation. \n",
    "\n",
    "It's important to remember how this lottery works:\n",
    "- First, you pick five **different** numbers, one at a time, from 1 to 66, representing the winning score at the Spirit Night game.\n",
    "- Then, you separately pick a number from 1 to 15. This is because the top scoring athlete (Bryce Pope) scored 15 points during the game. Let's say you select 9.\n",
    "- The six numbers you have selected, or  **your numbers**, can be represented all together as (7, 32, 24, 65, 13, 9). This is a _sequence_ of six numbers – **order matters**!\n",
    "\n",
    "The **winning numbers** are chosen by King Triton, who draws five balls, one at a time, **without replacement**, from a pot of white balls numbered 1 to 66. Then, he draws a gold ball, the Tritonball, from a pot of gold balls numbered 1 to 15. Both pots are completely separate, hence the different ball colors. For example, maybe the winning numbers are (65, 9, 24, 23, 1, 9).\n",
    "\n",
    "We’ll assume for this problem that in order to win the grand prize (free housing), all six of your numbers need to match the winning numbers and be in the **exact same positions**. In other words, your entire sequence of numbers must be exactly the same as King Triton's sequence of winning numbers. However, if some numbers in your sequence match up with the corresponding number in the winning sequence, you will still win some Triton Cash. \n",
    "\n",
    "Suppose again that you select (7, 32, 24, 65, 13, 9) and the winning numbers are (65, 9, 24, 23, 1, 9). In this case, two of your numbers are considered to match two of the winning numbers. \n",
    "- Your numbers: (7, 32, **24**, 65, 13, **9**)\n",
    "- Winning numbers: (65, 9, **24**, 23, 1, **9**)\n",
    "\n",
    "You won't win free housing, but you will win some Triton Cash. Note that although both sequences include the number 65 within the first five numbers (representing a white ball), since they are in different positions, that's not considered a match.\n"
   ]
  },
  {
   "cell_type": "markdown",
   "metadata": {},
   "source": [
    "**Question 1.1.** Implement a function called `simulate_one_ticket`. It should take no arguments, and it should return an array with 6 random numbers, simulating how the numbers are selected for a single Spirit Night Lotto ticket. The first five numbers should all be randomly chosen without replacement, from 1 to 66. The last number should be between 1 and 15."
   ]
  },
  {
   "cell_type": "code",
   "execution_count": 3,
   "metadata": {},
   "outputs": [],
   "source": [
    "def simulate_one_ticket():\n",
    "    \"\"\"Simulate one Spirit Night Lotto ticket.\"\"\"\n",
    "    first_five = np.random.choice(np.arange(1, 67), 5, replace=False)\n",
    "    last = np.random.choice(np.arange(1, 16))\n",
    "    ticket = np.append(first_five, last)\n",
    "    return ticket"
   ]
  },
  {
   "cell_type": "code",
   "execution_count": 4,
   "metadata": {
    "deletable": false,
    "editable": false
   },
   "outputs": [
    {
     "data": {
      "text/html": [
       "<p><strong><pre style='display: inline;'>q1_1</pre></strong> passed!</p>"
      ],
      "text/plain": [
       "q1_1 results: All test cases passed!"
      ]
     },
     "execution_count": 4,
     "metadata": {},
     "output_type": "execute_result"
    }
   ],
   "source": [
    "grader.check(\"q1_1\")"
   ]
  },
  {
   "cell_type": "markdown",
   "metadata": {},
   "source": [
    "**Question 1.2.** It's draw day. You checked the winning numbers King Triton drew, which happened to be **(26, 49, 64, 5, 12, 7)**. Below, calculate how many matches there are between the winning numbers and a randomly generated ticket, and save the result in `num_matches`. Remember, order matters when counting matches!\n",
    "\n",
    "***Hint:*** You don't need a `for`-loop for this question. There is a one-line solution using `np.count_nonzero`."
   ]
  },
  {
   "cell_type": "code",
   "execution_count": 5,
   "metadata": {},
   "outputs": [
    {
     "name": "stdout",
     "output_type": "stream",
     "text": [
      "The number of matches between the winning numbers [26 49 64  5 12  7] and the simulated ticket [37 35 62 56 19 15] is 0.\n"
     ]
    }
   ],
   "source": [
    "winning = np.array([26, 49, 64, 5, 12, 7])\n",
    "simulated_ticket = simulate_one_ticket()\n",
    "num_matches = np.count_nonzero(winning == simulated_ticket)\n",
    "\n",
    "print(f\"The number of matches between the winning numbers {winning} and the simulated ticket {simulated_ticket} is {num_matches}.\")"
   ]
  },
  {
   "cell_type": "code",
   "execution_count": 6,
   "metadata": {
    "deletable": false,
    "editable": false
   },
   "outputs": [
    {
     "data": {
      "text/html": [
       "<p><strong><pre style='display: inline;'>q1_2</pre></strong> passed!</p>"
      ],
      "text/plain": [
       "q1_2 results: All test cases passed!"
      ]
     },
     "execution_count": 6,
     "metadata": {},
     "output_type": "execute_result"
    }
   ],
   "source": [
    "grader.check(\"q1_2\")"
   ]
  },
  {
   "cell_type": "markdown",
   "metadata": {},
   "source": [
    "**Question 1.3.** You are disappointed because you bought a lottery ticket but you did not win free housing. To make yourself feel better, you write a simulation to remind yourself how unlikely it is to win the grand prize. \n",
    "\n",
    "Implement a simulation where you call the function `simulate_one_ticket` 100,000 times. In your 100,000 tickets, **how many times did you win the grand prize (free housing)?** Assign your answer to `count_free_housing`. (It would cost a fortune if you were to buy 100,000 tickets – it's pretty nice to be able to simulate this experiment instead of doing it in real life!) \n",
    "\n",
    "***Hint:*** Start by writing a simulation where you only buy 10 tickets. Once you are sure you have that figured out, then ramp it up to 100,000 tickets. This is a good general practice for writing simulations: start small! It may take a little while (up to a minute) for Python to perform the calculations when you are buying 100,000 tickets. "
   ]
  },
  {
   "cell_type": "code",
   "execution_count": 7,
   "metadata": {},
   "outputs": [
    {
     "data": {
      "text/plain": [
       "0"
      ]
     },
     "execution_count": 7,
     "metadata": {},
     "output_type": "execute_result"
    }
   ],
   "source": [
    "winning = np.array([26, 49, 64, 5, 12, 7])\n",
    "def count_wins(num):\n",
    "    count = 0\n",
    "    for i in range(num):\n",
    "        ticketx = simulate_one_ticket()\n",
    "        if (np.count_nonzero(winning == ticketx) == 6):\n",
    "            count = count + 1\n",
    "    return count\n",
    "count_free_housing = count_wins(100000)\n",
    "\n",
    "count_free_housing"
   ]
  },
  {
   "cell_type": "code",
   "execution_count": 8,
   "metadata": {
    "deletable": false,
    "editable": false
   },
   "outputs": [
    {
     "data": {
      "text/html": [
       "<p><strong><pre style='display: inline;'>q1_3</pre></strong> passed!</p>"
      ],
      "text/plain": [
       "q1_3 results: All test cases passed!"
      ]
     },
     "execution_count": 8,
     "metadata": {},
     "output_type": "execute_result"
    }
   ],
   "source": [
    "grader.check(\"q1_3\")"
   ]
  },
  {
   "cell_type": "markdown",
   "metadata": {},
   "source": [
    "How many times did you win free housing? Remember, the mathematical probability of winning free housing is quite low, on the order of $10^{-11}$. That's a lot lower than 1 in 100,000, which is $10^{-5}$.\n",
    "\n",
    "**Question 1.4.** As we've seen, you would need to be extremely lucky to win the grand prize. To encourage more students to buy Spirit Night Lotto tickets despite the terrible odds, there are some additional prizes. Students can win Triton Cash if *some* of their numbers match the corresponding winning numbers, as described in the introduction. Again, simulate the act of buying 100,000 tickets, but this time find **the greatest number of matches achieved by any of your tickets**, and assign this number to `most_matches`. \n",
    "\n",
    "For example, if 90,000 of your tickets matched 1 winning number and 10,000 of your tickets matched 2 winning numbers, then you would set `most_matches` to 2. If 99,999 of your tickets matched 1 winning number and one of your tickets matched 4 winning numbers, you would set `most_matches` to 4. If you happened to win the grand prize on one of your tickets, you would set `most_matches` to 6. \n",
    "\n",
    "***Hint:*** There are several ways to approach this; one way involves storing the number of matches per ticket in an array and finding the largest number in that array. "
   ]
  },
  {
   "cell_type": "code",
   "execution_count": 9,
   "metadata": {},
   "outputs": [
    {
     "data": {
      "text/plain": [
       "2"
      ]
     },
     "execution_count": 9,
     "metadata": {},
     "output_type": "execute_result"
    }
   ],
   "source": [
    "winning = np.array([26, 49, 64, 5, 12, 7])\n",
    "def count_matches(num):\n",
    "    most = 0\n",
    "    for i in range(num):\n",
    "        ticketz = simulate_one_ticket()\n",
    "        num_matches = np.count_nonzero(winning == ticketz)\n",
    "        if num_matches > most:\n",
    "            most = num_matches\n",
    "    return most\n",
    "\n",
    "most_matches = count_matches(1000)\n",
    "most_matches"
   ]
  },
  {
   "cell_type": "code",
   "execution_count": 10,
   "metadata": {
    "deletable": false,
    "editable": false
   },
   "outputs": [
    {
     "data": {
      "text/html": [
       "<p><strong><pre style='display: inline;'>q1_4</pre></strong> passed!</p>"
      ],
      "text/plain": [
       "q1_4 results: All test cases passed!"
      ]
     },
     "execution_count": 10,
     "metadata": {},
     "output_type": "execute_result"
    }
   ],
   "source": [
    "grader.check(\"q1_4\")"
   ]
  },
  {
   "cell_type": "markdown",
   "metadata": {},
   "source": [
    "**Question 1.5.** Suppose one Spirit Night Lotto ticket costs $5.\n",
    "\n",
    "The Spirit Night Lotto advertisement on Instagram promises you will never lose money because of the following generous prizes:\n",
    "\n",
    "- Win $15 with a 1-number match\n",
    "\n",
    "- Win $50 with a 2-number match\n",
    "\n",
    "- Win $100 with a 3-number match\n",
    "\n",
    "- Win $1,000 with a 4-number match\n",
    "\n",
    "- Win $5,000 with a 5-number match\n",
    "\n",
    "- Win $25,000 with a 6-number match (free housing!)\n",
    "\n",
    "If you had the money to buy 100,000 tickets, what would be your net winnings from buying these tickets? Since this is net winnings, this should account for the prizes you win and the cost of buying the tickets. Assign the amount to `net_winnings`. Note that a positive value means you won money overall, and a negative value means you lost money overall. Do you believe the advertisement's claims?\n",
    "\n",
    "The winning numbers are the same from the previous part: **(26, 49, 64, 5, 12, 7)**.\n",
    "\n",
    "***Hint:*** Again, there are a few ways you could approach this problem. One way involves generating another 100,000 random tickets and counting the amount earned per ticket, adding to a running total. Alternatively, if you created an array of the number of matches per ticket in Question 1.4, you could loop through that array. For practice, you can try solving this problem multiple ways!"
   ]
  },
  {
   "cell_type": "code",
   "execution_count": 11,
   "metadata": {},
   "outputs": [
    {
     "data": {
      "text/plain": [
       "-273430"
      ]
     },
     "execution_count": 11,
     "metadata": {},
     "output_type": "execute_result"
    }
   ],
   "source": [
    "winning = np.array([26, 49, 64, 5, 12, 7])\n",
    "def calculate_net_winnings(num):\n",
    "    winnings = 0\n",
    "    cost = num * 5\n",
    "    for i in range(num):\n",
    "        ticketj = simulate_one_ticket()\n",
    "        matches = np.count_nonzero(winning == ticketj)\n",
    "        if matches > 0:\n",
    "            if matches == 1:\n",
    "                winnings = winnings + 15\n",
    "            if matches == 2:\n",
    "                winnings = winnings + 50\n",
    "            if matches == 3:\n",
    "                winnings = winnings + 100\n",
    "            if matches == 4:\n",
    "                winnings = winnings + 1000\n",
    "            if matches == 5:\n",
    "                winnings = winnings + 5000\n",
    "            if matches == 6:\n",
    "                winnings = winnings + 25000\n",
    "        else:\n",
    "            continue\n",
    "    return winnings - cost\n",
    "    \n",
    "net_winnings = calculate_net_winnings(100000)\n",
    "net_winnings"
   ]
  },
  {
   "cell_type": "code",
   "execution_count": 12,
   "metadata": {
    "deletable": false,
    "editable": false
   },
   "outputs": [
    {
     "data": {
      "text/html": [
       "<p><strong><pre style='display: inline;'>q1_5</pre></strong> passed!</p>"
      ],
      "text/plain": [
       "q1_5 results: All test cases passed!"
      ]
     },
     "execution_count": 12,
     "metadata": {},
     "output_type": "execute_result"
    }
   ],
   "source": [
    "grader.check(\"q1_5\")"
   ]
  },
  {
   "cell_type": "markdown",
   "metadata": {},
   "source": [
    "## 2. Sampling with NBA Data 🏀\n",
    "\n",
    "In this question, we will use a [dataset](https://www.kaggle.com/datasets/jamiewelsh2/nba-player-salaries-2022-23-season?resource=download) consisting of information about NBA player salaries and per game statistics for the 2022-23 season. We'll use this data to get some practice with sampling. Run the cell below to load the data into a DataFrame."
   ]
  },
  {
   "cell_type": "code",
   "execution_count": 13,
   "metadata": {},
   "outputs": [
    {
     "data": {
      "text/html": [
       "<div>\n",
       "<style scoped>\n",
       "    .dataframe tbody tr th:only-of-type {\n",
       "        vertical-align: middle;\n",
       "    }\n",
       "\n",
       "    .dataframe tbody tr th {\n",
       "        vertical-align: top;\n",
       "    }\n",
       "\n",
       "    .dataframe thead th {\n",
       "        text-align: right;\n",
       "    }\n",
       "</style>\n",
       "<table border=\"1\" class=\"dataframe\">\n",
       "  <thead>\n",
       "    <tr style=\"text-align: right;\">\n",
       "      <th></th>\n",
       "      <th>Name</th>\n",
       "      <th>Salary</th>\n",
       "      <th>Age</th>\n",
       "      <th>Team</th>\n",
       "      <th>Games</th>\n",
       "      <th>Rebounds</th>\n",
       "      <th>Assists</th>\n",
       "      <th>Steals</th>\n",
       "      <th>Blocks</th>\n",
       "      <th>Turnovers</th>\n",
       "      <th>Points</th>\n",
       "    </tr>\n",
       "  </thead>\n",
       "  <tbody>\n",
       "    <tr>\n",
       "      <th>0</th>\n",
       "      <td>Stephen Curry</td>\n",
       "      <td>48070014</td>\n",
       "      <td>34</td>\n",
       "      <td>GSW</td>\n",
       "      <td>56</td>\n",
       "      <td>6.1</td>\n",
       "      <td>6.3</td>\n",
       "      <td>0.9</td>\n",
       "      <td>0.4</td>\n",
       "      <td>3.2</td>\n",
       "      <td>29.4</td>\n",
       "    </tr>\n",
       "    <tr>\n",
       "      <th>1</th>\n",
       "      <td>John Wall</td>\n",
       "      <td>47345760</td>\n",
       "      <td>32</td>\n",
       "      <td>LAC</td>\n",
       "      <td>34</td>\n",
       "      <td>2.7</td>\n",
       "      <td>5.2</td>\n",
       "      <td>0.8</td>\n",
       "      <td>0.4</td>\n",
       "      <td>2.4</td>\n",
       "      <td>11.4</td>\n",
       "    </tr>\n",
       "    <tr>\n",
       "      <th>2</th>\n",
       "      <td>Russell Westbrook</td>\n",
       "      <td>47080179</td>\n",
       "      <td>34</td>\n",
       "      <td>LAL/LAC</td>\n",
       "      <td>73</td>\n",
       "      <td>5.8</td>\n",
       "      <td>7.5</td>\n",
       "      <td>1.0</td>\n",
       "      <td>0.5</td>\n",
       "      <td>3.5</td>\n",
       "      <td>15.9</td>\n",
       "    </tr>\n",
       "    <tr>\n",
       "      <th>3</th>\n",
       "      <td>LeBron James</td>\n",
       "      <td>44474988</td>\n",
       "      <td>38</td>\n",
       "      <td>LAL</td>\n",
       "      <td>55</td>\n",
       "      <td>8.3</td>\n",
       "      <td>6.8</td>\n",
       "      <td>0.9</td>\n",
       "      <td>0.6</td>\n",
       "      <td>3.2</td>\n",
       "      <td>28.9</td>\n",
       "    </tr>\n",
       "    <tr>\n",
       "      <th>4</th>\n",
       "      <td>Kevin Durant</td>\n",
       "      <td>44119845</td>\n",
       "      <td>34</td>\n",
       "      <td>BRK/PHO</td>\n",
       "      <td>47</td>\n",
       "      <td>6.7</td>\n",
       "      <td>5.0</td>\n",
       "      <td>0.7</td>\n",
       "      <td>1.4</td>\n",
       "      <td>3.3</td>\n",
       "      <td>29.1</td>\n",
       "    </tr>\n",
       "    <tr>\n",
       "      <th>...</th>\n",
       "      <td>...</td>\n",
       "      <td>...</td>\n",
       "      <td>...</td>\n",
       "      <td>...</td>\n",
       "      <td>...</td>\n",
       "      <td>...</td>\n",
       "      <td>...</td>\n",
       "      <td>...</td>\n",
       "      <td>...</td>\n",
       "      <td>...</td>\n",
       "      <td>...</td>\n",
       "    </tr>\n",
       "    <tr>\n",
       "      <th>462</th>\n",
       "      <td>Justin Minaya</td>\n",
       "      <td>35096</td>\n",
       "      <td>23</td>\n",
       "      <td>POR</td>\n",
       "      <td>4</td>\n",
       "      <td>3.8</td>\n",
       "      <td>1.0</td>\n",
       "      <td>0.5</td>\n",
       "      <td>1.3</td>\n",
       "      <td>1.0</td>\n",
       "      <td>4.3</td>\n",
       "    </tr>\n",
       "    <tr>\n",
       "      <th>463</th>\n",
       "      <td>Kobi Simmons</td>\n",
       "      <td>32795</td>\n",
       "      <td>25</td>\n",
       "      <td>CHO</td>\n",
       "      <td>5</td>\n",
       "      <td>0.8</td>\n",
       "      <td>1.0</td>\n",
       "      <td>0.0</td>\n",
       "      <td>0.4</td>\n",
       "      <td>0.2</td>\n",
       "      <td>1.0</td>\n",
       "    </tr>\n",
       "    <tr>\n",
       "      <th>464</th>\n",
       "      <td>Gabe York</td>\n",
       "      <td>32171</td>\n",
       "      <td>29</td>\n",
       "      <td>IND</td>\n",
       "      <td>3</td>\n",
       "      <td>2.0</td>\n",
       "      <td>1.7</td>\n",
       "      <td>0.7</td>\n",
       "      <td>0.0</td>\n",
       "      <td>0.0</td>\n",
       "      <td>8.0</td>\n",
       "    </tr>\n",
       "    <tr>\n",
       "      <th>465</th>\n",
       "      <td>RaiQuan Gray</td>\n",
       "      <td>5849</td>\n",
       "      <td>23</td>\n",
       "      <td>BRK</td>\n",
       "      <td>1</td>\n",
       "      <td>9.0</td>\n",
       "      <td>7.0</td>\n",
       "      <td>0.0</td>\n",
       "      <td>1.0</td>\n",
       "      <td>4.0</td>\n",
       "      <td>16.0</td>\n",
       "    </tr>\n",
       "    <tr>\n",
       "      <th>466</th>\n",
       "      <td>Jacob Gilyard</td>\n",
       "      <td>5849</td>\n",
       "      <td>24</td>\n",
       "      <td>MEM</td>\n",
       "      <td>1</td>\n",
       "      <td>4.0</td>\n",
       "      <td>7.0</td>\n",
       "      <td>3.0</td>\n",
       "      <td>0.0</td>\n",
       "      <td>2.0</td>\n",
       "      <td>3.0</td>\n",
       "    </tr>\n",
       "  </tbody>\n",
       "</table>\n",
       "<p>467 rows × 11 columns</p>\n",
       "</div>"
      ],
      "text/plain": [
       "                  Name    Salary  Age     Team  Games  Rebounds  Assists  \\\n",
       "0        Stephen Curry  48070014   34      GSW     56       6.1      6.3   \n",
       "1            John Wall  47345760   32      LAC     34       2.7      5.2   \n",
       "2    Russell Westbrook  47080179   34  LAL/LAC     73       5.8      7.5   \n",
       "3         LeBron James  44474988   38      LAL     55       8.3      6.8   \n",
       "4         Kevin Durant  44119845   34  BRK/PHO     47       6.7      5.0   \n",
       "..                 ...       ...  ...      ...    ...       ...      ...   \n",
       "462      Justin Minaya     35096   23      POR      4       3.8      1.0   \n",
       "463       Kobi Simmons     32795   25      CHO      5       0.8      1.0   \n",
       "464          Gabe York     32171   29      IND      3       2.0      1.7   \n",
       "465       RaiQuan Gray      5849   23      BRK      1       9.0      7.0   \n",
       "466      Jacob Gilyard      5849   24      MEM      1       4.0      7.0   \n",
       "\n",
       "     Steals  Blocks  Turnovers  Points  \n",
       "0       0.9     0.4        3.2    29.4  \n",
       "1       0.8     0.4        2.4    11.4  \n",
       "2       1.0     0.5        3.5    15.9  \n",
       "3       0.9     0.6        3.2    28.9  \n",
       "4       0.7     1.4        3.3    29.1  \n",
       "..      ...     ...        ...     ...  \n",
       "462     0.5     1.3        1.0     4.3  \n",
       "463     0.0     0.4        0.2     1.0  \n",
       "464     0.7     0.0        0.0     8.0  \n",
       "465     0.0     1.0        4.0    16.0  \n",
       "466     3.0     0.0        2.0     3.0  \n",
       "\n",
       "[467 rows x 11 columns]"
      ]
     },
     "execution_count": 13,
     "metadata": {},
     "output_type": "execute_result"
    }
   ],
   "source": [
    "# Just run this cell, do not change it!\n",
    "nba_data = bpd.read_csv('data/nba_players.csv')\n",
    "nba_data"
   ]
  },
  {
   "cell_type": "markdown",
   "metadata": {},
   "source": [
    "We've provided a function called `compute_statistics` that takes as input a DataFrame with two columns, `'Points'` and `'Salary'`, and then:\n",
    "- draws a histogram of `'Points'`,\n",
    "- draws a histogram of `'Salary'`, and\n",
    "- returns a two-element array containing the mean `'Points'` and mean `'Salary'`.\n",
    "\n",
    "Run the cell below to define the `compute_statistics` function, and a helper function called `histograms`. Don't worry about how this code works, and please don't change anything."
   ]
  },
  {
   "cell_type": "code",
   "execution_count": 14,
   "metadata": {},
   "outputs": [],
   "source": [
    "# Don't change this cell, just run it.\n",
    "def histograms(df):\n",
    "    points = df.get('Points').values\n",
    "    salaries = df.get('Salary').values\n",
    "    \n",
    "    plt.subplots(1, 2, figsize=(15, 4), dpi=100)\n",
    "\n",
    "    plt.subplot(1, 2, 1)\n",
    "    plt.hist(points, density=True, alpha=0.5, color='blue', ec='w', bins=np.arange(0, 35, 1))\n",
    "    plt.title('Distribution of Points')\n",
    "\n",
    "    plt.subplot(1, 2, 2)\n",
    "    plt.hist(salaries, density=True, alpha=0.5, color='blue', ec='w', bins=np.arange(0, 50000000, 1000000))\n",
    "    plt.title('Distribution of Salaries')\n",
    "    \n",
    "def compute_statistics(points_and_salaries_data, draw=True):\n",
    "    if draw:\n",
    "        histograms(points_and_salaries_data)\n",
    "    avg_points = points_and_salaries_data.get('Points').mean()\n",
    "    avg_salary = points_and_salaries_data.get('Salary').mean()\n",
    "    avg_array = np.array([avg_points, avg_salary]) \n",
    "    return avg_array"
   ]
  },
  {
   "cell_type": "markdown",
   "metadata": {},
   "source": [
    "We can use this `compute_statistics` function to show the distribution of `'Points'` and `'Salary'` and compute their means, for any collection of players. \n",
    "\n",
    "Run the next cell to show these distributions and compute the means for all NBA players. Notice that an array containing the mean `'Points'` and mean `'Salary'` values is displayed before the histograms."
   ]
  },
  {
   "cell_type": "code",
   "execution_count": 15,
   "metadata": {},
   "outputs": [
    {
     "data": {
      "text/plain": [
       "array([9.12997859e+00, 8.41659875e+06])"
      ]
     },
     "execution_count": 15,
     "metadata": {},
     "output_type": "execute_result"
    },
    {
     "data": {
      "image/png": "[encoded data removed]",
      "text/plain": [
       "<Figure size 1500x400 with 2 Axes>"
      ]
     },
     "metadata": {},
     "output_type": "display_data"
    }
   ],
   "source": [
    "nba_stats = compute_statistics(nba_data)\n",
    "nba_stats"
   ]
  },
  {
   "cell_type": "markdown",
   "metadata": {},
   "source": [
    "Now, imagine that instead of having access to the full *population* of NBA players, we only have access to data on a smaller subset of players, or a *sample*.  For 467 players, it's not so unreasonable to expect to see all the data, but usually we aren't so lucky.  Instead, we often make *statistical inferences* about a large underlying population using a smaller sample.\n",
    "\n",
    "**Statistical inference** is the process of using data in a sample to _infer_ some characteristic about the population from which the sample was drawn. A common strategy for statistical inference is to estimate a parameter of the population by computing a corresponding statistic on a sample. This strategy sometimes works well and sometimes doesn't.  The degree to which it gives us useful answers depends on several factors.\n",
    "\n",
    "One very important factor in the utility of samples is how they were gathered. Let's look at some different sampling strategies."
   ]
  },
  {
   "cell_type": "markdown",
   "metadata": {},
   "source": [
    "### Convenience sampling\n",
    "One sampling methodology, which is **generally a bad idea**, is to choose players which are somehow convenient to sample.  For example, you might choose players from a team that's near your house, since it's easier to collect information about them.  This is called *convenience sampling*.\n",
    "\n",
    "**Question 2.1.**  Suppose you live in New Jersey and you decide to manually look up information from the three closest teams:\n",
    "- New York Knicks (`'NYK'`)\n",
    "- Brooklyn Nets (`'BRK'`)\n",
    "- Philadelphia 76ers (`'PHI'`)\n",
    "\n",
    "Assign `convenience_sample` to a subset of `nba_data` that contains only the rows for players that are in one of these three teams."
   ]
  },
  {
   "cell_type": "code",
   "execution_count": 16,
   "metadata": {},
   "outputs": [
    {
     "data": {
      "text/html": [
       "<div>\n",
       "<style scoped>\n",
       "    .dataframe tbody tr th:only-of-type {\n",
       "        vertical-align: middle;\n",
       "    }\n",
       "\n",
       "    .dataframe tbody tr th {\n",
       "        vertical-align: top;\n",
       "    }\n",
       "\n",
       "    .dataframe thead th {\n",
       "        text-align: right;\n",
       "    }\n",
       "</style>\n",
       "<table border=\"1\" class=\"dataframe\">\n",
       "  <thead>\n",
       "    <tr style=\"text-align: right;\">\n",
       "      <th></th>\n",
       "      <th>Name</th>\n",
       "      <th>Salary</th>\n",
       "      <th>Age</th>\n",
       "      <th>Team</th>\n",
       "      <th>Games</th>\n",
       "      <th>Rebounds</th>\n",
       "      <th>Assists</th>\n",
       "      <th>Steals</th>\n",
       "      <th>Blocks</th>\n",
       "      <th>Turnovers</th>\n",
       "      <th>Points</th>\n",
       "    </tr>\n",
       "  </thead>\n",
       "  <tbody>\n",
       "    <tr>\n",
       "      <th>16</th>\n",
       "      <td>Tobias Harris</td>\n",
       "      <td>37633050</td>\n",
       "      <td>30</td>\n",
       "      <td>PHI</td>\n",
       "      <td>74</td>\n",
       "      <td>5.7</td>\n",
       "      <td>2.5</td>\n",
       "      <td>0.9</td>\n",
       "      <td>0.5</td>\n",
       "      <td>1.2</td>\n",
       "      <td>14.7</td>\n",
       "    </tr>\n",
       "    <tr>\n",
       "      <th>20</th>\n",
       "      <td>Ben Simmons</td>\n",
       "      <td>35448672</td>\n",
       "      <td>26</td>\n",
       "      <td>BRK</td>\n",
       "      <td>42</td>\n",
       "      <td>6.3</td>\n",
       "      <td>6.1</td>\n",
       "      <td>1.3</td>\n",
       "      <td>0.6</td>\n",
       "      <td>2.3</td>\n",
       "      <td>6.9</td>\n",
       "    </tr>\n",
       "    <tr>\n",
       "      <th>27</th>\n",
       "      <td>Joel Embiid</td>\n",
       "      <td>33616770</td>\n",
       "      <td>28</td>\n",
       "      <td>PHI</td>\n",
       "      <td>66</td>\n",
       "      <td>10.2</td>\n",
       "      <td>4.2</td>\n",
       "      <td>1.0</td>\n",
       "      <td>1.7</td>\n",
       "      <td>3.4</td>\n",
       "      <td>33.1</td>\n",
       "    </tr>\n",
       "    <tr>\n",
       "      <th>29</th>\n",
       "      <td>James Harden</td>\n",
       "      <td>33000000</td>\n",
       "      <td>33</td>\n",
       "      <td>PHI</td>\n",
       "      <td>58</td>\n",
       "      <td>6.1</td>\n",
       "      <td>10.7</td>\n",
       "      <td>1.2</td>\n",
       "      <td>0.5</td>\n",
       "      <td>3.4</td>\n",
       "      <td>21.0</td>\n",
       "    </tr>\n",
       "    <tr>\n",
       "      <th>44</th>\n",
       "      <td>Jalen Brunson</td>\n",
       "      <td>27733332</td>\n",
       "      <td>26</td>\n",
       "      <td>NYK</td>\n",
       "      <td>68</td>\n",
       "      <td>3.5</td>\n",
       "      <td>6.2</td>\n",
       "      <td>0.9</td>\n",
       "      <td>0.2</td>\n",
       "      <td>2.1</td>\n",
       "      <td>24.0</td>\n",
       "    </tr>\n",
       "    <tr>\n",
       "      <th>...</th>\n",
       "      <td>...</td>\n",
       "      <td>...</td>\n",
       "      <td>...</td>\n",
       "      <td>...</td>\n",
       "      <td>...</td>\n",
       "      <td>...</td>\n",
       "      <td>...</td>\n",
       "      <td>...</td>\n",
       "      <td>...</td>\n",
       "      <td>...</td>\n",
       "      <td>...</td>\n",
       "    </tr>\n",
       "    <tr>\n",
       "      <th>403</th>\n",
       "      <td>Trevor Keels</td>\n",
       "      <td>520589</td>\n",
       "      <td>19</td>\n",
       "      <td>NYK</td>\n",
       "      <td>3</td>\n",
       "      <td>0.7</td>\n",
       "      <td>0.0</td>\n",
       "      <td>0.0</td>\n",
       "      <td>0.0</td>\n",
       "      <td>0.0</td>\n",
       "      <td>1.0</td>\n",
       "    </tr>\n",
       "    <tr>\n",
       "      <th>433</th>\n",
       "      <td>Louis King</td>\n",
       "      <td>307089</td>\n",
       "      <td>23</td>\n",
       "      <td>PHI</td>\n",
       "      <td>1</td>\n",
       "      <td>4.0</td>\n",
       "      <td>2.0</td>\n",
       "      <td>1.0</td>\n",
       "      <td>0.0</td>\n",
       "      <td>2.0</td>\n",
       "      <td>20.0</td>\n",
       "    </tr>\n",
       "    <tr>\n",
       "      <th>436</th>\n",
       "      <td>Alondes Williams</td>\n",
       "      <td>254446</td>\n",
       "      <td>23</td>\n",
       "      <td>BRK</td>\n",
       "      <td>1</td>\n",
       "      <td>1.0</td>\n",
       "      <td>0.0</td>\n",
       "      <td>0.0</td>\n",
       "      <td>0.0</td>\n",
       "      <td>2.0</td>\n",
       "      <td>0.0</td>\n",
       "    </tr>\n",
       "    <tr>\n",
       "      <th>445</th>\n",
       "      <td>Mac McClung</td>\n",
       "      <td>160856</td>\n",
       "      <td>24</td>\n",
       "      <td>PHI</td>\n",
       "      <td>2</td>\n",
       "      <td>5.0</td>\n",
       "      <td>4.5</td>\n",
       "      <td>0.0</td>\n",
       "      <td>0.0</td>\n",
       "      <td>1.5</td>\n",
       "      <td>12.5</td>\n",
       "    </tr>\n",
       "    <tr>\n",
       "      <th>465</th>\n",
       "      <td>RaiQuan Gray</td>\n",
       "      <td>5849</td>\n",
       "      <td>23</td>\n",
       "      <td>BRK</td>\n",
       "      <td>1</td>\n",
       "      <td>9.0</td>\n",
       "      <td>7.0</td>\n",
       "      <td>0.0</td>\n",
       "      <td>1.0</td>\n",
       "      <td>4.0</td>\n",
       "      <td>16.0</td>\n",
       "    </tr>\n",
       "  </tbody>\n",
       "</table>\n",
       "<p>36 rows × 11 columns</p>\n",
       "</div>"
      ],
      "text/plain": [
       "                 Name    Salary  Age Team  Games  Rebounds  Assists  Steals  \\\n",
       "16      Tobias Harris  37633050   30  PHI     74       5.7      2.5     0.9   \n",
       "20        Ben Simmons  35448672   26  BRK     42       6.3      6.1     1.3   \n",
       "27        Joel Embiid  33616770   28  PHI     66      10.2      4.2     1.0   \n",
       "29       James Harden  33000000   33  PHI     58       6.1     10.7     1.2   \n",
       "44      Jalen Brunson  27733332   26  NYK     68       3.5      6.2     0.9   \n",
       "..                ...       ...  ...  ...    ...       ...      ...     ...   \n",
       "403      Trevor Keels    520589   19  NYK      3       0.7      0.0     0.0   \n",
       "433        Louis King    307089   23  PHI      1       4.0      2.0     1.0   \n",
       "436  Alondes Williams    254446   23  BRK      1       1.0      0.0     0.0   \n",
       "445       Mac McClung    160856   24  PHI      2       5.0      4.5     0.0   \n",
       "465      RaiQuan Gray      5849   23  BRK      1       9.0      7.0     0.0   \n",
       "\n",
       "     Blocks  Turnovers  Points  \n",
       "16      0.5        1.2    14.7  \n",
       "20      0.6        2.3     6.9  \n",
       "27      1.7        3.4    33.1  \n",
       "29      0.5        3.4    21.0  \n",
       "44      0.2        2.1    24.0  \n",
       "..      ...        ...     ...  \n",
       "403     0.0        0.0     1.0  \n",
       "433     0.0        2.0    20.0  \n",
       "436     0.0        2.0     0.0  \n",
       "445     0.0        1.5    12.5  \n",
       "465     1.0        4.0    16.0  \n",
       "\n",
       "[36 rows x 11 columns]"
      ]
     },
     "execution_count": 16,
     "metadata": {},
     "output_type": "execute_result"
    }
   ],
   "source": [
    "convenience_sample = nba_data[(nba_data.get('Team') == 'NYK')|(nba_data.get('Team') == 'BRK')|(nba_data.get('Team') == 'PHI')]\n",
    "convenience_sample"
   ]
  },
  {
   "cell_type": "code",
   "execution_count": 17,
   "metadata": {
    "deletable": false,
    "editable": false
   },
   "outputs": [
    {
     "data": {
      "text/html": [
       "<p><strong><pre style='display: inline;'>q2_1</pre></strong> passed!</p>"
      ],
      "text/plain": [
       "q2_1 results: All test cases passed!"
      ]
     },
     "execution_count": 17,
     "metadata": {},
     "output_type": "execute_result"
    }
   ],
   "source": [
    "grader.check(\"q2_1\")"
   ]
  },
  {
   "cell_type": "markdown",
   "metadata": {},
   "source": [
    "**Question 2.2.** Assign `convenience_stats` to an array of the mean `'Points'` and mean `'Salary'` of your convenience sample.  Since they're computed on a sample, these are called *sample means*. \n",
    "\n",
    "***Hint:*** Use the function `compute_statistics`; it's okay if histograms are displayed as well."
   ]
  },
  {
   "cell_type": "code",
   "execution_count": 18,
   "metadata": {},
   "outputs": [
    {
     "data": {
      "text/plain": [
       "array([1.04250000e+01, 9.64560108e+06])"
      ]
     },
     "execution_count": 18,
     "metadata": {},
     "output_type": "execute_result"
    },
    {
     "data": {
      "image/png": "[encoded data removed]",
      "text/plain": [
       "<Figure size 1500x400 with 2 Axes>"
      ]
     },
     "metadata": {},
     "output_type": "display_data"
    }
   ],
   "source": [
    "convenience_stats = compute_statistics(convenience_sample)\n",
    "convenience_stats"
   ]
  },
  {
   "cell_type": "code",
   "execution_count": 19,
   "metadata": {
    "deletable": false,
    "editable": false
   },
   "outputs": [
    {
     "data": {
      "text/html": [
       "<p><strong><pre style='display: inline;'>q2_2</pre></strong> passed!</p>"
      ],
      "text/plain": [
       "q2_2 results: All test cases passed!"
      ]
     },
     "execution_count": 19,
     "metadata": {},
     "output_type": "execute_result"
    }
   ],
   "source": [
    "grader.check(\"q2_2\")"
   ]
  },
  {
   "cell_type": "markdown",
   "metadata": {},
   "source": [
    "Next, we'll compare the distribution of `'Points'` in our convenience sample to the distribution of `'Points'` for all the players in our dataset."
   ]
  },
  {
   "cell_type": "code",
   "execution_count": 20,
   "metadata": {},
   "outputs": [
    {
     "data": {
      "image/png": "[encoded data removed]",
      "text/plain": [
       "<Figure size 1275x340 with 2 Axes>"
      ]
     },
     "metadata": {},
     "output_type": "display_data"
    }
   ],
   "source": [
    "# Just run this cell, do not change it!\n",
    "def compare_points(first, second, first_title, second_title):\n",
    "    \"\"\"Compare the points in two DataFrames.\"\"\"\n",
    "    bins = np.arange(0, 35, 1)\n",
    "    \n",
    "    plt.subplots(1, 2, figsize=(15, 4), dpi=85)\n",
    "\n",
    "    plt.subplot(1, 2, 1)\n",
    "    plt.hist(first.get('Points'), bins=bins, density=True, ec='w', color='blue', alpha=0.5)\n",
    "    plt.title(f'Points ({first_title})')\n",
    "    \n",
    "    plt.subplot(1, 2, 2)\n",
    "    plt.hist(second.get('Points'), bins=bins, density=True, ec='w', color='blue', alpha=0.5)\n",
    "    plt.title(f'Points ({second_title})')\n",
    "\n",
    "compare_points(nba_data, convenience_sample, 'All Players', 'Convenience Sample')"
   ]
  },
  {
   "cell_type": "markdown",
   "metadata": {},
   "source": [
    "**Question 2.3.** From what you see in the histograms above, did the convenience sample give us an accurate picture of the points for the full population of NBA players?  Why or why not?\n",
    "\n",
    "Assign either 1, 2, 3, or 4 to the variable `sampling_q3` below. \n",
    "1. Yes. The sample is large enough, so it is an accurate representation of the population.\n",
    "1. No. Convenience samples generally don't give us an accurate representation of the population.\n",
    "1. No. Normally convenience samples give us an accurate representation of the population, but we just got unlucky.\n",
    "1. No. Normally convenience samples give us an accurate representation of the population, but only if the sample size is large enough. Our convenience sample here was too small."
   ]
  },
  {
   "cell_type": "code",
   "execution_count": 21,
   "metadata": {},
   "outputs": [],
   "source": [
    "sampling_q3 = 2"
   ]
  },
  {
   "cell_type": "code",
   "execution_count": 22,
   "metadata": {
    "deletable": false,
    "editable": false
   },
   "outputs": [
    {
     "data": {
      "text/html": [
       "<p><strong><pre style='display: inline;'>q2_3</pre></strong> passed!</p>"
      ],
      "text/plain": [
       "q2_3 results: All test cases passed!"
      ]
     },
     "execution_count": 22,
     "metadata": {},
     "output_type": "execute_result"
    }
   ],
   "source": [
    "grader.check(\"q2_3\")"
   ]
  },
  {
   "cell_type": "markdown",
   "metadata": {},
   "source": [
    "### Simple random sampling\n",
    "A more principled approach is to sample uniformly at random from the players.  If we ensure that each player is selected at most once, this is a **random sample without replacement**, sometimes called a \"**simple random sample**\" or \"**SRS**\".  Imagine writing down each player's name on a card, putting the cards in a hat, and shuffling the hat.  To sample, pull out cards one by one and set them aside, stopping when the specified *sample size* is reached.\n",
    "\n",
    "We've produced two simple random samples of `nba_data`: the variable `small_srs_data` contains a SRS of size 70, and the variable `large_srs_data` contains a SRS of size 180."
   ]
  },
  {
   "cell_type": "markdown",
   "metadata": {},
   "source": [
    "Now we'll run the same analyses on the small simple random sample, the large simple random sample, and the convenience sample. The subsequent code draws the histograms and computes the means for `'Points'` and `'Salary'`."
   ]
  },
  {
   "cell_type": "code",
   "execution_count": 23,
   "metadata": {},
   "outputs": [
    {
     "name": "stdout",
     "output_type": "stream",
     "text": [
      "Full data stats:                  [9.12997859e+00 8.41659875e+06]\n",
      "Small SRS stats:                  [1.00028571e+01 1.06680421e+07]\n",
      "Large SRS stats:                  [9.19333333e+00 8.34303573e+06]\n",
      "Convenience sample stats:         [1.04250000e+01 9.64560108e+06]\n"
     ]
    },
    {
     "data": {
      "image/png": "[encoded data removed]",
      "text/plain": [
       "<Figure size 1500x1500 with 6 Axes>"
      ]
     },
     "metadata": {},
     "output_type": "display_data"
    }
   ],
   "source": [
    "# Don't change this cell, but do run it.\n",
    "small_srs_data = bpd.read_csv('data/small_srs_salary.csv')\n",
    "large_srs_data = bpd.read_csv('data/large_srs_salary.csv')\n",
    "\n",
    "small_stats = compute_statistics(small_srs_data, draw=False);\n",
    "large_stats = compute_statistics(large_srs_data, draw=False);\n",
    "convenience_stats = compute_statistics(convenience_sample, draw=False);\n",
    "\n",
    "print('Full data stats:                 ', nba_stats)\n",
    "print('Small SRS stats:                 ', small_stats)\n",
    "print('Large SRS stats:                 ', large_stats)\n",
    "print('Convenience sample stats:        ', convenience_stats)\n",
    "\n",
    "color_dict = {\n",
    "    'small SRS': 'blue',\n",
    "    'large SRS': 'green',\n",
    "    'convenience sample': 'orange'\n",
    "}\n",
    "\n",
    "plt.subplots(3, 2, figsize=(15, 15), dpi=100)\n",
    "i = 1\n",
    "\n",
    "for df, name in zip([small_srs_data, large_srs_data, convenience_sample], color_dict.keys()):\n",
    "    plt.subplot(3, 2, i)\n",
    "    i += 2\n",
    "    plt.hist(df.get('Points'), density=True, alpha=0.5, color=color_dict[name], ec='w', \n",
    "             bins=np.arange(0, 35, 1))\n",
    "    plt.title(f'Points ({name})');\n",
    "\n",
    "i = 2\n",
    "for df, name in zip([small_srs_data, large_srs_data, convenience_sample], color_dict.keys()):\n",
    "    plt.subplot(3, 2, i)\n",
    "    i += 2\n",
    "    plt.hist(df.get('Salary'), density=True, alpha=0.5, color=color_dict[name], ec='w', \n",
    "             bins=np.arange(0, 50000000, 1000000))\n",
    "    plt.title(f'Salaries ({name})');"
   ]
  },
  {
   "cell_type": "markdown",
   "metadata": {},
   "source": [
    "### Producing simple random samples\n",
    "Often it's useful to take random samples even when we have a larger dataset available.  One reason is that doing so can help us understand how inaccurate other samples are.\n",
    "\n",
    "As we saw in [Lecture 13](https://dsc10.com/resources/lectures/lec13/lec13.html#Sampling-rows-from-a-DataFrame), DataFrames have a `.sample` method for producing simple random samples.  Note that its default is to sample **without** replacement, which aligns with how simple random samples are drawn."
   ]
  },
  {
   "cell_type": "markdown",
   "metadata": {},
   "source": [
    "**Question 2.4.** Produce a simple random sample of size 70 from `nba_data`. Store an array containing the mean `'Points'` and mean `'Salary'` of your SRS in `my_small_stats`. Again, it's fine if histograms are displayed."
   ]
  },
  {
   "cell_type": "code",
   "execution_count": 24,
   "metadata": {},
   "outputs": [
    {
     "data": {
      "text/plain": [
       "array([9.19000000e+00, 8.77822944e+06])"
      ]
     },
     "execution_count": 24,
     "metadata": {},
     "output_type": "execute_result"
    },
    {
     "data": {
      "image/png": "[encoded data removed]",
      "text/plain": [
       "<Figure size 1500x400 with 2 Axes>"
      ]
     },
     "metadata": {},
     "output_type": "display_data"
    }
   ],
   "source": [
    "my_small_stats = nba_data.sample(70)\n",
    "compute_statistics(my_small_stats)\n",
    "# my_small_stats"
   ]
  },
  {
   "cell_type": "markdown",
   "metadata": {},
   "source": [
    "Run the cell above many times, to collect new samples and compute their sample means.\n",
    "\n",
    "<br>\n",
    "\n",
    "Now, recall, `small_stats` is an array containing the mean `'Points'` and mean `'Salary'` for the one small SRS that we provided you with:"
   ]
  },
  {
   "cell_type": "code",
   "execution_count": 25,
   "metadata": {},
   "outputs": [
    {
     "data": {
      "text/plain": [
       "array([1.00028571e+01, 1.06680421e+07])"
      ]
     },
     "execution_count": 25,
     "metadata": {},
     "output_type": "execute_result"
    }
   ],
   "source": [
    "small_stats"
   ]
  },
  {
   "cell_type": "markdown",
   "metadata": {},
   "source": [
    "Answer the following two-fold question:\n",
    "- Are the values in `my_small_stats` (the mean `'Points'` and `'Salary'` for **your** small SRS) similar to the values in `small_stats` (the mean `'Points'` and `'Salary'` for the small SRS **we provided you with**)? \n",
    "- Each time you collect a new sample – i.e. each time you re-run the cell where `my_small_stats` is defined – do the values in `my_small_stats` change a lot?\n",
    "\n",
    "Assign either 1, 2, 3, or 4 to the variable `sampling_q4` below.\n",
    "1. The values in `my_small_stats` are identical to the values in `small_stats`, and change a bit each time a new sample is collected.\n",
    "1. The values in `my_small_stats` are identical to the values in `small_stats`, and don't change at all each time a new sample is collected.\n",
    "1. The values in `my_small_stats` are slightly different from the values in `small_stats`, and change a bit each time a new sample is collected.\n",
    "1. The values in `my_small_stats` are very different from the values in `small_stats`, and don't change at all each time a new sample is collected."
   ]
  },
  {
   "cell_type": "code",
   "execution_count": 26,
   "metadata": {},
   "outputs": [],
   "source": [
    "sampling_q4 = 3"
   ]
  },
  {
   "cell_type": "code",
   "execution_count": 27,
   "metadata": {
    "deletable": false,
    "editable": false
   },
   "outputs": [
    {
     "data": {
      "text/html": [
       "<p><strong><pre style='display: inline;'>q2_4</pre></strong> passed!</p>"
      ],
      "text/plain": [
       "q2_4 results: All test cases passed!"
      ]
     },
     "execution_count": 27,
     "metadata": {},
     "output_type": "execute_result"
    }
   ],
   "source": [
    "grader.check(\"q2_4\")"
   ]
  },
  {
   "cell_type": "markdown",
   "metadata": {},
   "source": [
    "**Question 2.5.** Similarly, create a simple random sample of size 180 from `nba_data` and store an array of the sample's mean `'Points'` and mean `'Salary'` in `my_large_stats`."
   ]
  },
  {
   "cell_type": "code",
   "execution_count": 28,
   "metadata": {},
   "outputs": [
    {
     "data": {
      "text/plain": [
       "array([9.05555556e+00, 8.44191710e+06])"
      ]
     },
     "execution_count": 28,
     "metadata": {},
     "output_type": "execute_result"
    },
    {
     "data": {
      "image/png": "[encoded data removed]",
      "text/plain": [
       "<Figure size 1500x400 with 2 Axes>"
      ]
     },
     "metadata": {},
     "output_type": "display_data"
    }
   ],
   "source": [
    "my_large_stats = nba_data.sample(180)\n",
    "compute_statistics(my_large_stats)"
   ]
  },
  {
   "cell_type": "markdown",
   "metadata": {},
   "source": [
    "Run the cell in which `my_large_stats` is defined many times. Do the histograms and  mean statistics (mean `'Points'` and mean `'Salary'`) seem to change more or less across samples of size 180 than across samples of size 70?\n",
    "\n",
    "Assign either 1, 2, or 3 to the variable `sampling_q5` below. \n",
    "\n",
    "1. The statistics change *less* across samples of size 180 than across samples of size 70.\n",
    "1. The statistics change an *equal amount* across samples of size 180 and across samples of size 70.\n",
    "1. The statistics change *more* across samples of size 180 than across samples of size 70."
   ]
  },
  {
   "cell_type": "code",
   "execution_count": 29,
   "metadata": {},
   "outputs": [],
   "source": [
    "sampling_q5 = 1"
   ]
  },
  {
   "cell_type": "code",
   "execution_count": 30,
   "metadata": {
    "deletable": false,
    "editable": false
   },
   "outputs": [
    {
     "data": {
      "text/html": [
       "<p><strong><pre style='display: inline;'>q2_5</pre></strong> passed!</p>"
      ],
      "text/plain": [
       "q2_5 results: All test cases passed!"
      ]
     },
     "execution_count": 30,
     "metadata": {},
     "output_type": "execute_result"
    }
   ],
   "source": [
    "grader.check(\"q2_5\")"
   ]
  },
  {
   "cell_type": "markdown",
   "metadata": {},
   "source": [
    "## 3. Milk Tea, Yippee! 🥛🍵"
   ]
  },
  {
   "cell_type": "markdown",
   "metadata": {},
   "source": [
    "You are planning to open a milk tea shop in La Jolla! To get a sense of the local residents' milk tea preferences, you survey 200 randomly selected La Jolla residents and ask which type of tea they prefer the most among six options – `'jasmine'`, `'oolong'`, `'black'`, `'golden'`, `'matcha'`, `'Thai'`. \n",
    "\n",
    "<center><img src=\"images/tea.png\" width=70%></center>\n",
    "\n",
    "Run the next cell to load in the results of the survey."
   ]
  },
  {
   "cell_type": "code",
   "execution_count": 31,
   "metadata": {},
   "outputs": [
    {
     "data": {
      "text/html": [
       "<div>\n",
       "<style scoped>\n",
       "    .dataframe tbody tr th:only-of-type {\n",
       "        vertical-align: middle;\n",
       "    }\n",
       "\n",
       "    .dataframe tbody tr th {\n",
       "        vertical-align: top;\n",
       "    }\n",
       "\n",
       "    .dataframe thead th {\n",
       "        text-align: right;\n",
       "    }\n",
       "</style>\n",
       "<table border=\"1\" class=\"dataframe\">\n",
       "  <thead>\n",
       "    <tr style=\"text-align: right;\">\n",
       "      <th></th>\n",
       "      <th>tea</th>\n",
       "    </tr>\n",
       "  </thead>\n",
       "  <tbody>\n",
       "    <tr>\n",
       "      <th>0</th>\n",
       "      <td>jasmine</td>\n",
       "    </tr>\n",
       "    <tr>\n",
       "      <th>1</th>\n",
       "      <td>golden</td>\n",
       "    </tr>\n",
       "    <tr>\n",
       "      <th>2</th>\n",
       "      <td>black</td>\n",
       "    </tr>\n",
       "    <tr>\n",
       "      <th>3</th>\n",
       "      <td>matcha</td>\n",
       "    </tr>\n",
       "    <tr>\n",
       "      <th>4</th>\n",
       "      <td>matcha</td>\n",
       "    </tr>\n",
       "    <tr>\n",
       "      <th>...</th>\n",
       "      <td>...</td>\n",
       "    </tr>\n",
       "    <tr>\n",
       "      <th>195</th>\n",
       "      <td>black</td>\n",
       "    </tr>\n",
       "    <tr>\n",
       "      <th>196</th>\n",
       "      <td>matcha</td>\n",
       "    </tr>\n",
       "    <tr>\n",
       "      <th>197</th>\n",
       "      <td>oolong</td>\n",
       "    </tr>\n",
       "    <tr>\n",
       "      <th>198</th>\n",
       "      <td>black</td>\n",
       "    </tr>\n",
       "    <tr>\n",
       "      <th>199</th>\n",
       "      <td>jasmine</td>\n",
       "    </tr>\n",
       "  </tbody>\n",
       "</table>\n",
       "<p>200 rows × 1 columns</p>\n",
       "</div>"
      ],
      "text/plain": [
       "         tea\n",
       "0    jasmine\n",
       "1     golden\n",
       "2      black\n",
       "3     matcha\n",
       "4     matcha\n",
       "..       ...\n",
       "195    black\n",
       "196   matcha\n",
       "197   oolong\n",
       "198    black\n",
       "199  jasmine\n",
       "\n",
       "[200 rows x 1 columns]"
      ]
     },
     "execution_count": 31,
     "metadata": {},
     "output_type": "execute_result"
    }
   ],
   "source": [
    "survey = bpd.read_csv('data/tea.csv')\n",
    "survey"
   ]
  },
  {
   "cell_type": "markdown",
   "metadata": {},
   "source": [
    "What you're truly interested in, though, is the proportion of *all La Jolla residents* that prefer each type of tea. These are *population parameters* (plural, because there are six proportions).\n",
    "\n",
    "Your friends tell you that jasmine tea is popular and that your shop should focus on jasmine tea-based creations. To make an informed decision, you decide to look at your survey data to determine the proportion of La Jolla residents that prefer `'jasmine'` tea over all other types of teas."
   ]
  },
  {
   "cell_type": "markdown",
   "metadata": {},
   "source": [
    "**Question 3.1.** Start by calculating the proportion of residents in your sample who prefer `'jasmine'` tea. Assign this value to `jasmine_proportion`.\n",
    "\n"
   ]
  },
  {
   "cell_type": "code",
   "execution_count": 32,
   "metadata": {},
   "outputs": [
    {
     "data": {
      "text/html": [
       "<div>\n",
       "<style scoped>\n",
       "    .dataframe tbody tr th:only-of-type {\n",
       "        vertical-align: middle;\n",
       "    }\n",
       "\n",
       "    .dataframe tbody tr th {\n",
       "        vertical-align: top;\n",
       "    }\n",
       "\n",
       "    .dataframe thead th {\n",
       "        text-align: right;\n",
       "    }\n",
       "</style>\n",
       "<table border=\"1\" class=\"dataframe\">\n",
       "  <thead>\n",
       "    <tr style=\"text-align: right;\">\n",
       "      <th></th>\n",
       "      <th>tea</th>\n",
       "    </tr>\n",
       "  </thead>\n",
       "  <tbody>\n",
       "    <tr>\n",
       "      <th>0</th>\n",
       "      <td>jasmine</td>\n",
       "    </tr>\n",
       "    <tr>\n",
       "      <th>7</th>\n",
       "      <td>jasmine</td>\n",
       "    </tr>\n",
       "    <tr>\n",
       "      <th>9</th>\n",
       "      <td>jasmine</td>\n",
       "    </tr>\n",
       "    <tr>\n",
       "      <th>11</th>\n",
       "      <td>jasmine</td>\n",
       "    </tr>\n",
       "    <tr>\n",
       "      <th>13</th>\n",
       "      <td>jasmine</td>\n",
       "    </tr>\n",
       "    <tr>\n",
       "      <th>...</th>\n",
       "      <td>...</td>\n",
       "    </tr>\n",
       "    <tr>\n",
       "      <th>182</th>\n",
       "      <td>jasmine</td>\n",
       "    </tr>\n",
       "    <tr>\n",
       "      <th>184</th>\n",
       "      <td>jasmine</td>\n",
       "    </tr>\n",
       "    <tr>\n",
       "      <th>187</th>\n",
       "      <td>jasmine</td>\n",
       "    </tr>\n",
       "    <tr>\n",
       "      <th>191</th>\n",
       "      <td>jasmine</td>\n",
       "    </tr>\n",
       "    <tr>\n",
       "      <th>199</th>\n",
       "      <td>jasmine</td>\n",
       "    </tr>\n",
       "  </tbody>\n",
       "</table>\n",
       "<p>49 rows × 1 columns</p>\n",
       "</div>"
      ],
      "text/plain": [
       "         tea\n",
       "0    jasmine\n",
       "7    jasmine\n",
       "9    jasmine\n",
       "11   jasmine\n",
       "13   jasmine\n",
       "..       ...\n",
       "182  jasmine\n",
       "184  jasmine\n",
       "187  jasmine\n",
       "191  jasmine\n",
       "199  jasmine\n",
       "\n",
       "[49 rows x 1 columns]"
      ]
     },
     "execution_count": 32,
     "metadata": {},
     "output_type": "execute_result"
    }
   ],
   "source": [
    "hello = survey[survey.get('tea') == 'jasmine']\n",
    "hello"
   ]
  },
  {
   "cell_type": "code",
   "execution_count": 33,
   "metadata": {},
   "outputs": [
    {
     "data": {
      "text/plain": [
       "0.245"
      ]
     },
     "execution_count": 33,
     "metadata": {},
     "output_type": "execute_result"
    }
   ],
   "source": [
    "jasmine_proportion = survey[survey.get('tea') == 'jasmine'].shape[0] / 200\n",
    "jasmine_proportion"
   ]
  },
  {
   "cell_type": "code",
   "execution_count": 34,
   "metadata": {
    "deletable": false,
    "editable": false
   },
   "outputs": [
    {
     "data": {
      "text/html": [
       "<p><strong><pre style='display: inline;'>q3_1</pre></strong> passed!</p>"
      ],
      "text/plain": [
       "q3_1 results: All test cases passed!"
      ]
     },
     "execution_count": 34,
     "metadata": {},
     "output_type": "execute_result"
    }
   ],
   "source": [
    "grader.check(\"q3_1\")"
   ]
  },
  {
   "cell_type": "markdown",
   "metadata": {},
   "source": [
    "You're done... or are you? You have a single estimate for the true proportion of residents who prefer `'jasmine'` tea. However, you don't know how close that estimate is, or how much it could have varied if you'd had a different sample. In other words, you have an estimate, but no understanding of how close that estimate is to the true proportion of all local residents who prefer `'jasmine'` tea.\n",
    "\n",
    "This is where the idea of resampling via **[bootstrapping](https://inferentialthinking.com/chapters/13/2/Bootstrap.html)** comes in. Assuming that our sample resembles the population fairly well, we can resample from our original sample to produce more samples. From each of these resamples, we can produce another estimate for the true proportion of residents who prefer `'jasmine'` tea, which gives us a distribution of sample proportions that describes how the estimate might vary given different samples. We can then use this distribution to understand the **variability** in the estimated proportion of residents who prefer `'jasmine'` tea.\n"
   ]
  },
  {
   "cell_type": "markdown",
   "metadata": {},
   "source": [
    "**Question 3.2.** Now, let's use bootstrapping to get a sense of the distribution of the sample proportion. Complete the following code to produce 1,000 bootstrapped estimates for the proportion of residents who prefer `'jasmine'` tea. Store your 1,000 estimates in an array named `boot_jasmine_proportions`."
   ]
  },
  {
   "cell_type": "code",
   "execution_count": 35,
   "metadata": {},
   "outputs": [
    {
     "data": {
      "text/plain": [
       "array([0.265, 0.23 , 0.28 , 0.28 , 0.225, 0.215, 0.26 , 0.27 , 0.255,\n",
       "       0.245, 0.26 , 0.235, 0.245, 0.255, 0.255, 0.22 , 0.29 , 0.265,\n",
       "       0.2  , 0.255, 0.215, 0.285, 0.245, 0.22 , 0.265, 0.25 , 0.25 ,\n",
       "       0.28 , 0.19 , 0.26 , 0.28 , 0.19 , 0.245, 0.235, 0.195, 0.235,\n",
       "       0.19 , 0.24 , 0.24 , 0.225, 0.26 , 0.245, 0.24 , 0.245, 0.275,\n",
       "       0.26 , 0.255, 0.2  , 0.26 , 0.22 , 0.205, 0.245, 0.3  , 0.24 ,\n",
       "       0.225, 0.24 , 0.255, 0.285, 0.27 , 0.255, 0.23 , 0.295, 0.29 ,\n",
       "       0.25 , 0.24 , 0.23 , 0.235, 0.255, 0.245, 0.26 , 0.2  , 0.26 ,\n",
       "       0.27 , 0.24 , 0.305, 0.24 , 0.25 , 0.265, 0.23 , 0.275, 0.265,\n",
       "       0.235, 0.25 , 0.29 , 0.245, 0.265, 0.21 , 0.2  , 0.24 , 0.275,\n",
       "       0.23 , 0.235, 0.26 , 0.215, 0.255, 0.22 , 0.265, 0.28 , 0.23 ,\n",
       "       0.25 , 0.22 , 0.245, 0.25 , 0.265, 0.245, 0.25 , 0.225, 0.265,\n",
       "       0.255, 0.305, 0.255, 0.235, 0.2  , 0.23 , 0.26 , 0.275, 0.235,\n",
       "       0.235, 0.285, 0.25 , 0.26 , 0.24 , 0.24 , 0.28 , 0.19 , 0.18 ,\n",
       "       0.25 , 0.24 , 0.25 , 0.275, 0.23 , 0.305, 0.255, 0.195, 0.245,\n",
       "       0.25 , 0.24 , 0.285, 0.225, 0.235, 0.26 , 0.255, 0.22 , 0.225,\n",
       "       0.245, 0.255, 0.255, 0.22 , 0.25 , 0.265, 0.235, 0.29 , 0.21 ,\n",
       "       0.195, 0.275, 0.265, 0.28 , 0.23 , 0.215, 0.24 , 0.27 , 0.295,\n",
       "       0.23 , 0.255, 0.215, 0.24 , 0.24 , 0.3  , 0.235, 0.23 , 0.23 ,\n",
       "       0.27 , 0.24 , 0.27 , 0.25 , 0.2  , 0.315, 0.22 , 0.27 , 0.24 ,\n",
       "       0.22 , 0.265, 0.21 , 0.26 , 0.25 , 0.31 , 0.285, 0.24 , 0.265,\n",
       "       0.225, 0.27 , 0.325, 0.3  , 0.2  , 0.18 , 0.25 , 0.21 , 0.205,\n",
       "       0.24 , 0.255, 0.3  , 0.225, 0.23 , 0.275, 0.285, 0.235, 0.225,\n",
       "       0.205, 0.295, 0.26 , 0.255, 0.27 , 0.26 , 0.22 , 0.175, 0.21 ,\n",
       "       0.23 , 0.295, 0.265, 0.225, 0.27 , 0.285, 0.25 , 0.3  , 0.225,\n",
       "       0.205, 0.24 , 0.225, 0.305, 0.225, 0.23 , 0.22 , 0.25 , 0.215,\n",
       "       0.255, 0.255, 0.285, 0.19 , 0.21 , 0.25 , 0.25 , 0.2  , 0.23 ,\n",
       "       0.215, 0.285, 0.235, 0.325, 0.28 , 0.245, 0.185, 0.275, 0.255,\n",
       "       0.245, 0.265, 0.22 , 0.2  , 0.305, 0.27 , 0.19 , 0.285, 0.23 ,\n",
       "       0.25 , 0.225, 0.29 , 0.235, 0.22 , 0.215, 0.285, 0.175, 0.245,\n",
       "       0.24 , 0.27 , 0.285, 0.285, 0.24 , 0.225, 0.2  , 0.265, 0.245,\n",
       "       0.28 , 0.19 , 0.215, 0.275, 0.22 , 0.26 , 0.275, 0.21 , 0.255,\n",
       "       0.265, 0.215, 0.245, 0.22 , 0.235, 0.195, 0.255, 0.265, 0.245,\n",
       "       0.225, 0.215, 0.275, 0.28 , 0.165, 0.27 , 0.23 , 0.3  , 0.25 ,\n",
       "       0.22 , 0.22 , 0.265, 0.245, 0.235, 0.215, 0.235, 0.225, 0.245,\n",
       "       0.325, 0.25 , 0.255, 0.225, 0.205, 0.225, 0.215, 0.32 , 0.26 ,\n",
       "       0.26 , 0.235, 0.295, 0.24 , 0.255, 0.275, 0.25 , 0.27 , 0.255,\n",
       "       0.23 , 0.23 , 0.26 , 0.235, 0.27 , 0.24 , 0.235, 0.245, 0.255,\n",
       "       0.245, 0.24 , 0.24 , 0.23 , 0.265, 0.26 , 0.28 , 0.22 , 0.245,\n",
       "       0.225, 0.225, 0.23 , 0.23 , 0.22 , 0.24 , 0.265, 0.215, 0.24 ,\n",
       "       0.28 , 0.25 , 0.24 , 0.255, 0.245, 0.155, 0.195, 0.255, 0.26 ,\n",
       "       0.29 , 0.195, 0.18 , 0.225, 0.25 , 0.24 , 0.265, 0.27 , 0.265,\n",
       "       0.225, 0.24 , 0.2  , 0.275, 0.28 , 0.22 , 0.255, 0.305, 0.23 ,\n",
       "       0.25 , 0.265, 0.265, 0.255, 0.235, 0.21 , 0.24 , 0.24 , 0.235,\n",
       "       0.215, 0.23 , 0.245, 0.225, 0.21 , 0.25 , 0.19 , 0.265, 0.21 ,\n",
       "       0.29 , 0.25 , 0.215, 0.165, 0.28 , 0.25 , 0.21 , 0.255, 0.255,\n",
       "       0.275, 0.245, 0.26 , 0.235, 0.235, 0.225, 0.27 , 0.23 , 0.27 ,\n",
       "       0.29 , 0.28 , 0.18 , 0.22 , 0.24 , 0.295, 0.23 , 0.235, 0.265,\n",
       "       0.245, 0.205, 0.21 , 0.265, 0.23 , 0.235, 0.255, 0.29 , 0.255,\n",
       "       0.22 , 0.215, 0.305, 0.305, 0.26 , 0.23 , 0.205, 0.27 , 0.21 ,\n",
       "       0.29 , 0.275, 0.25 , 0.225, 0.225, 0.225, 0.235, 0.29 , 0.22 ,\n",
       "       0.27 , 0.26 , 0.24 , 0.25 , 0.23 , 0.24 , 0.2  , 0.24 , 0.26 ,\n",
       "       0.22 , 0.19 , 0.255, 0.205, 0.2  , 0.245, 0.22 , 0.255, 0.23 ,\n",
       "       0.23 , 0.24 , 0.24 , 0.265, 0.185, 0.225, 0.25 , 0.225, 0.24 ,\n",
       "       0.265, 0.235, 0.31 , 0.265, 0.24 , 0.23 , 0.2  , 0.23 , 0.205,\n",
       "       0.275, 0.215, 0.235, 0.215, 0.29 , 0.24 , 0.26 , 0.24 , 0.225,\n",
       "       0.19 , 0.275, 0.22 , 0.275, 0.25 , 0.26 , 0.245, 0.285, 0.295,\n",
       "       0.26 , 0.215, 0.25 , 0.25 , 0.255, 0.265, 0.26 , 0.245, 0.23 ,\n",
       "       0.245, 0.22 , 0.305, 0.23 , 0.185, 0.215, 0.305, 0.15 , 0.22 ,\n",
       "       0.235, 0.205, 0.295, 0.205, 0.245, 0.27 , 0.275, 0.245, 0.245,\n",
       "       0.23 , 0.24 , 0.28 , 0.23 , 0.185, 0.29 , 0.315, 0.22 , 0.26 ,\n",
       "       0.26 , 0.275, 0.285, 0.325, 0.24 , 0.245, 0.225, 0.26 , 0.245,\n",
       "       0.235, 0.23 , 0.2  , 0.245, 0.275, 0.33 , 0.26 , 0.2  , 0.225,\n",
       "       0.235, 0.235, 0.25 , 0.205, 0.245, 0.265, 0.21 , 0.26 , 0.22 ,\n",
       "       0.25 , 0.2  , 0.27 , 0.235, 0.31 , 0.295, 0.275, 0.255, 0.265,\n",
       "       0.27 , 0.215, 0.27 , 0.27 , 0.245, 0.325, 0.225, 0.23 , 0.21 ,\n",
       "       0.22 , 0.25 , 0.285, 0.3  , 0.22 , 0.28 , 0.195, 0.285, 0.27 ,\n",
       "       0.23 , 0.235, 0.215, 0.22 , 0.205, 0.215, 0.325, 0.32 , 0.29 ,\n",
       "       0.25 , 0.24 , 0.225, 0.28 , 0.21 , 0.25 , 0.24 , 0.285, 0.225,\n",
       "       0.255, 0.265, 0.19 , 0.295, 0.25 , 0.265, 0.19 , 0.255, 0.215,\n",
       "       0.245, 0.22 , 0.285, 0.27 , 0.255, 0.2  , 0.265, 0.225, 0.275,\n",
       "       0.275, 0.255, 0.255, 0.275, 0.24 , 0.24 , 0.255, 0.225, 0.29 ,\n",
       "       0.275, 0.225, 0.245, 0.24 , 0.23 , 0.225, 0.23 , 0.28 , 0.28 ,\n",
       "       0.225, 0.22 , 0.275, 0.25 , 0.225, 0.255, 0.25 , 0.215, 0.215,\n",
       "       0.25 , 0.235, 0.26 , 0.255, 0.25 , 0.25 , 0.255, 0.255, 0.32 ,\n",
       "       0.21 , 0.26 , 0.215, 0.26 , 0.26 , 0.23 , 0.255, 0.22 , 0.26 ,\n",
       "       0.24 , 0.24 , 0.275, 0.26 , 0.26 , 0.23 , 0.275, 0.255, 0.235,\n",
       "       0.24 , 0.24 , 0.225, 0.22 , 0.245, 0.24 , 0.21 , 0.24 , 0.265,\n",
       "       0.265, 0.23 , 0.29 , 0.225, 0.25 , 0.265, 0.215, 0.23 , 0.23 ,\n",
       "       0.26 , 0.225, 0.24 , 0.28 , 0.195, 0.225, 0.215, 0.22 , 0.235,\n",
       "       0.31 , 0.27 , 0.225, 0.265, 0.23 , 0.235, 0.235, 0.19 , 0.255,\n",
       "       0.245, 0.245, 0.225, 0.255, 0.27 , 0.285, 0.245, 0.22 , 0.25 ,\n",
       "       0.23 , 0.215, 0.25 , 0.235, 0.31 , 0.32 , 0.205, 0.265, 0.265,\n",
       "       0.28 , 0.265, 0.245, 0.28 , 0.235, 0.245, 0.235, 0.25 , 0.21 ,\n",
       "       0.265, 0.175, 0.21 , 0.22 , 0.21 , 0.27 , 0.235, 0.23 , 0.3  ,\n",
       "       0.225, 0.235, 0.265, 0.225, 0.25 , 0.23 , 0.265, 0.25 , 0.21 ,\n",
       "       0.24 , 0.285, 0.295, 0.205, 0.27 , 0.225, 0.22 , 0.18 , 0.285,\n",
       "       0.24 , 0.26 , 0.215, 0.245, 0.225, 0.24 , 0.21 , 0.215, 0.255,\n",
       "       0.27 , 0.215, 0.245, 0.24 , 0.24 , 0.27 , 0.29 , 0.21 , 0.23 ,\n",
       "       0.245, 0.25 , 0.2  , 0.285, 0.245, 0.25 , 0.245, 0.25 , 0.24 ,\n",
       "       0.205, 0.265, 0.255, 0.25 , 0.275, 0.26 , 0.23 , 0.22 , 0.215,\n",
       "       0.21 , 0.225, 0.23 , 0.31 , 0.27 , 0.245, 0.265, 0.26 , 0.24 ,\n",
       "       0.28 , 0.21 , 0.26 , 0.295, 0.22 , 0.25 , 0.265, 0.25 , 0.225,\n",
       "       0.23 , 0.24 , 0.205, 0.28 , 0.245, 0.24 , 0.24 , 0.255, 0.27 ,\n",
       "       0.2  , 0.25 , 0.24 , 0.275, 0.285, 0.22 , 0.245, 0.275, 0.21 ,\n",
       "       0.26 , 0.24 , 0.225, 0.22 , 0.27 , 0.23 , 0.28 , 0.23 , 0.255,\n",
       "       0.245, 0.255, 0.255, 0.24 , 0.235, 0.255, 0.24 , 0.27 , 0.255,\n",
       "       0.195, 0.235, 0.26 , 0.26 , 0.245, 0.21 , 0.305, 0.24 , 0.21 ,\n",
       "       0.27 , 0.265, 0.25 , 0.24 , 0.21 , 0.265, 0.225, 0.235, 0.27 ,\n",
       "       0.26 , 0.265, 0.27 , 0.235, 0.22 , 0.19 , 0.26 , 0.225, 0.225,\n",
       "       0.28 , 0.27 , 0.235, 0.285, 0.3  , 0.24 , 0.26 , 0.26 , 0.19 ,\n",
       "       0.2  , 0.265, 0.235, 0.235, 0.215, 0.215, 0.27 , 0.225, 0.28 ,\n",
       "       0.24 , 0.21 , 0.245, 0.26 , 0.26 , 0.28 , 0.31 , 0.23 , 0.2  ,\n",
       "       0.19 , 0.285, 0.245, 0.24 , 0.18 , 0.19 , 0.235, 0.28 , 0.26 ,\n",
       "       0.25 , 0.23 , 0.265, 0.235, 0.285, 0.225, 0.26 , 0.29 , 0.205,\n",
       "       0.205, 0.255, 0.215, 0.26 , 0.265, 0.21 , 0.295, 0.285, 0.26 ,\n",
       "       0.27 , 0.24 , 0.255, 0.245, 0.23 , 0.25 , 0.245, 0.29 , 0.25 ,\n",
       "       0.29 , 0.195, 0.28 , 0.235, 0.23 , 0.215, 0.235, 0.235, 0.245,\n",
       "       0.24 , 0.24 , 0.235, 0.26 , 0.215, 0.2  , 0.265, 0.26 , 0.21 ,\n",
       "       0.18 , 0.21 , 0.23 , 0.21 , 0.22 , 0.215, 0.245, 0.29 , 0.28 ,\n",
       "       0.255, 0.255, 0.235, 0.255, 0.335, 0.27 , 0.255, 0.285, 0.28 ,\n",
       "       0.245])"
      ]
     },
     "execution_count": 35,
     "metadata": {},
     "output_type": "execute_result"
    }
   ],
   "source": [
    "boot_jasmine_proportions = []\n",
    "for i in np.arange(1000):\n",
    "    resample = survey.sample(200, replace=True)\n",
    "    resample_proportion = resample[resample.get('tea') == 'jasmine'].shape[0] / 200\n",
    "    boot_jasmine_proportions.append(resample_proportion)\n",
    "\n",
    "boot_jasmine_proportions = np.array(boot_jasmine_proportions)\n",
    "boot_jasmine_proportions"
   ]
  },
  {
   "cell_type": "code",
   "execution_count": 36,
   "metadata": {},
   "outputs": [
    {
     "data": {
      "text/plain": [
       "1000"
      ]
     },
     "execution_count": 36,
     "metadata": {},
     "output_type": "execute_result"
    }
   ],
   "source": [
    "x = len(boot_jasmine_proportions)\n",
    "x"
   ]
  },
  {
   "cell_type": "code",
   "execution_count": 37,
   "metadata": {
    "deletable": false,
    "editable": false
   },
   "outputs": [
    {
     "data": {
      "text/html": [
       "<p><strong><pre style='display: inline;'>q3_2</pre></strong> passed!</p>"
      ],
      "text/plain": [
       "q3_2 results: All test cases passed!"
      ]
     },
     "execution_count": 37,
     "metadata": {},
     "output_type": "execute_result"
    }
   ],
   "source": [
    "grader.check(\"q3_2\")"
   ]
  },
  {
   "cell_type": "markdown",
   "metadata": {},
   "source": [
    "**Question 3.3.** Using the array `boot_jasmine_proportions`, compute an approximate **95%** confidence interval for the true proportion of residents who prefer `'jasmine'` tea.  Compute the lower and upper ends of the interval, named `jasmine_lower_bound` and `jasmine_upper_bound`, respectively."
   ]
  },
  {
   "cell_type": "code",
   "execution_count": 38,
   "metadata": {},
   "outputs": [
    {
     "name": "stdout",
     "output_type": "stream",
     "text": [
      "Bootstrapped 95% confidence interval for the true proportion of residents who prefer jasmine tea in the population:\n",
      "[0.190000, 0.305000]\n"
     ]
    }
   ],
   "source": [
    "jasmine_lower_bound = np.percentile(boot_jasmine_proportions, 2.5)\n",
    "jasmine_upper_bound = np.percentile(boot_jasmine_proportions, 97.5)\n",
    "\n",
    "# Print the confidence interval:\n",
    "print(\"Bootstrapped 95% confidence interval for the true proportion of residents who prefer jasmine tea in the population:\\n[{:f}, {:f}]\".format(jasmine_lower_bound, jasmine_upper_bound))"
   ]
  },
  {
   "cell_type": "code",
   "execution_count": 39,
   "metadata": {
    "deletable": false,
    "editable": false
   },
   "outputs": [
    {
     "data": {
      "text/html": [
       "<p><strong><pre style='display: inline;'>q3_3</pre></strong> passed!</p>"
      ],
      "text/plain": [
       "q3_3 results: All test cases passed!"
      ]
     },
     "execution_count": 39,
     "metadata": {},
     "output_type": "execute_result"
    }
   ],
   "source": [
    "grader.check(\"q3_3\")"
   ]
  },
  {
   "cell_type": "markdown",
   "metadata": {},
   "source": [
    "**Question 3.4.**\n",
    "Is it true that 95% of the population lies in the range `jasmine_lower_bound` to `jasmine_upper_bound`? Assign the variable `q3_4` to either `True` or `False`. "
   ]
  },
  {
   "cell_type": "code",
   "execution_count": 40,
   "metadata": {},
   "outputs": [],
   "source": [
    "q3_4 = False"
   ]
  },
  {
   "cell_type": "code",
   "execution_count": 41,
   "metadata": {
    "deletable": false,
    "editable": false
   },
   "outputs": [
    {
     "data": {
      "text/html": [
       "<p><strong><pre style='display: inline;'>q3_4</pre></strong> passed!</p>"
      ],
      "text/plain": [
       "q3_4 results: All test cases passed!"
      ]
     },
     "execution_count": 41,
     "metadata": {},
     "output_type": "execute_result"
    }
   ],
   "source": [
    "grader.check(\"q3_4\")"
   ]
  },
  {
   "cell_type": "markdown",
   "metadata": {},
   "source": [
    "**Question 3.5.**\n",
    "Is it true that the proportion of La Jolla residents who prefer `'jasmine'` tea over the other teas is a random quantity with approximately a 95% chance of falling between `jasmine_lower_bound` and `jasmine_upper_bound`? Assign the variable `q3_5` to either `True` or `False`."
   ]
  },
  {
   "cell_type": "code",
   "execution_count": 42,
   "metadata": {},
   "outputs": [],
   "source": [
    "q3_5 = True"
   ]
  },
  {
   "cell_type": "code",
   "execution_count": 43,
   "metadata": {
    "deletable": false,
    "editable": false
   },
   "outputs": [
    {
     "data": {
      "text/html": [
       "<p><strong><pre style='display: inline;'>q3_5</pre></strong> passed!</p>"
      ],
      "text/plain": [
       "q3_5 results: All test cases passed!"
      ]
     },
     "execution_count": 43,
     "metadata": {},
     "output_type": "execute_result"
    }
   ],
   "source": [
    "grader.check(\"q3_5\")"
   ]
  },
  {
   "cell_type": "markdown",
   "metadata": {},
   "source": [
    "**Question 3.6.**\n",
    "Suppose we were somehow able to produce 2,000 new samples, each one a uniform random sample of 200 La Jolla residents taken directly from the population. For each of those 2,000 new samples, we create a 95% confidence interval for the proportion of residents who prefer `'jasmine'` tea. Roughly how many of those 2,000 intervals should we expect to actually contain the true proportion of the population? Assign your answer to the variable `how_many` below. It should be of type `int`, representing the *number* of intervals, not the proportion or percentage."
   ]
  },
  {
   "cell_type": "code",
   "execution_count": 44,
   "metadata": {},
   "outputs": [
    {
     "data": {
      "text/plain": [
       "1900"
      ]
     },
     "execution_count": 44,
     "metadata": {},
     "output_type": "execute_result"
    }
   ],
   "source": [
    "how_many = int(0.95 * 2000)\n",
    "how_many"
   ]
  },
  {
   "cell_type": "code",
   "execution_count": 45,
   "metadata": {
    "deletable": false,
    "editable": false
   },
   "outputs": [
    {
     "data": {
      "text/html": [
       "<p><strong><pre style='display: inline;'>q3_6</pre></strong> passed!</p>"
      ],
      "text/plain": [
       "q3_6 results: All test cases passed!"
      ]
     },
     "execution_count": 45,
     "metadata": {},
     "output_type": "execute_result"
    }
   ],
   "source": [
    "grader.check(\"q3_6\")"
   ]
  },
  {
   "cell_type": "markdown",
   "metadata": {},
   "source": [
    "**Question 3.7.** We also created 90%, 96%, and 99% confidence intervals from one sample (shown below), but forgot to label which confidence intervals were which! Match the interval to the percent of confidence the interval represents and assign your choices (either 1, 2, or 3) to variables `ci_90`, `ci_96`, and `ci_99`, corresponding to the 90%, 96%, and 99% confidence intervals respectively.\n",
    "\n",
    "***Hint:*** Drawing the confidence intervals out on paper might help you visualize them better.\n"
   ]
  },
  {
   "cell_type": "markdown",
   "metadata": {},
   "source": [
    "1. $[0.185, 0.31]$\n",
    "\n",
    "2. $[0.195, 0.3]$\n",
    "\n",
    "3. $[0.175,  0.325]$\n",
    "\n",
    "\n"
   ]
  },
  {
   "cell_type": "code",
   "execution_count": 46,
   "metadata": {},
   "outputs": [
    {
     "data": {
      "text/plain": [
       "(2, 1, 3)"
      ]
     },
     "execution_count": 46,
     "metadata": {},
     "output_type": "execute_result"
    }
   ],
   "source": [
    "ci_90 = 2\n",
    "ci_96 = 1\n",
    "ci_99 = 3\n",
    "ci_90, ci_96, ci_99"
   ]
  },
  {
   "cell_type": "code",
   "execution_count": 47,
   "metadata": {
    "deletable": false,
    "editable": false
   },
   "outputs": [
    {
     "data": {
      "text/html": [
       "<p><strong><pre style='display: inline;'>q3_7</pre></strong> passed!</p>"
      ],
      "text/plain": [
       "q3_7 results: All test cases passed!"
      ]
     },
     "execution_count": 47,
     "metadata": {},
     "output_type": "execute_result"
    }
   ],
   "source": [
    "grader.check(\"q3_7\")"
   ]
  },
  {
   "cell_type": "markdown",
   "metadata": {},
   "source": [
    "**Question 3.8.** Based on the results in `survey`, it seems that `'jasmine'` tea is more popular than `'black'` tea among residents. We would like to construct a range of likely values – that is, a confidence interval – for the difference in popularity, which we define as:\n",
    "\n",
    "$$\\text{(Proportion of residents who prefer jasmine tea)} - \\text{(Proportion of residents who prefer black tea)}$$\n",
    "\n",
    "Create a function, `differences_in_resamples`, that creates **1000 bootstrapped resamples of the original survey data** in the `survey` DataFrame, computes the difference in proportions for each resample, and returns an array of these differences. Store your bootstrapped estimates in an array called `boot_differences` and plot a histogram of these estimates.\n",
    "\n",
    "***Hints:*** \n",
    "- Use your code from Question 3.2 as a starting point.\n",
    "- To plot your histogram, you'll first need to create a DataFrame with one column, whose entries are the values in `boot_differences`. "
   ]
  },
  {
   "cell_type": "code",
   "execution_count": 48,
   "metadata": {
    "for_assignment_type": "student",
    "manual_problem_id": "election_2"
   },
   "outputs": [
    {
     "data": {
      "image/png": "[encoded data removed]",
      "text/plain": [
       "<Figure size 432x288 with 1 Axes>"
      ]
     },
     "metadata": {},
     "output_type": "display_data"
    }
   ],
   "source": [
    "def differences_in_resamples(survey):\n",
    "    boot_differences = []\n",
    "    for i in range(1000):\n",
    "        resample = survey.sample(survey.shape[0], replace=True)\n",
    "        jasmine_proportion = (resample.get('tea') == 'jasmine').mean()\n",
    "        black_proportion = (resample.get('tea') == 'black').mean()\n",
    "        difference = jasmine_proportion - black_proportion\n",
    "        boot_differences.append(difference)\n",
    "    return boot_differences\n",
    "\n",
    "boot_differences = differences_in_resamples(survey)\n",
    "boot_differences = np.array(boot_differences)\n",
    "boot_differences_df = bpd.DataFrame().assign(Differences=boot_differences).plot(kind='hist', bins=20, ec='white', title = \"Differences in Tea Preferences\");\n",
    "\n",
    "\n",
    "# Plot a histogram of boot_differences."
   ]
  },
  {
   "cell_type": "code",
   "execution_count": 49,
   "metadata": {
    "deletable": false,
    "editable": false
   },
   "outputs": [
    {
     "data": {
      "text/html": [
       "<p><strong><pre style='display: inline;'>q3_8</pre></strong> passed!</p>"
      ],
      "text/plain": [
       "q3_8 results: All test cases passed!"
      ]
     },
     "execution_count": 49,
     "metadata": {},
     "output_type": "execute_result"
    }
   ],
   "source": [
    "grader.check(\"q3_8\")"
   ]
  },
  {
   "cell_type": "markdown",
   "metadata": {},
   "source": [
    "**Question 3.9.** Compute an approximate 95% confidence interval for the difference in proportions. Assign the lower and upper bounds of the interval to `diff_lower_bound` and `diff_upper_bound`, respectively."
   ]
  },
  {
   "cell_type": "code",
   "execution_count": 50,
   "metadata": {},
   "outputs": [
    {
     "name": "stdout",
     "output_type": "stream",
     "text": [
      "Bootstrapped 95% confidence interval for the difference in popularity between jasmine tea and black tea:\n",
      "[-0.060125, 0.130000]\n"
     ]
    }
   ],
   "source": [
    "diff_lower_bound = np.percentile(boot_differences, 2.5)\n",
    "diff_upper_bound = np.percentile(boot_differences, 97.5)\n",
    "\n",
    "# Print the confidence interval:\n",
    "print(\"Bootstrapped 95% confidence interval for the difference in popularity between jasmine tea and black tea:\\n[{:f}, {:f}]\".format(diff_lower_bound, diff_upper_bound))"
   ]
  },
  {
   "cell_type": "code",
   "execution_count": 51,
   "metadata": {
    "deletable": false,
    "editable": false
   },
   "outputs": [
    {
     "data": {
      "text/html": [
       "<p><strong><pre style='display: inline;'>q3_9</pre></strong> passed!</p>"
      ],
      "text/plain": [
       "q3_9 results: All test cases passed!"
      ]
     },
     "execution_count": 51,
     "metadata": {},
     "output_type": "execute_result"
    }
   ],
   "source": [
    "grader.check(\"q3_9\")"
   ]
  },
  {
   "cell_type": "markdown",
   "metadata": {},
   "source": [
    "**Question 3.10.** In this question, you computed two 95% confidence intervals:\n",
    "- In Question 3.3, you found a 95% confidence interval for the proportion of residents who prefer `'jasmine'` tea among the six tea options. Let's call this the \"jasmine CI.\"\n",
    "- In Question 3.9, you found a 95% confidence interval for the difference between the proportion of residents who prefer `'jasmine'` tea and the proportion of residents who prefer `'black'` tea. Let's call this the \"difference CI.\" \n",
    "\n",
    "Choose how to best fill in the blanks to describe the widths of these two confidence intervals. Set `q3_10` to either 1, 2, 3, or 4.\n",
    "\n",
    ">The jasmine CI is ________________________ than the difference CI because we have a ________________________ for a single unknown parameter than the difference between two unknown parameters.\n",
    "\n",
    "1. wider; more accurate guess\n",
    "1. narrower; more accurate guess\n",
    "1. wider; less accurate guess\n",
    "1. narrower; less accurate guess"
   ]
  },
  {
   "cell_type": "code",
   "execution_count": 52,
   "metadata": {},
   "outputs": [],
   "source": [
    "q3_10 = 2"
   ]
  },
  {
   "cell_type": "code",
   "execution_count": 53,
   "metadata": {
    "deletable": false,
    "editable": false
   },
   "outputs": [
    {
     "data": {
      "text/html": [
       "<p><strong><pre style='display: inline;'>q3_10</pre></strong> passed!</p>"
      ],
      "text/plain": [
       "q3_10 results: All test cases passed!"
      ]
     },
     "execution_count": 53,
     "metadata": {},
     "output_type": "execute_result"
    }
   ],
   "source": [
    "grader.check(\"q3_10\")"
   ]
  },
  {
   "cell_type": "markdown",
   "metadata": {},
   "source": [
    "## 4. Need a Lyft? 🚗\n",
    "Sofia is planning on traveling to Boston this summer. Since she won't have a car there, she's planning on using Uber or Lyft, two popular ride-sharing apps. Let's compare the cost of these ride-sharing apps to help Sofia save some money!\n",
    "\n",
    "Our [dataset](https://www.kaggle.com/datasets/ravi72munde/uber-lyft-cab-prices/data) contains a **sample** of all Uber and Lyft rides in Boston. We have information on the `'app'` (Lyft or Uber), the `'mode'` (level of service), the `'destination'` and `'source'` neighborhoods, the `'price'` in dollars, and the `'distance'` in miles. Run the cell below to load this data into the DataFrame `rideshare`."
   ]
  },
  {
   "cell_type": "code",
   "execution_count": 54,
   "metadata": {},
   "outputs": [
    {
     "data": {
      "text/html": [
       "<div>\n",
       "<style scoped>\n",
       "    .dataframe tbody tr th:only-of-type {\n",
       "        vertical-align: middle;\n",
       "    }\n",
       "\n",
       "    .dataframe tbody tr th {\n",
       "        vertical-align: top;\n",
       "    }\n",
       "\n",
       "    .dataframe thead th {\n",
       "        text-align: right;\n",
       "    }\n",
       "</style>\n",
       "<table border=\"1\" class=\"dataframe\">\n",
       "  <thead>\n",
       "    <tr style=\"text-align: right;\">\n",
       "      <th></th>\n",
       "      <th>app</th>\n",
       "      <th>mode</th>\n",
       "      <th>destination</th>\n",
       "      <th>source</th>\n",
       "      <th>price</th>\n",
       "      <th>distance</th>\n",
       "    </tr>\n",
       "  </thead>\n",
       "  <tbody>\n",
       "    <tr>\n",
       "      <th>0</th>\n",
       "      <td>Uber</td>\n",
       "      <td>Black SUV</td>\n",
       "      <td>Beacon Hill</td>\n",
       "      <td>Northeastern University</td>\n",
       "      <td>31.5</td>\n",
       "      <td>2.61</td>\n",
       "    </tr>\n",
       "    <tr>\n",
       "      <th>1</th>\n",
       "      <td>Uber</td>\n",
       "      <td>Black</td>\n",
       "      <td>North Station</td>\n",
       "      <td>Haymarket Square</td>\n",
       "      <td>15.0</td>\n",
       "      <td>0.49</td>\n",
       "    </tr>\n",
       "    <tr>\n",
       "      <th>2</th>\n",
       "      <td>Uber</td>\n",
       "      <td>Black</td>\n",
       "      <td>Northeastern University</td>\n",
       "      <td>Back Bay</td>\n",
       "      <td>16.0</td>\n",
       "      <td>1.22</td>\n",
       "    </tr>\n",
       "    <tr>\n",
       "      <th>3</th>\n",
       "      <td>Lyft</td>\n",
       "      <td>Lux Black XL</td>\n",
       "      <td>Boston University</td>\n",
       "      <td>Beacon Hill</td>\n",
       "      <td>32.5</td>\n",
       "      <td>2.26</td>\n",
       "    </tr>\n",
       "    <tr>\n",
       "      <th>4</th>\n",
       "      <td>Uber</td>\n",
       "      <td>UberXL</td>\n",
       "      <td>Theatre District</td>\n",
       "      <td>Northeastern University</td>\n",
       "      <td>14.0</td>\n",
       "      <td>1.91</td>\n",
       "    </tr>\n",
       "    <tr>\n",
       "      <th>...</th>\n",
       "      <td>...</td>\n",
       "      <td>...</td>\n",
       "      <td>...</td>\n",
       "      <td>...</td>\n",
       "      <td>...</td>\n",
       "      <td>...</td>\n",
       "    </tr>\n",
       "    <tr>\n",
       "      <th>70509</th>\n",
       "      <td>Uber</td>\n",
       "      <td>Black</td>\n",
       "      <td>Financial District</td>\n",
       "      <td>Boston University</td>\n",
       "      <td>33.0</td>\n",
       "      <td>4.72</td>\n",
       "    </tr>\n",
       "    <tr>\n",
       "      <th>70510</th>\n",
       "      <td>Lyft</td>\n",
       "      <td>Shared</td>\n",
       "      <td>South Station</td>\n",
       "      <td>Theatre District</td>\n",
       "      <td>3.5</td>\n",
       "      <td>0.59</td>\n",
       "    </tr>\n",
       "    <tr>\n",
       "      <th>70511</th>\n",
       "      <td>Lyft</td>\n",
       "      <td>Lux Black</td>\n",
       "      <td>Northeastern University</td>\n",
       "      <td>West End</td>\n",
       "      <td>30.0</td>\n",
       "      <td>3.11</td>\n",
       "    </tr>\n",
       "    <tr>\n",
       "      <th>70512</th>\n",
       "      <td>Uber</td>\n",
       "      <td>Black</td>\n",
       "      <td>North End</td>\n",
       "      <td>Financial District</td>\n",
       "      <td>16.0</td>\n",
       "      <td>1.21</td>\n",
       "    </tr>\n",
       "    <tr>\n",
       "      <th>70513</th>\n",
       "      <td>Lyft</td>\n",
       "      <td>Lux Black</td>\n",
       "      <td>North Station</td>\n",
       "      <td>South Station</td>\n",
       "      <td>19.5</td>\n",
       "      <td>1.69</td>\n",
       "    </tr>\n",
       "  </tbody>\n",
       "</table>\n",
       "<p>70514 rows × 6 columns</p>\n",
       "</div>"
      ],
      "text/plain": [
       "        app          mode              destination                   source  \\\n",
       "0      Uber     Black SUV              Beacon Hill  Northeastern University   \n",
       "1      Uber         Black            North Station         Haymarket Square   \n",
       "2      Uber         Black  Northeastern University                 Back Bay   \n",
       "3      Lyft  Lux Black XL        Boston University              Beacon Hill   \n",
       "4      Uber        UberXL         Theatre District  Northeastern University   \n",
       "...     ...           ...                      ...                      ...   \n",
       "70509  Uber         Black       Financial District        Boston University   \n",
       "70510  Lyft        Shared            South Station         Theatre District   \n",
       "70511  Lyft     Lux Black  Northeastern University                 West End   \n",
       "70512  Uber         Black                North End       Financial District   \n",
       "70513  Lyft     Lux Black            North Station            South Station   \n",
       "\n",
       "       price  distance  \n",
       "0       31.5      2.61  \n",
       "1       15.0      0.49  \n",
       "2       16.0      1.22  \n",
       "3       32.5      2.26  \n",
       "4       14.0      1.91  \n",
       "...      ...       ...  \n",
       "70509   33.0      4.72  \n",
       "70510    3.5      0.59  \n",
       "70511   30.0      3.11  \n",
       "70512   16.0      1.21  \n",
       "70513   19.5      1.69  \n",
       "\n",
       "[70514 rows x 6 columns]"
      ]
     },
     "execution_count": 54,
     "metadata": {},
     "output_type": "execute_result"
    }
   ],
   "source": [
    "rideshare = bpd.read_csv('data/rideshare.csv')\n",
    "rideshare"
   ]
  },
  {
   "cell_type": "markdown",
   "metadata": {},
   "source": [
    "**Question 4.1.** Let's start by determining the mean price for each of the two ridesharing apps. Create a DataFrame called `uber_lyft_means`, indexed by `'app'`, with one column called `'price'` that contains the mean price for each ridesharing app. Sort `uber_lyft_means` in ascending order of `'price'`.\n",
    "\n",
    "***Hint:*** This takes just one line of code."
   ]
  },
  {
   "cell_type": "code",
   "execution_count": 55,
   "metadata": {
    "scrolled": true
   },
   "outputs": [
    {
     "data": {
      "text/html": [
       "<div>\n",
       "<style scoped>\n",
       "    .dataframe tbody tr th:only-of-type {\n",
       "        vertical-align: middle;\n",
       "    }\n",
       "\n",
       "    .dataframe tbody tr th {\n",
       "        vertical-align: top;\n",
       "    }\n",
       "\n",
       "    .dataframe thead th {\n",
       "        text-align: right;\n",
       "    }\n",
       "</style>\n",
       "<table border=\"1\" class=\"dataframe\">\n",
       "  <thead>\n",
       "    <tr style=\"text-align: right;\">\n",
       "      <th></th>\n",
       "      <th>price</th>\n",
       "    </tr>\n",
       "    <tr>\n",
       "      <th>app</th>\n",
       "      <th></th>\n",
       "    </tr>\n",
       "  </thead>\n",
       "  <tbody>\n",
       "    <tr>\n",
       "      <th>Uber</th>\n",
       "      <td>15.817583</td>\n",
       "    </tr>\n",
       "    <tr>\n",
       "      <th>Lyft</th>\n",
       "      <td>17.415107</td>\n",
       "    </tr>\n",
       "  </tbody>\n",
       "</table>\n",
       "</div>"
      ],
      "text/plain": [
       "          price\n",
       "app            \n",
       "Uber  15.817583\n",
       "Lyft  17.415107"
      ]
     },
     "execution_count": 55,
     "metadata": {},
     "output_type": "execute_result"
    }
   ],
   "source": [
    "uber_lyft_means = rideshare.groupby('app').mean().sort_values(by='price', ascending=True).drop(columns='distance')\n",
    "uber_lyft_means"
   ]
  },
  {
   "cell_type": "code",
   "execution_count": 56,
   "metadata": {
    "deletable": false,
    "editable": false
   },
   "outputs": [
    {
     "data": {
      "text/html": [
       "<p><strong><pre style='display: inline;'>q4_1</pre></strong> passed!</p>"
      ],
      "text/plain": [
       "q4_1 results: All test cases passed!"
      ]
     },
     "execution_count": 56,
     "metadata": {},
     "output_type": "execute_result"
    }
   ],
   "source": [
    "grader.check(\"q4_1\")"
   ]
  },
  {
   "cell_type": "markdown",
   "metadata": {},
   "source": [
    "**Question 4.2.** Based on the data we have, one rideshare app appears to be cheaper than the other. But the data we have access to is only a sample of all rides, and thus the mean prices we computed above are only sample statistics, not  population parameters. Let's now extend each of our estimates to create a confidence interval for the mean price of **all** rides on each app. We'll start with Uber.\n",
    "\n",
    "Produce 1,000 bootstrapped estimates for the mean price of **all** Uber rides. Store the estimates in the `uber_means` array. Then, use the `uber_means` array to calculate an approximate **99% confidence interval** for the true mean price of all Uber rides. Assign the endpoints of your interval to `lower_bound` and `upper_bound`.\n",
    "\n",
    "***Hint:*** Make sure to query **before** resampling!"
   ]
  },
  {
   "cell_type": "code",
   "execution_count": 57,
   "metadata": {},
   "outputs": [
    {
     "data": {
      "text/plain": [
       "'A 99% confidence interval for the average Uber ride price is [15.71005931855501, 15.940773399014779].'"
      ]
     },
     "execution_count": 57,
     "metadata": {},
     "output_type": "execute_result"
    },
    {
     "data": {
      "image/png": "[encoded data removed]",
      "text/plain": [
       "<Figure size 720x360 with 1 Axes>"
      ]
     },
     "metadata": {},
     "output_type": "display_data"
    }
   ],
   "source": [
    "def bootstrap_app_means(data, sample_size):\n",
    "    means = []\n",
    "    for i in range(sample_size):\n",
    "        resample = np.random.choice(data, data.shape[0], replace=True)\n",
    "        resample_mean = resample.mean()\n",
    "        means.append(resample_mean)\n",
    "    return means\n",
    "\n",
    "uber_means = bootstrap_app_means(rideshare[rideshare.get('app') == 'Uber'].get('price'), 1000)\n",
    "\n",
    "\n",
    "lower_bound = np.percentile(uber_means, 0.5)\n",
    "upper_bound = np.percentile(uber_means, 99.5)\n",
    "\n",
    "# Display the estimates in a histogram.\n",
    "bpd.DataFrame().assign(Estimated_Mean_Price=uber_means).plot(kind='hist', density=True, ec='w', figsize=(10, 5), title='Uber');\n",
    "plt.plot([lower_bound, upper_bound], [0, 0], color='gold', linewidth=10, label='99% confidence interval');\n",
    "\n",
    "# Don't change what's below (though you will need to copy and change it in 4.3).\n",
    "app_name = 'Uber'\n",
    "f'A 99% confidence interval for the average {app_name} ride price is [{lower_bound}, {upper_bound}].'"
   ]
  },
  {
   "cell_type": "code",
   "execution_count": 58,
   "metadata": {
    "deletable": false,
    "editable": false
   },
   "outputs": [
    {
     "data": {
      "text/html": [
       "<p><strong><pre style='display: inline;'>q4_2</pre></strong> passed!</p>"
      ],
      "text/plain": [
       "q4_2 results: All test cases passed!"
      ]
     },
     "execution_count": 58,
     "metadata": {},
     "output_type": "execute_result"
    }
   ],
   "source": [
    "grader.check(\"q4_2\")"
   ]
  },
  {
   "cell_type": "markdown",
   "metadata": {},
   "source": [
    "**Question 4.3.** Now we want to calculate the corresponding confidence interval for Lyft. Instead of copying our code from Question 4.2 and changing it to work for Lyft, let's write a more general function that works for _both_ Uber and Lyft. \n",
    "\n",
    "Create a function called `app_and_hist`, which takes in the name of a ridesharing app as a string, and:\n",
    "1. **Plots the histogram** of 1,000 bootstrapped estimates for that app's mean price.\n",
    "2. **Returns** a string describing the approximate 99% confidence interval for that app's mean price, formatted in the same way as the string displayed for Uber in Question 4.2. \n",
    "\n",
    "***Notes:*** \n",
    "- Make sure your function both plots a histogram and **returns** a string. For example, `mode_and_hist('Uber')` should return a string that starts with `'A 99% confidence interval for the average Uber ride price is'`. It's ok if you see the return string displayed before the plot.\n",
    "- The string displayed at the end of Question 4.2 was created using a feature of Python called f-strings. You'll need to copy and change that f-string expression. Read [this article](https://realpython.com/python-f-strings/#simple-syntax) for more details about f-strings if you're interested."
   ]
  },
  {
   "cell_type": "code",
   "execution_count": 59,
   "metadata": {
    "scrolled": true
   },
   "outputs": [
    {
     "name": "stdout",
     "output_type": "stream",
     "text": [
      "A 99% confidence interval for the average Uber ride price is [15.701553845101259, 15.93976286261631].\n",
      "A 99% confidence interval for the average Lyft ride price is [17.274574917584033, 17.554070977806557].\n"
     ]
    },
    {
     "data": {
      "image/png": "[encoded data removed]",
      "text/plain": [
       "<Figure size 720x360 with 1 Axes>"
      ]
     },
     "metadata": {},
     "output_type": "display_data"
    },
    {
     "data": {
      "image/png": "[encoded data removed]",
      "text/plain": [
       "<Figure size 720x360 with 1 Axes>"
      ]
     },
     "metadata": {},
     "output_type": "display_data"
    }
   ],
   "source": [
    "sample_size = 1000\n",
    "def app_and_hist(app_name):\n",
    "    app_data = rideshare[rideshare.get('app') == app_name].get('price')\n",
    "    app_means = []\n",
    "    for i in range(sample_size):\n",
    "        resample = np.random.choice(app_data, app_data.shape[0], replace=True)\n",
    "        resample_mean = resample.mean()\n",
    "        app_means.append(resample_mean)\n",
    "    \n",
    "    lower_bound = np.percentile(app_means, 0.5)\n",
    "    upper_bound = np.percentile(app_means, 99.5)\n",
    "    bpd.DataFrame().assign(Estimated_Mean_Price=app_means).plot(kind='hist', density=True, ec='w', figsize=(10, 5), title=app_name);\n",
    "    plt.plot([lower_bound, upper_bound], [0, 0], color='gold', linewidth=10, label='99% confidence interval');\n",
    "    return f'A 99% confidence interval for the average {app_name} ride price is [{lower_bound}, {upper_bound}].'\n",
    "     \n",
    "    \n",
    "# Example calls to the function. Don't change the lines below.\n",
    "uber_string = app_and_hist('Uber')\n",
    "print(uber_string)\n",
    "lyft_string = app_and_hist('Lyft')\n",
    "print(lyft_string)"
   ]
  },
  {
   "cell_type": "code",
   "execution_count": 60,
   "metadata": {
    "deletable": false,
    "editable": false
   },
   "outputs": [
    {
     "data": {
      "text/html": [
       "<p><strong><pre style='display: inline;'>q4_3</pre></strong> passed!</p>"
      ],
      "text/plain": [
       "q4_3 results: All test cases passed!"
      ]
     },
     "execution_count": 60,
     "metadata": {},
     "output_type": "execute_result"
    }
   ],
   "source": [
    "grader.check(\"q4_3\")"
   ]
  },
  {
   "cell_type": "markdown",
   "metadata": {},
   "source": [
    "## Finish Line: Almost there, but make sure to follow the steps below to submit! 🏁\n",
    "\n",
    "**_Citations:_** Did you use any generative artificial intelligence tools to assist you on this assignment? If so, please state, for each tool you used, the name of the tool (ex. ChatGPT) and the problem(s) in this assignment where you used the tool for help."
   ]
  },
  {
   "cell_type": "markdown",
   "metadata": {},
   "source": [
    "<hr style=\"color:Maroon;background-color:Maroon;border:0 none; height: 3px;\">\n",
    "\n",
    "Please cite tools here.\n",
    "\n",
    "<hr style=\"color:Maroon;background-color:Maroon;border:0 none; height: 3px;\">"
   ]
  },
  {
   "cell_type": "markdown",
   "metadata": {},
   "source": [
    "To submit your assignment:\n",
    "\n",
    "1. Select `Kernel -> Restart & Run All` to ensure that you have executed all cells, including the test cells.\n",
    "2. Read through the notebook to make sure everything is fine and all tests passed.\n",
    "3. Run the cell below to run all tests, and make sure that they all pass.\n",
    "4. Download your notebook using `File -> Download as -> Notebook (.ipynb)`, then upload your notebook to Gradescope.\n",
    "5. Stick around while the Gradescope autograder grades your work. Make sure you see that all tests have passed on Gradescope.\n",
    "6. Check that you have a confirmation email from Gradescope and save it as proof of your submission. "
   ]
  },
  {
   "cell_type": "code",
   "execution_count": 61,
   "metadata": {},
   "outputs": [
    {
     "data": {
      "text/plain": [
       "q1_1 results: All test cases passed!\n",
       "\n",
       "q1_2 results: All test cases passed!\n",
       "\n",
       "q1_3 results: All test cases passed!\n",
       "\n",
       "q1_4 results: All test cases passed!\n",
       "\n",
       "q1_5 results: All test cases passed!\n",
       "\n",
       "q2_1 results: All test cases passed!\n",
       "\n",
       "q2_2 results: All test cases passed!\n",
       "\n",
       "q2_3 results: All test cases passed!\n",
       "\n",
       "q2_4 results: All test cases passed!\n",
       "\n",
       "q2_5 results: All test cases passed!\n",
       "\n",
       "q3_1 results: All test cases passed!\n",
       "\n",
       "q3_10 results: All test cases passed!\n",
       "\n",
       "q3_2 results: All test cases passed!\n",
       "\n",
       "q3_3 results: All test cases passed!\n",
       "\n",
       "q3_4 results: All test cases passed!\n",
       "\n",
       "q3_5 results: All test cases passed!\n",
       "\n",
       "q3_6 results: All test cases passed!\n",
       "\n",
       "q3_7 results: All test cases passed!\n",
       "\n",
       "q3_8 results: All test cases passed!\n",
       "\n",
       "q3_9 results: All test cases passed!\n",
       "\n",
       "q4_1 results: All test cases passed!\n",
       "\n",
       "q4_2 results: All test cases passed!\n",
       "\n",
       "q4_3 results: All test cases passed!"
      ]
     },
     "execution_count": 61,
     "metadata": {},
     "output_type": "execute_result"
    }
   ],
   "source": [
    "grader.check_all()"
   ]
  },
  {
   "cell_type": "code",
   "execution_count": null,
   "metadata": {},
   "outputs": [],
   "source": []
  }
 ],
 "metadata": {
  "kernelspec": {
   "display_name": "Python 3 (ipykernel)",
   "language": "python",
   "name": "python3"
  },
  "language_info": {
   "codemirror_mode": {
    "name": "ipython",
    "version": 3
   },
   "file_extension": ".py",
   "mimetype": "text/x-python",
   "name": "python",
   "nbconvert_exporter": "python",
   "pygments_lexer": "ipython3",
   "version": "3.9.5"
  }
 },
 "nbformat": 4,
 "nbformat_minor": 4
}
