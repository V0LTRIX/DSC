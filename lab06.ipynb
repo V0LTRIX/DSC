{
 "cells": [
  {
   "cell_type": "markdown",
   "metadata": {},
   "source": [
    "# Lab 6: Hypothesis Testing\n",
    "\n",
    "## Due Thursday, May 23rd at 11:59PM\n",
    "\n",
    "Welcome to Lab 6! In this assignment, we'll develop a further understanding of hypothesis testing, which you can learn more about in [CIT 11](https://inferentialthinking.com/chapters/11/Testing_Hypotheses.html). The relevant lectures are Lectures 19, 20, and 21.\n",
    "\n",
    "You should complete this entire lab so that all tests pass and submit it to Gradescope by 11:59PM on the due date."
   ]
  },
  {
   "cell_type": "code",
   "execution_count": 60,
   "metadata": {},
   "outputs": [],
   "source": [
    "import numpy as np\n",
    "import babypandas as bpd\n",
    "import math\n",
    "\n",
    "import matplotlib.pyplot as plt\n",
    "plt.style.use('ggplot')\n",
    "plt.rcParams['figure.figsize'] = (10, 5)\n",
    "\n",
    "import otter\n",
    "grader = otter.Notebook()"
   ]
  },
  {
   "cell_type": "markdown",
   "metadata": {},
   "source": [
    "## 1. Therapeutic Touch 👆"
   ]
  },
  {
   "cell_type": "markdown",
   "metadata": {},
   "source": [
    "Therapeutic Touch (TT) is an energy therapy that practitioners claim can promote health and relaxation. Practitioners place their hands near a patient and say they are able to detect and manipulate the patient's so-called Human Energy Field (HEF). \n",
    "TT was popular throughout the 20th century and was touted as a great way to bring balance to a person's health. You can [read more about TT here](https://www.mountsinai.org/health-library/treatment/therapeutic-touch).\n",
    "\n",
    "### Emily Rosa's Experiment\n",
    "\n",
    "In 1996, Emily Rosa was a 9 year old who had wide exposure to the world of TT due to her parents, who were both medical practitioners and skeptics of the idea of TT. For her 4th grade science fair project, Emily decided to test whether or not TT practitioners could truly interact with a person's HEF. \n",
    "\n",
    "Emily's experiment was clean, simple, and effective. Due to her parents' occupations in the medical field, she had easy access to TT practitioners. With each practitioner, she performed the following experiment several times over several days.\n",
    "\n",
    "1. First, she would separate herself from the practitioner with a board, so they couldn't see each other.\n",
    "1. Then she'd ask them to place both of their hands through an opening in the board. \n",
    "1. Emily would flip a fair coin to randomly determine whether to place her hands near the practitioner's left hand or right hand. \n",
    "1. Finally, Emily would ask the TT practitioner to specify whether they could detect Emily's Human Energy Field (HEF) near their left hand or their right hand. \n",
    "\n",
    "Overall, Emily performed 280 experiments, and the practitioner picked the correct hand 123 times.\n",
    "\n",
    "Emily's main goal here was to test whether or not the TT practitioners' guesses were random, like the flip of a coin. In most medical experiments, this is the norm. We want to test whether or not some treatment has an effect. This is *not* the same as testing whether the treatment actually works as intended. \n",
    "\n",
    "We will now begin to formulate Emily's experiment in terms of the hypothesis terminology we've learned recently."
   ]
  },
  {
   "cell_type": "markdown",
   "metadata": {
    "deletable": false,
    "editable": false
   },
   "source": [
    "<!-- BEGIN QUESTION -->\n",
    "\n",
    "**Question 1.1.** What are the null and alternative hypotheses for Emily's experiment? Write both of your answers in the cell below.\n",
    "\n",
    "<!--\n",
    "BEGIN QUESTION\n",
    "name: q1_1\n",
    "manual: true\n",
    "-->"
   ]
  },
  {
   "cell_type": "markdown",
   "metadata": {},
   "source": [
    "Null Hypothesis: The TT practitioners are guessing and have no ability to detect her HEF. It is a 50 50 chance. \n",
    "Alternative Hypothesis: The TT practitioners aren't guessing and have the ability to detect her HEF. It is over a 50% chance. "
   ]
  },
  {
   "cell_type": "markdown",
   "metadata": {},
   "source": [
    "<!-- END QUESTION -->\n",
    "\n",
    "\n",
    "\n",
    "**Question 1.2.** Remember that in 280 experiments, the practitioner guessed the correct hand 123 times. According to the null hypothesis, on average, what proportion of times do we expect the practitioner to guess the correct hand? Make sure your answer is between 0 and 1. "
   ]
  },
  {
   "cell_type": "code",
   "execution_count": 61,
   "metadata": {},
   "outputs": [
    {
     "data": {
      "text/plain": [
       "0.5"
      ]
     },
     "execution_count": 61,
     "metadata": {},
     "output_type": "execute_result"
    }
   ],
   "source": [
    "expected_correct = 0.5\n",
    "expected_correct"
   ]
  },
  {
   "cell_type": "code",
   "execution_count": 62,
   "metadata": {
    "deletable": false,
    "editable": false
   },
   "outputs": [
    {
     "data": {
      "text/html": [
       "<p><strong><pre style='display: inline;'>q1_2</pre></strong> passed!</p>"
      ],
      "text/plain": [
       "q1_2 results: All test cases passed!"
      ]
     },
     "execution_count": 62,
     "metadata": {},
     "output_type": "execute_result"
    }
   ],
   "source": [
    "grader.check(\"q1_2\")"
   ]
  },
  {
   "cell_type": "markdown",
   "metadata": {},
   "source": [
    "The goal now is to see if our deviation from this expected proportion of correct answers is due to something other than chance. \n",
    "\n",
    "**Question 1.3.** Which of the following is the best statistic for testing this model? Assign `best_stat` to 1, 2, or 3.\n",
    "\n",
    "1. The difference between the expected proportion of correct answers and the actual proportion of correct answers.\n",
    "2. The absolute difference between the expected proportion of correct answers and the actual proportion of correct answers.\n",
    "3. The sum of the expected proportion of correct answers and the actual proportion of  correct answers."
   ]
  },
  {
   "cell_type": "code",
   "execution_count": 63,
   "metadata": {},
   "outputs": [],
   "source": [
    "best_stat = 2"
   ]
  },
  {
   "cell_type": "code",
   "execution_count": 64,
   "metadata": {
    "deletable": false,
    "editable": false
   },
   "outputs": [
    {
     "data": {
      "text/html": [
       "<p><strong><pre style='display: inline;'>q1_3</pre></strong> passed!</p>"
      ],
      "text/plain": [
       "q1_3 results: All test cases passed!"
      ]
     },
     "execution_count": 64,
     "metadata": {},
     "output_type": "execute_result"
    }
   ],
   "source": [
    "grader.check(\"q1_3\")"
   ]
  },
  {
   "cell_type": "markdown",
   "metadata": {},
   "source": [
    "***Note:*** If you initially answered 1.3 incorrectly, take some time to review the [coin flipping example in Lecture 20](https://dsc10.com/resources/lectures/lec20/lec20.html#Example:-Is-our-coin-fair?) before proceeding."
   ]
  },
  {
   "cell_type": "markdown",
   "metadata": {},
   "source": [
    "**Question 1.4.** Complete the implementation of the function `calculate_test_stat`, which takes in an expected proportion and an actual proportion and returns the value of the test statistic you chose (as a proportion between 0 and 1). Assume that both inputs are proportions between 0 and 1."
   ]
  },
  {
   "cell_type": "code",
   "execution_count": 65,
   "metadata": {},
   "outputs": [
    {
     "data": {
      "text/plain": [
       "0.06071428571428572"
      ]
     },
     "execution_count": 65,
     "metadata": {},
     "output_type": "execute_result"
    }
   ],
   "source": [
    "def calculate_test_stat(expected_prop, actual_prop):\n",
    "    test_stat = abs(actual_prop - expected_prop)\n",
    "    return test_stat\n",
    "\n",
    "expected_prop = 0.5\n",
    "actual_prop = 123 / 280\n",
    "calculate_test_stat(expected_prop, actual_prop)"
   ]
  },
  {
   "cell_type": "code",
   "execution_count": 66,
   "metadata": {
    "deletable": false,
    "editable": false
   },
   "outputs": [
    {
     "data": {
      "text/html": [
       "<p><strong><pre style='display: inline;'>q1_4</pre></strong> passed!</p>"
      ],
      "text/plain": [
       "q1_4 results: All test cases passed!"
      ]
     },
     "execution_count": 66,
     "metadata": {},
     "output_type": "execute_result"
    }
   ],
   "source": [
    "grader.check(\"q1_4\")"
   ]
  },
  {
   "cell_type": "markdown",
   "metadata": {},
   "source": [
    "**Question 1.5.** Use your newly defined function to calculate the observed test statistic for Emily's experiment. "
   ]
  },
  {
   "cell_type": "code",
   "execution_count": 67,
   "metadata": {},
   "outputs": [
    {
     "data": {
      "text/plain": [
       "0.06071428571428572"
      ]
     },
     "execution_count": 67,
     "metadata": {},
     "output_type": "execute_result"
    }
   ],
   "source": [
    "observed_test_stat = calculate_test_stat(expected_prop, actual_prop)\n",
    "observed_test_stat"
   ]
  },
  {
   "cell_type": "code",
   "execution_count": 68,
   "metadata": {
    "deletable": false,
    "editable": false
   },
   "outputs": [
    {
     "data": {
      "text/html": [
       "<p><strong><pre style='display: inline;'>q1_5</pre></strong> passed!</p>"
      ],
      "text/plain": [
       "q1_5 results: All test cases passed!"
      ]
     },
     "execution_count": 68,
     "metadata": {},
     "output_type": "execute_result"
    }
   ],
   "source": [
    "grader.check(\"q1_5\")"
   ]
  },
  {
   "cell_type": "markdown",
   "metadata": {},
   "source": [
    "**Is this test statistic likely if the null hypothesis is true? Or is the deviation from the expected proportion due to something other than chance?**\n",
    "\n",
    "In order to answer this question, we need to see how our test statistic would come out if the null hypothesis were true, to see if our observed test statistic is similar. Therefore, we will simulate Emily's experiment assuming that the null hypothesis is true, and calculate the test statistic for each simulation. \n",
    "\n",
    "**Question 1.6.** To begin simulating, start by creating an array which has two items in it. The first item should be the proportion of times, assuming the null hypothesis is true, a TT practitioner detects Emily's HEF correctly. The second item should be the proportion of times, under the same assumption, that the TT practitioner makes an incorrect guess. Assign `model_proportions` to this array. \n",
    "\n",
    "After this, use the `np.random.multinomial` function to simulate Emily repeating her experiment 280 times (the same nuber of experiments she did in real life), and assign the proportion of correct guesses to `simulation_proportion`. Lastly, define `one_simulated_test_stat` to be the test statistic of this one simulation. \n",
    "\n",
    "***Hint:*** See Lecture 19 or [the documentation for `np.random.multinomial`](https://numpy.org/doc/stable/reference/random/generated/numpy.random.multinomial.html) for guidance."
   ]
  },
  {
   "cell_type": "code",
   "execution_count": 169,
   "metadata": {},
   "outputs": [
    {
     "data": {
      "text/plain": [
       "(array([0.5, 0.5]), 0.4928571428571429, 0.0071428571428571175)"
      ]
     },
     "execution_count": 169,
     "metadata": {},
     "output_type": "execute_result"
    }
   ],
   "source": [
    "model_proportions = np.array([0.5, 0.5])\n",
    "simulated_counts = np.random.multinomial(280, model_proportions)\n",
    "simulation_proportion = simulated_counts[0] / 280\n",
    "one_simulated_test_stat = calculate_test_stat(0.5, simulation_proportion)\n",
    "model_proportions, simulation_proportion, one_simulated_test_stat"
   ]
  },
  {
   "cell_type": "code",
   "execution_count": 170,
   "metadata": {
    "deletable": false,
    "editable": false
   },
   "outputs": [
    {
     "data": {
      "text/html": [
       "<p><strong><pre style='display: inline;'>q1_6</pre></strong> passed!</p>"
      ],
      "text/plain": [
       "q1_6 results: All test cases passed!"
      ]
     },
     "execution_count": 170,
     "metadata": {},
     "output_type": "execute_result"
    }
   ],
   "source": [
    "grader.check(\"q1_6\")"
   ]
  },
  {
   "cell_type": "markdown",
   "metadata": {},
   "source": [
    "**Question 1.7.** Let's now see what the distribution of test statistics is actually like under our null hypothesis. Assign `simulated_test_stats` to an array of 10,000 test statistics that you simulate, under the assumption that the null hypothesis is true.\n",
    "\n",
    "***Hint:*** You'll need to re-use most of the code you wrote in 1.6."
   ]
  },
  {
   "cell_type": "code",
   "execution_count": 71,
   "metadata": {
    "for_assignment_type": "student",
    "scrolled": true
   },
   "outputs": [],
   "source": [
    "num_repetitions = 10000\n",
    "simulated_test_stats = []\n",
    "\n",
    "for i in range(num_repetitions):\n",
    "    simulated_counts = np.random.multinomial(280, model_proportions)\n",
    "    simulation_proportion = simulated_counts[0] / 280\n",
    "    simulated_test_stat = calculate_test_stat(0.5, simulation_proportion)\n",
    "    simulated_test_stats.append(simulated_test_stat)\n",
    "\n",
    "simulated_test_stats = np.array(simulated_test_stats)"
   ]
  },
  {
   "cell_type": "code",
   "execution_count": 72,
   "metadata": {
    "deletable": false,
    "editable": false
   },
   "outputs": [
    {
     "data": {
      "text/html": [
       "<p><strong><pre style='display: inline;'>q1_7</pre></strong> passed!</p>"
      ],
      "text/plain": [
       "q1_7 results: All test cases passed!"
      ]
     },
     "execution_count": 72,
     "metadata": {},
     "output_type": "execute_result"
    }
   ],
   "source": [
    "grader.check(\"q1_7\")"
   ]
  },
  {
   "cell_type": "markdown",
   "metadata": {},
   "source": [
    "Let's view the distribution of the simulated test statistics under the null, to see how the observed test statistic compares to the simulated ones. "
   ]
  },
  {
   "cell_type": "code",
   "execution_count": 73,
   "metadata": {},
   "outputs": [
    {
     "data": {
      "image/png": "[encoded data removed]",
      "text/plain": [
       "<Figure size 720x360 with 1 Axes>"
      ]
     },
     "metadata": {},
     "output_type": "display_data"
    }
   ],
   "source": [
    "t = bpd.DataFrame().assign(Simulated_Test_Statistics=simulated_test_stats)\n",
    "t.plot(kind='hist', density=True, ec='w', bins=np.arange(0, 0.15, 0.005), figsize=(10, 5))\n",
    "plt.axvline(x=observed_test_stat, color='black', label='observed statistic', linewidth=4)\n",
    "plt.legend();"
   ]
  },
  {
   "cell_type": "markdown",
   "metadata": {},
   "source": [
    "We can make a visual argument as to whether or not we believe the observed test statistic is likely to occur under the null, or we can use the definition of p-values to help us make a more formal argument. \n",
    "\n",
    "**Question 1.8.** First, let's remember what a p-value is. Assign `p_def` to the integer corresponding to the correct definition of a p-value. \n",
    "\n",
    "1. The chance, under the null hypothesis, that the test statistic is equal to the value that was observed.\n",
    "2. The chance, under the null hypothesis, that the test statistic is equal to the value that was observed or is even further in the direction of the alternative.\n",
    "3. The chance, under the alternative hypothesis, that the test statistic is equal to the value that was observed or is even further in the direction of the null.\n",
    "4. The number of times, under the null hypothesis, that the test statistic is equal to the value that was observed or is even further in the direction of the alternative."
   ]
  },
  {
   "cell_type": "code",
   "execution_count": 74,
   "metadata": {},
   "outputs": [],
   "source": [
    "p_def = 2"
   ]
  },
  {
   "cell_type": "code",
   "execution_count": 75,
   "metadata": {
    "deletable": false,
    "editable": false
   },
   "outputs": [
    {
     "data": {
      "text/html": [
       "<p><strong><pre style='display: inline;'>q1_8</pre></strong> passed!</p>"
      ],
      "text/plain": [
       "q1_8 results: All test cases passed!"
      ]
     },
     "execution_count": 75,
     "metadata": {},
     "output_type": "execute_result"
    }
   ],
   "source": [
    "grader.check(\"q1_8\")"
   ]
  },
  {
   "cell_type": "markdown",
   "metadata": {},
   "source": [
    "**Question 1.9.** Using the definition above, calculate the p-value for Emily's experiment and assign it to `emily_p_val`. \n",
    "\n",
    "***Hint:*** Do large values of our test statistic make you lean towards the null or alternative? Refer to Lecture 21 or [CIT 11.1](https://inferentialthinking.com/chapters/11/1/Assessing_a_Model.html) for examples."
   ]
  },
  {
   "cell_type": "code",
   "execution_count": 76,
   "metadata": {},
   "outputs": [
    {
     "data": {
      "text/plain": [
       "0.0468"
      ]
     },
     "execution_count": 76,
     "metadata": {},
     "output_type": "execute_result"
    }
   ],
   "source": [
    "p_value = (simulated_test_stats >= observed_test_stat).mean()\n",
    "emily_p_val = p_value\n",
    "emily_p_val"
   ]
  },
  {
   "cell_type": "code",
   "execution_count": 77,
   "metadata": {
    "deletable": false,
    "editable": false
   },
   "outputs": [
    {
     "data": {
      "text/html": [
       "<p><strong><pre style='display: inline;'>q1_9</pre></strong> passed!</p>"
      ],
      "text/plain": [
       "q1_9 results: All test cases passed!"
      ]
     },
     "execution_count": 77,
     "metadata": {},
     "output_type": "execute_result"
    }
   ],
   "source": [
    "grader.check(\"q1_9\")"
   ]
  },
  {
   "cell_type": "markdown",
   "metadata": {},
   "source": [
    "Since we want to be very sure about the effectiveness of medical treatments, let's use a significance level of 0.01, the standard convention for being \"highly statistically significant.\" This means that if our p-value is less than or equal to 0.01, then we reject the null hypothesis in favor of the alternative. Otherwise, we fail to reject the null hypothesis. **Note that this does not mean we accept the null hypothesis as correct, but rather, that we don't have enough evidence to reject it.**\n",
    "\n",
    "Your p-value and this convention should help you make your own conclusions about Emily Rosa's experiment. \n",
    "\n",
    "Therapeutic Touch fell out of use after this experiment, which was eventually [accepted into a premier medical journal](https://pubmed.ncbi.nlm.nih.gov/9533499/). TT practitioners hit back and accused Emily and her family of tampering with the results, while some claimed that Emily's bad spiritual mood towards Therapeutic Touch made it difficult to read her HEF. Whatever it may be, Emily's experiment is a classic example about how anyone, with the right resources, can test anything they want!"
   ]
  },
  {
   "cell_type": "markdown",
   "metadata": {},
   "source": [
    "## 2. YouTube Advertisements ▶️"
   ]
  },
  {
   "cell_type": "markdown",
   "metadata": {},
   "source": [
    "YouTube, the world's largest video sharing platform, generates revenue from advertisements that appear before and during videos.\n",
    "\n",
    "Suppose that YouTube publicly released a statement revealing that 94% of their advertisements are skippable (meaning that, supposedly, only 6% of their advertisements cannot be skipped). \n",
    "\n",
    "King Triton, UCSD's trusty mascot, wanted to test if this claim was accurate. He clicked on several videos, and recorded whether or not the advertisements on each video were skippable. He watched videos until he reached 100 advertisements, and found that 16 of them were unskippable, or only 84% were skippable. King Triton is irritated and believes that YouTube's claim of 94% is too high. Let's investigate!"
   ]
  },
  {
   "cell_type": "markdown",
   "metadata": {
    "deletable": false,
    "editable": false
   },
   "source": [
    "<!-- BEGIN QUESTION -->\n",
    "\n",
    "**Question 2.1.** You decide to run a hypothesis test. What are the null and alternative hypotheses for your test? Write both answers in the cell below.\n",
    "\n",
    "<!--\n",
    "BEGIN QUESTION\n",
    "name: q2_1\n",
    "manual: true\n",
    "-->"
   ]
  },
  {
   "cell_type": "markdown",
   "metadata": {},
   "source": [
    "Null Hypothesis: The proportion of skippable advertisements is 94%. \\n\n",
    "Alternative Hypothesis: The proportion of skippable advertisements is less than 94% which is too high."
   ]
  },
  {
   "cell_type": "markdown",
   "metadata": {},
   "source": [
    "<!-- END QUESTION -->\n",
    "\n",
    "\n",
    "\n",
    "**Question 2.2.** Assign `null_probabilities` to a two-item *array* such that the **first** element is the chance that a YouTube advertisement is **skippable**, and the **second** element is the chance that a YouTube advertisement is **unskippable**, under the assumptions of the **null hypothesis**."
   ]
  },
  {
   "cell_type": "code",
   "execution_count": 89,
   "metadata": {},
   "outputs": [
    {
     "data": {
      "text/plain": [
       "array([0.94, 0.06])"
      ]
     },
     "execution_count": 89,
     "metadata": {},
     "output_type": "execute_result"
    }
   ],
   "source": [
    "null_probabilities = np.array([0.94, 0.06])\n",
    "null_probabilities"
   ]
  },
  {
   "cell_type": "code",
   "execution_count": 90,
   "metadata": {
    "deletable": false,
    "editable": false
   },
   "outputs": [
    {
     "data": {
      "text/html": [
       "<p><strong><pre style='display: inline;'>q2_2</pre></strong> passed!</p>"
      ],
      "text/plain": [
       "q2_2 results: All test cases passed!"
      ]
     },
     "execution_count": 90,
     "metadata": {},
     "output_type": "execute_result"
    }
   ],
   "source": [
    "grader.check(\"q2_2\")"
   ]
  },
  {
   "cell_type": "markdown",
   "metadata": {},
   "source": [
    "**Question 2.3.** Using the array you defined above, simulate the act of watching 100 YouTube advertisements, 10,000 times. Create an array called `unskippable_counts` containing the **number of unskippable advertisements** in each simulation."
   ]
  },
  {
   "cell_type": "code",
   "execution_count": 174,
   "metadata": {},
   "outputs": [
    {
     "data": {
      "text/plain": [
       "array([1, 8, 8, ..., 8, 7, 7])"
      ]
     },
     "execution_count": 174,
     "metadata": {},
     "output_type": "execute_result"
    }
   ],
   "source": [
    "num_trial = 10000\n",
    "num_ads = 100\n",
    "unskippable_counts = np.random.multinomial(num_ads, null_probabilities, size=num_trials)\n",
    "unskippable_counts = unskippable_counts[:,1]\n",
    "unskippable_counts"
   ]
  },
  {
   "cell_type": "code",
   "execution_count": 175,
   "metadata": {
    "deletable": false,
    "editable": false
   },
   "outputs": [
    {
     "data": {
      "text/html": [
       "<p><strong><pre style='display: inline;'>q2_3</pre></strong> passed!</p>"
      ],
      "text/plain": [
       "q2_3 results: All test cases passed!"
      ]
     },
     "execution_count": 175,
     "metadata": {},
     "output_type": "execute_result"
    }
   ],
   "source": [
    "grader.check(\"q2_3\")"
   ]
  },
  {
   "cell_type": "markdown",
   "metadata": {},
   "source": [
    "Run the cell below to visualize the results of the simulation."
   ]
  },
  {
   "cell_type": "code",
   "execution_count": 140,
   "metadata": {},
   "outputs": [
    {
     "data": {
      "image/png": "[encoded data removed]",
      "text/plain": [
       "<Figure size 720x360 with 1 Axes>"
      ]
     },
     "metadata": {},
     "output_type": "display_data"
    }
   ],
   "source": [
    "bpd.DataFrame().assign(unskippable_counts = unskippable_counts) \\\n",
    "               .plot(kind='hist', density=True, bins=np.arange(20), ec='w', figsize=(10, 5))\n",
    "plt.axvline(x=16, color='black', label='observed statistic', linewidth=4)\n",
    "plt.legend();"
   ]
  },
  {
   "cell_type": "markdown",
   "metadata": {},
   "source": [
    "**Question 2.4.** Use the results of the simulation to calculate the p-value for this hypothesis test and assign your answer to `unskippable_p_val`."
   ]
  },
  {
   "cell_type": "code",
   "execution_count": 143,
   "metadata": {},
   "outputs": [
    {
     "data": {
      "text/plain": [
       "0.01"
      ]
     },
     "execution_count": 143,
     "metadata": {},
     "output_type": "execute_result"
    }
   ],
   "source": [
    "unskippable_p_val = 0.01\n",
    "unskippable_p_val"
   ]
  },
  {
   "cell_type": "code",
   "execution_count": 144,
   "metadata": {
    "deletable": false,
    "editable": false
   },
   "outputs": [
    {
     "data": {
      "text/html": [
       "<p><strong><pre style='display: inline;'>q2_4</pre></strong> passed!</p>"
      ],
      "text/plain": [
       "q2_4 results: All test cases passed!"
      ]
     },
     "execution_count": 144,
     "metadata": {},
     "output_type": "execute_result"
    }
   ],
   "source": [
    "grader.check(\"q2_4\")"
   ]
  },
  {
   "cell_type": "markdown",
   "metadata": {},
   "source": [
    "You should be able to tell, both from the histogram and from the p-value you calculated, that YouTube seems to have more unskippable advertisements than they claim! Perhaps they had a typo in their announcement and meant to say 84% instead of 94%?"
   ]
  },
  {
   "cell_type": "markdown",
   "metadata": {},
   "source": [
    "## Finish Line 🏁\n",
    "\n",
    "Congratulations! You are done with Lab 6.\n",
    "\n",
    "**Citations:** Did you use any generative artificial intelligence tools to assist you on this assignment? If so, please state, for each tool you used, the name of the tool (ex. ChatGPT) and the problem(s) in this assignment where you used the tool for help."
   ]
  },
  {
   "cell_type": "markdown",
   "metadata": {},
   "source": [
    "<hr style=\"color:Maroon;background-color:Maroon;border:0 none; height: 3px;\">\n",
    "\n",
    "I used ChatGPT for question 2.3\n",
    "\n",
    "<hr style=\"color:Maroon;background-color:Maroon;border:0 none; height: 3px;\">"
   ]
  },
  {
   "cell_type": "markdown",
   "metadata": {},
   "source": [
    "To submit your assignment:\n",
    "\n",
    "1. Select `Kernel -> Restart & Run All` to ensure that you have executed all cells, including the test cells.\n",
    "2. Read through the notebook to make sure everything is fine and all tests passed.\n",
    "3. Run the cell below to run all tests, and make sure that they all pass.\n",
    "4. Download your notebook using `File -> Download as -> Notebook (.ipynb)`, then upload your notebook to Gradescope.\n",
    "5. Stick around while the Gradescope autograder grades your work. Make sure you see that all tests have passed on Gradescope.\n",
    "6. Check that you have a confirmation email from Gradescope and save it as proof of your submission."
   ]
  },
  {
   "cell_type": "code",
   "execution_count": 173,
   "metadata": {
    "scrolled": false
   },
   "outputs": [
    {
     "data": {
      "text/plain": [
       "q1_2 results: All test cases passed!\n",
       "\n",
       "q1_3 results: All test cases passed!\n",
       "\n",
       "q1_4 results: All test cases passed!\n",
       "\n",
       "q1_5 results: All test cases passed!\n",
       "\n",
       "q1_6 results: All test cases passed!\n",
       "\n",
       "q1_7 results: All test cases passed!\n",
       "\n",
       "q1_8 results: All test cases passed!\n",
       "\n",
       "q1_9 results: All test cases passed!\n",
       "\n",
       "q2_2 results: All test cases passed!\n",
       "\n",
       "q2_3 results: All test cases passed!\n",
       "\n",
       "q2_4 results: All test cases passed!"
      ]
     },
     "execution_count": 173,
     "metadata": {},
     "output_type": "execute_result"
    }
   ],
   "source": [
    "# For your convenience, you can run this cell to run all the tests at once!\n",
    "grader.check_all()"
   ]
  },
  {
   "cell_type": "code",
   "execution_count": null,
   "metadata": {},
   "outputs": [],
   "source": []
  }
 ],
 "metadata": {
  "kernelspec": {
   "display_name": "Python 3 (ipykernel)",
   "language": "python",
   "name": "python3"
  },
  "language_info": {
   "codemirror_mode": {
    "name": "ipython",
    "version": 3
   },
   "file_extension": ".py",
   "mimetype": "text/x-python",
   "name": "python",
   "nbconvert_exporter": "python",
   "pygments_lexer": "ipython3",
   "version": "3.9.5"
  }
 },
 "nbformat": 4,
 "nbformat_minor": 1
}
