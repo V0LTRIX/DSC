{
 "cells": [
  {
   "cell_type": "markdown",
   "metadata": {},
   "source": [
    "# Lab 3: DataFrames, Control Flow, and Probability\n",
    "\n",
    "## Due Thursday, April 25th at 11:59PM\n",
    "\n",
    "Welcome to Lab 3! This week, we will go over more DataFrame manipulation techniques, conditionals and iteration, and introduce the concept of randomness. You should complete this entire lab so that all tests pass and submit it to Gradescope by 11:59PM on the due date.\n",
    "\n",
    "Refer to the following readings:\n",
    "- Grouping with subgroups (see [BPD 11.4](https://notes.dsc10.com/02-data_sets/groupby.html#subgroups))\n",
    "- Merging DataFrames (see [BPD 13](https://notes.dsc10.com/02-data_sets/merging.html))\n",
    "- Conditional statements (see [CIT 9.1](https://inferentialthinking.com/chapters/09/1/Conditional_Statements.html))\n",
    "- Iteration (see [CIT 9.2](https://inferentialthinking.com/chapters/09/2/Iteration.html))\n",
    "- Probability (see [CIT 9.5](https://inferentialthinking.com/chapters/09/5/Finding_Probabilities.html))\n",
    "\n",
    "First, set up the tests and imports by running the cell below."
   ]
  },
  {
   "cell_type": "code",
   "execution_count": 10,
   "metadata": {},
   "outputs": [],
   "source": [
    "import numpy as np\n",
    "import babypandas as bpd\n",
    "\n",
    "import matplotlib\n",
    "import matplotlib.pyplot as plt\n",
    "plt.style.use('ggplot')\n",
    "\n",
    "import otter\n",
    "grader = otter.Notebook()"
   ]
  },
  {
   "cell_type": "markdown",
   "metadata": {},
   "source": [
    "## 1. California National Parks 🏞️ 🐻\n",
    "\n",
    "In this question, we'll take a closer look at the `.merge` and `.groupby` DataFrame methods.\n",
    "\n",
    "We will be working with two DataFrames, `parks` and `species`, which provide information on California National Parks and the species of plants and animals found there, respectively. These are a subset of a [larger dataset provided by the National Park Service](https://www.kaggle.com/nationalparkservice/park-biodiversity).\n",
    "\n",
    "Run the cells below to load in our data. "
   ]
  },
  {
   "cell_type": "code",
   "execution_count": 11,
   "metadata": {},
   "outputs": [
    {
     "data": {
      "text/html": [
       "<div>\n",
       "<style scoped>\n",
       "    .dataframe tbody tr th:only-of-type {\n",
       "        vertical-align: middle;\n",
       "    }\n",
       "\n",
       "    .dataframe tbody tr th {\n",
       "        vertical-align: top;\n",
       "    }\n",
       "\n",
       "    .dataframe thead th {\n",
       "        text-align: right;\n",
       "    }\n",
       "</style>\n",
       "<table border=\"1\" class=\"dataframe\">\n",
       "  <thead>\n",
       "    <tr style=\"text-align: right;\">\n",
       "      <th></th>\n",
       "      <th>Park Code</th>\n",
       "      <th>Park Name</th>\n",
       "      <th>State</th>\n",
       "      <th>Acres</th>\n",
       "      <th>Latitude</th>\n",
       "      <th>Longitude</th>\n",
       "    </tr>\n",
       "  </thead>\n",
       "  <tbody>\n",
       "    <tr>\n",
       "      <th>0</th>\n",
       "      <td>CHIS</td>\n",
       "      <td>Channel Islands National Park</td>\n",
       "      <td>CA</td>\n",
       "      <td>249561</td>\n",
       "      <td>34.01</td>\n",
       "      <td>-119.42</td>\n",
       "    </tr>\n",
       "    <tr>\n",
       "      <th>1</th>\n",
       "      <td>JOTR</td>\n",
       "      <td>Joshua Tree National Park</td>\n",
       "      <td>CA</td>\n",
       "      <td>789745</td>\n",
       "      <td>33.79</td>\n",
       "      <td>-115.90</td>\n",
       "    </tr>\n",
       "    <tr>\n",
       "      <th>2</th>\n",
       "      <td>LAVO</td>\n",
       "      <td>Lassen Volcanic National Park</td>\n",
       "      <td>CA</td>\n",
       "      <td>106372</td>\n",
       "      <td>40.49</td>\n",
       "      <td>-121.51</td>\n",
       "    </tr>\n",
       "    <tr>\n",
       "      <th>3</th>\n",
       "      <td>PINN</td>\n",
       "      <td>Pinnacles National Park</td>\n",
       "      <td>CA</td>\n",
       "      <td>26606</td>\n",
       "      <td>36.48</td>\n",
       "      <td>-121.16</td>\n",
       "    </tr>\n",
       "    <tr>\n",
       "      <th>4</th>\n",
       "      <td>REDW</td>\n",
       "      <td>Redwood National Park</td>\n",
       "      <td>CA</td>\n",
       "      <td>112512</td>\n",
       "      <td>41.30</td>\n",
       "      <td>-124.00</td>\n",
       "    </tr>\n",
       "    <tr>\n",
       "      <th>5</th>\n",
       "      <td>SEKI</td>\n",
       "      <td>Sequoia and Kings Canyon National Parks</td>\n",
       "      <td>CA</td>\n",
       "      <td>865952</td>\n",
       "      <td>36.43</td>\n",
       "      <td>-118.68</td>\n",
       "    </tr>\n",
       "    <tr>\n",
       "      <th>6</th>\n",
       "      <td>YOSE</td>\n",
       "      <td>Yosemite National Park</td>\n",
       "      <td>CA</td>\n",
       "      <td>761266</td>\n",
       "      <td>37.83</td>\n",
       "      <td>-119.50</td>\n",
       "    </tr>\n",
       "  </tbody>\n",
       "</table>\n",
       "</div>"
      ],
      "text/plain": [
       "  Park Code                                Park Name State   Acres  Latitude  \\\n",
       "0      CHIS            Channel Islands National Park    CA  249561     34.01   \n",
       "1      JOTR                Joshua Tree National Park    CA  789745     33.79   \n",
       "2      LAVO            Lassen Volcanic National Park    CA  106372     40.49   \n",
       "3      PINN                  Pinnacles National Park    CA   26606     36.48   \n",
       "4      REDW                    Redwood National Park    CA  112512     41.30   \n",
       "5      SEKI  Sequoia and Kings Canyon National Parks    CA  865952     36.43   \n",
       "6      YOSE                   Yosemite National Park    CA  761266     37.83   \n",
       "\n",
       "   Longitude  \n",
       "0    -119.42  \n",
       "1    -115.90  \n",
       "2    -121.51  \n",
       "3    -121.16  \n",
       "4    -124.00  \n",
       "5    -118.68  \n",
       "6    -119.50  "
      ]
     },
     "execution_count": 11,
     "metadata": {},
     "output_type": "execute_result"
    }
   ],
   "source": [
    "parks = bpd.read_csv('data/california_parks.csv')\n",
    "parks"
   ]
  },
  {
   "cell_type": "code",
   "execution_count": 12,
   "metadata": {},
   "outputs": [
    {
     "data": {
      "text/html": [
       "<div>\n",
       "<style scoped>\n",
       "    .dataframe tbody tr th:only-of-type {\n",
       "        vertical-align: middle;\n",
       "    }\n",
       "\n",
       "    .dataframe tbody tr th {\n",
       "        vertical-align: top;\n",
       "    }\n",
       "\n",
       "    .dataframe thead th {\n",
       "        text-align: right;\n",
       "    }\n",
       "</style>\n",
       "<table border=\"1\" class=\"dataframe\">\n",
       "  <thead>\n",
       "    <tr style=\"text-align: right;\">\n",
       "      <th></th>\n",
       "      <th>Park Name</th>\n",
       "      <th>Category</th>\n",
       "      <th>Order</th>\n",
       "      <th>Family</th>\n",
       "      <th>Common Names</th>\n",
       "      <th>Abundance</th>\n",
       "    </tr>\n",
       "  </thead>\n",
       "  <tbody>\n",
       "    <tr>\n",
       "      <th>0</th>\n",
       "      <td>Channel Islands National Park</td>\n",
       "      <td>Mammal</td>\n",
       "      <td>Carnivora</td>\n",
       "      <td>Canidae</td>\n",
       "      <td>Channel Islands Gray Fox</td>\n",
       "      <td>Rare</td>\n",
       "    </tr>\n",
       "    <tr>\n",
       "      <th>1</th>\n",
       "      <td>Channel Islands National Park</td>\n",
       "      <td>Mammal</td>\n",
       "      <td>Carnivora</td>\n",
       "      <td>Mephitidae</td>\n",
       "      <td>Spotted Skunk</td>\n",
       "      <td>Uncommon</td>\n",
       "    </tr>\n",
       "    <tr>\n",
       "      <th>2</th>\n",
       "      <td>Channel Islands National Park</td>\n",
       "      <td>Mammal</td>\n",
       "      <td>Carnivora</td>\n",
       "      <td>Mustelidae</td>\n",
       "      <td>Sea Otter</td>\n",
       "      <td>Unknown</td>\n",
       "    </tr>\n",
       "    <tr>\n",
       "      <th>3</th>\n",
       "      <td>Channel Islands National Park</td>\n",
       "      <td>Mammal</td>\n",
       "      <td>Carnivora</td>\n",
       "      <td>Otariidae</td>\n",
       "      <td>Guadalupe Fur Seal</td>\n",
       "      <td>Occasional</td>\n",
       "    </tr>\n",
       "    <tr>\n",
       "      <th>4</th>\n",
       "      <td>Channel Islands National Park</td>\n",
       "      <td>Mammal</td>\n",
       "      <td>Carnivora</td>\n",
       "      <td>Otariidae</td>\n",
       "      <td>Northern Fur Seal</td>\n",
       "      <td>Uncommon</td>\n",
       "    </tr>\n",
       "    <tr>\n",
       "      <th>...</th>\n",
       "      <td>...</td>\n",
       "      <td>...</td>\n",
       "      <td>...</td>\n",
       "      <td>...</td>\n",
       "      <td>...</td>\n",
       "      <td>...</td>\n",
       "    </tr>\n",
       "    <tr>\n",
       "      <th>17780</th>\n",
       "      <td>Yosemite National Park</td>\n",
       "      <td>Vascular Plant</td>\n",
       "      <td>Solanales</td>\n",
       "      <td>Solanaceae</td>\n",
       "      <td>Parish's Nightshade</td>\n",
       "      <td>Rare</td>\n",
       "    </tr>\n",
       "    <tr>\n",
       "      <th>17781</th>\n",
       "      <td>Yosemite National Park</td>\n",
       "      <td>Vascular Plant</td>\n",
       "      <td>Solanales</td>\n",
       "      <td>Solanaceae</td>\n",
       "      <td>Chaparral Nightshade, Purple Nightshade</td>\n",
       "      <td>Uncommon</td>\n",
       "    </tr>\n",
       "    <tr>\n",
       "      <th>17782</th>\n",
       "      <td>Yosemite National Park</td>\n",
       "      <td>Vascular Plant</td>\n",
       "      <td>Vitales</td>\n",
       "      <td>Vitaceae</td>\n",
       "      <td>Thicket Creeper, Virginia Creeper, Woodbine</td>\n",
       "      <td>Rare</td>\n",
       "    </tr>\n",
       "    <tr>\n",
       "      <th>17783</th>\n",
       "      <td>Yosemite National Park</td>\n",
       "      <td>Vascular Plant</td>\n",
       "      <td>Vitales</td>\n",
       "      <td>Vitaceae</td>\n",
       "      <td>California Grape, California Wild Grape</td>\n",
       "      <td>Uncommon</td>\n",
       "    </tr>\n",
       "    <tr>\n",
       "      <th>17784</th>\n",
       "      <td>Yosemite National Park</td>\n",
       "      <td>Vascular Plant</td>\n",
       "      <td>Zygophyllales</td>\n",
       "      <td>Zygophyllaceae</td>\n",
       "      <td>Bullhead, Caltrop, Goathead, Mexican Sandbur, ...</td>\n",
       "      <td>Rare</td>\n",
       "    </tr>\n",
       "  </tbody>\n",
       "</table>\n",
       "<p>17785 rows × 6 columns</p>\n",
       "</div>"
      ],
      "text/plain": [
       "                           Park Name        Category          Order  \\\n",
       "0      Channel Islands National Park          Mammal      Carnivora   \n",
       "1      Channel Islands National Park          Mammal      Carnivora   \n",
       "2      Channel Islands National Park          Mammal      Carnivora   \n",
       "3      Channel Islands National Park          Mammal      Carnivora   \n",
       "4      Channel Islands National Park          Mammal      Carnivora   \n",
       "...                              ...             ...            ...   \n",
       "17780         Yosemite National Park  Vascular Plant      Solanales   \n",
       "17781         Yosemite National Park  Vascular Plant      Solanales   \n",
       "17782         Yosemite National Park  Vascular Plant        Vitales   \n",
       "17783         Yosemite National Park  Vascular Plant        Vitales   \n",
       "17784         Yosemite National Park  Vascular Plant  Zygophyllales   \n",
       "\n",
       "               Family                                       Common Names  \\\n",
       "0             Canidae                           Channel Islands Gray Fox   \n",
       "1          Mephitidae                                      Spotted Skunk   \n",
       "2          Mustelidae                                          Sea Otter   \n",
       "3           Otariidae                                 Guadalupe Fur Seal   \n",
       "4           Otariidae                                  Northern Fur Seal   \n",
       "...               ...                                                ...   \n",
       "17780      Solanaceae                                Parish's Nightshade   \n",
       "17781      Solanaceae            Chaparral Nightshade, Purple Nightshade   \n",
       "17782        Vitaceae        Thicket Creeper, Virginia Creeper, Woodbine   \n",
       "17783        Vitaceae            California Grape, California Wild Grape   \n",
       "17784  Zygophyllaceae  Bullhead, Caltrop, Goathead, Mexican Sandbur, ...   \n",
       "\n",
       "        Abundance  \n",
       "0            Rare  \n",
       "1        Uncommon  \n",
       "2         Unknown  \n",
       "3      Occasional  \n",
       "4        Uncommon  \n",
       "...           ...  \n",
       "17780        Rare  \n",
       "17781    Uncommon  \n",
       "17782        Rare  \n",
       "17783    Uncommon  \n",
       "17784        Rare  \n",
       "\n",
       "[17785 rows x 6 columns]"
      ]
     },
     "execution_count": 12,
     "metadata": {},
     "output_type": "execute_result"
    }
   ],
   "source": [
    "species = bpd.read_csv('data/california_parks_species.csv')\n",
    "species"
   ]
  },
  {
   "cell_type": "markdown",
   "metadata": {},
   "source": [
    "**Question 1.1.** Below, create a DataFrame named `species_counts` to show how many species there are in each park. This DataFrame should:\n",
    "- Have one row for each park.\n",
    "- Be indexed by `'Park Name'`.\n",
    "- Have one column named `'Count'` that contains the number of species per park."
   ]
  },
  {
   "cell_type": "code",
   "execution_count": 183,
   "metadata": {},
   "outputs": [
    {
     "data": {
      "text/html": [
       "<div>\n",
       "<style scoped>\n",
       "    .dataframe tbody tr th:only-of-type {\n",
       "        vertical-align: middle;\n",
       "    }\n",
       "\n",
       "    .dataframe tbody tr th {\n",
       "        vertical-align: top;\n",
       "    }\n",
       "\n",
       "    .dataframe thead th {\n",
       "        text-align: right;\n",
       "    }\n",
       "</style>\n",
       "<table border=\"1\" class=\"dataframe\">\n",
       "  <thead>\n",
       "    <tr style=\"text-align: right;\">\n",
       "      <th></th>\n",
       "      <th>Count</th>\n",
       "    </tr>\n",
       "  </thead>\n",
       "  <tbody>\n",
       "    <tr>\n",
       "      <th>0</th>\n",
       "      <td>1885</td>\n",
       "    </tr>\n",
       "    <tr>\n",
       "      <th>1</th>\n",
       "      <td>2294</td>\n",
       "    </tr>\n",
       "    <tr>\n",
       "      <th>2</th>\n",
       "      <td>1797</td>\n",
       "    </tr>\n",
       "    <tr>\n",
       "      <th>3</th>\n",
       "      <td>1416</td>\n",
       "    </tr>\n",
       "    <tr>\n",
       "      <th>4</th>\n",
       "      <td>6310</td>\n",
       "    </tr>\n",
       "    <tr>\n",
       "      <th>5</th>\n",
       "      <td>1995</td>\n",
       "    </tr>\n",
       "    <tr>\n",
       "      <th>6</th>\n",
       "      <td>2088</td>\n",
       "    </tr>\n",
       "  </tbody>\n",
       "</table>\n",
       "</div>"
      ],
      "text/plain": [
       "   Count\n",
       "0   1885\n",
       "1   2294\n",
       "2   1797\n",
       "3   1416\n",
       "4   6310\n",
       "5   1995\n",
       "6   2088"
      ]
     },
     "execution_count": 183,
     "metadata": {},
     "output_type": "execute_result"
    }
   ],
   "source": [
    "species_counts = species_counts.iloc[:, :-1].assign(Count=species_counts.iloc[:, -1])\n",
    "species_counts = species_counts.get(['Count'])\n",
    "species_counts"
   ]
  },
  {
   "cell_type": "code",
   "execution_count": 184,
   "metadata": {
    "deletable": false,
    "editable": false
   },
   "outputs": [
    {
     "data": {
      "text/html": [
       "<p><strong><pre style='display: inline;'>q1_1</pre></strong> passed!</p>"
      ],
      "text/plain": [
       "q1_1 results: All test cases passed!"
      ]
     },
     "execution_count": 184,
     "metadata": {},
     "output_type": "execute_result"
    }
   ],
   "source": [
    "grader.check(\"q1_1\")"
   ]
  },
  {
   "cell_type": "markdown",
   "metadata": {},
   "source": [
    "**Question 1.2.** Below, use the `.merge` method to create a new DataFrame named `parks_with_species`, which should have one row for each park. `parks_with_species` should have all the columns in `parks` plus and additional column called `'Count'` with the number of species in each park. Your DataFrame should look like this:\n",
    "\n",
    "|    | Park Code   | Park Name                               | State   |   Acres |   Latitude |   Longitude |   Count |\n",
    "|---:|------------|----------------------------------------|--------|--------|-----------|------------|--------|\n",
    "|  0 | CHIS        | Channel Islands National Park           | CA      |  249561 |      34.01 |     -119.42 |    1885 |\n",
    "|  1 | JOTR        | Joshua Tree National Park               | CA      |  789745 |      33.79 |     -115.9  |    2294 |\n",
    "|  2 | LAVO        | Lassen Volcanic National Park           | CA      |  106372 |      40.49 |     -121.51 |    1797 |\n",
    "|  3 | PINN        | Pinnacles National Park                 | CA      |   26606 |      36.48 |     -121.16 |    1416 |\n",
    "|  4 | REDW        | Redwood National Park                   | CA      |  112512 |      41.3  |     -124    |    6310 |\n",
    "|  5 | SEKI        | Sequoia and Kings Canyon National Parks | CA      |  865952 |      36.43 |     -118.68 |    1995 |\n",
    "|  6 | YOSE        | Yosemite National Park                  | CA      |  761266 |      37.83 |     -119.5  |    2088 |"
   ]
  },
  {
   "cell_type": "code",
   "execution_count": 199,
   "metadata": {
    "scrolled": true
   },
   "outputs": [
    {
     "data": {
      "text/plain": [
       "Ellipsis"
      ]
     },
     "execution_count": 199,
     "metadata": {},
     "output_type": "execute_result"
    }
   ],
   "source": [
    "parks_with_species = ...\n",
    "parks_with_species"
   ]
  },
  {
   "cell_type": "code",
   "execution_count": 198,
   "metadata": {
    "deletable": false,
    "editable": false
   },
   "outputs": [
    {
     "data": {
      "text/html": [
       "<p><strong style='color: red;'><pre style='display: inline;'>q1_2</pre> results:</strong></p><p><strong><pre style='display: inline;'>q1_2 - 1</pre> result:</strong></p><pre>    Test case passed!</pre><p><strong><pre style='display: inline;'>q1_2 - 2</pre> result:</strong></p><pre>    Test case passed!</pre><p><strong><pre style='display: inline;'>q1_2 - 3</pre> result:</strong></p><pre>    Trying:\n",
       "        np.all(np.sort(parks_with_species.get('Count')) == np.sort(np.array([1885, 2294, 1797, 1416, 6310, 1995, 2088])))\n",
       "    Expecting:\n",
       "        True\n",
       "    **********************************************************************\n",
       "    Line 1, in q1_2 2\n",
       "    Failed example:\n",
       "        np.all(np.sort(parks_with_species.get('Count')) == np.sort(np.array([1885, 2294, 1797, 1416, 6310, 1995, 2088])))\n",
       "    Exception raised:\n",
       "        Traceback (most recent call last):\n",
       "          File \"/opt/conda/lib/python3.9/doctest.py\", line 1336, in __run\n",
       "            exec(compile(example.source, filename, \"single\",\n",
       "          File \"<doctest q1_2 2[0]>\", line 1, in <module>\n",
       "            np.all(np.sort(parks_with_species.get('Count')) == np.sort(np.array([1885, 2294, 1797, 1416, 6310, 1995, 2088])))\n",
       "          File \"/opt/conda/lib/python3.9/site-packages/babypandas/utils.py\", line 20, in wrapper\n",
       "            return func(*args, **kwargs)\n",
       "          File \"/opt/conda/lib/python3.9/site-packages/babypandas/bpd.py\", line 327, in get\n",
       "            raise KeyError(\"{} not found in columns\".format(np.array(k)[mask]))\n",
       "        KeyError: \"['Count'] not found in columns\"\n",
       "</pre>"
      ],
      "text/plain": [
       "q1_2 results:\n",
       "    q1_2 - 1 result:\n",
       "        Test case passed!\n",
       "\n",
       "    q1_2 - 2 result:\n",
       "        Test case passed!\n",
       "\n",
       "    q1_2 - 3 result:\n",
       "        Trying:\n",
       "            np.all(np.sort(parks_with_species.get('Count')) == np.sort(np.array([1885, 2294, 1797, 1416, 6310, 1995, 2088])))\n",
       "        Expecting:\n",
       "            True\n",
       "        **********************************************************************\n",
       "        Line 1, in q1_2 2\n",
       "        Failed example:\n",
       "            np.all(np.sort(parks_with_species.get('Count')) == np.sort(np.array([1885, 2294, 1797, 1416, 6310, 1995, 2088])))\n",
       "        Exception raised:\n",
       "            Traceback (most recent call last):\n",
       "              File \"/opt/conda/lib/python3.9/doctest.py\", line 1336, in __run\n",
       "                exec(compile(example.source, filename, \"single\",\n",
       "              File \"<doctest q1_2 2[0]>\", line 1, in <module>\n",
       "                np.all(np.sort(parks_with_species.get('Count')) == np.sort(np.array([1885, 2294, 1797, 1416, 6310, 1995, 2088])))\n",
       "              File \"/opt/conda/lib/python3.9/site-packages/babypandas/utils.py\", line 20, in wrapper\n",
       "                return func(*args, **kwargs)\n",
       "              File \"/opt/conda/lib/python3.9/site-packages/babypandas/bpd.py\", line 327, in get\n",
       "                raise KeyError(\"{} not found in columns\".format(np.array(k)[mask]))\n",
       "            KeyError: \"['Count'] not found in columns\""
      ]
     },
     "execution_count": 198,
     "metadata": {},
     "output_type": "execute_result"
    }
   ],
   "source": [
    "grader.check(\"q1_2\")"
   ]
  },
  {
   "cell_type": "markdown",
   "metadata": {},
   "source": [
    "**Question 1.3.** Using the `.groupby` method, assign the variable `species_category` to a DataFrame that has one row for each `'Category'` of species at each park.\n",
    "\n",
    "Reset the index and assign columns so that you have three columns: `'Park Name'`, `'Category'`, and `'Count'`. Your DataFrame should look like this:\n",
    "\n",
    "|     | Park Name                     | Category            | Count |\n",
    "|-----|-------------------------------|---------------------|-------|\n",
    "| 0   | Channel Islands National Park | Algae               | 61    |\n",
    "| 1   | Channel Islands National Park | Amphibian           | 4     |\n",
    "| 2   | Channel Islands National Park | Bird                | 357   |\n",
    "| 3   | Channel Islands National Park | Crab/Lobster/Shrimp | 11    |\n",
    "| 4   | Channel Islands National Park | Fish                | 273   |\n",
    "| ... | ...                           | ...                 | ...   |\n",
    "| 71  | Yosemite National Park        | Bird                | 270   |\n",
    "| 72  | Yosemite National Park        | Fish                | 10    |\n",
    "| 73  | Yosemite National Park        | Mammal              | 88    |\n",
    "| 74  | Yosemite National Park        | Reptile             | 22    |\n",
    "| 75  | Yosemite National Park        | Vascular Plant      | 1683  |"
   ]
  },
  {
   "cell_type": "code",
   "execution_count": 145,
   "metadata": {},
   "outputs": [
    {
     "data": {
      "text/plain": [
       "Ellipsis"
      ]
     },
     "execution_count": 145,
     "metadata": {},
     "output_type": "execute_result"
    }
   ],
   "source": [
    "species_category = ...\n",
    "species_category"
   ]
  },
  {
   "cell_type": "code",
   "execution_count": null,
   "metadata": {
    "deletable": false,
    "editable": false
   },
   "outputs": [],
   "source": [
    "grader.check(\"q1_3\")"
   ]
  },
  {
   "cell_type": "markdown",
   "metadata": {},
   "source": [
    "## 2. Coffee Shop ☕"
   ]
  },
  {
   "cell_type": "markdown",
   "metadata": {},
   "source": [
    "In Python, Boolean values can either be `True` or `False`. We get Boolean values when using comparison operators, among which are `<` (less than), `>` (greater than), and `==` (equal to). A more complete list can be found below.\n",
    "\n",
    "|symbol|meaning|\n",
    "|--------|--------|\n",
    "|`==` |equal to |\n",
    "|`!=` |not equal to |\n",
    "|`<`|less than|\n",
    "|`<=`|less than or equal to|\n",
    "|`>`|greater than|\n",
    "|`>=`|greater than or equal to|\n",
    "\n",
    "\n",
    "Run the cell below to see an example of a comparison operator in action."
   ]
  },
  {
   "cell_type": "code",
   "execution_count": 39,
   "metadata": {},
   "outputs": [
    {
     "data": {
      "text/plain": [
       "True"
      ]
     },
     "execution_count": 39,
     "metadata": {},
     "output_type": "execute_result"
    }
   ],
   "source": [
    "3 > 1 + 1"
   ]
  },
  {
   "cell_type": "markdown",
   "metadata": {},
   "source": [
    "We can even assign the result of a comparison operation to a variable."
   ]
  },
  {
   "cell_type": "code",
   "execution_count": 40,
   "metadata": {},
   "outputs": [
    {
     "data": {
      "text/plain": [
       "True"
      ]
     },
     "execution_count": 40,
     "metadata": {},
     "output_type": "execute_result"
    }
   ],
   "source": [
    "result = 10 / 2 == 5\n",
    "result"
   ]
  },
  {
   "cell_type": "markdown",
   "metadata": {},
   "source": [
    "Arrays are compatible with comparison operators, and comparisons happen one element at a time. The output is an array of Boolean values."
   ]
  },
  {
   "cell_type": "code",
   "execution_count": 41,
   "metadata": {
    "scrolled": true
   },
   "outputs": [
    {
     "data": {
      "text/plain": [
       "array([False,  True,  True,  True,  True])"
      ]
     },
     "execution_count": 41,
     "metadata": {},
     "output_type": "execute_result"
    }
   ],
   "source": [
    "odd_numbers = np.array([1, 3, 5, 7, 9]) \n",
    "odd_numbers > 2"
   ]
  },
  {
   "cell_type": "markdown",
   "metadata": {},
   "source": [
    "After making a comparison, we can count how many `True` value are in the resulting array using the function `np.count_nonzero`. When called on an array of Boolean values, `np.count_nonzero` returns the **number of `True` values** in the array. \n",
    "\n",
    "For example, let's see what happens when we give the above array of Boolean values as the argument to `np.count_nonzero`."
   ]
  },
  {
   "cell_type": "code",
   "execution_count": 42,
   "metadata": {},
   "outputs": [
    {
     "data": {
      "text/plain": [
       "4"
      ]
     },
     "execution_count": 42,
     "metadata": {},
     "output_type": "execute_result"
    }
   ],
   "source": [
    "np.count_nonzero(odd_numbers > 2)"
   ]
  },
  {
   "cell_type": "markdown",
   "metadata": {},
   "source": [
    "This tells us that there are 4 values in `odd_numbers` that are larger than 2. That's correct; those numbers are 3, 5, 7, and 9.\n",
    "\n",
    "The name `np.count_nonzero` can be a little misleading, since we're not using it to tell us how many nonzero numbers are in `odd_numbers`. Rather, we're using it to tell us how many values in a Boolean array are `True`.\n",
    "\n",
    "The name comes from the way Python treats Boolean values under the hood. In Python, `True` values are treated like the number 1, and `False` values like the number 0. So when use `np.count_nonzero` on an array of Booleans, it is effectively counting the number of nonzero values, due to the fact that `True` is 1 and `False` is 0."
   ]
  },
  {
   "cell_type": "markdown",
   "metadata": {},
   "source": [
    "Let's say you own a small coffee shop, and you have to keep track of what your customers order. Whenever someone orders coffee at your shop, they will order one of the following sizes: Small, Medium, Large, or Extra Large.\n",
    "\n",
    "<img src='images/coffee_sizes.png' width=300>\n",
    "\n",
    "Using the function call `np.random.choice(array_name)`, let's simulate customers ordering sizes of coffee at random. Start by running the cell below several times, each time representing a new customer's order."
   ]
  },
  {
   "cell_type": "code",
   "execution_count": 43,
   "metadata": {},
   "outputs": [
    {
     "data": {
      "text/plain": [
       "'Medium'"
      ]
     },
     "execution_count": 43,
     "metadata": {},
     "output_type": "execute_result"
    }
   ],
   "source": [
    "coffee_sizes = np.array(['Small', 'Medium', 'Large', 'Extra Large'])\n",
    "np.random.choice(coffee_sizes)"
   ]
  },
  {
   "cell_type": "markdown",
   "metadata": {},
   "source": [
    "We can add a second argument to our call to `np.random.choice` to simulate several coffee orders at the same time. The second argument represents how many coffees are being ordered. The result will be an *array* of coffee orders instead of just one order.\n",
    "\n",
    "Let's suppose you get ten customers one morning. Run the cell below to see what sizes of coffee they get."
   ]
  },
  {
   "cell_type": "code",
   "execution_count": 44,
   "metadata": {},
   "outputs": [
    {
     "data": {
      "text/plain": [
       "array(['Small', 'Extra Large', 'Medium', 'Medium', 'Medium', 'Medium',\n",
       "       'Extra Large', 'Medium', 'Large', 'Small'], dtype='<U11')"
      ]
     },
     "execution_count": 44,
     "metadata": {},
     "output_type": "execute_result"
    }
   ],
   "source": [
    "ten_coffees = np.random.choice(coffee_sizes, 10)\n",
    "ten_coffees"
   ]
  },
  {
   "cell_type": "markdown",
   "metadata": {},
   "source": [
    "Note that the cell above uses randomness, meaning if you run it again, you might get a different result. In the questions that follow, we'll ask you to work with the variable `ten_coffees`. But since `ten_coffees` might be a different set of ten coffees the next time you run the notebook, you'll want to avoid answering questions about this specific set of ten coffees. So don't type in (or *hardcode*) any answers based on the current contents of `ten_coffees` you see above. Instead, write code that will work generally, regardless of what exact values are stored in `ten_coffees`. "
   ]
  },
  {
   "cell_type": "markdown",
   "metadata": {},
   "source": [
    "**Question 2.1.** Find the number of Small coffees in `ten_coffees` using code (do not hardcode the answer).  \n",
    "\n",
    "_**Hint:**_ Our solution involves a comparison operator and the `np.count_nonzero` function."
   ]
  },
  {
   "cell_type": "code",
   "execution_count": 45,
   "metadata": {},
   "outputs": [
    {
     "data": {
      "text/plain": [
       "5"
      ]
     },
     "execution_count": 45,
     "metadata": {},
     "output_type": "execute_result"
    }
   ],
   "source": [
    "ten_coffees = np.random.choice(coffee_sizes, 10)\n",
    "number_small = np.count_nonzero(ten_coffees == 'Small')\n",
    "number_small"
   ]
  },
  {
   "cell_type": "code",
   "execution_count": 46,
   "metadata": {
    "deletable": false,
    "editable": false
   },
   "outputs": [
    {
     "data": {
      "text/html": [
       "<p><strong><pre style='display: inline;'>q2_1</pre></strong> passed!</p>"
      ],
      "text/plain": [
       "q2_1 results: All test cases passed!"
      ]
     },
     "execution_count": 46,
     "metadata": {},
     "output_type": "execute_result"
    }
   ],
   "source": [
    "grader.check(\"q2_1\")"
   ]
  },
  {
   "cell_type": "markdown",
   "metadata": {},
   "source": [
    "**Conditional Statements**\n",
    "\n",
    "A conditional statement is made up of multiple lines of code that allow Python to choose from different alternatives based on whether some condition is true.\n",
    "\n",
    "Here is a basic example.\n",
    "\n",
    "```py\n",
    "def sign(x):\n",
    "    if x > 0:\n",
    "        return 'Positive'\n",
    "```\n",
    "\n",
    "The function determines whether the input `x` is greater than `0`, and if so, gives us the string `'Positive'` back. If not, the function gives no output.\n",
    "\n",
    "If we want to test multiple conditions at once, we use the following general format.\n",
    "\n",
    "```py\n",
    "if <condition 1>:\n",
    "    <body 1>\n",
    "elif <condition 2>:\n",
    "    <body 2>\n",
    "elif <condition 3>:\n",
    "    <body 3>\n",
    "...\n",
    "else:\n",
    "    <body 4>\n",
    "```\n",
    "\n",
    "Only one of the bodies will ever be executed. Each `if` and `elif` (else-if) condition is evaluated and considered in order, starting at the top. As soon as a `True` value is found (i.e. once a condition is met), the corresponding body is executed, and the rest of the conditions are skipped. If none of the `if` or `elif` conditions are true, then the code indented under `else` (`<body 4>` in this example) is executed. For more examples and explanation, refer to [CIT 9.1](https://inferentialthinking.com/chapters/09/1/Conditional_Statements.html?highlight=else)."
   ]
  },
  {
   "cell_type": "markdown",
   "metadata": {},
   "source": [
    "**Question 2.2.** Complete the implementation of the function `coffee_price`, which takes in the `size` of a coffee as a string and returns a float representing the price of that coffee in dollars, based on the relationship in the table below.\n",
    "\n",
    "| Coffee Size    | Price ($) |\n",
    "| ----------- | ----------- |\n",
    "| Small      | 2.99      |\n",
    "| Medium  | 3.99        |\n",
    "| Large      | 4.79      |\n",
    "| Extra Large  | 4.99        |"
   ]
  },
  {
   "cell_type": "code",
   "execution_count": 47,
   "metadata": {
    "for_assignment_type": "student"
   },
   "outputs": [
    {
     "data": {
      "text/plain": [
       "3.99"
      ]
     },
     "execution_count": 47,
     "metadata": {},
     "output_type": "execute_result"
    }
   ],
   "source": [
    "def coffee_price(size):\n",
    "    prices = {\n",
    "        'Small': 2.99,\n",
    "        'Medium': 3.99,\n",
    "        'Large': 4.79,\n",
    "        'Extra Large': 4.99\n",
    "    }\n",
    "    \n",
    "    return prices.get(size)\n",
    "medium_price = coffee_price('Medium')\n",
    "medium_price"
   ]
  },
  {
   "cell_type": "code",
   "execution_count": 48,
   "metadata": {
    "deletable": false,
    "editable": false
   },
   "outputs": [
    {
     "data": {
      "text/html": [
       "<p><strong><pre style='display: inline;'>q2_2</pre></strong> passed!</p>"
      ],
      "text/plain": [
       "q2_2 results: All test cases passed!"
      ]
     },
     "execution_count": 48,
     "metadata": {},
     "output_type": "execute_result"
    }
   ],
   "source": [
    "grader.check(\"q2_2\")"
   ]
  },
  {
   "cell_type": "markdown",
   "metadata": {},
   "source": [
    "Now consider the DataFrame `ten_coffees_df` defined below."
   ]
  },
  {
   "cell_type": "code",
   "execution_count": 49,
   "metadata": {
    "scrolled": true
   },
   "outputs": [
    {
     "data": {
      "text/html": [
       "<div>\n",
       "<style scoped>\n",
       "    .dataframe tbody tr th:only-of-type {\n",
       "        vertical-align: middle;\n",
       "    }\n",
       "\n",
       "    .dataframe tbody tr th {\n",
       "        vertical-align: top;\n",
       "    }\n",
       "\n",
       "    .dataframe thead th {\n",
       "        text-align: right;\n",
       "    }\n",
       "</style>\n",
       "<table border=\"1\" class=\"dataframe\">\n",
       "  <thead>\n",
       "    <tr style=\"text-align: right;\">\n",
       "      <th></th>\n",
       "      <th>Size</th>\n",
       "    </tr>\n",
       "  </thead>\n",
       "  <tbody>\n",
       "    <tr>\n",
       "      <th>0</th>\n",
       "      <td>Small</td>\n",
       "    </tr>\n",
       "    <tr>\n",
       "      <th>1</th>\n",
       "      <td>Extra Large</td>\n",
       "    </tr>\n",
       "    <tr>\n",
       "      <th>2</th>\n",
       "      <td>Small</td>\n",
       "    </tr>\n",
       "    <tr>\n",
       "      <th>3</th>\n",
       "      <td>Small</td>\n",
       "    </tr>\n",
       "    <tr>\n",
       "      <th>4</th>\n",
       "      <td>Small</td>\n",
       "    </tr>\n",
       "    <tr>\n",
       "      <th>5</th>\n",
       "      <td>Medium</td>\n",
       "    </tr>\n",
       "    <tr>\n",
       "      <th>6</th>\n",
       "      <td>Large</td>\n",
       "    </tr>\n",
       "    <tr>\n",
       "      <th>7</th>\n",
       "      <td>Medium</td>\n",
       "    </tr>\n",
       "    <tr>\n",
       "      <th>8</th>\n",
       "      <td>Extra Large</td>\n",
       "    </tr>\n",
       "    <tr>\n",
       "      <th>9</th>\n",
       "      <td>Small</td>\n",
       "    </tr>\n",
       "  </tbody>\n",
       "</table>\n",
       "</div>"
      ],
      "text/plain": [
       "          Size\n",
       "0        Small\n",
       "1  Extra Large\n",
       "2        Small\n",
       "3        Small\n",
       "4        Small\n",
       "5       Medium\n",
       "6        Large\n",
       "7       Medium\n",
       "8  Extra Large\n",
       "9        Small"
      ]
     },
     "execution_count": 49,
     "metadata": {},
     "output_type": "execute_result"
    }
   ],
   "source": [
    "ten_coffees_df = bpd.DataFrame().assign(Size=ten_coffees)\n",
    "ten_coffees_df"
   ]
  },
  {
   "cell_type": "markdown",
   "metadata": {},
   "source": [
    "**Question 2.3.** Add a column named `'Price'` to the DataFrame `ten_coffees_df` that includes the price of each drink.\n",
    "\n",
    "_**Hint:**_ Use the `.apply` method."
   ]
  },
  {
   "cell_type": "code",
   "execution_count": 51,
   "metadata": {
    "for_assignment_type": "student"
   },
   "outputs": [
    {
     "data": {
      "text/html": [
       "<div>\n",
       "<style scoped>\n",
       "    .dataframe tbody tr th:only-of-type {\n",
       "        vertical-align: middle;\n",
       "    }\n",
       "\n",
       "    .dataframe tbody tr th {\n",
       "        vertical-align: top;\n",
       "    }\n",
       "\n",
       "    .dataframe thead th {\n",
       "        text-align: right;\n",
       "    }\n",
       "</style>\n",
       "<table border=\"1\" class=\"dataframe\">\n",
       "  <thead>\n",
       "    <tr style=\"text-align: right;\">\n",
       "      <th></th>\n",
       "      <th>Size</th>\n",
       "      <th>Price</th>\n",
       "    </tr>\n",
       "  </thead>\n",
       "  <tbody>\n",
       "    <tr>\n",
       "      <th>0</th>\n",
       "      <td>Small</td>\n",
       "      <td>2.99</td>\n",
       "    </tr>\n",
       "    <tr>\n",
       "      <th>1</th>\n",
       "      <td>Extra Large</td>\n",
       "      <td>4.99</td>\n",
       "    </tr>\n",
       "    <tr>\n",
       "      <th>2</th>\n",
       "      <td>Small</td>\n",
       "      <td>2.99</td>\n",
       "    </tr>\n",
       "    <tr>\n",
       "      <th>3</th>\n",
       "      <td>Small</td>\n",
       "      <td>2.99</td>\n",
       "    </tr>\n",
       "    <tr>\n",
       "      <th>4</th>\n",
       "      <td>Small</td>\n",
       "      <td>2.99</td>\n",
       "    </tr>\n",
       "    <tr>\n",
       "      <th>5</th>\n",
       "      <td>Medium</td>\n",
       "      <td>3.99</td>\n",
       "    </tr>\n",
       "    <tr>\n",
       "      <th>6</th>\n",
       "      <td>Large</td>\n",
       "      <td>4.79</td>\n",
       "    </tr>\n",
       "    <tr>\n",
       "      <th>7</th>\n",
       "      <td>Medium</td>\n",
       "      <td>3.99</td>\n",
       "    </tr>\n",
       "    <tr>\n",
       "      <th>8</th>\n",
       "      <td>Extra Large</td>\n",
       "      <td>4.99</td>\n",
       "    </tr>\n",
       "    <tr>\n",
       "      <th>9</th>\n",
       "      <td>Small</td>\n",
       "      <td>2.99</td>\n",
       "    </tr>\n",
       "  </tbody>\n",
       "</table>\n",
       "</div>"
      ],
      "text/plain": [
       "          Size  Price\n",
       "0        Small   2.99\n",
       "1  Extra Large   4.99\n",
       "2        Small   2.99\n",
       "3        Small   2.99\n",
       "4        Small   2.99\n",
       "5       Medium   3.99\n",
       "6        Large   4.79\n",
       "7       Medium   3.99\n",
       "8  Extra Large   4.99\n",
       "9        Small   2.99"
      ]
     },
     "execution_count": 51,
     "metadata": {},
     "output_type": "execute_result"
    }
   ],
   "source": [
    "ten_coffees_df = ten_coffees_df.assign(Price=ten_coffees_df.get('Size').apply(coffee_price))\n",
    "ten_coffees_df"
   ]
  },
  {
   "cell_type": "code",
   "execution_count": 52,
   "metadata": {
    "deletable": false,
    "editable": false
   },
   "outputs": [
    {
     "data": {
      "text/html": [
       "<p><strong><pre style='display: inline;'>q2_3</pre></strong> passed!</p>"
      ],
      "text/plain": [
       "q2_3 results: All test cases passed!"
      ]
     },
     "execution_count": 52,
     "metadata": {},
     "output_type": "execute_result"
    }
   ],
   "source": [
    "grader.check(\"q2_3\")"
   ]
  },
  {
   "cell_type": "markdown",
   "metadata": {},
   "source": [
    "**Question 2.4.** Using code, find the number of coffees in `ten_coffees_df` that cost more than $4.  Think about how you could find this both by using DataFrame methods or by using `np.count_nonzero`."
   ]
  },
  {
   "cell_type": "code",
   "execution_count": 53,
   "metadata": {},
   "outputs": [
    {
     "data": {
      "text/plain": [
       "3"
      ]
     },
     "execution_count": 53,
     "metadata": {},
     "output_type": "execute_result"
    }
   ],
   "source": [
    "over_4_dollars = ten_coffees_df[ten_coffees_df.get('Price') > 4].shape[0]\n",
    "over_4_dollars"
   ]
  },
  {
   "cell_type": "code",
   "execution_count": 54,
   "metadata": {
    "deletable": false,
    "editable": false
   },
   "outputs": [
    {
     "data": {
      "text/html": [
       "<p><strong><pre style='display: inline;'>q2_4</pre></strong> passed!</p>"
      ],
      "text/plain": [
       "q2_4 results: All test cases passed!"
      ]
     },
     "execution_count": 54,
     "metadata": {},
     "output_type": "execute_result"
    }
   ],
   "source": [
    "grader.check(\"q2_4\")"
   ]
  },
  {
   "cell_type": "markdown",
   "metadata": {},
   "source": [
    "**Question 2.5.** Complete the function `large_or_xl` below. The function takes as input any DataFrame of coffee sizes and prices, with column names `'Size'` and `'Price'`. The function compares the number of Large and Extra Large coffees. If there are more Large coffees, the function returns `'More Large coffees'` and if there are more Extra Large coffees, the function returns `'More Extra Large coffees'`. If there are an equal number of each, the function returns `'Same amount'`."
   ]
  },
  {
   "cell_type": "code",
   "execution_count": 55,
   "metadata": {
    "for_assignment_type": "student"
   },
   "outputs": [
    {
     "data": {
      "text/plain": [
       "'More Extra Large coffees'"
      ]
     },
     "execution_count": 55,
     "metadata": {},
     "output_type": "execute_result"
    }
   ],
   "source": [
    "def large_or_xl(coffee_df):\n",
    "    coffees = coffee_df.get('Size')\n",
    "    number_large = np.count_nonzero(coffees == 'Large')\n",
    "    number_extra_large = np.count_nonzero(coffees == 'Extra Large')\n",
    "    \n",
    "    if number_large > number_extra_large:\n",
    "        return 'More Large coffees'\n",
    "    elif number_large < number_extra_large:\n",
    "        return 'More Extra Large coffees'\n",
    "    else:\n",
    "        return 'Same amount'\n",
    "\n",
    "# Below, we create a DataFrame with randomly-generated data and test your function on it.\n",
    "# Do NOT change anything below this line.\n",
    "# However, you may want to add a new cell and evaluate large_or_xl(ten_coffees_df)\n",
    "# to see if your function behaves as expected.\n",
    "np.random.seed(24)\n",
    "many_coffees = bpd.DataFrame().assign(Size=np.random.choice(coffee_sizes, 250))\n",
    "many_coffees = many_coffees.assign(Price=many_coffees.get('Size').apply(coffee_price))\n",
    "result = large_or_xl(many_coffees)\n",
    "result"
   ]
  },
  {
   "cell_type": "code",
   "execution_count": 56,
   "metadata": {
    "deletable": false,
    "editable": false
   },
   "outputs": [
    {
     "data": {
      "text/html": [
       "<p><strong><pre style='display: inline;'>q2_5</pre></strong> passed!</p>"
      ],
      "text/plain": [
       "q2_5 results: All test cases passed!"
      ]
     },
     "execution_count": 56,
     "metadata": {},
     "output_type": "execute_result"
    }
   ],
   "source": [
    "grader.check(\"q2_5\")"
   ]
  },
  {
   "cell_type": "markdown",
   "metadata": {},
   "source": [
    "## 3. Iteration 🔂\n",
    "\n",
    "`for`-loops allow us to iterate – that is, to run a piece of code multiple times. Here, we'll simulate the act of drawing different suits from a deck of cards. This is like drawing a card, putting it back in the deck, and drawing a card again (with replacement) because on each draw, you have an equal chance of getting any of the four suits. 🃏"
   ]
  },
  {
   "cell_type": "code",
   "execution_count": 57,
   "metadata": {},
   "outputs": [
    {
     "data": {
      "text/plain": [
       "array(['♥️', '♦️', '♠️', '♥️', '♣️', '♦️'], dtype='<U32')"
      ]
     },
     "execution_count": 57,
     "metadata": {},
     "output_type": "execute_result"
    }
   ],
   "source": [
    "suits = np.array(['♣️', '♥️', '♠️', '♦️'])\n",
    "\n",
    "draws = np.array([])\n",
    "\n",
    "repetitions = 6\n",
    "\n",
    "for i in np.arange(repetitions):\n",
    "    chosen_suit = np.random.choice(suits)\n",
    "    draws = np.append(draws, chosen_suit)\n",
    "\n",
    "draws"
   ]
  },
  {
   "cell_type": "markdown",
   "metadata": {},
   "source": [
    "Another use of iteration is to loop through a set of values. For instance, we can print out all of the colors of the rainbow. 🌈"
   ]
  },
  {
   "cell_type": "code",
   "execution_count": 58,
   "metadata": {},
   "outputs": [
    {
     "name": "stdout",
     "output_type": "stream",
     "text": [
      "red\n",
      "orange\n",
      "yellow\n",
      "green\n",
      "blue\n",
      "indigo\n",
      "violet\n"
     ]
    }
   ],
   "source": [
    "rainbow = np.array([\"red\", \"orange\", \"yellow\", \"green\", \"blue\", \"indigo\", \"violet\"])\n",
    "\n",
    "for color in rainbow:\n",
    "    print(color)"
   ]
  },
  {
   "cell_type": "markdown",
   "metadata": {},
   "source": [
    "We can see that the indented part of the `for`-loop, known as the body, is executed once for each item in `rainbow`. Note that the name `color` is arbitrary; we could replace both instances of `color` in the cell above with any valid variable name and the code would work the same."
   ]
  },
  {
   "cell_type": "markdown",
   "metadata": {},
   "source": [
    "We can also use a `for`-loop to add to a variable in an iterative fashion. If we want to keep track of how many times some event occurs, for example, we can set a variable to 0, then add 1 to it every time the event happens. This is kind of like keeping a tally. In the end, the variable (or the tally) represents the total number of times our event happened. Gradually adding on to a variable in this way is called the **accumulator pattern** as discussed in [Lecture 10](https://dsc10.com/resources/lectures/lec10/lec10.html#The-accumulator-pattern). We'll use this a lot!\n",
    "\n",
    "Below, we use the accumulator pattern to count the number of even numbers in an array of numbers. Each time we encounter an even number in `num_array`, we increase `even_count` by 1. To check if an individual number is even, we compute its remainder when divided by 2 using the `%` ([modulus](https://www.freecodecamp.org/news/the-python-modulo-operator-what-does-the-symbol-mean-in-python-solved/#:~:text=The%20%25%20symbol%20in%20Python%20is,basic%20syntax%20is%3A%20a%20%25%20b)) operator."
   ]
  },
  {
   "cell_type": "code",
   "execution_count": 59,
   "metadata": {},
   "outputs": [
    {
     "data": {
      "text/plain": [
       "4"
      ]
     },
     "execution_count": 59,
     "metadata": {},
     "output_type": "execute_result"
    }
   ],
   "source": [
    "num_array = np.array([1, 3, 4, 7, 21, 23, 28, 28, 30])\n",
    "\n",
    "even_count = 0\n",
    "\n",
    "for i in num_array:\n",
    "    if i % 2 == 0:\n",
    "        even_count = even_count + 1\n",
    "        \n",
    "even_count"
   ]
  },
  {
   "cell_type": "markdown",
   "metadata": {},
   "source": [
    "**Question 3.1.** Gina is playing darts. 🎯 Her dartboard contains ten equal-sized zones with point values from 1 to 10. Write code using `np.random.choice` that simulates her total score after 1000 dart tosses."
   ]
  },
  {
   "cell_type": "code",
   "execution_count": 62,
   "metadata": {
    "for_assignment_type": "student"
   },
   "outputs": [
    {
     "data": {
      "text/plain": [
       "5385"
      ]
     },
     "execution_count": 62,
     "metadata": {},
     "output_type": "execute_result"
    }
   ],
   "source": [
    "possible_point_values = np.arange(1, 11)\n",
    "\n",
    "tosses = 1000\n",
    "total_score = 0\n",
    "\n",
    "for i in range(tosses):\n",
    "    score = np.random.choice(possible_point_values)\n",
    "    total_score += score\n",
    "\n",
    "total_score"
   ]
  },
  {
   "cell_type": "code",
   "execution_count": 63,
   "metadata": {
    "deletable": false,
    "editable": false
   },
   "outputs": [
    {
     "data": {
      "text/html": [
       "<p><strong><pre style='display: inline;'>q3_1</pre></strong> passed!</p>"
      ],
      "text/plain": [
       "q3_1 results: All test cases passed!"
      ]
     },
     "execution_count": 63,
     "metadata": {},
     "output_type": "execute_result"
    }
   ],
   "source": [
    "grader.check(\"q3_1\")"
   ]
  },
  {
   "cell_type": "markdown",
   "metadata": {},
   "source": [
    "**Question 3.2.** What is the average point value of a dart thrown by Gina?"
   ]
  },
  {
   "cell_type": "code",
   "execution_count": 64,
   "metadata": {},
   "outputs": [
    {
     "data": {
      "text/plain": [
       "5.385"
      ]
     },
     "execution_count": 64,
     "metadata": {},
     "output_type": "execute_result"
    }
   ],
   "source": [
    "average_score = total_score / tosses\n",
    "average_score"
   ]
  },
  {
   "cell_type": "code",
   "execution_count": 65,
   "metadata": {
    "deletable": false,
    "editable": false
   },
   "outputs": [
    {
     "data": {
      "text/html": [
       "<p><strong><pre style='display: inline;'>q3_2</pre></strong> passed!</p>"
      ],
      "text/plain": [
       "q3_2 results: All test cases passed!"
      ]
     },
     "execution_count": 65,
     "metadata": {},
     "output_type": "execute_result"
    }
   ],
   "source": [
    "grader.check(\"q3_2\")"
   ]
  },
  {
   "cell_type": "markdown",
   "metadata": {},
   "source": [
    "**Question 3.3.** In the following cell, we've loaded in the text of _Peter Pan_ (1911) by J. M. Barrie. We've split the text into individual words, and stored these words in an array. Using a `for`-loop, assign `longer_than_8` to the number of words in the novel that are more than 8 letters long.  Look at [CIT 9.2](https://inferentialthinking.com/chapters/09/2/Iteration.html) if you get stuck.\n",
    "\n",
    "_**Hint:**_ You can find the number of letters in a word with the `len` function."
   ]
  },
  {
   "cell_type": "code",
   "execution_count": 66,
   "metadata": {
    "for_assignment_type": "student"
   },
   "outputs": [
    {
     "data": {
      "text/plain": [
       "2452"
      ]
     },
     "execution_count": 66,
     "metadata": {},
     "output_type": "execute_result"
    }
   ],
   "source": [
    "peter_string = open('data/peter_pan.txt', encoding='utf-8').read()\n",
    "peter_words = np.array(peter_string.split())\n",
    "\n",
    "longer_than_8 = 0\n",
    "\n",
    "for word in peter_words:\n",
    "    if len(word) > 8:\n",
    "        longer_than_8 += 1\n",
    "\n",
    "longer_than_8"
   ]
  },
  {
   "cell_type": "code",
   "execution_count": 67,
   "metadata": {
    "deletable": false,
    "editable": false
   },
   "outputs": [
    {
     "data": {
      "text/html": [
       "<p><strong><pre style='display: inline;'>q3_3</pre></strong> passed!</p>"
      ],
      "text/plain": [
       "q3_3 results: All test cases passed!"
      ]
     },
     "execution_count": 67,
     "metadata": {},
     "output_type": "execute_result"
    }
   ],
   "source": [
    "grader.check(\"q3_3\")"
   ]
  },
  {
   "cell_type": "markdown",
   "metadata": {},
   "source": [
    "Another use of the accumulator pattern is to create an array of results. We can start with an empty array, which we initialize once at the beginning, before iterating. Then inside a loop, we generate some result and append this result onto the end of the array. At the end of the loop, the array will contain **all** of the results we generated.  This is kind of like writing down all the results on a piece of paper, one at a time, as you generate them. We used this strategy in the [coin-flipping example in Lecture 10](https://dsc10.com/resources/lectures/lec10/lec10.html#Example:-Coin-flipping).\n",
    "\n",
    "The function we use to actually append values onto an existing array is `np.append`. This function takes as input the name of an array and some value to append. It returns an array with all the existing values in the input array, plus one more. It does not modify the input array directly, so you have to remember to save it. When we use `np.append` with the accumulator pattern, our code typically looks something like this: \n",
    "\n",
    "```py\n",
    "results_array = np.append(results_array, result)\n",
    "```"
   ]
  },
  {
   "cell_type": "markdown",
   "metadata": {},
   "source": [
    "**Question 3.4.** Use the strategy outlined above to assign `long_words` to an array of all the words in  _Peter Pan_ that are more than 8 characters long.  "
   ]
  },
  {
   "cell_type": "code",
   "execution_count": 68,
   "metadata": {},
   "outputs": [
    {
     "data": {
      "text/plain": [
       "array(['children,', 'delightful,', 'henceforth', ..., 'Neverland,',\n",
       "       'daughter,', 'heartless.'], dtype='<U57')"
      ]
     },
     "execution_count": 68,
     "metadata": {},
     "output_type": "execute_result"
    }
   ],
   "source": [
    "long_words = np.array([])\n",
    "\n",
    "for word in peter_words:\n",
    "    if len(word) > 8:\n",
    "        long_words = np.append(long_words, word)\n",
    "\n",
    "long_words"
   ]
  },
  {
   "cell_type": "code",
   "execution_count": 69,
   "metadata": {
    "deletable": false,
    "editable": false
   },
   "outputs": [
    {
     "data": {
      "text/html": [
       "<p><strong><pre style='display: inline;'>q3_4</pre></strong> passed!</p>"
      ],
      "text/plain": [
       "q3_4 results: All test cases passed!"
      ]
     },
     "execution_count": 69,
     "metadata": {},
     "output_type": "execute_result"
    }
   ],
   "source": [
    "grader.check(\"q3_4\")"
   ]
  },
  {
   "cell_type": "markdown",
   "metadata": {},
   "source": [
    "## 4. Hungry Billy 🍗 🍕🍟\n",
    "After a long day of class, Billy decides to go to Dirty Birds for dinner. Today's menu has Billy's four favorite foods: wings, pizza, fries, and mozzarella sticks. However, each dish has a 25% chance of running out before Billy can get to Dirty Birds.\n",
    "\n",
    "***Note:*** Use Python as your calculator. Your answers should be expressions (like `0.5 ** 2`); don't simplify your answers using an outside calculator. Also, all of your answers should be given as decimals between 0 and 1, not percentages."
   ]
  },
  {
   "cell_type": "markdown",
   "metadata": {},
   "source": [
    "**Question 4.1.** What is the probability that Billy will be able to eat wings at Dirty Birds?"
   ]
  },
  {
   "cell_type": "code",
   "execution_count": 72,
   "metadata": {},
   "outputs": [
    {
     "data": {
      "text/plain": [
       "0.75"
      ]
     },
     "execution_count": 72,
     "metadata": {},
     "output_type": "execute_result"
    }
   ],
   "source": [
    "wings_out = 0.25\n",
    "\n",
    "wings_prob = 1 - wings_out\n",
    "\n",
    "wings_prob"
   ]
  },
  {
   "cell_type": "code",
   "execution_count": 73,
   "metadata": {
    "deletable": false,
    "editable": false
   },
   "outputs": [
    {
     "data": {
      "text/html": [
       "<p><strong><pre style='display: inline;'>q4_1</pre></strong> passed!</p>"
      ],
      "text/plain": [
       "q4_1 results: All test cases passed!"
      ]
     },
     "execution_count": 73,
     "metadata": {},
     "output_type": "execute_result"
    }
   ],
   "source": [
    "grader.check(\"q4_1\")"
   ]
  },
  {
   "cell_type": "markdown",
   "metadata": {},
   "source": [
    "**Question 4.2.** What is the probability that Billy will be able to eat all four of these foods at Dirty Birds?"
   ]
  },
  {
   "cell_type": "code",
   "execution_count": 74,
   "metadata": {},
   "outputs": [
    {
     "data": {
      "text/plain": [
       "0.31640625"
      ]
     },
     "execution_count": 74,
     "metadata": {},
     "output_type": "execute_result"
    }
   ],
   "source": [
    "single_run_out_prob = 0.25\n",
    "none_run_out_prob = (1 - single_run_out_prob) ** 4\n",
    "\n",
    "all_prob = none_run_out_prob\n",
    "all_prob"
   ]
  },
  {
   "cell_type": "code",
   "execution_count": 75,
   "metadata": {
    "deletable": false,
    "editable": false
   },
   "outputs": [
    {
     "data": {
      "text/html": [
       "<p><strong><pre style='display: inline;'>q4_2</pre></strong> passed!</p>"
      ],
      "text/plain": [
       "q4_2 results: All test cases passed!"
      ]
     },
     "execution_count": 75,
     "metadata": {},
     "output_type": "execute_result"
    }
   ],
   "source": [
    "grader.check(\"q4_2\")"
   ]
  },
  {
   "cell_type": "markdown",
   "metadata": {},
   "source": [
    "**Question 4.3.** What is the probability that Dirty Birds will have run out of at least one of the four foods before Billy can get there?"
   ]
  },
  {
   "cell_type": "code",
   "execution_count": 76,
   "metadata": {},
   "outputs": [
    {
     "data": {
      "text/plain": [
       "0.68359375"
      ]
     },
     "execution_count": 76,
     "metadata": {},
     "output_type": "execute_result"
    }
   ],
   "source": [
    "something_is_out = 1 - none_run_out_prob\n",
    "something_is_out"
   ]
  },
  {
   "cell_type": "code",
   "execution_count": 77,
   "metadata": {
    "deletable": false,
    "editable": false
   },
   "outputs": [
    {
     "data": {
      "text/html": [
       "<p><strong><pre style='display: inline;'>q4_3</pre></strong> passed!</p>"
      ],
      "text/plain": [
       "q4_3 results: All test cases passed!"
      ]
     },
     "execution_count": 77,
     "metadata": {},
     "output_type": "execute_result"
    }
   ],
   "source": [
    "grader.check(\"q4_3\")"
   ]
  },
  {
   "cell_type": "markdown",
   "metadata": {},
   "source": [
    "To make up for their unpredictable food supply, Dirty Birds decides to hold a contest for some free HDH Dining swag. There is a bag with three red marbles, three green marbles, and three blue marbles. Billy has to draw three marbles **without replacement**. In order to win, all three marbles Billy draws must be of different colors."
   ]
  },
  {
   "cell_type": "markdown",
   "metadata": {},
   "source": [
    "**Question 4.4.** What is the probability that Billy wins the contest?\n",
    "\n",
    "_**Hint:**_ If you're stuck, start by determining the probability that the second marble Billy draws is different from the first marble Billy draws."
   ]
  },
  {
   "cell_type": "code",
   "execution_count": 87,
   "metadata": {},
   "outputs": [
    {
     "data": {
      "text/plain": [
       "0.32142857142857145"
      ]
     },
     "execution_count": 87,
     "metadata": {},
     "output_type": "execute_result"
    }
   ],
   "source": [
    "winning_combinations = 3 * 3 * 3\n",
    "\n",
    "total_combinations = 9 * 8 * 7\n",
    "totalx = 3 * 2 * 1\n",
    "\n",
    "total_combinations = total_combinations / totalx\n",
    "winning_prob = winning_combinations / total_combinations\n",
    "winning_prob"
   ]
  },
  {
   "cell_type": "code",
   "execution_count": 88,
   "metadata": {
    "deletable": false,
    "editable": false
   },
   "outputs": [
    {
     "data": {
      "text/html": [
       "<p><strong><pre style='display: inline;'>q4_4</pre></strong> passed!</p>"
      ],
      "text/plain": [
       "q4_4 results: All test cases passed!"
      ]
     },
     "execution_count": 88,
     "metadata": {},
     "output_type": "execute_result"
    }
   ],
   "source": [
    "grader.check(\"q4_4\")"
   ]
  },
  {
   "cell_type": "markdown",
   "metadata": {},
   "source": [
    "## Finish Line 🏁\n",
    "\n",
    "Congratulations! You are done with Lab 3.\n",
    "\n",
    "**Citations:** Did you use any generative artificial intelligence tools to assist you on this assignment? If so, please state, for each tool you used, the name of the tool (ex. ChatGPT) and the problem(s) in this assignment where you used the tool for help."
   ]
  },
  {
   "cell_type": "markdown",
   "metadata": {},
   "source": [
    "<hr style=\"color:Maroon;background-color:Maroon;border:0 none; height: 3px;\">\n",
    "\n",
    "Please cite tools here.\n",
    "\n",
    "<hr style=\"color:Maroon;background-color:Maroon;border:0 none; height: 3px;\">"
   ]
  },
  {
   "cell_type": "markdown",
   "metadata": {},
   "source": [
    "To submit your assignment:\n",
    "\n",
    "1. Select `Kernel -> Restart & Run All` to ensure that you have executed all cells, including the test cells.\n",
    "2. Read through the notebook to make sure everything is fine and all tests passed.\n",
    "3. Run the cell below to run all tests, and make sure that they all pass.\n",
    "4. Download your notebook using `File -> Download as -> Notebook (.ipynb)`, then upload your notebook to Gradescope.\n",
    "5. Stick around while the Gradescope autograder grades your work. Make sure you see that all tests have passed on Gradescope.\n",
    "6. Check that you have a confirmation email from Gradescope and save it as proof of your submission."
   ]
  },
  {
   "cell_type": "code",
   "execution_count": 89,
   "metadata": {},
   "outputs": [
    {
     "data": {
      "text/plain": [
       "q1_1 results:\n",
       "    q1_1 - 1 result:\n",
       "        Trying:\n",
       "            species_counts.shape[0] == 7\n",
       "        Expecting:\n",
       "            True\n",
       "        **********************************************************************\n",
       "        Line 1, in q1_1 0\n",
       "        Failed example:\n",
       "            species_counts.shape[0] == 7\n",
       "        Exception raised:\n",
       "            Traceback (most recent call last):\n",
       "              File \"/opt/conda/lib/python3.9/doctest.py\", line 1336, in __run\n",
       "                exec(compile(example.source, filename, \"single\",\n",
       "              File \"<doctest q1_1 0[0]>\", line 1, in <module>\n",
       "                species_counts.shape[0] == 7\n",
       "            AttributeError: 'ellipsis' object has no attribute 'shape'\n",
       "\n",
       "    q1_1 - 2 result:\n",
       "        Trying:\n",
       "            species_counts.shape[1] == 1\n",
       "        Expecting:\n",
       "            True\n",
       "        **********************************************************************\n",
       "        Line 1, in q1_1 1\n",
       "        Failed example:\n",
       "            species_counts.shape[1] == 1\n",
       "        Exception raised:\n",
       "            Traceback (most recent call last):\n",
       "              File \"/opt/conda/lib/python3.9/doctest.py\", line 1336, in __run\n",
       "                exec(compile(example.source, filename, \"single\",\n",
       "              File \"<doctest q1_1 1[0]>\", line 1, in <module>\n",
       "                species_counts.shape[1] == 1\n",
       "            AttributeError: 'ellipsis' object has no attribute 'shape'\n",
       "\n",
       "    q1_1 - 3 result:\n",
       "        Trying:\n",
       "            species_counts.get('Count').sum() == 17785\n",
       "        Expecting:\n",
       "            True\n",
       "        **********************************************************************\n",
       "        Line 1, in q1_1 2\n",
       "        Failed example:\n",
       "            species_counts.get('Count').sum() == 17785\n",
       "        Exception raised:\n",
       "            Traceback (most recent call last):\n",
       "              File \"/opt/conda/lib/python3.9/doctest.py\", line 1336, in __run\n",
       "                exec(compile(example.source, filename, \"single\",\n",
       "              File \"<doctest q1_1 2[0]>\", line 1, in <module>\n",
       "                species_counts.get('Count').sum() == 17785\n",
       "            AttributeError: 'ellipsis' object has no attribute 'get'\n",
       "\n",
       "q1_2 results:\n",
       "    q1_2 - 1 result:\n",
       "        Trying:\n",
       "            parks_with_species.shape[0] == 7\n",
       "        Expecting:\n",
       "            True\n",
       "        **********************************************************************\n",
       "        Line 1, in q1_2 0\n",
       "        Failed example:\n",
       "            parks_with_species.shape[0] == 7\n",
       "        Exception raised:\n",
       "            Traceback (most recent call last):\n",
       "              File \"/opt/conda/lib/python3.9/doctest.py\", line 1336, in __run\n",
       "                exec(compile(example.source, filename, \"single\",\n",
       "              File \"<doctest q1_2 0[0]>\", line 1, in <module>\n",
       "                parks_with_species.shape[0] == 7\n",
       "            AttributeError: 'ellipsis' object has no attribute 'shape'\n",
       "\n",
       "    q1_2 - 2 result:\n",
       "        Trying:\n",
       "            parks_with_species.shape[1] == 7\n",
       "        Expecting:\n",
       "            True\n",
       "        **********************************************************************\n",
       "        Line 1, in q1_2 1\n",
       "        Failed example:\n",
       "            parks_with_species.shape[1] == 7\n",
       "        Exception raised:\n",
       "            Traceback (most recent call last):\n",
       "              File \"/opt/conda/lib/python3.9/doctest.py\", line 1336, in __run\n",
       "                exec(compile(example.source, filename, \"single\",\n",
       "              File \"<doctest q1_2 1[0]>\", line 1, in <module>\n",
       "                parks_with_species.shape[1] == 7\n",
       "            AttributeError: 'ellipsis' object has no attribute 'shape'\n",
       "\n",
       "    q1_2 - 3 result:\n",
       "        Trying:\n",
       "            np.all(np.sort(parks_with_species.get('Count')) == np.sort(np.array([1885, 2294, 1797, 1416, 6310, 1995, 2088])))\n",
       "        Expecting:\n",
       "            True\n",
       "        **********************************************************************\n",
       "        Line 1, in q1_2 2\n",
       "        Failed example:\n",
       "            np.all(np.sort(parks_with_species.get('Count')) == np.sort(np.array([1885, 2294, 1797, 1416, 6310, 1995, 2088])))\n",
       "        Exception raised:\n",
       "            Traceback (most recent call last):\n",
       "              File \"/opt/conda/lib/python3.9/doctest.py\", line 1336, in __run\n",
       "                exec(compile(example.source, filename, \"single\",\n",
       "              File \"<doctest q1_2 2[0]>\", line 1, in <module>\n",
       "                np.all(np.sort(parks_with_species.get('Count')) == np.sort(np.array([1885, 2294, 1797, 1416, 6310, 1995, 2088])))\n",
       "            AttributeError: 'ellipsis' object has no attribute 'get'\n",
       "\n",
       "q1_3 results:\n",
       "    q1_3 - 1 result:\n",
       "        Trying:\n",
       "            species_category.shape[0] == 76\n",
       "        Expecting:\n",
       "            True\n",
       "        **********************************************************************\n",
       "        Line 1, in q1_3 0\n",
       "        Failed example:\n",
       "            species_category.shape[0] == 76\n",
       "        Exception raised:\n",
       "            Traceback (most recent call last):\n",
       "              File \"/opt/conda/lib/python3.9/doctest.py\", line 1336, in __run\n",
       "                exec(compile(example.source, filename, \"single\",\n",
       "              File \"<doctest q1_3 0[0]>\", line 1, in <module>\n",
       "                species_category.shape[0] == 76\n",
       "            NameError: name 'species_category' is not defined\n",
       "\n",
       "    q1_3 - 2 result:\n",
       "        Trying:\n",
       "            species_category.shape[1] == 3\n",
       "        Expecting:\n",
       "            True\n",
       "        **********************************************************************\n",
       "        Line 1, in q1_3 1\n",
       "        Failed example:\n",
       "            species_category.shape[1] == 3\n",
       "        Exception raised:\n",
       "            Traceback (most recent call last):\n",
       "              File \"/opt/conda/lib/python3.9/doctest.py\", line 1336, in __run\n",
       "                exec(compile(example.source, filename, \"single\",\n",
       "              File \"<doctest q1_3 1[0]>\", line 1, in <module>\n",
       "                species_category.shape[1] == 3\n",
       "            NameError: name 'species_category' is not defined\n",
       "\n",
       "    q1_3 - 3 result:\n",
       "        Trying:\n",
       "            species_category.get('Count').sum() == 17785\n",
       "        Expecting:\n",
       "            True\n",
       "        **********************************************************************\n",
       "        Line 1, in q1_3 2\n",
       "        Failed example:\n",
       "            species_category.get('Count').sum() == 17785\n",
       "        Exception raised:\n",
       "            Traceback (most recent call last):\n",
       "              File \"/opt/conda/lib/python3.9/doctest.py\", line 1336, in __run\n",
       "                exec(compile(example.source, filename, \"single\",\n",
       "              File \"<doctest q1_3 2[0]>\", line 1, in <module>\n",
       "                species_category.get('Count').sum() == 17785\n",
       "            NameError: name 'species_category' is not defined\n",
       "\n",
       "q2_1 results: All test cases passed!\n",
       "\n",
       "q2_2 results: All test cases passed!\n",
       "\n",
       "q2_3 results: All test cases passed!\n",
       "\n",
       "q2_4 results: All test cases passed!\n",
       "\n",
       "q2_5 results: All test cases passed!\n",
       "\n",
       "q3_1 results: All test cases passed!\n",
       "\n",
       "q3_2 results: All test cases passed!\n",
       "\n",
       "q3_3 results: All test cases passed!\n",
       "\n",
       "q3_4 results: All test cases passed!\n",
       "\n",
       "q4_1 results: All test cases passed!\n",
       "\n",
       "q4_2 results: All test cases passed!\n",
       "\n",
       "q4_3 results: All test cases passed!\n",
       "\n",
       "q4_4 results: All test cases passed!"
      ]
     },
     "execution_count": 89,
     "metadata": {},
     "output_type": "execute_result"
    }
   ],
   "source": [
    "# For your convenience, you can run this cell to run all the tests at once!\n",
    "grader.check_all()"
   ]
  },
  {
   "cell_type": "code",
   "execution_count": null,
   "metadata": {},
   "outputs": [],
   "source": []
  }
 ],
 "metadata": {
  "anaconda-cloud": {},
  "kernelspec": {
   "display_name": "Python 3 (ipykernel)",
   "language": "python",
   "name": "python3"
  },
  "language_info": {
   "codemirror_mode": {
    "name": "ipython",
    "version": 3
   },
   "file_extension": ".py",
   "mimetype": "text/x-python",
   "name": "python",
   "nbconvert_exporter": "python",
   "pygments_lexer": "ipython3",
   "version": "3.9.5"
  }
 },
 "nbformat": 4,
 "nbformat_minor": 4
}
