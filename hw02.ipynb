{
 "cells": [
  {
   "cell_type": "markdown",
   "metadata": {},
   "source": [
    "# Homework 2: DataFrames, Data Visualization, and Functions\n",
    "\n",
    "## Due Tuesday, April 23rd at 11:59PM\n",
    "\n",
    "Welcome to Homework 2! This week, we will cover DataFrame manipulations, making visualizations, and defining functions. You can find additional help on these topics in  [BPD 6, 9-12](https://notes.dsc10.com/01-getting_started/functions-defining.html) in the `babypandas` notes and [CIT 7-7.3](https://inferentialthinking.com/chapters/07/Visualization.html) in the textbook."
   ]
  },
  {
   "cell_type": "markdown",
   "metadata": {},
   "source": [
    "### Instructions\n",
    "\n",
    "Remember to start early and submit often. You are given six slip days throughout the quarter to extend deadlines. See the syllabus for more details. With the exception of using slip days, late work will not be accepted unless you have made special arrangements with your instructor.\n",
    "\n",
    "**Important**: For homeworks, the `otter` tests don't usually tell you that your answer is correct. More often, they help catch careless mistakes. It's up to you to ensure that your answer is correct. If you're not sure, ask someone (not for the answer, but for some guidance about your approach). These are great questions for office hours (see the schedule on the [Calendar](https://dsc10.com/calendar)) or Ed. Directly sharing answers is not okay, but discussing problems with the course staff or with other students is encouraged. \n",
    "\n",
    "**Please do not use for-loops for any questions in this homework.** If you don't know what a for-loop is, don't worry – we haven't covered them yet. But if you do know what they are and are wondering why it's not OK to use them, it is because loops in Python are slow, and looping over arrays and DataFrames should usually be avoided.\n",
    "\n",
    "<font color=red>**🚨 If you create a data visualization that is too cluttered to read or takes more than a few seconds to generate, this is a sign you are doing something wrong. Do not submit code like this, or the Gradescope autograder may fail to grade your entire assignment. It's better to leave a question blank than to submit code that will cause the autograder to fail on your full assignment.**</font>"
   ]
  },
  {
   "cell_type": "code",
   "execution_count": 126,
   "metadata": {},
   "outputs": [],
   "source": [
    "# Please don't change this cell, but do make sure to run it\n",
    "import babypandas as bpd\n",
    "import numpy as np\n",
    "\n",
    "import matplotlib.pyplot as plt\n",
    "plt.style.use('ggplot')\n",
    "plt.rcParams['figure.figsize'] = (10, 5)\n",
    "\n",
    "import otter\n",
    "grader = otter.Notebook()"
   ]
  },
  {
   "cell_type": "markdown",
   "metadata": {},
   "source": [
    "## 1. Gotta Catch 'Em All! ✅"
   ]
  },
  {
   "cell_type": "markdown",
   "metadata": {},
   "source": [
    "<center><img src=\"./images/pokemon.png\" width=400/></center>\n",
    "\n",
    "Pokémon is an immensely popular video game and animation franchise that originated in Japan in 1996. Pokémon, short for Pocket Monsters, come in a variety of types.  In this problem, we will investigate how attack and defense statistics vary among these types\n",
    "\n",
    "The file named `pokedex.csv` in the `data/` directory has a row for each Pokémon (up to the seventh generation), and the following columns.\n",
    "\n",
    "|Column|Description|\n",
    "|------|-----------|\n",
    "|pokedex_number|The Pokémon's identification number in an encyclopedia of all Pokémon.|\n",
    "|name|The name of the Pokémon.|\n",
    "|type|The categorical type of the Pokémon, for example, \"normal\", \"fire\", \"water\". Each Pokémon is limited to one type for simplicity.|\n",
    "|attack|The Pokémon's power for physical moves.|\n",
    "|defense|The Pokémon's ability to prevent damage from attacks.|\n",
    "|hp| Hit Points. Indicates how much damage a Pokémon can tolerate.|\n",
    "|sp_attack|Special Attack. The Pokémon's power for special moves.|\n",
    "|sp_defense|Special Defense. The Pokémon's ability to prevent damage from special attacks.|\n",
    "|generation|A group of Pokémon that are compatible for Pokémon games.|\n",
    "|is_legendary|Indicates whether the Pokémon is legendary. Legendary Pokémon are rare and powerful. 1 means legendary, 0 means not.|"
   ]
  },
  {
   "cell_type": "markdown",
   "metadata": {},
   "source": [
    "First, we read the data in as a DataFrame."
   ]
  },
  {
   "cell_type": "code",
   "execution_count": 127,
   "metadata": {
    "scrolled": true
   },
   "outputs": [
    {
     "data": {
      "text/html": [
       "<div>\n",
       "<style scoped>\n",
       "    .dataframe tbody tr th:only-of-type {\n",
       "        vertical-align: middle;\n",
       "    }\n",
       "\n",
       "    .dataframe tbody tr th {\n",
       "        vertical-align: top;\n",
       "    }\n",
       "\n",
       "    .dataframe thead th {\n",
       "        text-align: right;\n",
       "    }\n",
       "</style>\n",
       "<table border=\"1\" class=\"dataframe\">\n",
       "  <thead>\n",
       "    <tr style=\"text-align: right;\">\n",
       "      <th></th>\n",
       "      <th>pokedex_number</th>\n",
       "      <th>name</th>\n",
       "      <th>type</th>\n",
       "      <th>attack</th>\n",
       "      <th>defense</th>\n",
       "      <th>hp</th>\n",
       "      <th>sp_attack</th>\n",
       "      <th>sp_defense</th>\n",
       "      <th>generation</th>\n",
       "      <th>is_legendary</th>\n",
       "    </tr>\n",
       "  </thead>\n",
       "  <tbody>\n",
       "    <tr>\n",
       "      <th>0</th>\n",
       "      <td>460</td>\n",
       "      <td>Abomasnow</td>\n",
       "      <td>grass</td>\n",
       "      <td>132</td>\n",
       "      <td>105</td>\n",
       "      <td>90</td>\n",
       "      <td>132</td>\n",
       "      <td>105</td>\n",
       "      <td>4</td>\n",
       "      <td>0</td>\n",
       "    </tr>\n",
       "    <tr>\n",
       "      <th>1</th>\n",
       "      <td>63</td>\n",
       "      <td>Abra</td>\n",
       "      <td>psychic</td>\n",
       "      <td>20</td>\n",
       "      <td>15</td>\n",
       "      <td>25</td>\n",
       "      <td>105</td>\n",
       "      <td>55</td>\n",
       "      <td>1</td>\n",
       "      <td>0</td>\n",
       "    </tr>\n",
       "    <tr>\n",
       "      <th>2</th>\n",
       "      <td>359</td>\n",
       "      <td>Absol</td>\n",
       "      <td>dark</td>\n",
       "      <td>150</td>\n",
       "      <td>60</td>\n",
       "      <td>65</td>\n",
       "      <td>115</td>\n",
       "      <td>60</td>\n",
       "      <td>3</td>\n",
       "      <td>0</td>\n",
       "    </tr>\n",
       "    <tr>\n",
       "      <th>3</th>\n",
       "      <td>617</td>\n",
       "      <td>Accelgor</td>\n",
       "      <td>bug</td>\n",
       "      <td>70</td>\n",
       "      <td>40</td>\n",
       "      <td>80</td>\n",
       "      <td>100</td>\n",
       "      <td>60</td>\n",
       "      <td>5</td>\n",
       "      <td>0</td>\n",
       "    </tr>\n",
       "    <tr>\n",
       "      <th>4</th>\n",
       "      <td>681</td>\n",
       "      <td>Aegislash</td>\n",
       "      <td>steel</td>\n",
       "      <td>150</td>\n",
       "      <td>50</td>\n",
       "      <td>60</td>\n",
       "      <td>150</td>\n",
       "      <td>50</td>\n",
       "      <td>6</td>\n",
       "      <td>0</td>\n",
       "    </tr>\n",
       "    <tr>\n",
       "      <th>...</th>\n",
       "      <td>...</td>\n",
       "      <td>...</td>\n",
       "      <td>...</td>\n",
       "      <td>...</td>\n",
       "      <td>...</td>\n",
       "      <td>...</td>\n",
       "      <td>...</td>\n",
       "      <td>...</td>\n",
       "      <td>...</td>\n",
       "      <td>...</td>\n",
       "    </tr>\n",
       "    <tr>\n",
       "      <th>796</th>\n",
       "      <td>571</td>\n",
       "      <td>Zoroark</td>\n",
       "      <td>dark</td>\n",
       "      <td>105</td>\n",
       "      <td>60</td>\n",
       "      <td>60</td>\n",
       "      <td>120</td>\n",
       "      <td>60</td>\n",
       "      <td>5</td>\n",
       "      <td>0</td>\n",
       "    </tr>\n",
       "    <tr>\n",
       "      <th>797</th>\n",
       "      <td>570</td>\n",
       "      <td>Zorua</td>\n",
       "      <td>dark</td>\n",
       "      <td>65</td>\n",
       "      <td>40</td>\n",
       "      <td>40</td>\n",
       "      <td>80</td>\n",
       "      <td>40</td>\n",
       "      <td>5</td>\n",
       "      <td>0</td>\n",
       "    </tr>\n",
       "    <tr>\n",
       "      <th>798</th>\n",
       "      <td>41</td>\n",
       "      <td>Zubat</td>\n",
       "      <td>poison</td>\n",
       "      <td>45</td>\n",
       "      <td>35</td>\n",
       "      <td>40</td>\n",
       "      <td>30</td>\n",
       "      <td>40</td>\n",
       "      <td>1</td>\n",
       "      <td>0</td>\n",
       "    </tr>\n",
       "    <tr>\n",
       "      <th>799</th>\n",
       "      <td>634</td>\n",
       "      <td>Zweilous</td>\n",
       "      <td>dark</td>\n",
       "      <td>85</td>\n",
       "      <td>70</td>\n",
       "      <td>72</td>\n",
       "      <td>65</td>\n",
       "      <td>70</td>\n",
       "      <td>5</td>\n",
       "      <td>0</td>\n",
       "    </tr>\n",
       "    <tr>\n",
       "      <th>800</th>\n",
       "      <td>718</td>\n",
       "      <td>Zygarde</td>\n",
       "      <td>dragon</td>\n",
       "      <td>100</td>\n",
       "      <td>121</td>\n",
       "      <td>216</td>\n",
       "      <td>91</td>\n",
       "      <td>95</td>\n",
       "      <td>6</td>\n",
       "      <td>1</td>\n",
       "    </tr>\n",
       "  </tbody>\n",
       "</table>\n",
       "<p>801 rows × 10 columns</p>\n",
       "</div>"
      ],
      "text/plain": [
       "     pokedex_number       name     type  attack  defense   hp  sp_attack  \\\n",
       "0               460  Abomasnow    grass     132      105   90        132   \n",
       "1                63       Abra  psychic      20       15   25        105   \n",
       "2               359      Absol     dark     150       60   65        115   \n",
       "3               617   Accelgor      bug      70       40   80        100   \n",
       "4               681  Aegislash    steel     150       50   60        150   \n",
       "..              ...        ...      ...     ...      ...  ...        ...   \n",
       "796             571    Zoroark     dark     105       60   60        120   \n",
       "797             570      Zorua     dark      65       40   40         80   \n",
       "798              41      Zubat   poison      45       35   40         30   \n",
       "799             634   Zweilous     dark      85       70   72         65   \n",
       "800             718    Zygarde   dragon     100      121  216         91   \n",
       "\n",
       "     sp_defense  generation  is_legendary  \n",
       "0           105           4             0  \n",
       "1            55           1             0  \n",
       "2            60           3             0  \n",
       "3            60           5             0  \n",
       "4            50           6             0  \n",
       "..          ...         ...           ...  \n",
       "796          60           5             0  \n",
       "797          40           5             0  \n",
       "798          40           1             0  \n",
       "799          70           5             0  \n",
       "800          95           6             1  \n",
       "\n",
       "[801 rows x 10 columns]"
      ]
     },
     "execution_count": 127,
     "metadata": {},
     "output_type": "execute_result"
    }
   ],
   "source": [
    "pokedex = bpd.read_csv('data/pokedex.csv')\n",
    "pokedex"
   ]
  },
  {
   "cell_type": "markdown",
   "metadata": {},
   "source": [
    "Let's explore particular columns to get to know the data a little better. The `.describe()` method gives us some useful information about a column. Try it out on the `'name'` column."
   ]
  },
  {
   "cell_type": "code",
   "execution_count": 128,
   "metadata": {},
   "outputs": [
    {
     "data": {
      "text/plain": [
       "count           801\n",
       "unique          801\n",
       "top       Abomasnow\n",
       "freq              1\n",
       "Name: name, dtype: object"
      ]
     },
     "execution_count": 128,
     "metadata": {},
     "output_type": "execute_result"
    }
   ],
   "source": [
    "pokedex.get('name').describe()"
   ]
  },
  {
   "cell_type": "markdown",
   "metadata": {},
   "source": [
    "We learn that this column has 801 values, all of which are unique, and as a result the most frequent name appears only once.\n",
    "\n",
    "If we try this same command on the `'type'` column, we'll see that although there are 801 entries, only 18 of them are unique. There are many Pokémon with the same `'type'`. The most common `'type'` is `'water'`; there are 114 such Pokémon. "
   ]
  },
  {
   "cell_type": "code",
   "execution_count": 129,
   "metadata": {},
   "outputs": [
    {
     "data": {
      "text/plain": [
       "count       801\n",
       "unique       18\n",
       "top       water\n",
       "freq        114\n",
       "Name: type, dtype: object"
      ]
     },
     "execution_count": 129,
     "metadata": {},
     "output_type": "execute_result"
    }
   ],
   "source": [
    "pokedex.get('type').describe()"
   ]
  },
  {
   "cell_type": "markdown",
   "metadata": {},
   "source": [
    "**Question 1.1.** Which would be a better choice of index for this dataset, `'name'` or `'type'`? Set the index of `pokedex` to whichever of these two attributes makes more sense."
   ]
  },
  {
   "cell_type": "code",
   "execution_count": 130,
   "metadata": {},
   "outputs": [
    {
     "data": {
      "text/html": [
       "<div>\n",
       "<style scoped>\n",
       "    .dataframe tbody tr th:only-of-type {\n",
       "        vertical-align: middle;\n",
       "    }\n",
       "\n",
       "    .dataframe tbody tr th {\n",
       "        vertical-align: top;\n",
       "    }\n",
       "\n",
       "    .dataframe thead th {\n",
       "        text-align: right;\n",
       "    }\n",
       "</style>\n",
       "<table border=\"1\" class=\"dataframe\">\n",
       "  <thead>\n",
       "    <tr style=\"text-align: right;\">\n",
       "      <th></th>\n",
       "      <th>pokedex_number</th>\n",
       "      <th>type</th>\n",
       "      <th>attack</th>\n",
       "      <th>defense</th>\n",
       "      <th>hp</th>\n",
       "      <th>sp_attack</th>\n",
       "      <th>sp_defense</th>\n",
       "      <th>generation</th>\n",
       "      <th>is_legendary</th>\n",
       "    </tr>\n",
       "    <tr>\n",
       "      <th>name</th>\n",
       "      <th></th>\n",
       "      <th></th>\n",
       "      <th></th>\n",
       "      <th></th>\n",
       "      <th></th>\n",
       "      <th></th>\n",
       "      <th></th>\n",
       "      <th></th>\n",
       "      <th></th>\n",
       "    </tr>\n",
       "  </thead>\n",
       "  <tbody>\n",
       "    <tr>\n",
       "      <th>Abomasnow</th>\n",
       "      <td>460</td>\n",
       "      <td>grass</td>\n",
       "      <td>132</td>\n",
       "      <td>105</td>\n",
       "      <td>90</td>\n",
       "      <td>132</td>\n",
       "      <td>105</td>\n",
       "      <td>4</td>\n",
       "      <td>0</td>\n",
       "    </tr>\n",
       "    <tr>\n",
       "      <th>Abra</th>\n",
       "      <td>63</td>\n",
       "      <td>psychic</td>\n",
       "      <td>20</td>\n",
       "      <td>15</td>\n",
       "      <td>25</td>\n",
       "      <td>105</td>\n",
       "      <td>55</td>\n",
       "      <td>1</td>\n",
       "      <td>0</td>\n",
       "    </tr>\n",
       "    <tr>\n",
       "      <th>Absol</th>\n",
       "      <td>359</td>\n",
       "      <td>dark</td>\n",
       "      <td>150</td>\n",
       "      <td>60</td>\n",
       "      <td>65</td>\n",
       "      <td>115</td>\n",
       "      <td>60</td>\n",
       "      <td>3</td>\n",
       "      <td>0</td>\n",
       "    </tr>\n",
       "    <tr>\n",
       "      <th>Accelgor</th>\n",
       "      <td>617</td>\n",
       "      <td>bug</td>\n",
       "      <td>70</td>\n",
       "      <td>40</td>\n",
       "      <td>80</td>\n",
       "      <td>100</td>\n",
       "      <td>60</td>\n",
       "      <td>5</td>\n",
       "      <td>0</td>\n",
       "    </tr>\n",
       "    <tr>\n",
       "      <th>Aegislash</th>\n",
       "      <td>681</td>\n",
       "      <td>steel</td>\n",
       "      <td>150</td>\n",
       "      <td>50</td>\n",
       "      <td>60</td>\n",
       "      <td>150</td>\n",
       "      <td>50</td>\n",
       "      <td>6</td>\n",
       "      <td>0</td>\n",
       "    </tr>\n",
       "    <tr>\n",
       "      <th>...</th>\n",
       "      <td>...</td>\n",
       "      <td>...</td>\n",
       "      <td>...</td>\n",
       "      <td>...</td>\n",
       "      <td>...</td>\n",
       "      <td>...</td>\n",
       "      <td>...</td>\n",
       "      <td>...</td>\n",
       "      <td>...</td>\n",
       "    </tr>\n",
       "    <tr>\n",
       "      <th>Zoroark</th>\n",
       "      <td>571</td>\n",
       "      <td>dark</td>\n",
       "      <td>105</td>\n",
       "      <td>60</td>\n",
       "      <td>60</td>\n",
       "      <td>120</td>\n",
       "      <td>60</td>\n",
       "      <td>5</td>\n",
       "      <td>0</td>\n",
       "    </tr>\n",
       "    <tr>\n",
       "      <th>Zorua</th>\n",
       "      <td>570</td>\n",
       "      <td>dark</td>\n",
       "      <td>65</td>\n",
       "      <td>40</td>\n",
       "      <td>40</td>\n",
       "      <td>80</td>\n",
       "      <td>40</td>\n",
       "      <td>5</td>\n",
       "      <td>0</td>\n",
       "    </tr>\n",
       "    <tr>\n",
       "      <th>Zubat</th>\n",
       "      <td>41</td>\n",
       "      <td>poison</td>\n",
       "      <td>45</td>\n",
       "      <td>35</td>\n",
       "      <td>40</td>\n",
       "      <td>30</td>\n",
       "      <td>40</td>\n",
       "      <td>1</td>\n",
       "      <td>0</td>\n",
       "    </tr>\n",
       "    <tr>\n",
       "      <th>Zweilous</th>\n",
       "      <td>634</td>\n",
       "      <td>dark</td>\n",
       "      <td>85</td>\n",
       "      <td>70</td>\n",
       "      <td>72</td>\n",
       "      <td>65</td>\n",
       "      <td>70</td>\n",
       "      <td>5</td>\n",
       "      <td>0</td>\n",
       "    </tr>\n",
       "    <tr>\n",
       "      <th>Zygarde</th>\n",
       "      <td>718</td>\n",
       "      <td>dragon</td>\n",
       "      <td>100</td>\n",
       "      <td>121</td>\n",
       "      <td>216</td>\n",
       "      <td>91</td>\n",
       "      <td>95</td>\n",
       "      <td>6</td>\n",
       "      <td>1</td>\n",
       "    </tr>\n",
       "  </tbody>\n",
       "</table>\n",
       "<p>801 rows × 9 columns</p>\n",
       "</div>"
      ],
      "text/plain": [
       "           pokedex_number     type  attack  defense   hp  sp_attack  \\\n",
       "name                                                                  \n",
       "Abomasnow             460    grass     132      105   90        132   \n",
       "Abra                   63  psychic      20       15   25        105   \n",
       "Absol                 359     dark     150       60   65        115   \n",
       "Accelgor              617      bug      70       40   80        100   \n",
       "Aegislash             681    steel     150       50   60        150   \n",
       "...                   ...      ...     ...      ...  ...        ...   \n",
       "Zoroark               571     dark     105       60   60        120   \n",
       "Zorua                 570     dark      65       40   40         80   \n",
       "Zubat                  41   poison      45       35   40         30   \n",
       "Zweilous              634     dark      85       70   72         65   \n",
       "Zygarde               718   dragon     100      121  216         91   \n",
       "\n",
       "           sp_defense  generation  is_legendary  \n",
       "name                                             \n",
       "Abomasnow         105           4             0  \n",
       "Abra               55           1             0  \n",
       "Absol              60           3             0  \n",
       "Accelgor           60           5             0  \n",
       "Aegislash          50           6             0  \n",
       "...               ...         ...           ...  \n",
       "Zoroark            60           5             0  \n",
       "Zorua              40           5             0  \n",
       "Zubat              40           1             0  \n",
       "Zweilous           70           5             0  \n",
       "Zygarde            95           6             1  \n",
       "\n",
       "[801 rows x 9 columns]"
      ]
     },
     "execution_count": 130,
     "metadata": {},
     "output_type": "execute_result"
    }
   ],
   "source": [
    "pokedex = pokedex.set_index('name')\n",
    "pokedex"
   ]
  },
  {
   "cell_type": "code",
   "execution_count": 131,
   "metadata": {
    "deletable": false,
    "editable": false
   },
   "outputs": [
    {
     "data": {
      "text/html": [
       "<p><strong><pre style='display: inline;'>q1_1</pre></strong> passed!</p>"
      ],
      "text/plain": [
       "q1_1 results: All test cases passed!"
      ]
     },
     "execution_count": 131,
     "metadata": {},
     "output_type": "execute_result"
    }
   ],
   "source": [
    "grader.check(\"q1_1\")"
   ]
  },
  {
   "cell_type": "markdown",
   "metadata": {},
   "source": [
    "**Question 1.2.** Assign `weakest_attack` and `weakest_defense` to the names of the weakest Pokémon in terms of attack and defense respectively.\n",
    "\n",
    "Similarly, assign `strongest_attack` and `strongest_defense` to the names of the strongest Pokémon in terms of attack and defense respectively.\n",
    "\n",
    "In the case of a tie, choose any one of the equally weakest or equally strongest Pokémon."
   ]
  },
  {
   "cell_type": "code",
   "execution_count": 132,
   "metadata": {},
   "outputs": [
    {
     "name": "stdout",
     "output_type": "stream",
     "text": [
      "Weakest attack: Happiny\n",
      "Strongest attack: Heracross\n",
      "Weakest defense: Chansey\n",
      "Strongest defense: Aggron\n"
     ]
    }
   ],
   "source": [
    "weakest_attack = pokedex.sort_values(by='attack').index[0]\n",
    "print('Weakest attack:', weakest_attack)\n",
    "\n",
    "strongest_attack = pokedex.sort_values(by='attack').index[-1]\n",
    "print('Strongest attack:', strongest_attack)\n",
    "\n",
    "weakest_defense = pokedex.sort_values(by='defense').index[0]\n",
    "print('Weakest defense:', weakest_defense)\n",
    "\n",
    "strongest_defense = pokedex.sort_values(by='defense').index[-1]\n",
    "print('Strongest defense:', strongest_defense)"
   ]
  },
  {
   "cell_type": "code",
   "execution_count": 133,
   "metadata": {
    "deletable": false,
    "editable": false
   },
   "outputs": [
    {
     "data": {
      "text/html": [
       "<p><strong><pre style='display: inline;'>q1_2</pre></strong> passed!</p>"
      ],
      "text/plain": [
       "q1_2 results: All test cases passed!"
      ]
     },
     "execution_count": 133,
     "metadata": {},
     "output_type": "execute_result"
    }
   ],
   "source": [
    "grader.check(\"q1_2\")"
   ]
  },
  {
   "cell_type": "markdown",
   "metadata": {},
   "source": [
    "**Question 1.3.** Typically at the beginning of a game, the Pokémon trainer (the player) has to make a choice between `'water'`, `'grass'`, and `'fire'` Pokémon. Make a DataFrame named `water_grass_fire` containing only Pokémon of these `'type'`s. All columns of `pokedex` should be included."
   ]
  },
  {
   "cell_type": "code",
   "execution_count": 134,
   "metadata": {},
   "outputs": [
    {
     "data": {
      "text/html": [
       "<div>\n",
       "<style scoped>\n",
       "    .dataframe tbody tr th:only-of-type {\n",
       "        vertical-align: middle;\n",
       "    }\n",
       "\n",
       "    .dataframe tbody tr th {\n",
       "        vertical-align: top;\n",
       "    }\n",
       "\n",
       "    .dataframe thead th {\n",
       "        text-align: right;\n",
       "    }\n",
       "</style>\n",
       "<table border=\"1\" class=\"dataframe\">\n",
       "  <thead>\n",
       "    <tr style=\"text-align: right;\">\n",
       "      <th></th>\n",
       "      <th>pokedex_number</th>\n",
       "      <th>type</th>\n",
       "      <th>attack</th>\n",
       "      <th>defense</th>\n",
       "      <th>hp</th>\n",
       "      <th>sp_attack</th>\n",
       "      <th>sp_defense</th>\n",
       "      <th>generation</th>\n",
       "      <th>is_legendary</th>\n",
       "    </tr>\n",
       "    <tr>\n",
       "      <th>name</th>\n",
       "      <th></th>\n",
       "      <th></th>\n",
       "      <th></th>\n",
       "      <th></th>\n",
       "      <th></th>\n",
       "      <th></th>\n",
       "      <th></th>\n",
       "      <th></th>\n",
       "      <th></th>\n",
       "    </tr>\n",
       "  </thead>\n",
       "  <tbody>\n",
       "    <tr>\n",
       "      <th>Abomasnow</th>\n",
       "      <td>460</td>\n",
       "      <td>grass</td>\n",
       "      <td>132</td>\n",
       "      <td>105</td>\n",
       "      <td>90</td>\n",
       "      <td>132</td>\n",
       "      <td>105</td>\n",
       "      <td>4</td>\n",
       "      <td>0</td>\n",
       "    </tr>\n",
       "    <tr>\n",
       "      <th>Alomomola</th>\n",
       "      <td>594</td>\n",
       "      <td>water</td>\n",
       "      <td>75</td>\n",
       "      <td>80</td>\n",
       "      <td>165</td>\n",
       "      <td>40</td>\n",
       "      <td>45</td>\n",
       "      <td>5</td>\n",
       "      <td>0</td>\n",
       "    </tr>\n",
       "    <tr>\n",
       "      <th>Amoonguss</th>\n",
       "      <td>591</td>\n",
       "      <td>grass</td>\n",
       "      <td>85</td>\n",
       "      <td>70</td>\n",
       "      <td>114</td>\n",
       "      <td>85</td>\n",
       "      <td>80</td>\n",
       "      <td>5</td>\n",
       "      <td>0</td>\n",
       "    </tr>\n",
       "    <tr>\n",
       "      <th>Araquanid</th>\n",
       "      <td>752</td>\n",
       "      <td>water</td>\n",
       "      <td>70</td>\n",
       "      <td>92</td>\n",
       "      <td>68</td>\n",
       "      <td>50</td>\n",
       "      <td>132</td>\n",
       "      <td>7</td>\n",
       "      <td>0</td>\n",
       "    </tr>\n",
       "    <tr>\n",
       "      <th>Arcanine</th>\n",
       "      <td>59</td>\n",
       "      <td>fire</td>\n",
       "      <td>110</td>\n",
       "      <td>80</td>\n",
       "      <td>90</td>\n",
       "      <td>100</td>\n",
       "      <td>80</td>\n",
       "      <td>1</td>\n",
       "      <td>0</td>\n",
       "    </tr>\n",
       "    <tr>\n",
       "      <th>...</th>\n",
       "      <td>...</td>\n",
       "      <td>...</td>\n",
       "      <td>...</td>\n",
       "      <td>...</td>\n",
       "      <td>...</td>\n",
       "      <td>...</td>\n",
       "      <td>...</td>\n",
       "      <td>...</td>\n",
       "      <td>...</td>\n",
       "    </tr>\n",
       "    <tr>\n",
       "      <th>Whimsicott</th>\n",
       "      <td>547</td>\n",
       "      <td>grass</td>\n",
       "      <td>67</td>\n",
       "      <td>85</td>\n",
       "      <td>60</td>\n",
       "      <td>77</td>\n",
       "      <td>75</td>\n",
       "      <td>5</td>\n",
       "      <td>0</td>\n",
       "    </tr>\n",
       "    <tr>\n",
       "      <th>Whiscash</th>\n",
       "      <td>340</td>\n",
       "      <td>water</td>\n",
       "      <td>78</td>\n",
       "      <td>73</td>\n",
       "      <td>110</td>\n",
       "      <td>76</td>\n",
       "      <td>71</td>\n",
       "      <td>3</td>\n",
       "      <td>0</td>\n",
       "    </tr>\n",
       "    <tr>\n",
       "      <th>Wingull</th>\n",
       "      <td>278</td>\n",
       "      <td>water</td>\n",
       "      <td>30</td>\n",
       "      <td>30</td>\n",
       "      <td>40</td>\n",
       "      <td>55</td>\n",
       "      <td>30</td>\n",
       "      <td>3</td>\n",
       "      <td>0</td>\n",
       "    </tr>\n",
       "    <tr>\n",
       "      <th>Wishiwashi</th>\n",
       "      <td>746</td>\n",
       "      <td>water</td>\n",
       "      <td>140</td>\n",
       "      <td>130</td>\n",
       "      <td>45</td>\n",
       "      <td>140</td>\n",
       "      <td>135</td>\n",
       "      <td>7</td>\n",
       "      <td>0</td>\n",
       "    </tr>\n",
       "    <tr>\n",
       "      <th>Wooper</th>\n",
       "      <td>194</td>\n",
       "      <td>water</td>\n",
       "      <td>45</td>\n",
       "      <td>45</td>\n",
       "      <td>55</td>\n",
       "      <td>25</td>\n",
       "      <td>25</td>\n",
       "      <td>2</td>\n",
       "      <td>0</td>\n",
       "    </tr>\n",
       "  </tbody>\n",
       "</table>\n",
       "<p>244 rows × 9 columns</p>\n",
       "</div>"
      ],
      "text/plain": [
       "            pokedex_number   type  attack  defense   hp  sp_attack  \\\n",
       "name                                                                 \n",
       "Abomasnow              460  grass     132      105   90        132   \n",
       "Alomomola              594  water      75       80  165         40   \n",
       "Amoonguss              591  grass      85       70  114         85   \n",
       "Araquanid              752  water      70       92   68         50   \n",
       "Arcanine                59   fire     110       80   90        100   \n",
       "...                    ...    ...     ...      ...  ...        ...   \n",
       "Whimsicott             547  grass      67       85   60         77   \n",
       "Whiscash               340  water      78       73  110         76   \n",
       "Wingull                278  water      30       30   40         55   \n",
       "Wishiwashi             746  water     140      130   45        140   \n",
       "Wooper                 194  water      45       45   55         25   \n",
       "\n",
       "            sp_defense  generation  is_legendary  \n",
       "name                                              \n",
       "Abomasnow          105           4             0  \n",
       "Alomomola           45           5             0  \n",
       "Amoonguss           80           5             0  \n",
       "Araquanid          132           7             0  \n",
       "Arcanine            80           1             0  \n",
       "...                ...         ...           ...  \n",
       "Whimsicott          75           5             0  \n",
       "Whiscash            71           3             0  \n",
       "Wingull             30           3             0  \n",
       "Wishiwashi         135           7             0  \n",
       "Wooper              25           2             0  \n",
       "\n",
       "[244 rows x 9 columns]"
      ]
     },
     "execution_count": 134,
     "metadata": {},
     "output_type": "execute_result"
    }
   ],
   "source": [
    "water_grass_fire = pokedex[(pokedex.get('type') == 'water') | \n",
    "                           (pokedex.get('type') == 'grass') | \n",
    "                           (pokedex.get('type') == 'fire')]\n",
    "\n",
    "water_grass_fire"
   ]
  },
  {
   "cell_type": "code",
   "execution_count": 135,
   "metadata": {
    "deletable": false,
    "editable": false
   },
   "outputs": [
    {
     "data": {
      "text/html": [
       "<p><strong><pre style='display: inline;'>q1_3</pre></strong> passed!</p>"
      ],
      "text/plain": [
       "q1_3 results: All test cases passed!"
      ]
     },
     "execution_count": 135,
     "metadata": {},
     "output_type": "execute_result"
    }
   ],
   "source": [
    "grader.check(\"q1_3\")"
   ]
  },
  {
   "cell_type": "markdown",
   "metadata": {},
   "source": [
    "**Question 1.4.** Create a DataFrame named `legendary_pokemon`, indexed by `'type'` and having one column, called `'num_legendary'`, that contains the number of legendary Pokémon of each `'type'`. Only include `'type'`s with at least one legendary Pokémon of that `'type'`.\n",
    "\n",
    "***Hint:*** You will need to drop and rename columns. Instead of using `.drop`, you may want to use `.get` with a **list** containing the name of a single column."
   ]
  },
  {
   "cell_type": "code",
   "execution_count": 136,
   "metadata": {},
   "outputs": [
    {
     "data": {
      "text/html": [
       "<div>\n",
       "<style scoped>\n",
       "    .dataframe tbody tr th:only-of-type {\n",
       "        vertical-align: middle;\n",
       "    }\n",
       "\n",
       "    .dataframe tbody tr th {\n",
       "        vertical-align: top;\n",
       "    }\n",
       "\n",
       "    .dataframe thead th {\n",
       "        text-align: right;\n",
       "    }\n",
       "</style>\n",
       "<table border=\"1\" class=\"dataframe\">\n",
       "  <thead>\n",
       "    <tr style=\"text-align: right;\">\n",
       "      <th></th>\n",
       "      <th>num_legendary</th>\n",
       "    </tr>\n",
       "    <tr>\n",
       "      <th>type</th>\n",
       "      <th></th>\n",
       "    </tr>\n",
       "  </thead>\n",
       "  <tbody>\n",
       "    <tr>\n",
       "      <th>bug</th>\n",
       "      <td>3</td>\n",
       "    </tr>\n",
       "    <tr>\n",
       "      <th>dark</th>\n",
       "      <td>3</td>\n",
       "    </tr>\n",
       "    <tr>\n",
       "      <th>dragon</th>\n",
       "      <td>7</td>\n",
       "    </tr>\n",
       "    <tr>\n",
       "      <th>electric</th>\n",
       "      <td>5</td>\n",
       "    </tr>\n",
       "    <tr>\n",
       "      <th>fairy</th>\n",
       "      <td>1</td>\n",
       "    </tr>\n",
       "    <tr>\n",
       "      <th>...</th>\n",
       "      <td>...</td>\n",
       "    </tr>\n",
       "    <tr>\n",
       "      <th>normal</th>\n",
       "      <td>3</td>\n",
       "    </tr>\n",
       "    <tr>\n",
       "      <th>psychic</th>\n",
       "      <td>17</td>\n",
       "    </tr>\n",
       "    <tr>\n",
       "      <th>rock</th>\n",
       "      <td>4</td>\n",
       "    </tr>\n",
       "    <tr>\n",
       "      <th>steel</th>\n",
       "      <td>6</td>\n",
       "    </tr>\n",
       "    <tr>\n",
       "      <th>water</th>\n",
       "      <td>6</td>\n",
       "    </tr>\n",
       "  </tbody>\n",
       "</table>\n",
       "<p>16 rows × 1 columns</p>\n",
       "</div>"
      ],
      "text/plain": [
       "          num_legendary\n",
       "type                   \n",
       "bug                   3\n",
       "dark                  3\n",
       "dragon                7\n",
       "electric              5\n",
       "fairy                 1\n",
       "...                 ...\n",
       "normal                3\n",
       "psychic              17\n",
       "rock                  4\n",
       "steel                 6\n",
       "water                 6\n",
       "\n",
       "[16 rows x 1 columns]"
      ]
     },
     "execution_count": 136,
     "metadata": {},
     "output_type": "execute_result"
    }
   ],
   "source": [
    "legendary_pokemon_df = pokedex[pokedex.get('is_legendary') == 1]\n",
    "legendary_count = legendary_pokemon_df.groupby('type').size()\n",
    "legendary_pokemon = bpd.DataFrame().assign(num_legendary=legendary_count)\n",
    "\n",
    "legendary_pokemon"
   ]
  },
  {
   "cell_type": "code",
   "execution_count": 137,
   "metadata": {
    "deletable": false,
    "editable": false
   },
   "outputs": [
    {
     "data": {
      "text/html": [
       "<p><strong><pre style='display: inline;'>q1_4</pre></strong> passed!</p>"
      ],
      "text/plain": [
       "q1_4 results: All test cases passed!"
      ]
     },
     "execution_count": 137,
     "metadata": {},
     "output_type": "execute_result"
    }
   ],
   "source": [
    "grader.check(\"q1_4\")"
   ]
  },
  {
   "cell_type": "markdown",
   "metadata": {},
   "source": [
    "**Question 1.5.** Notice that the `legendary_pokemon` DataFrame has fewer than 18 rows, though the original data had 18 unique `'type'`s; this means that there are certain `'type'`s that don't have any legendary Pokémon. Determine which `'type'`s don't have any legendary Pokémon, and assign `non_legendary` to an array of these `'type'`s. "
   ]
  },
  {
   "cell_type": "code",
   "execution_count": 138,
   "metadata": {},
   "outputs": [
    {
     "data": {
      "text/plain": [
       "array(['poison', 'fighting'], dtype='<U8')"
      ]
     },
     "execution_count": 138,
     "metadata": {},
     "output_type": "execute_result"
    }
   ],
   "source": [
    "all_types = pokedex.get('type').unique()\n",
    "\n",
    "legendary_types = legendary_pokemon.index.values\n",
    "\n",
    "non_legendary = np.array([type_ for type_ in all_types if type_ not in legendary_types])\n",
    "\n",
    "non_legendary"
   ]
  },
  {
   "cell_type": "code",
   "execution_count": 139,
   "metadata": {
    "deletable": false,
    "editable": false
   },
   "outputs": [
    {
     "data": {
      "text/html": [
       "<p><strong><pre style='display: inline;'>q1_5</pre></strong> passed!</p>"
      ],
      "text/plain": [
       "q1_5 results: All test cases passed!"
      ]
     },
     "execution_count": 139,
     "metadata": {},
     "output_type": "execute_result"
    }
   ],
   "source": [
    "grader.check(\"q1_5\")"
   ]
  },
  {
   "cell_type": "markdown",
   "metadata": {},
   "source": [
    "**Question 1.6.** Suppose that as a Pokémon trainer, you want to assemble a strong team of Pokémon of various `'type'`s. Create a DataFrame called `mean_stats`, indexed by `'type'`, that contains the average statistics for Pokémon of each type. `mean_stats` should have five columns: `'attack'`, `'defense'`, `'hp'`, `'sp_attack'`, and `'sp_defense'`."
   ]
  },
  {
   "cell_type": "code",
   "execution_count": 140,
   "metadata": {},
   "outputs": [
    {
     "data": {
      "text/html": [
       "<div>\n",
       "<style scoped>\n",
       "    .dataframe tbody tr th:only-of-type {\n",
       "        vertical-align: middle;\n",
       "    }\n",
       "\n",
       "    .dataframe tbody tr th {\n",
       "        vertical-align: top;\n",
       "    }\n",
       "\n",
       "    .dataframe thead th {\n",
       "        text-align: right;\n",
       "    }\n",
       "</style>\n",
       "<table border=\"1\" class=\"dataframe\">\n",
       "  <thead>\n",
       "    <tr style=\"text-align: right;\">\n",
       "      <th></th>\n",
       "      <th>attack</th>\n",
       "      <th>defense</th>\n",
       "      <th>hp</th>\n",
       "      <th>sp_attack</th>\n",
       "      <th>sp_defense</th>\n",
       "    </tr>\n",
       "    <tr>\n",
       "      <th>type</th>\n",
       "      <th></th>\n",
       "      <th></th>\n",
       "      <th></th>\n",
       "      <th></th>\n",
       "      <th></th>\n",
       "    </tr>\n",
       "  </thead>\n",
       "  <tbody>\n",
       "    <tr>\n",
       "      <th>bug</th>\n",
       "      <td>70.125000</td>\n",
       "      <td>70.847222</td>\n",
       "      <td>56.722222</td>\n",
       "      <td>56.652778</td>\n",
       "      <td>62.513889</td>\n",
       "    </tr>\n",
       "    <tr>\n",
       "      <th>dark</th>\n",
       "      <td>87.793103</td>\n",
       "      <td>70.517241</td>\n",
       "      <td>72.551724</td>\n",
       "      <td>74.517241</td>\n",
       "      <td>69.068966</td>\n",
       "    </tr>\n",
       "    <tr>\n",
       "      <th>dragon</th>\n",
       "      <td>106.407407</td>\n",
       "      <td>86.259259</td>\n",
       "      <td>79.851852</td>\n",
       "      <td>89.592593</td>\n",
       "      <td>84.555556</td>\n",
       "    </tr>\n",
       "    <tr>\n",
       "      <th>electric</th>\n",
       "      <td>70.820513</td>\n",
       "      <td>61.820513</td>\n",
       "      <td>60.512821</td>\n",
       "      <td>87.538462</td>\n",
       "      <td>70.051282</td>\n",
       "    </tr>\n",
       "    <tr>\n",
       "      <th>fairy</th>\n",
       "      <td>62.111111</td>\n",
       "      <td>68.166667</td>\n",
       "      <td>73.944444</td>\n",
       "      <td>81.500000</td>\n",
       "      <td>87.777778</td>\n",
       "    </tr>\n",
       "    <tr>\n",
       "      <th>...</th>\n",
       "      <td>...</td>\n",
       "      <td>...</td>\n",
       "      <td>...</td>\n",
       "      <td>...</td>\n",
       "      <td>...</td>\n",
       "    </tr>\n",
       "    <tr>\n",
       "      <th>poison</th>\n",
       "      <td>72.656250</td>\n",
       "      <td>70.031250</td>\n",
       "      <td>65.593750</td>\n",
       "      <td>61.562500</td>\n",
       "      <td>65.531250</td>\n",
       "    </tr>\n",
       "    <tr>\n",
       "      <th>psychic</th>\n",
       "      <td>65.566038</td>\n",
       "      <td>69.264151</td>\n",
       "      <td>72.943396</td>\n",
       "      <td>92.603774</td>\n",
       "      <td>85.735849</td>\n",
       "    </tr>\n",
       "    <tr>\n",
       "      <th>rock</th>\n",
       "      <td>90.666667</td>\n",
       "      <td>96.266667</td>\n",
       "      <td>66.333333</td>\n",
       "      <td>63.200000</td>\n",
       "      <td>73.377778</td>\n",
       "    </tr>\n",
       "    <tr>\n",
       "      <th>steel</th>\n",
       "      <td>93.083333</td>\n",
       "      <td>120.208333</td>\n",
       "      <td>66.791667</td>\n",
       "      <td>72.708333</td>\n",
       "      <td>82.208333</td>\n",
       "    </tr>\n",
       "    <tr>\n",
       "      <th>water</th>\n",
       "      <td>73.307018</td>\n",
       "      <td>73.482456</td>\n",
       "      <td>70.219298</td>\n",
       "      <td>74.061404</td>\n",
       "      <td>71.798246</td>\n",
       "    </tr>\n",
       "  </tbody>\n",
       "</table>\n",
       "<p>18 rows × 5 columns</p>\n",
       "</div>"
      ],
      "text/plain": [
       "              attack     defense         hp  sp_attack  sp_defense\n",
       "type                                                              \n",
       "bug        70.125000   70.847222  56.722222  56.652778   62.513889\n",
       "dark       87.793103   70.517241  72.551724  74.517241   69.068966\n",
       "dragon    106.407407   86.259259  79.851852  89.592593   84.555556\n",
       "electric   70.820513   61.820513  60.512821  87.538462   70.051282\n",
       "fairy      62.111111   68.166667  73.944444  81.500000   87.777778\n",
       "...              ...         ...        ...        ...         ...\n",
       "poison     72.656250   70.031250  65.593750  61.562500   65.531250\n",
       "psychic    65.566038   69.264151  72.943396  92.603774   85.735849\n",
       "rock       90.666667   96.266667  66.333333  63.200000   73.377778\n",
       "steel      93.083333  120.208333  66.791667  72.708333   82.208333\n",
       "water      73.307018   73.482456  70.219298  74.061404   71.798246\n",
       "\n",
       "[18 rows x 5 columns]"
      ]
     },
     "execution_count": 140,
     "metadata": {},
     "output_type": "execute_result"
    }
   ],
   "source": [
    "mean_stats = pokedex.groupby('type').mean()\n",
    "mean_stats = mean_stats.get(['attack', 'defense', 'hp', 'sp_attack', 'sp_defense'])\n",
    "mean_stats"
   ]
  },
  {
   "cell_type": "code",
   "execution_count": 141,
   "metadata": {
    "deletable": false,
    "editable": false
   },
   "outputs": [
    {
     "data": {
      "text/html": [
       "<p><strong><pre style='display: inline;'>q1_6</pre></strong> passed!</p>"
      ],
      "text/plain": [
       "q1_6 results: All test cases passed!"
      ]
     },
     "execution_count": 141,
     "metadata": {},
     "output_type": "execute_result"
    }
   ],
   "source": [
    "grader.check(\"q1_6\")"
   ]
  },
  {
   "cell_type": "markdown",
   "metadata": {},
   "source": [
    "**Question 1.7.** A strong Pokémon is one that has high values for `'attack'`, `'defense'`, `'hp'`, `'sp_attack'`, and `'sp_defense'`. Suppose that you develop a formula to summarize all of these stats into a single number called strength. The strength of a Pokémon is a weighted average of these five stats, where each stat is weighted as follows:\n",
    "\n",
    "- `attack`: 20%\n",
    "- `defense`: 20%\n",
    "- `hp`: 30%\n",
    "- `sp_attack`: 15%\n",
    "- `sp_defense`: 15%\n",
    "\n",
    "Define a function called `calculate_strength` that takes as input the `'pokedex_number'` of a Pokémon and returns its strength, as defined above."
   ]
  },
  {
   "cell_type": "code",
   "execution_count": 142,
   "metadata": {
    "scrolled": true
   },
   "outputs": [],
   "source": [
    "def calculate_strength(number):\n",
    "    pokemon_stats = pokedex[pokedex.get('pokedex_number') == number]\n",
    "    \n",
    "    attack = pokemon_stats.get('attack').get(0)\n",
    "    defense = pokemon_stats.get('defense').get(0)\n",
    "    hp = pokemon_stats.get('hp').get(0)\n",
    "    sp_attack = pokemon_stats.get('sp_attack').get(0)\n",
    "    sp_defense = pokemon_stats.get('sp_defense').get(0)\n",
    "    \n",
    "    weights = {'attack': 0.20, 'defense': 0.20, 'hp': 0.30, 'sp_attack': 0.15, 'sp_defense': 0.15}\n",
    "    \n",
    "    strength = (attack * weights['attack']) + (defense * weights['defense']) + (hp * weights['hp']) + \\\n",
    "               (sp_attack * weights['sp_attack']) + (sp_defense * weights['sp_defense'])\n",
    "    \n",
    "    return strength"
   ]
  },
  {
   "cell_type": "code",
   "execution_count": 143,
   "metadata": {
    "deletable": false,
    "editable": false
   },
   "outputs": [
    {
     "data": {
      "text/html": [
       "<p><strong><pre style='display: inline;'>q1_7</pre></strong> passed!</p>"
      ],
      "text/plain": [
       "q1_7 results: All test cases passed!"
      ]
     },
     "execution_count": 143,
     "metadata": {},
     "output_type": "execute_result"
    }
   ],
   "source": [
    "grader.check(\"q1_7\")"
   ]
  },
  {
   "cell_type": "markdown",
   "metadata": {},
   "source": [
    "**Question 1.8.** Create a DataFrame called `with_strength` that contains all the columns of `pokedex` plus one more called `'strength'`, containing the strength of each Pokémon as defined in the previous question. Order the rows in descending order of `'strength'`.\n",
    "\n",
    "***Hint:*** Use the `calculate_strength` function you've already written.\n",
    "\n"
   ]
  },
  {
   "cell_type": "code",
   "execution_count": 144,
   "metadata": {},
   "outputs": [
    {
     "data": {
      "text/html": [
       "<div>\n",
       "<style scoped>\n",
       "    .dataframe tbody tr th:only-of-type {\n",
       "        vertical-align: middle;\n",
       "    }\n",
       "\n",
       "    .dataframe tbody tr th {\n",
       "        vertical-align: top;\n",
       "    }\n",
       "\n",
       "    .dataframe thead th {\n",
       "        text-align: right;\n",
       "    }\n",
       "</style>\n",
       "<table border=\"1\" class=\"dataframe\">\n",
       "  <thead>\n",
       "    <tr style=\"text-align: right;\">\n",
       "      <th></th>\n",
       "      <th>pokedex_number</th>\n",
       "      <th>type</th>\n",
       "      <th>attack</th>\n",
       "      <th>defense</th>\n",
       "      <th>hp</th>\n",
       "      <th>sp_attack</th>\n",
       "      <th>sp_defense</th>\n",
       "      <th>generation</th>\n",
       "      <th>is_legendary</th>\n",
       "      <th>strength</th>\n",
       "    </tr>\n",
       "    <tr>\n",
       "      <th>name</th>\n",
       "      <th></th>\n",
       "      <th></th>\n",
       "      <th></th>\n",
       "      <th></th>\n",
       "      <th></th>\n",
       "      <th></th>\n",
       "      <th></th>\n",
       "      <th></th>\n",
       "      <th></th>\n",
       "      <th></th>\n",
       "    </tr>\n",
       "  </thead>\n",
       "  <tbody>\n",
       "    <tr>\n",
       "      <th>Zygarde</th>\n",
       "      <td>718</td>\n",
       "      <td>dragon</td>\n",
       "      <td>100</td>\n",
       "      <td>121</td>\n",
       "      <td>216</td>\n",
       "      <td>91</td>\n",
       "      <td>95</td>\n",
       "      <td>6</td>\n",
       "      <td>1</td>\n",
       "      <td>136.90</td>\n",
       "    </tr>\n",
       "    <tr>\n",
       "      <th>Groudon</th>\n",
       "      <td>383</td>\n",
       "      <td>ground</td>\n",
       "      <td>180</td>\n",
       "      <td>160</td>\n",
       "      <td>100</td>\n",
       "      <td>150</td>\n",
       "      <td>90</td>\n",
       "      <td>3</td>\n",
       "      <td>1</td>\n",
       "      <td>134.00</td>\n",
       "    </tr>\n",
       "    <tr>\n",
       "      <th>Rayquaza</th>\n",
       "      <td>384</td>\n",
       "      <td>dragon</td>\n",
       "      <td>180</td>\n",
       "      <td>100</td>\n",
       "      <td>105</td>\n",
       "      <td>180</td>\n",
       "      <td>100</td>\n",
       "      <td>3</td>\n",
       "      <td>1</td>\n",
       "      <td>129.50</td>\n",
       "    </tr>\n",
       "    <tr>\n",
       "      <th>Kyogre</th>\n",
       "      <td>382</td>\n",
       "      <td>water</td>\n",
       "      <td>150</td>\n",
       "      <td>90</td>\n",
       "      <td>100</td>\n",
       "      <td>180</td>\n",
       "      <td>160</td>\n",
       "      <td>3</td>\n",
       "      <td>1</td>\n",
       "      <td>129.00</td>\n",
       "    </tr>\n",
       "    <tr>\n",
       "      <th>Tyranitar</th>\n",
       "      <td>248</td>\n",
       "      <td>rock</td>\n",
       "      <td>164</td>\n",
       "      <td>150</td>\n",
       "      <td>100</td>\n",
       "      <td>95</td>\n",
       "      <td>120</td>\n",
       "      <td>2</td>\n",
       "      <td>0</td>\n",
       "      <td>125.05</td>\n",
       "    </tr>\n",
       "    <tr>\n",
       "      <th>...</th>\n",
       "      <td>...</td>\n",
       "      <td>...</td>\n",
       "      <td>...</td>\n",
       "      <td>...</td>\n",
       "      <td>...</td>\n",
       "      <td>...</td>\n",
       "      <td>...</td>\n",
       "      <td>...</td>\n",
       "      <td>...</td>\n",
       "      <td>...</td>\n",
       "    </tr>\n",
       "    <tr>\n",
       "      <th>Wimpod</th>\n",
       "      <td>767</td>\n",
       "      <td>bug</td>\n",
       "      <td>35</td>\n",
       "      <td>40</td>\n",
       "      <td>25</td>\n",
       "      <td>20</td>\n",
       "      <td>30</td>\n",
       "      <td>7</td>\n",
       "      <td>0</td>\n",
       "      <td>30.00</td>\n",
       "    </tr>\n",
       "    <tr>\n",
       "      <th>Sunkern</th>\n",
       "      <td>191</td>\n",
       "      <td>grass</td>\n",
       "      <td>30</td>\n",
       "      <td>30</td>\n",
       "      <td>30</td>\n",
       "      <td>30</td>\n",
       "      <td>30</td>\n",
       "      <td>2</td>\n",
       "      <td>0</td>\n",
       "      <td>30.00</td>\n",
       "    </tr>\n",
       "    <tr>\n",
       "      <th>Pichu</th>\n",
       "      <td>172</td>\n",
       "      <td>electric</td>\n",
       "      <td>40</td>\n",
       "      <td>15</td>\n",
       "      <td>20</td>\n",
       "      <td>35</td>\n",
       "      <td>35</td>\n",
       "      <td>2</td>\n",
       "      <td>0</td>\n",
       "      <td>27.50</td>\n",
       "    </tr>\n",
       "    <tr>\n",
       "      <th>Magikarp</th>\n",
       "      <td>129</td>\n",
       "      <td>water</td>\n",
       "      <td>10</td>\n",
       "      <td>55</td>\n",
       "      <td>20</td>\n",
       "      <td>15</td>\n",
       "      <td>20</td>\n",
       "      <td>1</td>\n",
       "      <td>0</td>\n",
       "      <td>24.25</td>\n",
       "    </tr>\n",
       "    <tr>\n",
       "      <th>Feebas</th>\n",
       "      <td>349</td>\n",
       "      <td>water</td>\n",
       "      <td>15</td>\n",
       "      <td>20</td>\n",
       "      <td>20</td>\n",
       "      <td>10</td>\n",
       "      <td>55</td>\n",
       "      <td>3</td>\n",
       "      <td>0</td>\n",
       "      <td>22.75</td>\n",
       "    </tr>\n",
       "  </tbody>\n",
       "</table>\n",
       "<p>801 rows × 10 columns</p>\n",
       "</div>"
      ],
      "text/plain": [
       "           pokedex_number      type  attack  defense   hp  sp_attack  \\\n",
       "name                                                                   \n",
       "Zygarde               718    dragon     100      121  216         91   \n",
       "Groudon               383    ground     180      160  100        150   \n",
       "Rayquaza              384    dragon     180      100  105        180   \n",
       "Kyogre                382     water     150       90  100        180   \n",
       "Tyranitar             248      rock     164      150  100         95   \n",
       "...                   ...       ...     ...      ...  ...        ...   \n",
       "Wimpod                767       bug      35       40   25         20   \n",
       "Sunkern               191     grass      30       30   30         30   \n",
       "Pichu                 172  electric      40       15   20         35   \n",
       "Magikarp              129     water      10       55   20         15   \n",
       "Feebas                349     water      15       20   20         10   \n",
       "\n",
       "           sp_defense  generation  is_legendary  strength  \n",
       "name                                                       \n",
       "Zygarde            95           6             1    136.90  \n",
       "Groudon            90           3             1    134.00  \n",
       "Rayquaza          100           3             1    129.50  \n",
       "Kyogre            160           3             1    129.00  \n",
       "Tyranitar         120           2             0    125.05  \n",
       "...               ...         ...           ...       ...  \n",
       "Wimpod             30           7             0     30.00  \n",
       "Sunkern            30           2             0     30.00  \n",
       "Pichu              35           2             0     27.50  \n",
       "Magikarp           20           1             0     24.25  \n",
       "Feebas             55           3             0     22.75  \n",
       "\n",
       "[801 rows x 10 columns]"
      ]
     },
     "execution_count": 144,
     "metadata": {},
     "output_type": "execute_result"
    }
   ],
   "source": [
    "with_strength = pokedex.assign(strength=pokedex.get('pokedex_number').apply(calculate_strength))\n",
    "with_strength = with_strength.sort_values(by='strength', ascending=False)\n",
    "with_strength"
   ]
  },
  {
   "cell_type": "code",
   "execution_count": 145,
   "metadata": {
    "deletable": false,
    "editable": false
   },
   "outputs": [
    {
     "data": {
      "text/html": [
       "<p><strong><pre style='display: inline;'>q1_8</pre></strong> passed!</p>"
      ],
      "text/plain": [
       "q1_8 results: All test cases passed!"
      ]
     },
     "execution_count": 145,
     "metadata": {},
     "output_type": "execute_result"
    }
   ],
   "source": [
    "grader.check(\"q1_8\")"
   ]
  },
  {
   "cell_type": "markdown",
   "metadata": {},
   "source": [
    "**Question 1.9.** Make a plot that will help you answer the question, \"*Among water Pokémon, do those with stronger attack power also have stronger defense power?*\" Consider only regular `'attack'` and `'defense'`, **not** special (`'sp_attack'`, and `'sp_defense'`)."
   ]
  },
  {
   "cell_type": "markdown",
   "metadata": {
    "deletable": false,
    "editable": false
   },
   "source": [
    "<!-- BEGIN QUESTION -->\n",
    "\n",
    "<!--\n",
    "BEGIN QUESTION\n",
    "name: q1_9\n",
    "manual: true\n",
    "-->"
   ]
  },
  {
   "cell_type": "code",
   "execution_count": 146,
   "metadata": {},
   "outputs": [
    {
     "data": {
      "image/png": "[encoded data removed]",
      "text/plain": [
       "<Figure size 576x432 with 1 Axes>"
      ]
     },
     "metadata": {},
     "output_type": "display_data"
    }
   ],
   "source": [
    "water_pokemon = pokedex[pokedex.get('type') == 'water']\n",
    "\n",
    "plt.figure(figsize=(8, 6))\n",
    "plt.scatter(water_pokemon.get('attack'), water_pokemon.get('defense'), color='blue', alpha=0.5)\n",
    "plt.title(\"Attack vs Defense for Water Pokémon\")\n",
    "plt.xlabel(\"Attack\")\n",
    "plt.ylabel(\"Defense\")\n",
    "plt.grid(True)\n",
    "plt.show()"
   ]
  },
  {
   "cell_type": "markdown",
   "metadata": {},
   "source": [
    "<!-- END QUESTION -->\n",
    "\n",
    "\n",
    "\n",
    "**Question 1.10.** Considering that Pokémon `generation`s were developed in order, we might wonder how Pokémon have evolved over time. Draw a line plot that shows the trend, across generations, of the proportion of legendary Pokémon in each generation. This kind of plot might help you answer the question \"*Are later-generation Pokémon more likely to be legendary?*\"\n",
    "\n",
    "***Hint:*** You'll have to do some DataFrame manipulation before you can create the line plot."
   ]
  },
  {
   "cell_type": "markdown",
   "metadata": {
    "deletable": false,
    "editable": false
   },
   "source": [
    "<!-- BEGIN QUESTION -->\n",
    "\n",
    "<!--\n",
    "BEGIN QUESTION\n",
    "name: q1_10\n",
    "manual: true\n",
    "-->"
   ]
  },
  {
   "cell_type": "code",
   "execution_count": 147,
   "metadata": {},
   "outputs": [
    {
     "data": {
      "image/png": "[encoded data removed]",
      "text/plain": [
       "<Figure size 720x432 with 1 Axes>"
      ]
     },
     "metadata": {},
     "output_type": "display_data"
    }
   ],
   "source": [
    "legendary_proportion = pokedex.groupby('generation').mean().get('is_legendary')\n",
    "\n",
    "# Plot the trend\n",
    "plt.figure(figsize=(10, 6))\n",
    "plt.plot(legendary_proportion.index, legendary_proportion.values, marker='o', color='b', linestyle='-')\n",
    "plt.title(\"Proportion of Legendary Pokémon Across Generations\")\n",
    "plt.xlabel(\"Generation\")\n",
    "plt.ylabel(\"Proportion of Legendary Pokémon\")\n",
    "plt.xticks(legendary_proportion.index)\n",
    "plt.grid(True)\n",
    "plt.show()"
   ]
  },
  {
   "cell_type": "markdown",
   "metadata": {},
   "source": [
    "<!-- END QUESTION -->\n",
    "\n",
    "\n",
    "\n",
    "## 2. As Seen on TV 📺"
   ]
  },
  {
   "cell_type": "markdown",
   "metadata": {},
   "source": [
    "In this problem, we'll work with a dataset from [Kaggle](https://www.kaggle.com/datasets/devanshiipatel/imdb-tv-shows/)  containing information about different TV shows, originally obtained from the Internet Movie Database (IMDb). In the cell below, we load the dataset in as a DataFrame named `tv_shows`. Take some time to look at the data in `tv_shows` to see what information is recorded."
   ]
  },
  {
   "cell_type": "code",
   "execution_count": 148,
   "metadata": {},
   "outputs": [
    {
     "data": {
      "text/html": [
       "<div>\n",
       "<style scoped>\n",
       "    .dataframe tbody tr th:only-of-type {\n",
       "        vertical-align: middle;\n",
       "    }\n",
       "\n",
       "    .dataframe tbody tr th {\n",
       "        vertical-align: top;\n",
       "    }\n",
       "\n",
       "    .dataframe thead th {\n",
       "        text-align: right;\n",
       "    }\n",
       "</style>\n",
       "<table border=\"1\" class=\"dataframe\">\n",
       "  <thead>\n",
       "    <tr style=\"text-align: right;\">\n",
       "      <th></th>\n",
       "      <th>Title</th>\n",
       "      <th>About</th>\n",
       "      <th>Genres</th>\n",
       "      <th>Actors</th>\n",
       "      <th>Rating</th>\n",
       "      <th>Votes</th>\n",
       "      <th>Years</th>\n",
       "    </tr>\n",
       "  </thead>\n",
       "  <tbody>\n",
       "    <tr>\n",
       "      <th>0</th>\n",
       "      <td>The Family Man</td>\n",
       "      <td>A working man from the National Investigation ...</td>\n",
       "      <td>Action, Comedy, Drama</td>\n",
       "      <td>Manoj Bajpayee, Samantha Akkineni, Priyamani, ...</td>\n",
       "      <td>8.8</td>\n",
       "      <td>57632</td>\n",
       "      <td>2019–</td>\n",
       "    </tr>\n",
       "    <tr>\n",
       "      <th>1</th>\n",
       "      <td>Lucifer</td>\n",
       "      <td>Lucifer Morningstar has decided he's had enoug...</td>\n",
       "      <td>Crime, Drama, Fantasy</td>\n",
       "      <td>Tom Ellis, Lauren German, Lesley-Ann Brandt, K...</td>\n",
       "      <td>8.1</td>\n",
       "      <td>252826</td>\n",
       "      <td>2016–</td>\n",
       "    </tr>\n",
       "    <tr>\n",
       "      <th>2</th>\n",
       "      <td>The Handmaid's Tale</td>\n",
       "      <td>Set in a dystopian future, a woman is forced t...</td>\n",
       "      <td>Drama, Sci-Fi, Thriller</td>\n",
       "      <td>Elisabeth Moss, Yvonne Strahovski, Joseph Fien...</td>\n",
       "      <td>8.4</td>\n",
       "      <td>187007</td>\n",
       "      <td>2017–</td>\n",
       "    </tr>\n",
       "    <tr>\n",
       "      <th>3</th>\n",
       "      <td>StartUp</td>\n",
       "      <td>A desperate banker, a Haitian-American gang lo...</td>\n",
       "      <td>Crime, Thriller</td>\n",
       "      <td>Adam Brody, Edi Gathegi, Otmara Marrero, Krist...</td>\n",
       "      <td>8.0</td>\n",
       "      <td>18165</td>\n",
       "      <td>2016–2018</td>\n",
       "    </tr>\n",
       "    <tr>\n",
       "      <th>4</th>\n",
       "      <td>Game of Thrones</td>\n",
       "      <td>Nine noble families fight for control over the...</td>\n",
       "      <td>Action, Adventure, Drama</td>\n",
       "      <td>Emilia Clarke, Peter Dinklage, Kit Harington, ...</td>\n",
       "      <td>9.3</td>\n",
       "      <td>1823966</td>\n",
       "      <td>2011–2019</td>\n",
       "    </tr>\n",
       "    <tr>\n",
       "      <th>...</th>\n",
       "      <td>...</td>\n",
       "      <td>...</td>\n",
       "      <td>...</td>\n",
       "      <td>...</td>\n",
       "      <td>...</td>\n",
       "      <td>...</td>\n",
       "      <td>...</td>\n",
       "    </tr>\n",
       "    <tr>\n",
       "      <th>2826</th>\n",
       "      <td>A Drop of True Blood</td>\n",
       "      <td>A kids' show centered around a special agent-i...</td>\n",
       "      <td>Short, Drama, Fantasy</td>\n",
       "      <td>Claudia Abrego, Ryan Kwanten, Stephen Moyer, A...</td>\n",
       "      <td>8.1</td>\n",
       "      <td>572</td>\n",
       "      <td>2010–</td>\n",
       "    </tr>\n",
       "    <tr>\n",
       "      <th>2827</th>\n",
       "      <td>Yu-Gi-Oh! GX</td>\n",
       "      <td>An anthology series in which each episode is a...</td>\n",
       "      <td>Animation, Action, Adventure</td>\n",
       "      <td>Matthew Labyorteaux, Wayne Grayson, Tony Saler...</td>\n",
       "      <td>6.8</td>\n",
       "      <td>4115</td>\n",
       "      <td>2004–2008</td>\n",
       "    </tr>\n",
       "    <tr>\n",
       "      <th>2828</th>\n",
       "      <td>Special Agent Oso</td>\n",
       "      <td>Four teenage heroes-for-hire warp through the ...</td>\n",
       "      <td>Animation, Action, Adventure</td>\n",
       "      <td>Meghan Strange, Gary Anthony Williams, Sean As...</td>\n",
       "      <td>5.2</td>\n",
       "      <td>475</td>\n",
       "      <td>2009–2012</td>\n",
       "    </tr>\n",
       "    <tr>\n",
       "      <th>2829</th>\n",
       "      <td>Metal Hurlant Chronicles</td>\n",
       "      <td>An expose on the U.S. government's secret prog...</td>\n",
       "      <td>Action, Sci-Fi</td>\n",
       "      <td>Scott Adkins, Karl E. Landler, Dominique Pinon...</td>\n",
       "      <td>5.8</td>\n",
       "      <td>1630</td>\n",
       "      <td>2012–2014</td>\n",
       "    </tr>\n",
       "    <tr>\n",
       "      <th>2830</th>\n",
       "      <td>Bravest Warriors</td>\n",
       "      <td>The adventures of young H.G. Wells and his tim...</td>\n",
       "      <td>Animation, Action, Adventure</td>\n",
       "      <td>Liliana Mumy, John Omohundro, Ian Jones-Quarte...</td>\n",
       "      <td>8.1</td>\n",
       "      <td>3187</td>\n",
       "      <td>2012–</td>\n",
       "    </tr>\n",
       "  </tbody>\n",
       "</table>\n",
       "<p>2831 rows × 7 columns</p>\n",
       "</div>"
      ],
      "text/plain": [
       "                         Title  \\\n",
       "0               The Family Man   \n",
       "1                      Lucifer   \n",
       "2          The Handmaid's Tale   \n",
       "3                      StartUp   \n",
       "4              Game of Thrones   \n",
       "...                        ...   \n",
       "2826      A Drop of True Blood   \n",
       "2827              Yu-Gi-Oh! GX   \n",
       "2828         Special Agent Oso   \n",
       "2829  Metal Hurlant Chronicles   \n",
       "2830          Bravest Warriors   \n",
       "\n",
       "                                                  About  \\\n",
       "0     A working man from the National Investigation ...   \n",
       "1     Lucifer Morningstar has decided he's had enoug...   \n",
       "2     Set in a dystopian future, a woman is forced t...   \n",
       "3     A desperate banker, a Haitian-American gang lo...   \n",
       "4     Nine noble families fight for control over the...   \n",
       "...                                                 ...   \n",
       "2826  A kids' show centered around a special agent-i...   \n",
       "2827  An anthology series in which each episode is a...   \n",
       "2828  Four teenage heroes-for-hire warp through the ...   \n",
       "2829  An expose on the U.S. government's secret prog...   \n",
       "2830  The adventures of young H.G. Wells and his tim...   \n",
       "\n",
       "                            Genres  \\\n",
       "0            Action, Comedy, Drama   \n",
       "1            Crime, Drama, Fantasy   \n",
       "2          Drama, Sci-Fi, Thriller   \n",
       "3                  Crime, Thriller   \n",
       "4         Action, Adventure, Drama   \n",
       "...                            ...   \n",
       "2826         Short, Drama, Fantasy   \n",
       "2827  Animation, Action, Adventure   \n",
       "2828  Animation, Action, Adventure   \n",
       "2829                Action, Sci-Fi   \n",
       "2830  Animation, Action, Adventure   \n",
       "\n",
       "                                                 Actors  Rating    Votes  \\\n",
       "0     Manoj Bajpayee, Samantha Akkineni, Priyamani, ...     8.8    57632   \n",
       "1     Tom Ellis, Lauren German, Lesley-Ann Brandt, K...     8.1   252826   \n",
       "2     Elisabeth Moss, Yvonne Strahovski, Joseph Fien...     8.4   187007   \n",
       "3     Adam Brody, Edi Gathegi, Otmara Marrero, Krist...     8.0    18165   \n",
       "4     Emilia Clarke, Peter Dinklage, Kit Harington, ...     9.3  1823966   \n",
       "...                                                 ...     ...      ...   \n",
       "2826  Claudia Abrego, Ryan Kwanten, Stephen Moyer, A...     8.1      572   \n",
       "2827  Matthew Labyorteaux, Wayne Grayson, Tony Saler...     6.8     4115   \n",
       "2828  Meghan Strange, Gary Anthony Williams, Sean As...     5.2      475   \n",
       "2829  Scott Adkins, Karl E. Landler, Dominique Pinon...     5.8     1630   \n",
       "2830  Liliana Mumy, John Omohundro, Ian Jones-Quarte...     8.1     3187   \n",
       "\n",
       "          Years  \n",
       "0        2019–   \n",
       "1        2016–   \n",
       "2        2017–   \n",
       "3     2016–2018  \n",
       "4     2011–2019  \n",
       "...         ...  \n",
       "2826     2010–   \n",
       "2827  2004–2008  \n",
       "2828  2009–2012  \n",
       "2829  2012–2014  \n",
       "2830     2012–   \n",
       "\n",
       "[2831 rows x 7 columns]"
      ]
     },
     "execution_count": 148,
     "metadata": {},
     "output_type": "execute_result"
    }
   ],
   "source": [
    "# Run this cell to load the dataset.\n",
    "tv_shows = bpd.read_csv('data/tv_shows.csv')\n",
    "tv_shows"
   ]
  },
  {
   "cell_type": "markdown",
   "metadata": {},
   "source": [
    "**Question 2.1.** If you look at the `'Years'` column in the DataFrame, you'll notice that most of the year ranges are separated by en dashes (`–`). Note that if a show was still on air at the time of data collection, its value in the `'Years'` column will end with an en dash. For example, in the first row of the DataFrame, the value in the `'Years'` column is `'2019–'`, meaning that the show has been airing since 2019. The presence of en dashes indicates that the `'Years'` column contains strings, not ints, since Python never displays ints separated by en dashes.\n",
    "\n",
    "Complete the implementation of the function `extract_start_year_as_int`, which takes as input a string `v` representing a year range, like the values listed in the DataFrame above, and outputs the start year of `v` as an int. For example, passing in the string `'2016–2018'` to the function should return the int `2016`.\n",
    "\n",
    "Then, use your function to add a column called `'StartYear'` to the `tv_shows` DataFrame that contains the start year of each show as an integer. You should directly modify the `tv_shows` DataFrame for this question.\n",
    "\n",
    "\n",
    "**_Hints:_** \n",
    "- En dashes (`–`) are **not** the same as hyphens (`-`)! The easiest way to get an en dash is to **copy it from here**: `–`.\n",
    "- The string method [`.split()`](https://docs.python.org/3/library/stdtypes.html#str.split) will be helpful.\n"
   ]
  },
  {
   "cell_type": "code",
   "execution_count": 149,
   "metadata": {},
   "outputs": [],
   "source": [
    "def extract_start_year_as_int(v):\n",
    "    return int(v.split('–')[0])  # Splitting by en dash and taking the first part"
   ]
  },
  {
   "cell_type": "code",
   "execution_count": 150,
   "metadata": {},
   "outputs": [
    {
     "data": {
      "text/html": [
       "<div>\n",
       "<style scoped>\n",
       "    .dataframe tbody tr th:only-of-type {\n",
       "        vertical-align: middle;\n",
       "    }\n",
       "\n",
       "    .dataframe tbody tr th {\n",
       "        vertical-align: top;\n",
       "    }\n",
       "\n",
       "    .dataframe thead th {\n",
       "        text-align: right;\n",
       "    }\n",
       "</style>\n",
       "<table border=\"1\" class=\"dataframe\">\n",
       "  <thead>\n",
       "    <tr style=\"text-align: right;\">\n",
       "      <th></th>\n",
       "      <th>Title</th>\n",
       "      <th>About</th>\n",
       "      <th>Genres</th>\n",
       "      <th>Actors</th>\n",
       "      <th>Rating</th>\n",
       "      <th>Votes</th>\n",
       "      <th>Years</th>\n",
       "      <th>StartYear</th>\n",
       "    </tr>\n",
       "  </thead>\n",
       "  <tbody>\n",
       "    <tr>\n",
       "      <th>0</th>\n",
       "      <td>The Family Man</td>\n",
       "      <td>A working man from the National Investigation ...</td>\n",
       "      <td>Action, Comedy, Drama</td>\n",
       "      <td>Manoj Bajpayee, Samantha Akkineni, Priyamani, ...</td>\n",
       "      <td>8.8</td>\n",
       "      <td>57632</td>\n",
       "      <td>2019–</td>\n",
       "      <td>2019</td>\n",
       "    </tr>\n",
       "    <tr>\n",
       "      <th>1</th>\n",
       "      <td>Lucifer</td>\n",
       "      <td>Lucifer Morningstar has decided he's had enoug...</td>\n",
       "      <td>Crime, Drama, Fantasy</td>\n",
       "      <td>Tom Ellis, Lauren German, Lesley-Ann Brandt, K...</td>\n",
       "      <td>8.1</td>\n",
       "      <td>252826</td>\n",
       "      <td>2016–</td>\n",
       "      <td>2016</td>\n",
       "    </tr>\n",
       "    <tr>\n",
       "      <th>2</th>\n",
       "      <td>The Handmaid's Tale</td>\n",
       "      <td>Set in a dystopian future, a woman is forced t...</td>\n",
       "      <td>Drama, Sci-Fi, Thriller</td>\n",
       "      <td>Elisabeth Moss, Yvonne Strahovski, Joseph Fien...</td>\n",
       "      <td>8.4</td>\n",
       "      <td>187007</td>\n",
       "      <td>2017–</td>\n",
       "      <td>2017</td>\n",
       "    </tr>\n",
       "    <tr>\n",
       "      <th>3</th>\n",
       "      <td>StartUp</td>\n",
       "      <td>A desperate banker, a Haitian-American gang lo...</td>\n",
       "      <td>Crime, Thriller</td>\n",
       "      <td>Adam Brody, Edi Gathegi, Otmara Marrero, Krist...</td>\n",
       "      <td>8.0</td>\n",
       "      <td>18165</td>\n",
       "      <td>2016–2018</td>\n",
       "      <td>2016</td>\n",
       "    </tr>\n",
       "    <tr>\n",
       "      <th>4</th>\n",
       "      <td>Game of Thrones</td>\n",
       "      <td>Nine noble families fight for control over the...</td>\n",
       "      <td>Action, Adventure, Drama</td>\n",
       "      <td>Emilia Clarke, Peter Dinklage, Kit Harington, ...</td>\n",
       "      <td>9.3</td>\n",
       "      <td>1823966</td>\n",
       "      <td>2011–2019</td>\n",
       "      <td>2011</td>\n",
       "    </tr>\n",
       "    <tr>\n",
       "      <th>...</th>\n",
       "      <td>...</td>\n",
       "      <td>...</td>\n",
       "      <td>...</td>\n",
       "      <td>...</td>\n",
       "      <td>...</td>\n",
       "      <td>...</td>\n",
       "      <td>...</td>\n",
       "      <td>...</td>\n",
       "    </tr>\n",
       "    <tr>\n",
       "      <th>2826</th>\n",
       "      <td>A Drop of True Blood</td>\n",
       "      <td>A kids' show centered around a special agent-i...</td>\n",
       "      <td>Short, Drama, Fantasy</td>\n",
       "      <td>Claudia Abrego, Ryan Kwanten, Stephen Moyer, A...</td>\n",
       "      <td>8.1</td>\n",
       "      <td>572</td>\n",
       "      <td>2010–</td>\n",
       "      <td>2010</td>\n",
       "    </tr>\n",
       "    <tr>\n",
       "      <th>2827</th>\n",
       "      <td>Yu-Gi-Oh! GX</td>\n",
       "      <td>An anthology series in which each episode is a...</td>\n",
       "      <td>Animation, Action, Adventure</td>\n",
       "      <td>Matthew Labyorteaux, Wayne Grayson, Tony Saler...</td>\n",
       "      <td>6.8</td>\n",
       "      <td>4115</td>\n",
       "      <td>2004–2008</td>\n",
       "      <td>2004</td>\n",
       "    </tr>\n",
       "    <tr>\n",
       "      <th>2828</th>\n",
       "      <td>Special Agent Oso</td>\n",
       "      <td>Four teenage heroes-for-hire warp through the ...</td>\n",
       "      <td>Animation, Action, Adventure</td>\n",
       "      <td>Meghan Strange, Gary Anthony Williams, Sean As...</td>\n",
       "      <td>5.2</td>\n",
       "      <td>475</td>\n",
       "      <td>2009–2012</td>\n",
       "      <td>2009</td>\n",
       "    </tr>\n",
       "    <tr>\n",
       "      <th>2829</th>\n",
       "      <td>Metal Hurlant Chronicles</td>\n",
       "      <td>An expose on the U.S. government's secret prog...</td>\n",
       "      <td>Action, Sci-Fi</td>\n",
       "      <td>Scott Adkins, Karl E. Landler, Dominique Pinon...</td>\n",
       "      <td>5.8</td>\n",
       "      <td>1630</td>\n",
       "      <td>2012–2014</td>\n",
       "      <td>2012</td>\n",
       "    </tr>\n",
       "    <tr>\n",
       "      <th>2830</th>\n",
       "      <td>Bravest Warriors</td>\n",
       "      <td>The adventures of young H.G. Wells and his tim...</td>\n",
       "      <td>Animation, Action, Adventure</td>\n",
       "      <td>Liliana Mumy, John Omohundro, Ian Jones-Quarte...</td>\n",
       "      <td>8.1</td>\n",
       "      <td>3187</td>\n",
       "      <td>2012–</td>\n",
       "      <td>2012</td>\n",
       "    </tr>\n",
       "  </tbody>\n",
       "</table>\n",
       "<p>2831 rows × 8 columns</p>\n",
       "</div>"
      ],
      "text/plain": [
       "                         Title  \\\n",
       "0               The Family Man   \n",
       "1                      Lucifer   \n",
       "2          The Handmaid's Tale   \n",
       "3                      StartUp   \n",
       "4              Game of Thrones   \n",
       "...                        ...   \n",
       "2826      A Drop of True Blood   \n",
       "2827              Yu-Gi-Oh! GX   \n",
       "2828         Special Agent Oso   \n",
       "2829  Metal Hurlant Chronicles   \n",
       "2830          Bravest Warriors   \n",
       "\n",
       "                                                  About  \\\n",
       "0     A working man from the National Investigation ...   \n",
       "1     Lucifer Morningstar has decided he's had enoug...   \n",
       "2     Set in a dystopian future, a woman is forced t...   \n",
       "3     A desperate banker, a Haitian-American gang lo...   \n",
       "4     Nine noble families fight for control over the...   \n",
       "...                                                 ...   \n",
       "2826  A kids' show centered around a special agent-i...   \n",
       "2827  An anthology series in which each episode is a...   \n",
       "2828  Four teenage heroes-for-hire warp through the ...   \n",
       "2829  An expose on the U.S. government's secret prog...   \n",
       "2830  The adventures of young H.G. Wells and his tim...   \n",
       "\n",
       "                            Genres  \\\n",
       "0            Action, Comedy, Drama   \n",
       "1            Crime, Drama, Fantasy   \n",
       "2          Drama, Sci-Fi, Thriller   \n",
       "3                  Crime, Thriller   \n",
       "4         Action, Adventure, Drama   \n",
       "...                            ...   \n",
       "2826         Short, Drama, Fantasy   \n",
       "2827  Animation, Action, Adventure   \n",
       "2828  Animation, Action, Adventure   \n",
       "2829                Action, Sci-Fi   \n",
       "2830  Animation, Action, Adventure   \n",
       "\n",
       "                                                 Actors  Rating    Votes  \\\n",
       "0     Manoj Bajpayee, Samantha Akkineni, Priyamani, ...     8.8    57632   \n",
       "1     Tom Ellis, Lauren German, Lesley-Ann Brandt, K...     8.1   252826   \n",
       "2     Elisabeth Moss, Yvonne Strahovski, Joseph Fien...     8.4   187007   \n",
       "3     Adam Brody, Edi Gathegi, Otmara Marrero, Krist...     8.0    18165   \n",
       "4     Emilia Clarke, Peter Dinklage, Kit Harington, ...     9.3  1823966   \n",
       "...                                                 ...     ...      ...   \n",
       "2826  Claudia Abrego, Ryan Kwanten, Stephen Moyer, A...     8.1      572   \n",
       "2827  Matthew Labyorteaux, Wayne Grayson, Tony Saler...     6.8     4115   \n",
       "2828  Meghan Strange, Gary Anthony Williams, Sean As...     5.2      475   \n",
       "2829  Scott Adkins, Karl E. Landler, Dominique Pinon...     5.8     1630   \n",
       "2830  Liliana Mumy, John Omohundro, Ian Jones-Quarte...     8.1     3187   \n",
       "\n",
       "          Years  StartYear  \n",
       "0        2019–        2019  \n",
       "1        2016–        2016  \n",
       "2        2017–        2017  \n",
       "3     2016–2018       2016  \n",
       "4     2011–2019       2011  \n",
       "...         ...        ...  \n",
       "2826     2010–        2010  \n",
       "2827  2004–2008       2004  \n",
       "2828  2009–2012       2009  \n",
       "2829  2012–2014       2012  \n",
       "2830     2012–        2012  \n",
       "\n",
       "[2831 rows x 8 columns]"
      ]
     },
     "execution_count": 150,
     "metadata": {},
     "output_type": "execute_result"
    }
   ],
   "source": [
    "start_years = tv_shows.get('Years').apply(extract_start_year_as_int)\n",
    "tv_shows = tv_shows.assign(StartYear=start_years)\n",
    "\n",
    "# Display the modified DataFrame\n",
    "tv_shows"
   ]
  },
  {
   "cell_type": "code",
   "execution_count": 151,
   "metadata": {
    "deletable": false,
    "editable": false
   },
   "outputs": [
    {
     "data": {
      "text/html": [
       "<p><strong><pre style='display: inline;'>q2_1</pre></strong> passed!</p>"
      ],
      "text/plain": [
       "q2_1 results: All test cases passed!"
      ]
     },
     "execution_count": 151,
     "metadata": {},
     "output_type": "execute_result"
    }
   ],
   "source": [
    "grader.check(\"q2_1\")"
   ]
  },
  {
   "cell_type": "markdown",
   "metadata": {},
   "source": [
    "**Question 2.2.** You've been starting to feel that TV shows are just not as good as they used to be.  Create an appropriate plot that shows the relationship between the `'StartYear'` and the `'Rating'` of each show in `tv_shows`."
   ]
  },
  {
   "cell_type": "code",
   "execution_count": 152,
   "metadata": {},
   "outputs": [
    {
     "data": {
      "image/png": "[encoded data removed]",
      "text/plain": [
       "<Figure size 720x360 with 1 Axes>"
      ]
     },
     "metadata": {},
     "output_type": "display_data"
    }
   ],
   "source": [
    "tv_shows_with_start_year.plot(kind='scatter', x='StartYear', y='Rating', color='blue', alpha=0.5)\n",
    "\n",
    "plt.xlabel('Start Year')\n",
    "plt.ylabel('Rating')\n",
    "plt.title('Relationship between Start Year and Rating of TV Shows')\n",
    "\n",
    "plt.show()"
   ]
  },
  {
   "cell_type": "markdown",
   "metadata": {},
   "source": [
    "Unfortunately, this plot is not very informative. Instead, make a plot that shows how the **median** `'Rating'` of all shows from a given `'StartYear'` has changed over time. "
   ]
  },
  {
   "cell_type": "code",
   "execution_count": 153,
   "metadata": {},
   "outputs": [
    {
     "data": {
      "image/png": "[encoded data removed]",
      "text/plain": [
       "<Figure size 720x360 with 1 Axes>"
      ]
     },
     "metadata": {},
     "output_type": "display_data"
    }
   ],
   "source": [
    "median_ratings = tv_shows_with_start_year.groupby('StartYear').median()\n",
    "\n",
    "# Create a line plot\n",
    "median_ratings.plot(kind='line', y='Rating', color='blue')\n",
    "\n",
    "# Add labels and title\n",
    "plt.xlabel('Start Year')\n",
    "plt.ylabel('Median Rating')\n",
    "plt.title('Median Rating of TV Shows Over Time')\n",
    "\n",
    "# Display the plot\n",
    "plt.show()"
   ]
  },
  {
   "cell_type": "markdown",
   "metadata": {},
   "source": [
    "Now, use the second plot you made to determine whether TV shows are as good as they used to be. Choose the most accurate statement below and assign an integer from 1 to 3 to the variable `q2_2`.\n",
    "\n",
    "1. TV shows have been getting worse since 2000.\n",
    "2. TV shows were getting worse until 2005, and since then, they have improved.\n",
    "3. TV shows have been getting worse since 2005."
   ]
  },
  {
   "cell_type": "code",
   "execution_count": 154,
   "metadata": {},
   "outputs": [
    {
     "data": {
      "text/plain": [
       "1"
      ]
     },
     "execution_count": 154,
     "metadata": {},
     "output_type": "execute_result"
    }
   ],
   "source": [
    "q2_2 = 1\n",
    "q2_2"
   ]
  },
  {
   "cell_type": "code",
   "execution_count": 155,
   "metadata": {
    "deletable": false,
    "editable": false
   },
   "outputs": [
    {
     "data": {
      "text/html": [
       "<p><strong><pre style='display: inline;'>q2_2</pre></strong> passed!</p>"
      ],
      "text/plain": [
       "q2_2 results: All test cases passed!"
      ]
     },
     "execution_count": 155,
     "metadata": {},
     "output_type": "execute_result"
    }
   ],
   "source": [
    "grader.check(\"q2_2\")"
   ]
  },
  {
   "cell_type": "markdown",
   "metadata": {},
   "source": [
    "**Question 2.3.** Assign `most_common_genres` to a DataFrame that contains the five most common genre combinations of TV shows in our dataset, in descending order of popularity. The DataFrame should be indexed by `'Genres'` and have only one column, `'Count'`, which is the number of TV shows of that genre combination.\n",
    "\n",
    "**_Note:_**  For this question, each TV show is assicated with one set of genres, which determines its genre combination. For example, `'Action, Adventure, Drama'` is one genre combination. `'Drama'`, by itself, is another genre combination."
   ]
  },
  {
   "cell_type": "code",
   "execution_count": 162,
   "metadata": {},
   "outputs": [
    {
     "ename": "TypeError",
     "evalue": "__init__() takes 1 positional argument but 2 were given",
     "output_type": "error",
     "traceback": [
      "\u001b[0;31m---------------------------------------------------------------------------\u001b[0m",
      "\u001b[0;31mTypeError\u001b[0m                                 Traceback (most recent call last)",
      "\u001b[0;32m/tmp/ipykernel_123/128745967.py\u001b[0m in \u001b[0;36m<module>\u001b[0;34m\u001b[0m\n\u001b[1;32m      9\u001b[0m \u001b[0;34m\u001b[0m\u001b[0m\n\u001b[1;32m     10\u001b[0m \u001b[0;31m# Step 4: Create a DataFrame with the top five genre combinations and their counts\u001b[0m\u001b[0;34m\u001b[0m\u001b[0;34m\u001b[0m\u001b[0;34m\u001b[0m\u001b[0m\n\u001b[0;32m---> 11\u001b[0;31m most_common_genres = bpd.DataFrame({\n\u001b[0m\u001b[1;32m     12\u001b[0m     \u001b[0;34m'Genres'\u001b[0m\u001b[0;34m:\u001b[0m \u001b[0mtop_five_genre_combinations\u001b[0m\u001b[0;34m,\u001b[0m\u001b[0;34m\u001b[0m\u001b[0;34m\u001b[0m\u001b[0m\n\u001b[1;32m     13\u001b[0m     \u001b[0;34m'Count'\u001b[0m\u001b[0;34m:\u001b[0m \u001b[0mtop_five_genre_counts\u001b[0m\u001b[0;34m\u001b[0m\u001b[0;34m\u001b[0m\u001b[0m\n",
      "\u001b[0;32m/opt/conda/lib/python3.9/site-packages/babypandas/utils.py\u001b[0m in \u001b[0;36mwrapper\u001b[0;34m(*args, **kwargs)\u001b[0m\n\u001b[1;32m     18\u001b[0m         \u001b[0;32mwith\u001b[0m \u001b[0mwarnings\u001b[0m\u001b[0;34m.\u001b[0m\u001b[0mcatch_warnings\u001b[0m\u001b[0;34m(\u001b[0m\u001b[0;34m)\u001b[0m\u001b[0;34m:\u001b[0m\u001b[0;34m\u001b[0m\u001b[0;34m\u001b[0m\u001b[0m\n\u001b[1;32m     19\u001b[0m             \u001b[0mwarnings\u001b[0m\u001b[0;34m.\u001b[0m\u001b[0msimplefilter\u001b[0m\u001b[0;34m(\u001b[0m\u001b[0;34m\"ignore\"\u001b[0m\u001b[0;34m)\u001b[0m\u001b[0;34m\u001b[0m\u001b[0;34m\u001b[0m\u001b[0m\n\u001b[0;32m---> 20\u001b[0;31m             \u001b[0;32mreturn\u001b[0m \u001b[0mfunc\u001b[0m\u001b[0;34m(\u001b[0m\u001b[0;34m*\u001b[0m\u001b[0margs\u001b[0m\u001b[0;34m,\u001b[0m \u001b[0;34m**\u001b[0m\u001b[0mkwargs\u001b[0m\u001b[0;34m)\u001b[0m\u001b[0;34m\u001b[0m\u001b[0;34m\u001b[0m\u001b[0m\n\u001b[0m\u001b[1;32m     21\u001b[0m \u001b[0;34m\u001b[0m\u001b[0m\n\u001b[1;32m     22\u001b[0m     \u001b[0;32mreturn\u001b[0m \u001b[0mwrapper\u001b[0m\u001b[0;34m\u001b[0m\u001b[0;34m\u001b[0m\u001b[0m\n",
      "\u001b[0;31mTypeError\u001b[0m: __init__() takes 1 positional argument but 2 were given"
     ]
    }
   ],
   "source": [
    "most_common_genres = ...\n",
    "most_common_genres"
   ]
  },
  {
   "cell_type": "code",
   "execution_count": null,
   "metadata": {
    "deletable": false,
    "editable": false
   },
   "outputs": [],
   "source": [
    "grader.check(\"q2_3\")"
   ]
  },
  {
   "cell_type": "markdown",
   "metadata": {},
   "source": [
    "**Question 2.4.** Using the `most_common_genres` DataFrame you created in Question 2.3, create a horizontal bar chart that shows the distribution of TV shows into these five genre combinations. Make sure the bars are sorted such that the most common genre appears as the top-most bar in the bar chart."
   ]
  },
  {
   "cell_type": "markdown",
   "metadata": {
    "deletable": false,
    "editable": false
   },
   "source": [
    "<!-- BEGIN QUESTION -->\n",
    "\n",
    "<!--\n",
    "BEGIN QUESTION\n",
    "name: q2_4\n",
    "manual: true\n",
    "-->"
   ]
  },
  {
   "cell_type": "code",
   "execution_count": null,
   "metadata": {},
   "outputs": [],
   "source": [
    "# Create your bar chart here.\n",
    "..."
   ]
  },
  {
   "cell_type": "markdown",
   "metadata": {},
   "source": [
    "<!-- END QUESTION -->\n",
    "\n",
    "\n",
    "\n",
    "**Question 2.5.** Assign the variable `third_highest` to the genre combination with the third highest average overall `'Rating'` (*not* the third highest frequency), among all genre combinations in `tv_shows`.\n",
    "\n",
    "Do not manually type out your answer. Use `babypandas` methods to produce the answer."
   ]
  },
  {
   "cell_type": "code",
   "execution_count": null,
   "metadata": {},
   "outputs": [],
   "source": [
    "third_highest = ...\n",
    "third_highest"
   ]
  },
  {
   "cell_type": "code",
   "execution_count": null,
   "metadata": {
    "deletable": false,
    "editable": false
   },
   "outputs": [],
   "source": [
    "grader.check(\"q2_5\")"
   ]
  },
  {
   "cell_type": "markdown",
   "metadata": {
    "deletable": false,
    "editable": false
   },
   "source": [
    "**Question 2.6.** Using the `'StartYear'` column, identify the year between 2001 and 2009 (inclusive) that has the lowest total number of `'Votes'` for TV shows released that year. Assign this year to the variable `lowest_01_09`.\n",
    "\n",
    "Please make sure to use `babypandas` methods to find your answer; you should not type in the year manually.\n",
    "\n",
    "<!--\n",
    "BEGIN QUESTION\n",
    "name: q2_6\n",
    "-->"
   ]
  },
  {
   "cell_type": "code",
   "execution_count": null,
   "metadata": {},
   "outputs": [],
   "source": [
    "lowest_01_09 = ...\n",
    "lowest_01_09"
   ]
  },
  {
   "cell_type": "code",
   "execution_count": null,
   "metadata": {
    "deletable": false,
    "editable": false
   },
   "outputs": [],
   "source": [
    "grader.check(\"q2_6\")"
   ]
  },
  {
   "cell_type": "markdown",
   "metadata": {},
   "source": [
    "**Question 2.7.** Suppose we'd like to use a histogram to determine which `'Rating'`s are most common in `tv_shows`, to the nearest integer. Set the variable `nearest_integer_bins` to an array of values that can be used for the `bins` argument of this histogram.\n",
    "\n",
    "Draw the histogram, and then use the histogram to determine the most popular `'Rating'`, to the nearest integer, and manually type this integer in to save it as `most_popular_rating`.\n",
    "\n",
    "***Notes:*** \n",
    "- Use the standard convention for rounding. For example, 9 is considered the nearest integer to 8.5.\n",
    "- `nearest_integer_bins` should capture all of the data in the `'Rating'` column of `tv_shows` but not include any empty, unused bins. You'll need to determine the smallest and largest `'Rating'` values in `tv_shows` to do this."
   ]
  },
  {
   "cell_type": "code",
   "execution_count": null,
   "metadata": {},
   "outputs": [],
   "source": [
    "nearest_integer_bins = ...\n",
    "nearest_integer_bins"
   ]
  },
  {
   "cell_type": "code",
   "execution_count": null,
   "metadata": {
    "deletable": false,
    "editable": false
   },
   "outputs": [],
   "source": [
    "grader.check(\"q2_7_a\")"
   ]
  },
  {
   "cell_type": "code",
   "execution_count": null,
   "metadata": {},
   "outputs": [],
   "source": [
    "# Create your histogram here, using nearest_integer_bins.\n"
   ]
  },
  {
   "cell_type": "code",
   "execution_count": null,
   "metadata": {},
   "outputs": [],
   "source": [
    "# Now, view the histogram you created and type in an integer for most_popular_rating.\n",
    "most_popular_rating = ..."
   ]
  },
  {
   "cell_type": "code",
   "execution_count": null,
   "metadata": {
    "deletable": false,
    "editable": false
   },
   "outputs": [],
   "source": [
    "grader.check(\"q2_7_b\")"
   ]
  },
  {
   "cell_type": "markdown",
   "metadata": {},
   "source": [
    "## 3. Final Stretch 🧘‍♀️"
   ]
  },
  {
   "cell_type": "markdown",
   "metadata": {},
   "source": [
    "Suppose we have a DataFrame named `data` with two numerical columns, `'x'` and `'y'`. Consider the following scatter plot, which was generated by calling `data.plot(kind='scatter', x='x', y='y')`:\n",
    "\n",
    "<img src='images/q4_scatter_plot.png' width=400/>\n",
    "\n",
    "Now consider these two histograms:\n",
    "\n",
    "<center>\n",
    "    <table><tr>\n",
    "        <td><center><b>Histogram A</b><br> <img src='images/q4_histogram_one.png' width=400></center> </td>\n",
    "        <td><center><b>Histogram B</b><br> <img src='images/q4_histogram_two.png' width=400></center> </td>\n",
    "    </tr></table>\n",
    "</center>"
   ]
  },
  {
   "cell_type": "markdown",
   "metadata": {},
   "source": [
    "**Question 3.1.** Which of the following lines of code generated **Histogram B**? Assign `which_code` to either 1, 2, 3, or 4.\n",
    " \n",
    " \n",
    " 1. `data.plot(kind='hist', density=True, y='x')`\n",
    " 2. `data.plot(kind='hist', density=False, y='x')`\n",
    " 3. `data.plot(kind='hist', density=True, y='y')`\n",
    " 4. `data.plot(kind='hist', density=False, y='y')` "
   ]
  },
  {
   "cell_type": "code",
   "execution_count": null,
   "metadata": {},
   "outputs": [],
   "source": [
    "which_code = 1"
   ]
  },
  {
   "cell_type": "code",
   "execution_count": null,
   "metadata": {
    "deletable": false,
    "editable": false
   },
   "outputs": [],
   "source": [
    "grader.check(\"q3_1\")"
   ]
  },
  {
   "cell_type": "markdown",
   "metadata": {},
   "source": [
    "**Question 3.2.** Suppose we run this block of code:\n",
    "\n",
    "```py\n",
    "new_data = bpd.DataFrame().assign(\n",
    "    x = data.get('x') / 4,\n",
    "    y = data.get('y')\n",
    ")\n",
    "```\n",
    "    \n",
    "We then run \n",
    "\n",
    "```py\n",
    "new_data.plot(kind='hist', density=True, y='x')\n",
    "```\n",
    "\n",
    "How will this histogram look compared to the histogram created by \n",
    "\n",
    "```py\n",
    "data.plot(kind='hist', density=True, y='x')\n",
    "```\n",
    "\n",
    "assuming both histograms are drawn on the same axes? Assign `histogram_difference` to either 1, 2, 3, or 4, corresponding to your choice.\n",
    "\n",
    "\n",
    "1. The `new_data` histogram will be narrower and shorter than the `data` histogram.\n",
    "2. The `new_data` histogram will be wider and shorter than the `data` histogram.\n",
    "3. The `new_data` histogram will be narrower and taller than the `data` histogram.\n",
    "4. The `new_data` histogram will be wider and taller than the `data` histogram.\n",
    "\n",
    "\n",
    "\n",
    "**_Hint:_** Look at the end of [Lecture 7](https://dsc10.com/resources/lectures/lec07/lec07.html#Plotting-overlaid-histograms) for an example of two histograms drawn on the same axes."
   ]
  },
  {
   "cell_type": "code",
   "execution_count": null,
   "metadata": {},
   "outputs": [],
   "source": [
    "histogram_difference = 3"
   ]
  },
  {
   "cell_type": "code",
   "execution_count": null,
   "metadata": {
    "deletable": false,
    "editable": false
   },
   "outputs": [],
   "source": [
    "grader.check(\"q3_2\")"
   ]
  },
  {
   "cell_type": "markdown",
   "metadata": {},
   "source": [
    "**Question 3.3.** Below, we show Histogram A again.\n",
    "\n",
    "<img src='./images/q4_histogram_one.png' width=400/>\n",
    "\n",
    "What **percent** of values in Histogram A are between -5 (inclusive) and -3 (exclusive)? While we cannot answer this question exactly since we do not know where the bins start and end, we can still approximate the answer. Assign the variable `percent_between` to a number 1 through 5, corresponding to the closest answer.\n",
    "\n",
    "1. 22%\n",
    "1. 27%\n",
    "1. 34%\n",
    "1. 40%\n",
    "1. 48%"
   ]
  },
  {
   "cell_type": "code",
   "execution_count": null,
   "metadata": {},
   "outputs": [],
   "source": [
    "percent_between = 2"
   ]
  },
  {
   "cell_type": "code",
   "execution_count": null,
   "metadata": {
    "deletable": false,
    "editable": false
   },
   "outputs": [],
   "source": [
    "grader.check(\"q3_3\")"
   ]
  },
  {
   "cell_type": "markdown",
   "metadata": {},
   "source": [
    "## Finish Line: Almost there, but make sure to follow the steps below to submit! 🏁\n",
    "\n",
    "**_Citations:_** Did you use any generative artificial intelligence tools to assist you on this assignment? If so, please state, for each tool you used, the name of the tool (ex. ChatGPT) and the problem(s) in this assignment where you used the tool for help."
   ]
  },
  {
   "cell_type": "markdown",
   "metadata": {},
   "source": [
    "<hr style='color:Maroon;background-color:Maroon;border:0 none; height: 3px;'>\n",
    "\n",
    "Please cite tools here.\n",
    "\n",
    "<hr style='color:Maroon;background-color:Maroon;border:0 none; height: 3px;'>"
   ]
  },
  {
   "cell_type": "markdown",
   "metadata": {},
   "source": [
    "To submit your assignment:\n",
    "\n",
    "1. Select `Kernel -> Restart & Run All` to ensure that you have executed all cells, including the test cells. \n",
    "1. Read through the notebook to make sure all cells ran and all tests passed.\n",
    "1. Run the cell below to run all tests, and make sure that they all pass.\n",
    "1. Download your notebook using `File -> Download as -> Notebook (.ipynb)`, then upload your notebook to Gradescope.\n",
    "1. Stick around while the Gradescope autograder grades your work. Make sure you see that all tests have passed on Gradescope.\n",
    "1. Check that you have a confirmation email from Gradescope and save it as proof of your submission. \n",
    "\n",
    "With homeworks, unlike with labs, the grade you see on Gradescope is **not your final score**. We will run correctness tests after the assignment's due date has passed."
   ]
  },
  {
   "cell_type": "code",
   "execution_count": null,
   "metadata": {},
   "outputs": [],
   "source": [
    "grader.check_all()"
   ]
  }
 ],
 "metadata": {
  "kernelspec": {
   "display_name": "Python 3 (ipykernel)",
   "language": "python",
   "name": "python3"
  },
  "language_info": {
   "codemirror_mode": {
    "name": "ipython",
    "version": 3
   },
   "file_extension": ".py",
   "mimetype": "text/x-python",
   "name": "python",
   "nbconvert_exporter": "python",
   "pygments_lexer": "ipython3",
   "version": "3.9.5"
  },
  "toc": {
   "base_numbering": 1,
   "nav_menu": {},
   "number_sections": true,
   "sideBar": true,
   "skip_h1_title": false,
   "title_cell": "Table of Contents",
   "title_sidebar": "Contents",
   "toc_cell": false,
   "toc_position": {},
   "toc_section_display": true,
   "toc_window_display": false
  }
 },
 "nbformat": 4,
 "nbformat_minor": 4
}
