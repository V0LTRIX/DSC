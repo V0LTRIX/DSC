{
 "cells": [
  {
   "cell_type": "markdown",
   "id": "8d3a328b",
   "metadata": {},
   "source": [
    "<img src=\"images/banner_friends.jpg\" width=80%>\n",
    "\n",
    "<a name='outline'></a>\n",
    "\n",
    "## Outline of the Project \n",
    "\n",
    "This project has seven sections. Use the outline below to help you quickly navigate to the part of the project you're working on. Questions are worth one point each, unless they contain a ⭐️⭐️ next to them, in which case they are worth two points (e.g. **Question 1.2. ⭐️⭐️**). In most cases, questions worth two points are longer and more challenging than questions worth one point, though sometimes two point questions are themselves straightforward, but used to test the correctness of a previously implemented function.\n",
    "\n",
    "-  [Welcome 👋](#welcome)\n",
    "-  [About the Show 📺](#about_show)\n",
    "-  [The Reboot🆕](#reboot)\n",
    "-  [About the Data 💾](#about_data)\n",
    "-  Section 1: [The Pilot 🎬](#section1) \n",
    "-  Section 2: [The One with the Best Director 🏆](#section2)   \n",
    "-  Section 3: [The One About Gender Balance 👩⚖️🧑](#section3)  \n",
    "-  Section 4: [The Emotional One 😁😢😨](#section4) \n",
    "-  Section 5: [The One with the Spoilers 🙊](#section5) \n",
    "-  Section 6: [The One with the Generated Episode Titles 🖨️](#section6) \n",
    "-  Section 7: [The Last One 🔚🥳](#section7) "
   ]
  },
  {
   "cell_type": "markdown",
   "id": "2465d836",
   "metadata": {},
   "source": [
    "<a id='welcome'></a>\n",
    "## Welcome 👋\n",
    "\n",
    "Welcome to the Final Project! Projects in DSC 10 are similar in format to homeworks, but are different in a few key ways. First, a project is comprehensive, meaning that it draws upon everything we've learned this quarter so far. Second, since problems can vary quite a bit in difficulty, some problems will be worth more points than others. Finally, in a project, the problems are more open-ended; they will usually ask for some result, but won't tell you what method should be used to get it. There might be several equally-valid approaches, and several steps might be necessary. This is closer to how data science is done in \"real life\".\n",
    "\n",
    "It is important that you **start early** on the project! It is the final assignment that is due this quarter, but it is due just a few days before the Final Exam. You are especially encouraged to **find a partner** to work through the project with. You can work with anyone from any section of the course, but you must follow the [Project Partner Guidelines](https://dsc10.com/project-partners/) on the course website. In particular, you are both required to actively contribute to all parts of the project, and you are not allowed to split up the problems and each work on certain problems. If working in a pair, you should submit one notebook to Gradescope for the both of you. \n",
    "\n",
    "**Important:** The `otter` tests don't usually tell you that your answer is correct. More often, they help catch basic mistakes. It's up to you to ensure that your answer is correct. If you're not sure, ask someone (not for the answer, but for some guidance about your approach). Directly sharing answers between groups is not okay, but discussing problems with the course staff or with other students is encouraged.\n",
    "\n",
    "Please do not import any additional packages - you don't need them, and our autograder may not be able to run your code if you do.\n",
    "\n",
    "As you work through this project, there are a few resources you may want to have open:\n",
    "- [`babypandas` Notes](https://notes.dsc10.com/front.html)\n",
    "- [Course Textbook](https://inferentialthinking.com/chapters/intro.html)\n",
    "- [DSC 10 Reference Sheet](https://drive.google.com/file/d/1mQApk9Ovdi-QVqMgnNcq5dZcWucUKoG-/view)\n",
    "- [`babypandas` Documentation](https://babypandas.readthedocs.io/en/latest/)\n",
    "- Other links in the [Resources](https://dsc10.com/resources/) and [Debugging](https://dsc10.com/debugging/) tabs of the course website\n",
    "\n",
    "Start early, good luck, and let's get started! 😎"
   ]
  },
  {
   "cell_type": "code",
   "execution_count": 272,
   "id": "48ff9808",
   "metadata": {},
   "outputs": [],
   "source": [
    "# Don't change this cell; just run it.\n",
    "import babypandas as bpd\n",
    "import numpy as np\n",
    "\n",
    "import matplotlib.pyplot as plt\n",
    "from matplotlib.offsetbox import OffsetImage, AnnotationBbox\n",
    "plt.style.use('ggplot')\n",
    "\n",
    "import otter\n",
    "grader = otter.Notebook()"
   ]
  },
  {
   "cell_type": "markdown",
   "id": "1c7ba4ec",
   "metadata": {},
   "source": [
    "<a id='about_show'></a>\n",
    "## About the Show 📺\n",
    "\n",
    "*Friends* is a TV sitcom that aired from 1994 to 2004. The show revolves around six main characters, a group of friends in their 20s and 30s who live in New York City 🗽🌇.  Viewers watch these characters' lives, careers, and relationships develop over a ten year period.\n",
    "\n",
    "<img src=\"images/friends.png\" width=\"500\" height=\"auto\">\n",
    "\n",
    "The show was critically well-received and popular among viewers. It set a number of records including:\n",
    "- the number one television show in 2002\n",
    "- the fifth-most-watched series finale in television history\n",
    "- the most-watched episode of the 2000s decade\n",
    "- Outstanding Comedy Series Primetime Emmy award 🏆\n",
    "- one of *TV Guide*'s 50 Greatest Shows of All Time\n",
    "\n",
    "<img src=\"images/friends_award.png\" width=\"500\" height=\"auto\">\n",
    "\n",
    "*Friends* used to be available to stream on Netflix, but with its incredible success, the show became too expensive to continue offering access. The last time *Friends* was on Netflix in the US, [it cost Netflix $100 million dollars 💸](https://slate.com/culture/2018/12/netflix-friends-streaming-100-million.html) just to offer the show on their streaming platform for one year!\n",
    "\n",
    "If you'd like to see the show for yourself, all 10 seasons are available on [MAX](https://www.max.com/shows/friends/52dae4c7-2ab1-4bb9-ab1c-8100fd54e2f9?utm_id=sa%7C71700000110368783%7C58700008392050425%7Cp78367425622&gad_source=1&gclid=CjwKCAiAuYuvBhApEiwAzq_YiRkizSXADw1h1V4etPEJoJ6vam8ozaJ5pO1m9XqTh4JFxCZFO_7skxoC9jIQAvD_BwE&gclsrc=aw.ds). 🎥"
   ]
  },
  {
   "cell_type": "markdown",
   "id": "891541cf",
   "metadata": {},
   "source": [
    "<a id='reboot'></a>\n",
    "## The Reboot 🆕\n",
    "\n",
    "As an avid fan of *Friends*, you have decided to make your own reboot of the classic sitcom. A reboot of a TV show is a new show that takes place in the same setting as an older show, perhaps updated in some ways. Some reboots have a brand new cast with just a few original characters, meanwhile some reboots get the whole cast of the original show to star in the new version. For example, the reboot *How I Met Your Father* is based on the original *How I Met Your Mother*. Other examples include *That 90's Show*, a reboot of *That 70's Show*, and *Fuller House*, a reboot of *Full House*.\n",
    "\n",
    "<img src=\"images/full_house.png\" width=\"500\" height=\"auto\">\n",
    "\n",
    "You've noticed that sitcom reboots are on the rise and you want to get in on the action by finding all the best and most successful aspects of *Friends* and turning them into an even better version. In order to make the reboot, you'll have to do a lot of planning and research to present your plan to the production company that will fund the show. Here's a list of all the things you'll want to have prepared by the time you meet with the producers. Each item on the list represents a section of this project.\n",
    "\n",
    "1. Create a list of writers and directors to contact.\n",
    "2. Select a top choice for the director of the reboot.\n",
    "3. Determine whether to assign spoken lines to male and female characters equally.\n",
    "4. Make a visualization showing the emotional range for each main character to present to the writers.\n",
    "5. Decide whether the main characters should be romantically involved with one another.\n",
    "6. Make a list of episode titles for the first season of the new show.\n",
    "7. Decide how many episodes the reboot should have, based on viewership and rating data.\n",
    "\n",
    "After you've done all of these things you will have completed your plan for the reboot!"
   ]
  },
  {
   "cell_type": "markdown",
   "id": "60305296",
   "metadata": {},
   "source": [
    "<a id='about_data'></a>\n",
    "## About the Data 💾\n",
    "\n",
    "Our data, [originally from Kaggle](https://www.kaggle.com/datasets/sujaykapadnis/friends?select=friends.csv), includes several different CSVs about *Friends* episodes, lines, and emotions. If you find any errors in the data, do not attempt to fix them; just analyze the data you are given. \n",
    "\n",
    "### Episodes 🎬\n",
    "\n",
    "The `episodes` DataFrame has a row for each episode from all 10 seasons of *Friends*. For each episode, we have the \n",
    "- season number (`'season'`)\n",
    "- episode number (`'episode'`)\n",
    "- title (`'title'`)\n",
    "- director(s) (`'directed_by'`)\n",
    "- writer(s) (`'written_by'`)\n",
    "- premiere date (`'air_date'`)\n",
    "- number of views on premiere date in millions (`'us_views_millions'`)\n",
    "- rating out of ten (`'imdb_rating'`)\n",
    "\n",
    "For example, the first episode of the first season is called `'The Pilot'`. It was directed by James Burrows and written by David Crane and Marta Kauffman. When it aired on September 22nd, 1994, there were 21.5 million viewers, and it was rated 8.3/10 on IMDb.\n",
    "\n",
    "Run the cell below to load in the data. "
   ]
  },
  {
   "cell_type": "code",
   "execution_count": 125,
   "id": "e64d4186",
   "metadata": {},
   "outputs": [
    {
     "data": {
      "text/html": [
       "<div>\n",
       "<style scoped>\n",
       "    .dataframe tbody tr th:only-of-type {\n",
       "        vertical-align: middle;\n",
       "    }\n",
       "\n",
       "    .dataframe tbody tr th {\n",
       "        vertical-align: top;\n",
       "    }\n",
       "\n",
       "    .dataframe thead th {\n",
       "        text-align: right;\n",
       "    }\n",
       "</style>\n",
       "<table border=\"1\" class=\"dataframe\">\n",
       "  <thead>\n",
       "    <tr style=\"text-align: right;\">\n",
       "      <th></th>\n",
       "      <th>season</th>\n",
       "      <th>episode</th>\n",
       "      <th>title</th>\n",
       "      <th>directed_by</th>\n",
       "      <th>written_by</th>\n",
       "      <th>air_date</th>\n",
       "      <th>us_views_millions</th>\n",
       "      <th>imdb_rating</th>\n",
       "    </tr>\n",
       "  </thead>\n",
       "  <tbody>\n",
       "    <tr>\n",
       "      <th>0</th>\n",
       "      <td>1</td>\n",
       "      <td>1</td>\n",
       "      <td>The Pilot</td>\n",
       "      <td>James Burrows</td>\n",
       "      <td>David Crane &amp; Marta Kauffman</td>\n",
       "      <td>9/22/94</td>\n",
       "      <td>21.50</td>\n",
       "      <td>8.3</td>\n",
       "    </tr>\n",
       "    <tr>\n",
       "      <th>1</th>\n",
       "      <td>1</td>\n",
       "      <td>2</td>\n",
       "      <td>The One with the Sonogram at the End</td>\n",
       "      <td>James Burrows</td>\n",
       "      <td>David Crane &amp; Marta Kauffman</td>\n",
       "      <td>9/29/94</td>\n",
       "      <td>20.20</td>\n",
       "      <td>8.1</td>\n",
       "    </tr>\n",
       "    <tr>\n",
       "      <th>2</th>\n",
       "      <td>1</td>\n",
       "      <td>3</td>\n",
       "      <td>The One with the Thumb</td>\n",
       "      <td>James Burrows</td>\n",
       "      <td>Jeffrey Astrof &amp; Mike Sikowitz</td>\n",
       "      <td>10/6/94</td>\n",
       "      <td>19.50</td>\n",
       "      <td>8.2</td>\n",
       "    </tr>\n",
       "    <tr>\n",
       "      <th>3</th>\n",
       "      <td>1</td>\n",
       "      <td>4</td>\n",
       "      <td>The One with George Stephanopoulos</td>\n",
       "      <td>James Burrows</td>\n",
       "      <td>Alexa Junge</td>\n",
       "      <td>10/13/94</td>\n",
       "      <td>19.70</td>\n",
       "      <td>8.1</td>\n",
       "    </tr>\n",
       "    <tr>\n",
       "      <th>4</th>\n",
       "      <td>1</td>\n",
       "      <td>5</td>\n",
       "      <td>The One with the East German Laundry Detergent</td>\n",
       "      <td>Pamela Fryman</td>\n",
       "      <td>Jeff Greenstein &amp; Jeff Strauss</td>\n",
       "      <td>10/20/94</td>\n",
       "      <td>18.60</td>\n",
       "      <td>8.5</td>\n",
       "    </tr>\n",
       "    <tr>\n",
       "      <th>...</th>\n",
       "      <td>...</td>\n",
       "      <td>...</td>\n",
       "      <td>...</td>\n",
       "      <td>...</td>\n",
       "      <td>...</td>\n",
       "      <td>...</td>\n",
       "      <td>...</td>\n",
       "      <td>...</td>\n",
       "    </tr>\n",
       "    <tr>\n",
       "      <th>231</th>\n",
       "      <td>10</td>\n",
       "      <td>14</td>\n",
       "      <td>The One with Princess Consuela</td>\n",
       "      <td>Gary Halvorson</td>\n",
       "      <td>Story by: Robert CarlockTeleplay by: Tracy Reilly</td>\n",
       "      <td>2/26/04</td>\n",
       "      <td>22.83</td>\n",
       "      <td>8.6</td>\n",
       "    </tr>\n",
       "    <tr>\n",
       "      <th>232</th>\n",
       "      <td>10</td>\n",
       "      <td>15</td>\n",
       "      <td>The One Where Estelle Dies</td>\n",
       "      <td>Gary Halvorson</td>\n",
       "      <td>Story by: Mark KunerthTeleplay by: David Crane...</td>\n",
       "      <td>4/22/04</td>\n",
       "      <td>22.64</td>\n",
       "      <td>8.5</td>\n",
       "    </tr>\n",
       "    <tr>\n",
       "      <th>233</th>\n",
       "      <td>10</td>\n",
       "      <td>16</td>\n",
       "      <td>The One with Rachel's Going Away Party</td>\n",
       "      <td>Gary Halvorson</td>\n",
       "      <td>Andrew Reich &amp; Ted Cohen</td>\n",
       "      <td>4/29/04</td>\n",
       "      <td>24.51</td>\n",
       "      <td>8.9</td>\n",
       "    </tr>\n",
       "    <tr>\n",
       "      <th>234</th>\n",
       "      <td>10</td>\n",
       "      <td>17</td>\n",
       "      <td>The Last One</td>\n",
       "      <td>Kevin S. Bright</td>\n",
       "      <td>Marta Kauffman &amp; David Crane</td>\n",
       "      <td>5/6/04</td>\n",
       "      <td>52.46</td>\n",
       "      <td>9.7</td>\n",
       "    </tr>\n",
       "    <tr>\n",
       "      <th>235</th>\n",
       "      <td>10</td>\n",
       "      <td>18</td>\n",
       "      <td>The Last One</td>\n",
       "      <td>Kevin S. Bright</td>\n",
       "      <td>Marta Kauffman &amp; David Crane</td>\n",
       "      <td>5/6/04</td>\n",
       "      <td>52.46</td>\n",
       "      <td>9.7</td>\n",
       "    </tr>\n",
       "  </tbody>\n",
       "</table>\n",
       "<p>236 rows × 8 columns</p>\n",
       "</div>"
      ],
      "text/plain": [
       "     season  episode                                           title  \\\n",
       "0         1        1                                       The Pilot   \n",
       "1         1        2            The One with the Sonogram at the End   \n",
       "2         1        3                          The One with the Thumb   \n",
       "3         1        4              The One with George Stephanopoulos   \n",
       "4         1        5  The One with the East German Laundry Detergent   \n",
       "..      ...      ...                                             ...   \n",
       "231      10       14                  The One with Princess Consuela   \n",
       "232      10       15                      The One Where Estelle Dies   \n",
       "233      10       16          The One with Rachel's Going Away Party   \n",
       "234      10       17                                    The Last One   \n",
       "235      10       18                                    The Last One   \n",
       "\n",
       "         directed_by                                         written_by  \\\n",
       "0      James Burrows                       David Crane & Marta Kauffman   \n",
       "1      James Burrows                       David Crane & Marta Kauffman   \n",
       "2      James Burrows                     Jeffrey Astrof & Mike Sikowitz   \n",
       "3      James Burrows                                        Alexa Junge   \n",
       "4      Pamela Fryman                     Jeff Greenstein & Jeff Strauss   \n",
       "..               ...                                                ...   \n",
       "231   Gary Halvorson  Story by: Robert CarlockTeleplay by: Tracy Reilly   \n",
       "232   Gary Halvorson  Story by: Mark KunerthTeleplay by: David Crane...   \n",
       "233   Gary Halvorson                           Andrew Reich & Ted Cohen   \n",
       "234  Kevin S. Bright                       Marta Kauffman & David Crane   \n",
       "235  Kevin S. Bright                       Marta Kauffman & David Crane   \n",
       "\n",
       "     air_date  us_views_millions  imdb_rating  \n",
       "0     9/22/94              21.50          8.3  \n",
       "1     9/29/94              20.20          8.1  \n",
       "2     10/6/94              19.50          8.2  \n",
       "3    10/13/94              19.70          8.1  \n",
       "4    10/20/94              18.60          8.5  \n",
       "..        ...                ...          ...  \n",
       "231   2/26/04              22.83          8.6  \n",
       "232   4/22/04              22.64          8.5  \n",
       "233   4/29/04              24.51          8.9  \n",
       "234    5/6/04              52.46          9.7  \n",
       "235    5/6/04              52.46          9.7  \n",
       "\n",
       "[236 rows x 8 columns]"
      ]
     },
     "execution_count": 125,
     "metadata": {},
     "output_type": "execute_result"
    }
   ],
   "source": [
    "episodes = bpd.read_csv('data/friends_info.csv')\n",
    "episodes"
   ]
  },
  {
   "cell_type": "markdown",
   "id": "f5238467",
   "metadata": {},
   "source": [
    "### Lines 🗣\n",
    "\n",
    "While the `episodes` DataFrame will give you plenty of information on the writers and directors of the show and the success of each episode, you want to know more about the characters and their interactions on the show. You have detailed line-by-line scripts for the dialogue and scene directions of 30 randomly selected *Friends* episodes, stored in a DataFrame called `lines`. For each spoken line or scene direction of these 30 episodes, the `lines` DataFrame includes the following columns:\n",
    "- season number (`'season'`)\n",
    "- episode number (`'episode'`)\n",
    "- scene number (`'scene'`)\n",
    "- line number (`'utterance'`)\n",
    "- character that said the line (`'speaker'`), which is sometimes just `'Scene Directions'`\n",
    "- text of the line (`'text'`)\n",
    "\n",
    "For example, the seventh episode of season one opens with character Rachel Green saying `\n",
    "'Everybody? Shh, shhh. Uhhh... Central Perk is proud to present the music of Miss Phoebe Buffay.'`\n",
    "\n",
    "Run the cell below to load in the data."
   ]
  },
  {
   "cell_type": "code",
   "execution_count": 126,
   "id": "9b57a1bd",
   "metadata": {},
   "outputs": [
    {
     "data": {
      "text/html": [
       "<div>\n",
       "<style scoped>\n",
       "    .dataframe tbody tr th:only-of-type {\n",
       "        vertical-align: middle;\n",
       "    }\n",
       "\n",
       "    .dataframe tbody tr th {\n",
       "        vertical-align: top;\n",
       "    }\n",
       "\n",
       "    .dataframe thead th {\n",
       "        text-align: right;\n",
       "    }\n",
       "</style>\n",
       "<table border=\"1\" class=\"dataframe\">\n",
       "  <thead>\n",
       "    <tr style=\"text-align: right;\">\n",
       "      <th></th>\n",
       "      <th>text</th>\n",
       "      <th>speaker</th>\n",
       "      <th>season</th>\n",
       "      <th>episode</th>\n",
       "      <th>scene</th>\n",
       "      <th>utterance</th>\n",
       "    </tr>\n",
       "  </thead>\n",
       "  <tbody>\n",
       "    <tr>\n",
       "      <th>0</th>\n",
       "      <td>Everybody? Shh, shhh. Uhhh... Central Perk is ...</td>\n",
       "      <td>Rachel Green</td>\n",
       "      <td>1</td>\n",
       "      <td>7</td>\n",
       "      <td>1</td>\n",
       "      <td>1</td>\n",
       "    </tr>\n",
       "    <tr>\n",
       "      <th>1</th>\n",
       "      <td>(applause)</td>\n",
       "      <td>Scene Directions</td>\n",
       "      <td>1</td>\n",
       "      <td>7</td>\n",
       "      <td>1</td>\n",
       "      <td>2</td>\n",
       "    </tr>\n",
       "    <tr>\n",
       "      <th>2</th>\n",
       "      <td>Hi. Um, I want to start with a song thats abou...</td>\n",
       "      <td>Phoebe Buffay</td>\n",
       "      <td>1</td>\n",
       "      <td>7</td>\n",
       "      <td>1</td>\n",
       "      <td>3</td>\n",
       "    </tr>\n",
       "    <tr>\n",
       "      <th>3</th>\n",
       "      <td>Oh, great. This is just...</td>\n",
       "      <td>Chandler Bing</td>\n",
       "      <td>1</td>\n",
       "      <td>7</td>\n",
       "      <td>2</td>\n",
       "      <td>1</td>\n",
       "    </tr>\n",
       "    <tr>\n",
       "      <th>4</th>\n",
       "      <td>(Chandler sees that there is a gorgeous model ...</td>\n",
       "      <td>Scene Directions</td>\n",
       "      <td>1</td>\n",
       "      <td>7</td>\n",
       "      <td>2</td>\n",
       "      <td>2</td>\n",
       "    </tr>\n",
       "    <tr>\n",
       "      <th>...</th>\n",
       "      <td>...</td>\n",
       "      <td>...</td>\n",
       "      <td>...</td>\n",
       "      <td>...</td>\n",
       "      <td>...</td>\n",
       "      <td>...</td>\n",
       "    </tr>\n",
       "    <tr>\n",
       "      <th>8452</th>\n",
       "      <td>That I can do.</td>\n",
       "      <td>Joey Tribbiani</td>\n",
       "      <td>10</td>\n",
       "      <td>13</td>\n",
       "      <td>13</td>\n",
       "      <td>9</td>\n",
       "    </tr>\n",
       "    <tr>\n",
       "      <th>8453</th>\n",
       "      <td>Come on! You can drink a gallon of milk in 10 ...</td>\n",
       "      <td>Phoebe Buffay</td>\n",
       "      <td>10</td>\n",
       "      <td>13</td>\n",
       "      <td>13</td>\n",
       "      <td>10</td>\n",
       "    </tr>\n",
       "    <tr>\n",
       "      <th>8454</th>\n",
       "      <td>All right, watch me! Okay, you time me. Ready?</td>\n",
       "      <td>Joey Tribbiani</td>\n",
       "      <td>10</td>\n",
       "      <td>13</td>\n",
       "      <td>13</td>\n",
       "      <td>11</td>\n",
       "    </tr>\n",
       "    <tr>\n",
       "      <th>8455</th>\n",
       "      <td>Ready... GO!</td>\n",
       "      <td>Phoebe Buffay</td>\n",
       "      <td>10</td>\n",
       "      <td>13</td>\n",
       "      <td>13</td>\n",
       "      <td>12</td>\n",
       "    </tr>\n",
       "    <tr>\n",
       "      <th>8456</th>\n",
       "      <td>You did it!</td>\n",
       "      <td>Phoebe Buffay</td>\n",
       "      <td>10</td>\n",
       "      <td>13</td>\n",
       "      <td>13</td>\n",
       "      <td>13</td>\n",
       "    </tr>\n",
       "  </tbody>\n",
       "</table>\n",
       "<p>8457 rows × 6 columns</p>\n",
       "</div>"
      ],
      "text/plain": [
       "                                                   text           speaker  \\\n",
       "0     Everybody? Shh, shhh. Uhhh... Central Perk is ...      Rachel Green   \n",
       "1                                            (applause)  Scene Directions   \n",
       "2     Hi. Um, I want to start with a song thats abou...     Phoebe Buffay   \n",
       "3                            Oh, great. This is just...     Chandler Bing   \n",
       "4     (Chandler sees that there is a gorgeous model ...  Scene Directions   \n",
       "...                                                 ...               ...   \n",
       "8452                                     That I can do.    Joey Tribbiani   \n",
       "8453  Come on! You can drink a gallon of milk in 10 ...     Phoebe Buffay   \n",
       "8454     All right, watch me! Okay, you time me. Ready?    Joey Tribbiani   \n",
       "8455                                       Ready... GO!     Phoebe Buffay   \n",
       "8456                                        You did it!     Phoebe Buffay   \n",
       "\n",
       "      season  episode  scene  utterance  \n",
       "0          1        7      1          1  \n",
       "1          1        7      1          2  \n",
       "2          1        7      1          3  \n",
       "3          1        7      2          1  \n",
       "4          1        7      2          2  \n",
       "...      ...      ...    ...        ...  \n",
       "8452      10       13     13          9  \n",
       "8453      10       13     13         10  \n",
       "8454      10       13     13         11  \n",
       "8455      10       13     13         12  \n",
       "8456      10       13     13         13  \n",
       "\n",
       "[8457 rows x 6 columns]"
      ]
     },
     "execution_count": 126,
     "metadata": {},
     "output_type": "execute_result"
    }
   ],
   "source": [
    "lines = bpd.read_csv('data/friends_sample.csv') \n",
    "lines"
   ]
  },
  {
   "cell_type": "markdown",
   "id": "8d06ada0",
   "metadata": {},
   "source": [
    "### Emotions\n",
    "\n",
    "Lastly, you have a dataset of the emotion attached to each line of the show, for most (but not all) lines in the first four seasons of the show. For each line included in our dataset, the line is associated with one of seven different emotions. These seven emotions are:\n",
    "- `'Joyful'` 😄\n",
    "- `'Mad'` 😡\n",
    "- `'Sad'` 😭\n",
    "- `'Powerful'` 💪\n",
    "- `'Peaceful'` ✌ \n",
    "- `'Scared'` 😱 \n",
    "- `'Neutral'` 😑 \n",
    "\n",
    "Classifying each line's emotion is a huge data science task in and of itself. [This paper](https://arxiv.org/pdf/1708.04299) explains how convolutional neural networks were able to do this task, if you're interested in learning more.\n",
    "\n",
    "Run the cell below to load in the data, which has the same columns as `lines` plus an extra column called `emotion`. For example, the first line of the fourth scene in Season 1, Episode 1 is categorized as `'Mad'`. That means the speaker, Ross, was probably mad when he said it. If you've ever assembled furniture, you might understand this frustration."
   ]
  },
  {
   "cell_type": "code",
   "execution_count": 127,
   "id": "609c635f",
   "metadata": {},
   "outputs": [
    {
     "data": {
      "text/html": [
       "<div>\n",
       "<style scoped>\n",
       "    .dataframe tbody tr th:only-of-type {\n",
       "        vertical-align: middle;\n",
       "    }\n",
       "\n",
       "    .dataframe tbody tr th {\n",
       "        vertical-align: top;\n",
       "    }\n",
       "\n",
       "    .dataframe thead th {\n",
       "        text-align: right;\n",
       "    }\n",
       "</style>\n",
       "<table border=\"1\" class=\"dataframe\">\n",
       "  <thead>\n",
       "    <tr style=\"text-align: right;\">\n",
       "      <th></th>\n",
       "      <th>text</th>\n",
       "      <th>speaker</th>\n",
       "      <th>season</th>\n",
       "      <th>episode</th>\n",
       "      <th>scene</th>\n",
       "      <th>utterance</th>\n",
       "      <th>emotion</th>\n",
       "    </tr>\n",
       "  </thead>\n",
       "  <tbody>\n",
       "    <tr>\n",
       "      <th>0</th>\n",
       "      <td>I'm supposed to attach a brackety thing to the...</td>\n",
       "      <td>Ross Geller</td>\n",
       "      <td>1</td>\n",
       "      <td>1</td>\n",
       "      <td>4</td>\n",
       "      <td>1</td>\n",
       "      <td>Mad</td>\n",
       "    </tr>\n",
       "    <tr>\n",
       "      <th>1</th>\n",
       "      <td>I'm thinking we've got a bookcase here.</td>\n",
       "      <td>Joey Tribbiani</td>\n",
       "      <td>1</td>\n",
       "      <td>1</td>\n",
       "      <td>4</td>\n",
       "      <td>3</td>\n",
       "      <td>Neutral</td>\n",
       "    </tr>\n",
       "    <tr>\n",
       "      <th>2</th>\n",
       "      <td>It's a beautiful thing.</td>\n",
       "      <td>Chandler Bing</td>\n",
       "      <td>1</td>\n",
       "      <td>1</td>\n",
       "      <td>4</td>\n",
       "      <td>4</td>\n",
       "      <td>Joyful</td>\n",
       "    </tr>\n",
       "    <tr>\n",
       "      <th>3</th>\n",
       "      <td>What's this?</td>\n",
       "      <td>Joey Tribbiani</td>\n",
       "      <td>1</td>\n",
       "      <td>1</td>\n",
       "      <td>4</td>\n",
       "      <td>5</td>\n",
       "      <td>Neutral</td>\n",
       "    </tr>\n",
       "    <tr>\n",
       "      <th>4</th>\n",
       "      <td>I would have to say that is an 'L'-shaped brac...</td>\n",
       "      <td>Chandler Bing</td>\n",
       "      <td>1</td>\n",
       "      <td>1</td>\n",
       "      <td>4</td>\n",
       "      <td>6</td>\n",
       "      <td>Neutral</td>\n",
       "    </tr>\n",
       "    <tr>\n",
       "      <th>...</th>\n",
       "      <td>...</td>\n",
       "      <td>...</td>\n",
       "      <td>...</td>\n",
       "      <td>...</td>\n",
       "      <td>...</td>\n",
       "      <td>...</td>\n",
       "      <td>...</td>\n",
       "    </tr>\n",
       "    <tr>\n",
       "      <th>12601</th>\n",
       "      <td>Ahh, yes, I will have a glass of the Merlot</td>\n",
       "      <td>Rachel Green</td>\n",
       "      <td>4</td>\n",
       "      <td>24</td>\n",
       "      <td>25</td>\n",
       "      <td>2</td>\n",
       "      <td>Neutral</td>\n",
       "    </tr>\n",
       "    <tr>\n",
       "      <th>12602</th>\n",
       "      <td>Okay.</td>\n",
       "      <td>Air Hostess</td>\n",
       "      <td>4</td>\n",
       "      <td>24</td>\n",
       "      <td>25</td>\n",
       "      <td>3</td>\n",
       "      <td>Neutral</td>\n",
       "    </tr>\n",
       "    <tr>\n",
       "      <th>12603</th>\n",
       "      <td>And uh, he will have a white wine spritzer.</td>\n",
       "      <td>Rachel Green</td>\n",
       "      <td>4</td>\n",
       "      <td>24</td>\n",
       "      <td>25</td>\n",
       "      <td>4</td>\n",
       "      <td>Neutral</td>\n",
       "    </tr>\n",
       "    <tr>\n",
       "      <th>12604</th>\n",
       "      <td>Okay, good. Thank you. I'll be back shortly, a...</td>\n",
       "      <td>Air Hostess</td>\n",
       "      <td>4</td>\n",
       "      <td>24</td>\n",
       "      <td>25</td>\n",
       "      <td>5</td>\n",
       "      <td>Joyful</td>\n",
       "    </tr>\n",
       "    <tr>\n",
       "      <th>12605</th>\n",
       "      <td>All right. Woo! Hey, look at that, the airport...</td>\n",
       "      <td>Rachel Green</td>\n",
       "      <td>4</td>\n",
       "      <td>24</td>\n",
       "      <td>25</td>\n",
       "      <td>6</td>\n",
       "      <td>Scared</td>\n",
       "    </tr>\n",
       "  </tbody>\n",
       "</table>\n",
       "<p>12606 rows × 7 columns</p>\n",
       "</div>"
      ],
      "text/plain": [
       "                                                    text         speaker  \\\n",
       "0      I'm supposed to attach a brackety thing to the...     Ross Geller   \n",
       "1                I'm thinking we've got a bookcase here.  Joey Tribbiani   \n",
       "2                                It's a beautiful thing.   Chandler Bing   \n",
       "3                                           What's this?  Joey Tribbiani   \n",
       "4      I would have to say that is an 'L'-shaped brac...   Chandler Bing   \n",
       "...                                                  ...             ...   \n",
       "12601        Ahh, yes, I will have a glass of the Merlot    Rachel Green   \n",
       "12602                                              Okay.     Air Hostess   \n",
       "12603        And uh, he will have a white wine spritzer.    Rachel Green   \n",
       "12604  Okay, good. Thank you. I'll be back shortly, a...     Air Hostess   \n",
       "12605  All right. Woo! Hey, look at that, the airport...    Rachel Green   \n",
       "\n",
       "       season  episode  scene  utterance  emotion  \n",
       "0           1        1      4          1      Mad  \n",
       "1           1        1      4          3  Neutral  \n",
       "2           1        1      4          4   Joyful  \n",
       "3           1        1      4          5  Neutral  \n",
       "4           1        1      4          6  Neutral  \n",
       "...       ...      ...    ...        ...      ...  \n",
       "12601       4       24     25          2  Neutral  \n",
       "12602       4       24     25          3  Neutral  \n",
       "12603       4       24     25          4  Neutral  \n",
       "12604       4       24     25          5   Joyful  \n",
       "12605       4       24     25          6   Scared  \n",
       "\n",
       "[12606 rows x 7 columns]"
      ]
     },
     "execution_count": 127,
     "metadata": {},
     "output_type": "execute_result"
    }
   ],
   "source": [
    "emotions = bpd.read_csv('data/friends_emotions.csv') \n",
    "emotions"
   ]
  },
  {
   "cell_type": "markdown",
   "id": "25cdfc51",
   "metadata": {},
   "source": [
    "<a id='section1'></a>\n",
    "## Section 1: The Pilot 🎬\n",
    "\n",
    "<small>(<a href=\"#outline\">return to the outline</a>)</small>\n",
    "\n",
    "To start, we'll try to find the most experienced writers and directors in the show to know who to contact for making the reboot. The `episodes` DataFrame contains the writers and directors for each episode, but it's not in the neatest format. "
   ]
  },
  {
   "cell_type": "code",
   "execution_count": 128,
   "id": "f0814269",
   "metadata": {},
   "outputs": [
    {
     "data": {
      "text/html": [
       "<div>\n",
       "<style scoped>\n",
       "    .dataframe tbody tr th:only-of-type {\n",
       "        vertical-align: middle;\n",
       "    }\n",
       "\n",
       "    .dataframe tbody tr th {\n",
       "        vertical-align: top;\n",
       "    }\n",
       "\n",
       "    .dataframe thead th {\n",
       "        text-align: right;\n",
       "    }\n",
       "</style>\n",
       "<table border=\"1\" class=\"dataframe\">\n",
       "  <thead>\n",
       "    <tr style=\"text-align: right;\">\n",
       "      <th></th>\n",
       "      <th>season</th>\n",
       "      <th>episode</th>\n",
       "      <th>title</th>\n",
       "      <th>directed_by</th>\n",
       "      <th>written_by</th>\n",
       "      <th>air_date</th>\n",
       "      <th>us_views_millions</th>\n",
       "      <th>imdb_rating</th>\n",
       "    </tr>\n",
       "  </thead>\n",
       "  <tbody>\n",
       "    <tr>\n",
       "      <th>0</th>\n",
       "      <td>1</td>\n",
       "      <td>1</td>\n",
       "      <td>The Pilot</td>\n",
       "      <td>James Burrows</td>\n",
       "      <td>David Crane &amp; Marta Kauffman</td>\n",
       "      <td>9/22/94</td>\n",
       "      <td>21.50</td>\n",
       "      <td>8.3</td>\n",
       "    </tr>\n",
       "    <tr>\n",
       "      <th>1</th>\n",
       "      <td>1</td>\n",
       "      <td>2</td>\n",
       "      <td>The One with the Sonogram at the End</td>\n",
       "      <td>James Burrows</td>\n",
       "      <td>David Crane &amp; Marta Kauffman</td>\n",
       "      <td>9/29/94</td>\n",
       "      <td>20.20</td>\n",
       "      <td>8.1</td>\n",
       "    </tr>\n",
       "    <tr>\n",
       "      <th>2</th>\n",
       "      <td>1</td>\n",
       "      <td>3</td>\n",
       "      <td>The One with the Thumb</td>\n",
       "      <td>James Burrows</td>\n",
       "      <td>Jeffrey Astrof &amp; Mike Sikowitz</td>\n",
       "      <td>10/6/94</td>\n",
       "      <td>19.50</td>\n",
       "      <td>8.2</td>\n",
       "    </tr>\n",
       "    <tr>\n",
       "      <th>3</th>\n",
       "      <td>1</td>\n",
       "      <td>4</td>\n",
       "      <td>The One with George Stephanopoulos</td>\n",
       "      <td>James Burrows</td>\n",
       "      <td>Alexa Junge</td>\n",
       "      <td>10/13/94</td>\n",
       "      <td>19.70</td>\n",
       "      <td>8.1</td>\n",
       "    </tr>\n",
       "    <tr>\n",
       "      <th>4</th>\n",
       "      <td>1</td>\n",
       "      <td>5</td>\n",
       "      <td>The One with the East German Laundry Detergent</td>\n",
       "      <td>Pamela Fryman</td>\n",
       "      <td>Jeff Greenstein &amp; Jeff Strauss</td>\n",
       "      <td>10/20/94</td>\n",
       "      <td>18.60</td>\n",
       "      <td>8.5</td>\n",
       "    </tr>\n",
       "    <tr>\n",
       "      <th>...</th>\n",
       "      <td>...</td>\n",
       "      <td>...</td>\n",
       "      <td>...</td>\n",
       "      <td>...</td>\n",
       "      <td>...</td>\n",
       "      <td>...</td>\n",
       "      <td>...</td>\n",
       "      <td>...</td>\n",
       "    </tr>\n",
       "    <tr>\n",
       "      <th>231</th>\n",
       "      <td>10</td>\n",
       "      <td>14</td>\n",
       "      <td>The One with Princess Consuela</td>\n",
       "      <td>Gary Halvorson</td>\n",
       "      <td>Story by: Robert CarlockTeleplay by: Tracy Reilly</td>\n",
       "      <td>2/26/04</td>\n",
       "      <td>22.83</td>\n",
       "      <td>8.6</td>\n",
       "    </tr>\n",
       "    <tr>\n",
       "      <th>232</th>\n",
       "      <td>10</td>\n",
       "      <td>15</td>\n",
       "      <td>The One Where Estelle Dies</td>\n",
       "      <td>Gary Halvorson</td>\n",
       "      <td>Story by: Mark KunerthTeleplay by: David Crane...</td>\n",
       "      <td>4/22/04</td>\n",
       "      <td>22.64</td>\n",
       "      <td>8.5</td>\n",
       "    </tr>\n",
       "    <tr>\n",
       "      <th>233</th>\n",
       "      <td>10</td>\n",
       "      <td>16</td>\n",
       "      <td>The One with Rachel's Going Away Party</td>\n",
       "      <td>Gary Halvorson</td>\n",
       "      <td>Andrew Reich &amp; Ted Cohen</td>\n",
       "      <td>4/29/04</td>\n",
       "      <td>24.51</td>\n",
       "      <td>8.9</td>\n",
       "    </tr>\n",
       "    <tr>\n",
       "      <th>234</th>\n",
       "      <td>10</td>\n",
       "      <td>17</td>\n",
       "      <td>The Last One</td>\n",
       "      <td>Kevin S. Bright</td>\n",
       "      <td>Marta Kauffman &amp; David Crane</td>\n",
       "      <td>5/6/04</td>\n",
       "      <td>52.46</td>\n",
       "      <td>9.7</td>\n",
       "    </tr>\n",
       "    <tr>\n",
       "      <th>235</th>\n",
       "      <td>10</td>\n",
       "      <td>18</td>\n",
       "      <td>The Last One</td>\n",
       "      <td>Kevin S. Bright</td>\n",
       "      <td>Marta Kauffman &amp; David Crane</td>\n",
       "      <td>5/6/04</td>\n",
       "      <td>52.46</td>\n",
       "      <td>9.7</td>\n",
       "    </tr>\n",
       "  </tbody>\n",
       "</table>\n",
       "<p>236 rows × 8 columns</p>\n",
       "</div>"
      ],
      "text/plain": [
       "     season  episode                                           title  \\\n",
       "0         1        1                                       The Pilot   \n",
       "1         1        2            The One with the Sonogram at the End   \n",
       "2         1        3                          The One with the Thumb   \n",
       "3         1        4              The One with George Stephanopoulos   \n",
       "4         1        5  The One with the East German Laundry Detergent   \n",
       "..      ...      ...                                             ...   \n",
       "231      10       14                  The One with Princess Consuela   \n",
       "232      10       15                      The One Where Estelle Dies   \n",
       "233      10       16          The One with Rachel's Going Away Party   \n",
       "234      10       17                                    The Last One   \n",
       "235      10       18                                    The Last One   \n",
       "\n",
       "         directed_by                                         written_by  \\\n",
       "0      James Burrows                       David Crane & Marta Kauffman   \n",
       "1      James Burrows                       David Crane & Marta Kauffman   \n",
       "2      James Burrows                     Jeffrey Astrof & Mike Sikowitz   \n",
       "3      James Burrows                                        Alexa Junge   \n",
       "4      Pamela Fryman                     Jeff Greenstein & Jeff Strauss   \n",
       "..               ...                                                ...   \n",
       "231   Gary Halvorson  Story by: Robert CarlockTeleplay by: Tracy Reilly   \n",
       "232   Gary Halvorson  Story by: Mark KunerthTeleplay by: David Crane...   \n",
       "233   Gary Halvorson                           Andrew Reich & Ted Cohen   \n",
       "234  Kevin S. Bright                       Marta Kauffman & David Crane   \n",
       "235  Kevin S. Bright                       Marta Kauffman & David Crane   \n",
       "\n",
       "     air_date  us_views_millions  imdb_rating  \n",
       "0     9/22/94              21.50          8.3  \n",
       "1     9/29/94              20.20          8.1  \n",
       "2     10/6/94              19.50          8.2  \n",
       "3    10/13/94              19.70          8.1  \n",
       "4    10/20/94              18.60          8.5  \n",
       "..        ...                ...          ...  \n",
       "231   2/26/04              22.83          8.6  \n",
       "232   4/22/04              22.64          8.5  \n",
       "233   4/29/04              24.51          8.9  \n",
       "234    5/6/04              52.46          9.7  \n",
       "235    5/6/04              52.46          9.7  \n",
       "\n",
       "[236 rows x 8 columns]"
      ]
     },
     "execution_count": 128,
     "metadata": {},
     "output_type": "execute_result"
    }
   ],
   "source": [
    "episodes"
   ]
  },
  {
   "cell_type": "markdown",
   "id": "df1ce5ab",
   "metadata": {},
   "source": [
    "Some episodes were written or directed by more than one person, and many episodes have certain people who wrote the story and other people who wrote the teleplay. So identifying the most experienced writers and directors is not as straightforward as simply grouping and counting. First, we'll have to clean up the data to break up each string of names into a list of individual names."
   ]
  },
  {
   "cell_type": "markdown",
   "id": "b0a64120",
   "metadata": {},
   "source": [
    "**Question 1.1.**\n",
    "We want to first handle any episodes with two directors so that later we can count the number of episodes each director contributed to. Create a function called `parse_names` that turns a string in the `'directed_by'` column to a **list** of one or two names. Values in the `'directed_by'` column are either single names, or two names separated by an ampersand. For example,\n",
    "-  `parse_names('James Burrows')` should return `['James Burrows']`, and \n",
    "-  `parse_names('Kevin S. Bright & Gary Halvorson')` should return `['Kevin S. Bright', 'Gary Halvorson']`.\n",
    "\n",
    "Then, apply your function to the `'directed_by'` column from the `episodes` DataFrame, and store the resulting Series in the variable `directors_by_episode`. **Do not** modify the `episodes` DataFrame. "
   ]
  },
  {
   "cell_type": "code",
   "execution_count": 129,
   "id": "2f4b92b5",
   "metadata": {},
   "outputs": [
    {
     "data": {
      "text/plain": [
       "0        [James Burrows]\n",
       "1        [James Burrows]\n",
       "2        [James Burrows]\n",
       "3        [James Burrows]\n",
       "4        [Pamela Fryman]\n",
       "             ...        \n",
       "231     [Gary Halvorson]\n",
       "232     [Gary Halvorson]\n",
       "233     [Gary Halvorson]\n",
       "234    [Kevin S. Bright]\n",
       "235    [Kevin S. Bright]\n",
       "Name: directed_by, Length: 236, dtype: object"
      ]
     },
     "execution_count": 129,
     "metadata": {},
     "output_type": "execute_result"
    }
   ],
   "source": [
    "def parse_names(names):\n",
    "    '''Returns a list of individual names present in the input string.'''\n",
    "    return names.split(' & ')\n",
    "\n",
    "directors_by_episode = episodes.get('directed_by').apply(parse_names)\n",
    "directors_by_episode"
   ]
  },
  {
   "cell_type": "code",
   "execution_count": 130,
   "id": "f6ef2b3e",
   "metadata": {
    "deletable": false,
    "editable": false
   },
   "outputs": [
    {
     "data": {
      "text/html": [
       "<p><strong><pre style='display: inline;'>q1_1</pre></strong> passed!</p>"
      ],
      "text/plain": [
       "q1_1 results: All test cases passed!"
      ]
     },
     "execution_count": 130,
     "metadata": {},
     "output_type": "execute_result"
    }
   ],
   "source": [
    "grader.check(\"q1_1\")"
   ]
  },
  {
   "cell_type": "markdown",
   "id": "499ea554",
   "metadata": {},
   "source": [
    "\n",
    "For the next question, you'll need to know something interesting about how lists work in Python: when you sum two lists together, the output is one giant list that contains all the elements in both lists combined. An example is shown below.\n"
   ]
  },
  {
   "cell_type": "code",
   "execution_count": 131,
   "id": "1b38d2ab",
   "metadata": {},
   "outputs": [
    {
     "data": {
      "text/plain": [
       "['List', 'combining', 'is', 'my', 'passion']"
      ]
     },
     "execution_count": 131,
     "metadata": {},
     "output_type": "execute_result"
    }
   ],
   "source": [
    "['List', 'combining'] + ['is', 'my', 'passion']"
   ]
  },
  {
   "cell_type": "markdown",
   "id": "67df10d3",
   "metadata": {},
   "source": [
    "**Question 1.2.** ⭐⭐\n",
    "Now it's time to count the number of episodes each director directed. Make a DataFrame called `directors`, indexed by `'name'`, with one column called `'num_episodes'`. There should be one row for each unique director, and `'num_episodes'` should contain the number of episodes they directed or co-directed. Sort this DataFrame so that the most experienced directors appear at the top.\n",
    "\n",
    "***Hints:***\n",
    "- Our solution involved creating a new, empty DataFrame with `bpd.DataFrame()`, adding columns, and using `groupby`. \n",
    "- For `groupby` to give meaningful results, you must use it on a DataFrame with at least two columns."
   ]
  },
  {
   "cell_type": "code",
   "execution_count": 310,
   "id": "38844fdb",
   "metadata": {},
   "outputs": [
    {
     "data": {
      "text/html": [
       "<div>\n",
       "<style scoped>\n",
       "    .dataframe tbody tr th:only-of-type {\n",
       "        vertical-align: middle;\n",
       "    }\n",
       "\n",
       "    .dataframe tbody tr th {\n",
       "        vertical-align: top;\n",
       "    }\n",
       "\n",
       "    .dataframe thead th {\n",
       "        text-align: right;\n",
       "    }\n",
       "</style>\n",
       "<table border=\"1\" class=\"dataframe\">\n",
       "  <thead>\n",
       "    <tr style=\"text-align: right;\">\n",
       "      <th></th>\n",
       "      <th>num_episodes</th>\n",
       "    </tr>\n",
       "    <tr>\n",
       "      <th>name</th>\n",
       "      <th></th>\n",
       "    </tr>\n",
       "  </thead>\n",
       "  <tbody>\n",
       "    <tr>\n",
       "      <th>Gary Halvorson</th>\n",
       "      <td>54</td>\n",
       "    </tr>\n",
       "    <tr>\n",
       "      <th>Kevin S. Bright</th>\n",
       "      <td>53</td>\n",
       "    </tr>\n",
       "    <tr>\n",
       "      <th>Michael Lembeck</th>\n",
       "      <td>24</td>\n",
       "    </tr>\n",
       "    <tr>\n",
       "      <th>James Burrows</th>\n",
       "      <td>15</td>\n",
       "    </tr>\n",
       "    <tr>\n",
       "      <th>Gail Mancuso</th>\n",
       "      <td>14</td>\n",
       "    </tr>\n",
       "    <tr>\n",
       "      <th>...</th>\n",
       "      <td>...</td>\n",
       "    </tr>\n",
       "    <tr>\n",
       "      <th>Ellen Gittelsohn</th>\n",
       "      <td>1</td>\n",
       "    </tr>\n",
       "    <tr>\n",
       "      <th>David Steinberg</th>\n",
       "      <td>1</td>\n",
       "    </tr>\n",
       "    <tr>\n",
       "      <th>Dana DeVally Piazza</th>\n",
       "      <td>1</td>\n",
       "    </tr>\n",
       "    <tr>\n",
       "      <th>Arlene Sanford</th>\n",
       "      <td>1</td>\n",
       "    </tr>\n",
       "    <tr>\n",
       "      <th>Todd Holland</th>\n",
       "      <td>1</td>\n",
       "    </tr>\n",
       "  </tbody>\n",
       "</table>\n",
       "<p>29 rows × 1 columns</p>\n",
       "</div>"
      ],
      "text/plain": [
       "                     num_episodes\n",
       "name                             \n",
       "Gary Halvorson                 54\n",
       "Kevin S. Bright                53\n",
       "Michael Lembeck                24\n",
       "James Burrows                  15\n",
       "Gail Mancuso                   14\n",
       "...                           ...\n",
       "Ellen Gittelsohn                1\n",
       "David Steinberg                 1\n",
       "Dana DeVally Piazza             1\n",
       "Arlene Sanford                  1\n",
       "Todd Holland                    1\n",
       "\n",
       "[29 rows x 1 columns]"
      ]
     },
     "execution_count": 310,
     "metadata": {},
     "output_type": "execute_result"
    }
   ],
   "source": [
    "grouped = episodes.groupby('directed_by').count().reset_index()\n",
    "names = grouped.get('directed_by')\n",
    "count = grouped.get('episode')\n",
    "directors_df = bpd.DataFrame().assign(name=names, num_episodes=count)\n",
    "directors_df = directors_df[directors_df.get('name').str.contains('&') == False]\n",
    "directors_df.sort_values(by='num_episodes', ascending=False).set_index('name')"
   ]
  },
  {
   "cell_type": "code",
   "execution_count": 311,
   "id": "cbf6c354",
   "metadata": {
    "deletable": false,
    "editable": false
   },
   "outputs": [
    {
     "data": {
      "text/html": [
       "<p><strong><pre style='display: inline;'>q1_2</pre></strong> passed!</p>"
      ],
      "text/plain": [
       "q1_2 results: All test cases passed!"
      ]
     },
     "execution_count": 311,
     "metadata": {},
     "output_type": "execute_result"
    }
   ],
   "source": [
    "grader.check(\"q1_2\")"
   ]
  },
  {
   "cell_type": "markdown",
   "id": "452264a0",
   "metadata": {},
   "source": [
    "Now we want to repeat the process we've done so far in this section, except for writers instead of directors. This is a little trickier because for some episodes, certain writers wrote the story, meaning they developed the plot of the episode, while others wrote the teleplay, which means they wrote the dialogue and scene directions based on the story. For other episodes, the same writers wrote both the story and teleplay.\n",
    "\n",
    "There are two ways writers are represented in the `'written_by'` column:\n",
    "\n",
    "1. One or two names separated by `&` (similar to the `'directed_by'` column). This means these writers wrote both the story and teleplay.\n",
    "2. One or two names separated by `&` after `Story by: ` and one or two names separated by `&` after `Teleplay by: ` \n",
    "\n",
    "Therefore, the six possible templates of strings in the `'written_by'` column are:\n",
    "1. <ins>writer</ins>\n",
    "2. <ins>writer</ins> & <ins>other writer</ins>\n",
    "3. Story by: <ins>writer</ins>Teleplay by: <ins>other writer</ins>\n",
    "4. Story by: <ins>writer</ins>Teleplay by: <ins>other writer</ins> & <ins>another writer</ins>\n",
    "5. Story by: <ins>writer</ins> & <ins>other writer</ins>Teleplay by: <ins>another writer</ins>\n",
    "6. Story by: <ins>writer</ins> & <ins>other writer</ins>Teleplay by: <ins>another writer</ins> & <ins>yet another writer</ins>\n",
    "\n",
    "**Question 1.3.** Implement the function `get_teleplay_writers`, which takes as input a string from the `'written_by'` column, corresponding to one episode, and returns a list of teleplay writers for that episode.  Remember that if the writers' names aren't divided into story and teleplay, then all writers wrote both the story and the teleplay.\n",
    "\n",
    "***Hints:***\n",
    "- Use the `parse_names` function you wrote earlier.\n",
    "- While there are six templates, you can solve this problem without using any conditional logic (`if`-statements). Your solution doesn't have to be the same as ours, but ours was just one line!"
   ]
  },
  {
   "cell_type": "code",
   "execution_count": 312,
   "id": "bea7fbb2",
   "metadata": {},
   "outputs": [],
   "source": [
    "def get_teleplay_writers(names):\n",
    "    '''Returns a list of names of teleplay writers present in the input string.'''\n",
    "    return parse_names(names.split('Teleplay by: ')[-1])"
   ]
  },
  {
   "cell_type": "code",
   "execution_count": 313,
   "id": "77fa1b14",
   "metadata": {
    "deletable": false,
    "editable": false
   },
   "outputs": [
    {
     "data": {
      "text/html": [
       "<p><strong><pre style='display: inline;'>q1_3</pre></strong> passed!</p>"
      ],
      "text/plain": [
       "q1_3 results: All test cases passed!"
      ]
     },
     "execution_count": 313,
     "metadata": {},
     "output_type": "execute_result"
    }
   ],
   "source": [
    "grader.check(\"q1_3\")"
   ]
  },
  {
   "cell_type": "markdown",
   "id": "410e094e",
   "metadata": {},
   "source": [
    "**Question 1.4.** Now we need a function for getting the names of the writers that wrote the story of an episode. Create a function `get_story_writers` that takes a string from the `'written_by'` column and returns a list of story writers. As before, if the writers' names aren't divided into story and teleplay, then all writers wrote both the story and the teleplay.\n"
   ]
  },
  {
   "cell_type": "code",
   "execution_count": 314,
   "id": "da01e29f",
   "metadata": {},
   "outputs": [],
   "source": [
    "def get_story_writers(names):\n",
    "    '''Returns a list of names of story writers present in the input string.'''\n",
    "    return parse_names(names.split('Story by: ')[-1].split('Teleplay by:')[0])\n"
   ]
  },
  {
   "cell_type": "code",
   "execution_count": 289,
   "id": "6e5999f7",
   "metadata": {
    "deletable": false,
    "editable": false
   },
   "outputs": [
    {
     "data": {
      "text/html": [
       "<p><strong><pre style='display: inline;'>q1_4</pre></strong> passed!</p>"
      ],
      "text/plain": [
       "q1_4 results: All test cases passed!"
      ]
     },
     "execution_count": 289,
     "metadata": {},
     "output_type": "execute_result"
    }
   ],
   "source": [
    "grader.check(\"q1_4\")"
   ]
  },
  {
   "cell_type": "markdown",
   "id": "25bd465b",
   "metadata": {},
   "source": [
    "**Question 1.5.**\n",
    "Next we want to count how many times each writer wrote or co-wrote the story for an episode, as well as how many times each writer wrote or co-wrote the teleplay for an episode. This will be similar to the process we did in Question 1.2 for directors. Since we want to do something similar for story writers and teleplay writers, let's create a more general function that works for directors, story writers, and teleplay writers.\n",
    "\n",
    "The function `count_episodes` should take as input a Series of lists, containing for each episode, either the directors, story writers, or teleplay writers for that episode. The function should return a DataFrame indexed by `'name'`, with one column called `'num_episodes'` containing a count of how many episodes each staff member worked on, sorted in descending order of the number of episodes.\n",
    "\n",
    "For example `count_episodes(directors_by_episode)` should return a DataFrame that is identical to the `directors` DataFrame you created in Question 1.2. But we could also use the same function, with different inputs, to count the number of episodes each story writer and each teleplay writer worked on."
   ]
  },
  {
   "cell_type": "code",
   "execution_count": 291,
   "id": "8bd8a075",
   "metadata": {},
   "outputs": [
    {
     "data": {
      "text/html": [
       "<div>\n",
       "<style scoped>\n",
       "    .dataframe tbody tr th:only-of-type {\n",
       "        vertical-align: middle;\n",
       "    }\n",
       "\n",
       "    .dataframe tbody tr th {\n",
       "        vertical-align: top;\n",
       "    }\n",
       "\n",
       "    .dataframe thead th {\n",
       "        text-align: right;\n",
       "    }\n",
       "</style>\n",
       "<table border=\"1\" class=\"dataframe\">\n",
       "  <thead>\n",
       "    <tr style=\"text-align: right;\">\n",
       "      <th></th>\n",
       "      <th>num_episodes</th>\n",
       "    </tr>\n",
       "    <tr>\n",
       "      <th>name</th>\n",
       "      <th></th>\n",
       "    </tr>\n",
       "  </thead>\n",
       "  <tbody>\n",
       "    <tr>\n",
       "      <th>Gary Halvorson</th>\n",
       "      <td>55</td>\n",
       "    </tr>\n",
       "    <tr>\n",
       "      <th>Kevin S. Bright</th>\n",
       "      <td>54</td>\n",
       "    </tr>\n",
       "    <tr>\n",
       "      <th>Michael Lembeck</th>\n",
       "      <td>24</td>\n",
       "    </tr>\n",
       "    <tr>\n",
       "      <th>James Burrows</th>\n",
       "      <td>15</td>\n",
       "    </tr>\n",
       "    <tr>\n",
       "      <th>Gail Mancuso</th>\n",
       "      <td>14</td>\n",
       "    </tr>\n",
       "    <tr>\n",
       "      <th>...</th>\n",
       "      <td>...</td>\n",
       "    </tr>\n",
       "    <tr>\n",
       "      <th>Ellen Gittelsohn</th>\n",
       "      <td>1</td>\n",
       "    </tr>\n",
       "    <tr>\n",
       "      <th>David Steinberg</th>\n",
       "      <td>1</td>\n",
       "    </tr>\n",
       "    <tr>\n",
       "      <th>Dana DeVally Piazza</th>\n",
       "      <td>1</td>\n",
       "    </tr>\n",
       "    <tr>\n",
       "      <th>Arlene Sanford</th>\n",
       "      <td>1</td>\n",
       "    </tr>\n",
       "    <tr>\n",
       "      <th>Todd Holland</th>\n",
       "      <td>1</td>\n",
       "    </tr>\n",
       "  </tbody>\n",
       "</table>\n",
       "<p>29 rows × 1 columns</p>\n",
       "</div>"
      ],
      "text/plain": [
       "                     num_episodes\n",
       "name                             \n",
       "Gary Halvorson                 55\n",
       "Kevin S. Bright                54\n",
       "Michael Lembeck                24\n",
       "James Burrows                  15\n",
       "Gail Mancuso                   14\n",
       "...                           ...\n",
       "Ellen Gittelsohn                1\n",
       "David Steinberg                 1\n",
       "Dana DeVally Piazza             1\n",
       "Arlene Sanford                  1\n",
       "Todd Holland                    1\n",
       "\n",
       "[29 rows x 1 columns]"
      ]
     },
     "execution_count": 291,
     "metadata": {},
     "output_type": "execute_result"
    }
   ],
   "source": [
    "def count_episodes(staff):\n",
    "    '''Returns a DataFrame showing how many episodes each staff member worked on.''' \n",
    "    names = []\n",
    "    lists_of_names = staff.to_numpy()\n",
    "    for i in np.arange(len(lists_of_names)):\n",
    "        names += lists_of_names[i]\n",
    "    staff_df = bpd.DataFrame().assign(name = names, num_episodes = names).groupby('name').count().sort_values(by = 'num_episodes', ascending = False)\n",
    "    return staff_df\n",
    "\n",
    "# An example call to your function. Feel free to change this and try out other inputs.  \n",
    "count_episodes(directors_by_episode)"
   ]
  },
  {
   "cell_type": "code",
   "execution_count": 163,
   "id": "5afbbe75",
   "metadata": {
    "deletable": false,
    "editable": false
   },
   "outputs": [
    {
     "data": {
      "text/html": [
       "<p><strong><pre style='display: inline;'>q1_5</pre></strong> passed!</p>"
      ],
      "text/plain": [
       "q1_5 results: All test cases passed!"
      ]
     },
     "execution_count": 163,
     "metadata": {},
     "output_type": "execute_result"
    }
   ],
   "source": [
    "grader.check(\"q1_5\")"
   ]
  },
  {
   "cell_type": "markdown",
   "id": "e755b4db",
   "metadata": {},
   "source": [
    "**Question 1.6.**\n",
    "Now, use the function you wrote in Question 1.5 to make a DataFrame called `story_writers`. This DataFrame should be indexed by `'name'`, with one column called `'num_episodes'`. There should be one row for each unique story writer, and `'num_episodes'` should contain the number of episodes for which they wrote the story, either independently or with a co-writer. Sort this DataFrame so that the most experienced story writers appear at the top.\n",
    "\n",
    "Then do the same for teleplay writers, storing your result in `teleplay_writers`."
   ]
  },
  {
   "cell_type": "code",
   "execution_count": 169,
   "id": "f5bcf676",
   "metadata": {},
   "outputs": [
    {
     "data": {
      "text/html": [
       "<div>\n",
       "<style scoped>\n",
       "    .dataframe tbody tr th:only-of-type {\n",
       "        vertical-align: middle;\n",
       "    }\n",
       "\n",
       "    .dataframe tbody tr th {\n",
       "        vertical-align: top;\n",
       "    }\n",
       "\n",
       "    .dataframe thead th {\n",
       "        text-align: right;\n",
       "    }\n",
       "</style>\n",
       "<table border=\"1\" class=\"dataframe\">\n",
       "  <thead>\n",
       "    <tr style=\"text-align: right;\">\n",
       "      <th></th>\n",
       "      <th>num_episodes</th>\n",
       "    </tr>\n",
       "    <tr>\n",
       "      <th>name</th>\n",
       "      <th></th>\n",
       "    </tr>\n",
       "  </thead>\n",
       "  <tbody>\n",
       "    <tr>\n",
       "      <th>Ted Cohen</th>\n",
       "      <td>21</td>\n",
       "    </tr>\n",
       "    <tr>\n",
       "      <th>Andrew Reich</th>\n",
       "      <td>21</td>\n",
       "    </tr>\n",
       "    <tr>\n",
       "      <th>Scott Silveri</th>\n",
       "      <td>19</td>\n",
       "    </tr>\n",
       "    <tr>\n",
       "      <th>Marta Kauffman</th>\n",
       "      <td>19</td>\n",
       "    </tr>\n",
       "    <tr>\n",
       "      <th>Shana Goldberg-Meehan</th>\n",
       "      <td>19</td>\n",
       "    </tr>\n",
       "    <tr>\n",
       "      <th>...</th>\n",
       "      <td>...</td>\n",
       "    </tr>\n",
       "    <tr>\n",
       "      <th>Brown Mandell</th>\n",
       "      <td>1</td>\n",
       "    </tr>\n",
       "    <tr>\n",
       "      <th>Jill Condon&amp; Amy Toomin</th>\n",
       "      <td>1</td>\n",
       "    </tr>\n",
       "    <tr>\n",
       "      <th>Patty Lin</th>\n",
       "      <td>1</td>\n",
       "    </tr>\n",
       "    <tr>\n",
       "      <th>Earl Davis</th>\n",
       "      <td>1</td>\n",
       "    </tr>\n",
       "    <tr>\n",
       "      <th>David J. Lagana</th>\n",
       "      <td>1</td>\n",
       "    </tr>\n",
       "  </tbody>\n",
       "</table>\n",
       "<p>48 rows × 1 columns</p>\n",
       "</div>"
      ],
      "text/plain": [
       "                         num_episodes\n",
       "name                                 \n",
       "Ted Cohen                          21\n",
       "Andrew Reich                       21\n",
       "Scott Silveri                      19\n",
       "Marta Kauffman                     19\n",
       "Shana Goldberg-Meehan              19\n",
       "...                               ...\n",
       "Brown Mandell                       1\n",
       "Jill Condon& Amy Toomin             1\n",
       "Patty Lin                           1\n",
       "Earl Davis                          1\n",
       "David J. Lagana                     1\n",
       "\n",
       "[48 rows x 1 columns]"
      ]
     },
     "execution_count": 169,
     "metadata": {},
     "output_type": "execute_result"
    }
   ],
   "source": [
    "story_writers = count_episodes(episodes.get('written_by').apply(get_story_writers))\n",
    "story_writers"
   ]
  },
  {
   "cell_type": "code",
   "execution_count": 170,
   "id": "3112b81e",
   "metadata": {
    "deletable": false,
    "editable": false
   },
   "outputs": [
    {
     "data": {
      "text/html": [
       "<p><strong><pre style='display: inline;'>q1_6_a</pre></strong> passed!</p>"
      ],
      "text/plain": [
       "q1_6_a results: All test cases passed!"
      ]
     },
     "execution_count": 170,
     "metadata": {},
     "output_type": "execute_result"
    }
   ],
   "source": [
    "grader.check(\"q1_6_a\")"
   ]
  },
  {
   "cell_type": "code",
   "execution_count": 171,
   "id": "191bf3a5",
   "metadata": {},
   "outputs": [
    {
     "data": {
      "text/html": [
       "<div>\n",
       "<style scoped>\n",
       "    .dataframe tbody tr th:only-of-type {\n",
       "        vertical-align: middle;\n",
       "    }\n",
       "\n",
       "    .dataframe tbody tr th {\n",
       "        vertical-align: top;\n",
       "    }\n",
       "\n",
       "    .dataframe thead th {\n",
       "        text-align: right;\n",
       "    }\n",
       "</style>\n",
       "<table border=\"1\" class=\"dataframe\">\n",
       "  <thead>\n",
       "    <tr style=\"text-align: right;\">\n",
       "      <th></th>\n",
       "      <th>num_episodes</th>\n",
       "    </tr>\n",
       "    <tr>\n",
       "      <th>name</th>\n",
       "      <th></th>\n",
       "    </tr>\n",
       "  </thead>\n",
       "  <tbody>\n",
       "    <tr>\n",
       "      <th>Ted Cohen</th>\n",
       "      <td>22</td>\n",
       "    </tr>\n",
       "    <tr>\n",
       "      <th>Andrew Reich</th>\n",
       "      <td>22</td>\n",
       "    </tr>\n",
       "    <tr>\n",
       "      <th>Scott Silveri</th>\n",
       "      <td>21</td>\n",
       "    </tr>\n",
       "    <tr>\n",
       "      <th>David Crane</th>\n",
       "      <td>20</td>\n",
       "    </tr>\n",
       "    <tr>\n",
       "      <th>Marta Kauffman</th>\n",
       "      <td>20</td>\n",
       "    </tr>\n",
       "    <tr>\n",
       "      <th>...</th>\n",
       "      <td>...</td>\n",
       "    </tr>\n",
       "    <tr>\n",
       "      <th>Suzie Villandry</th>\n",
       "      <td>1</td>\n",
       "    </tr>\n",
       "    <tr>\n",
       "      <th>Tracy Reilly</th>\n",
       "      <td>1</td>\n",
       "    </tr>\n",
       "    <tr>\n",
       "      <th>Vanessa McCarthy</th>\n",
       "      <td>1</td>\n",
       "    </tr>\n",
       "    <tr>\n",
       "      <th>Alicia Sky Varinaitis</th>\n",
       "      <td>1</td>\n",
       "    </tr>\n",
       "    <tr>\n",
       "      <th>Jill Condon&amp; Amy Toomin</th>\n",
       "      <td>1</td>\n",
       "    </tr>\n",
       "  </tbody>\n",
       "</table>\n",
       "<p>47 rows × 1 columns</p>\n",
       "</div>"
      ],
      "text/plain": [
       "                         num_episodes\n",
       "name                                 \n",
       "Ted Cohen                          22\n",
       "Andrew Reich                       22\n",
       "Scott Silveri                      21\n",
       "David Crane                        20\n",
       "Marta Kauffman                     20\n",
       "...                               ...\n",
       "Suzie Villandry                     1\n",
       "Tracy Reilly                        1\n",
       "Vanessa McCarthy                    1\n",
       "Alicia Sky Varinaitis               1\n",
       "Jill Condon& Amy Toomin             1\n",
       "\n",
       "[47 rows x 1 columns]"
      ]
     },
     "execution_count": 171,
     "metadata": {},
     "output_type": "execute_result"
    }
   ],
   "source": [
    "teleplay_writers = count_episodes(episodes.get('written_by').apply(get_teleplay_writers))\n",
    "teleplay_writers"
   ]
  },
  {
   "cell_type": "code",
   "execution_count": 172,
   "id": "e6ef0239",
   "metadata": {
    "deletable": false,
    "editable": false
   },
   "outputs": [
    {
     "data": {
      "text/html": [
       "<p><strong><pre style='display: inline;'>q1_6_b</pre></strong> passed!</p>"
      ],
      "text/plain": [
       "q1_6_b results: All test cases passed!"
      ]
     },
     "execution_count": 172,
     "metadata": {},
     "output_type": "execute_result"
    }
   ],
   "source": [
    "grader.check(\"q1_6_b\")"
   ]
  },
  {
   "cell_type": "markdown",
   "id": "da874745",
   "metadata": {},
   "source": [
    "**Question 1.7.** ⭐⭐\n",
    "Finally, it's time to use the information in `directors`, `story_writers`, and `teleplay_writers` to find the best candidates to help create the reboot. Create an array called `experienced_directors` containing the names of directors that directed at least 20 episodes. Then create an array called `experienced_writers` containing the names of writers that wrote at least 20 stories **and** at least 20 teleplays."
   ]
  },
  {
   "cell_type": "code",
   "execution_count": 318,
   "id": "e316f3ba",
   "metadata": {},
   "outputs": [],
   "source": [
    "experienced_directors = directors[directors.get('num_episodes') >= 20].reset_index().get('name').to_numpy()\n",
    "experienced_writers = story_writers[story_writers.get('num_episodes') >= 20].reset_index().get('name').to_numpy()"
   ]
  },
  {
   "cell_type": "code",
   "execution_count": 319,
   "id": "7513d3bb",
   "metadata": {},
   "outputs": [
    {
     "name": "stdout",
     "output_type": "stream",
     "text": [
      "The experienced directors are ['Gary Halvorson' 'Kevin S. Bright' 'Michael Lembeck']\n",
      "The experienced writers are ['Ted Cohen' 'Andrew Reich']\n"
     ]
    }
   ],
   "source": [
    "experienced_directors = np.array(experienced_directors)\n",
    "experienced_writers = np.array(experienced_writers)\n",
    "print(f'The experienced directors are {experienced_directors}')\n",
    "print(f'The experienced writers are {experienced_writers}')"
   ]
  },
  {
   "cell_type": "code",
   "execution_count": 320,
   "id": "902e8717",
   "metadata": {
    "deletable": false,
    "editable": false
   },
   "outputs": [
    {
     "data": {
      "text/html": [
       "<p><strong><pre style='display: inline;'>q1_7</pre></strong> passed!</p>"
      ],
      "text/plain": [
       "q1_7 results: All test cases passed!"
      ]
     },
     "execution_count": 320,
     "metadata": {},
     "output_type": "execute_result"
    }
   ],
   "source": [
    "grader.check(\"q1_7\")"
   ]
  },
  {
   "cell_type": "markdown",
   "id": "891cd5dc",
   "metadata": {},
   "source": [
    "These are the writers and directors you'll reach out to about your reboot, and hopefully, you can find at least one writer and one director interested in working with you on the reboot! If not, you can always relax your criteria and ask some less-experienced writers and directors."
   ]
  },
  {
   "cell_type": "markdown",
   "id": "7fe1a288",
   "metadata": {},
   "source": [
    "<a id='section2'></a>\n",
    "## Section 2: The One with the Best Director 🏆\n",
    "\n",
    "<small>(<a href=\"#outline\">return to the outline</a>)</small>\n",
    "\n",
    "You discovered in Section 1 that the two directors who directed the most episodes were Gary Halvorson and Kevin S. Bright. In this section, we want to discover which of these two directors makes better episodes, as determined by viewers. We'll use the `'imdb_rating'` column from the `episodes` DataFrame to gauge how much people enjoyed an episode. "
   ]
  },
  {
   "cell_type": "code",
   "execution_count": 30,
   "id": "5dfad5b3",
   "metadata": {},
   "outputs": [
    {
     "data": {
      "text/html": [
       "<div>\n",
       "<style scoped>\n",
       "    .dataframe tbody tr th:only-of-type {\n",
       "        vertical-align: middle;\n",
       "    }\n",
       "\n",
       "    .dataframe tbody tr th {\n",
       "        vertical-align: top;\n",
       "    }\n",
       "\n",
       "    .dataframe thead th {\n",
       "        text-align: right;\n",
       "    }\n",
       "</style>\n",
       "<table border=\"1\" class=\"dataframe\">\n",
       "  <thead>\n",
       "    <tr style=\"text-align: right;\">\n",
       "      <th></th>\n",
       "      <th>season</th>\n",
       "      <th>episode</th>\n",
       "      <th>title</th>\n",
       "      <th>directed_by</th>\n",
       "      <th>written_by</th>\n",
       "      <th>air_date</th>\n",
       "      <th>us_views_millions</th>\n",
       "      <th>imdb_rating</th>\n",
       "    </tr>\n",
       "  </thead>\n",
       "  <tbody>\n",
       "    <tr>\n",
       "      <th>0</th>\n",
       "      <td>1</td>\n",
       "      <td>1</td>\n",
       "      <td>The Pilot</td>\n",
       "      <td>James Burrows</td>\n",
       "      <td>David Crane &amp; Marta Kauffman</td>\n",
       "      <td>9/22/94</td>\n",
       "      <td>21.50</td>\n",
       "      <td>8.3</td>\n",
       "    </tr>\n",
       "    <tr>\n",
       "      <th>1</th>\n",
       "      <td>1</td>\n",
       "      <td>2</td>\n",
       "      <td>The One with the Sonogram at the End</td>\n",
       "      <td>James Burrows</td>\n",
       "      <td>David Crane &amp; Marta Kauffman</td>\n",
       "      <td>9/29/94</td>\n",
       "      <td>20.20</td>\n",
       "      <td>8.1</td>\n",
       "    </tr>\n",
       "    <tr>\n",
       "      <th>2</th>\n",
       "      <td>1</td>\n",
       "      <td>3</td>\n",
       "      <td>The One with the Thumb</td>\n",
       "      <td>James Burrows</td>\n",
       "      <td>Jeffrey Astrof &amp; Mike Sikowitz</td>\n",
       "      <td>10/6/94</td>\n",
       "      <td>19.50</td>\n",
       "      <td>8.2</td>\n",
       "    </tr>\n",
       "    <tr>\n",
       "      <th>3</th>\n",
       "      <td>1</td>\n",
       "      <td>4</td>\n",
       "      <td>The One with George Stephanopoulos</td>\n",
       "      <td>James Burrows</td>\n",
       "      <td>Alexa Junge</td>\n",
       "      <td>10/13/94</td>\n",
       "      <td>19.70</td>\n",
       "      <td>8.1</td>\n",
       "    </tr>\n",
       "    <tr>\n",
       "      <th>4</th>\n",
       "      <td>1</td>\n",
       "      <td>5</td>\n",
       "      <td>The One with the East German Laundry Detergent</td>\n",
       "      <td>Pamela Fryman</td>\n",
       "      <td>Jeff Greenstein &amp; Jeff Strauss</td>\n",
       "      <td>10/20/94</td>\n",
       "      <td>18.60</td>\n",
       "      <td>8.5</td>\n",
       "    </tr>\n",
       "    <tr>\n",
       "      <th>...</th>\n",
       "      <td>...</td>\n",
       "      <td>...</td>\n",
       "      <td>...</td>\n",
       "      <td>...</td>\n",
       "      <td>...</td>\n",
       "      <td>...</td>\n",
       "      <td>...</td>\n",
       "      <td>...</td>\n",
       "    </tr>\n",
       "    <tr>\n",
       "      <th>231</th>\n",
       "      <td>10</td>\n",
       "      <td>14</td>\n",
       "      <td>The One with Princess Consuela</td>\n",
       "      <td>Gary Halvorson</td>\n",
       "      <td>Story by: Robert CarlockTeleplay by: Tracy Reilly</td>\n",
       "      <td>2/26/04</td>\n",
       "      <td>22.83</td>\n",
       "      <td>8.6</td>\n",
       "    </tr>\n",
       "    <tr>\n",
       "      <th>232</th>\n",
       "      <td>10</td>\n",
       "      <td>15</td>\n",
       "      <td>The One Where Estelle Dies</td>\n",
       "      <td>Gary Halvorson</td>\n",
       "      <td>Story by: Mark KunerthTeleplay by: David Crane...</td>\n",
       "      <td>4/22/04</td>\n",
       "      <td>22.64</td>\n",
       "      <td>8.5</td>\n",
       "    </tr>\n",
       "    <tr>\n",
       "      <th>233</th>\n",
       "      <td>10</td>\n",
       "      <td>16</td>\n",
       "      <td>The One with Rachel's Going Away Party</td>\n",
       "      <td>Gary Halvorson</td>\n",
       "      <td>Andrew Reich &amp; Ted Cohen</td>\n",
       "      <td>4/29/04</td>\n",
       "      <td>24.51</td>\n",
       "      <td>8.9</td>\n",
       "    </tr>\n",
       "    <tr>\n",
       "      <th>234</th>\n",
       "      <td>10</td>\n",
       "      <td>17</td>\n",
       "      <td>The Last One</td>\n",
       "      <td>Kevin S. Bright</td>\n",
       "      <td>Marta Kauffman &amp; David Crane</td>\n",
       "      <td>5/6/04</td>\n",
       "      <td>52.46</td>\n",
       "      <td>9.7</td>\n",
       "    </tr>\n",
       "    <tr>\n",
       "      <th>235</th>\n",
       "      <td>10</td>\n",
       "      <td>18</td>\n",
       "      <td>The Last One</td>\n",
       "      <td>Kevin S. Bright</td>\n",
       "      <td>Marta Kauffman &amp; David Crane</td>\n",
       "      <td>5/6/04</td>\n",
       "      <td>52.46</td>\n",
       "      <td>9.7</td>\n",
       "    </tr>\n",
       "  </tbody>\n",
       "</table>\n",
       "<p>236 rows × 8 columns</p>\n",
       "</div>"
      ],
      "text/plain": [
       "     season  episode                                           title  \\\n",
       "0         1        1                                       The Pilot   \n",
       "1         1        2            The One with the Sonogram at the End   \n",
       "2         1        3                          The One with the Thumb   \n",
       "3         1        4              The One with George Stephanopoulos   \n",
       "4         1        5  The One with the East German Laundry Detergent   \n",
       "..      ...      ...                                             ...   \n",
       "231      10       14                  The One with Princess Consuela   \n",
       "232      10       15                      The One Where Estelle Dies   \n",
       "233      10       16          The One with Rachel's Going Away Party   \n",
       "234      10       17                                    The Last One   \n",
       "235      10       18                                    The Last One   \n",
       "\n",
       "         directed_by                                         written_by  \\\n",
       "0      James Burrows                       David Crane & Marta Kauffman   \n",
       "1      James Burrows                       David Crane & Marta Kauffman   \n",
       "2      James Burrows                     Jeffrey Astrof & Mike Sikowitz   \n",
       "3      James Burrows                                        Alexa Junge   \n",
       "4      Pamela Fryman                     Jeff Greenstein & Jeff Strauss   \n",
       "..               ...                                                ...   \n",
       "231   Gary Halvorson  Story by: Robert CarlockTeleplay by: Tracy Reilly   \n",
       "232   Gary Halvorson  Story by: Mark KunerthTeleplay by: David Crane...   \n",
       "233   Gary Halvorson                           Andrew Reich & Ted Cohen   \n",
       "234  Kevin S. Bright                       Marta Kauffman & David Crane   \n",
       "235  Kevin S. Bright                       Marta Kauffman & David Crane   \n",
       "\n",
       "     air_date  us_views_millions  imdb_rating  \n",
       "0     9/22/94              21.50          8.3  \n",
       "1     9/29/94              20.20          8.1  \n",
       "2     10/6/94              19.50          8.2  \n",
       "3    10/13/94              19.70          8.1  \n",
       "4    10/20/94              18.60          8.5  \n",
       "..        ...                ...          ...  \n",
       "231   2/26/04              22.83          8.6  \n",
       "232   4/22/04              22.64          8.5  \n",
       "233   4/29/04              24.51          8.9  \n",
       "234    5/6/04              52.46          9.7  \n",
       "235    5/6/04              52.46          9.7  \n",
       "\n",
       "[236 rows x 8 columns]"
      ]
     },
     "execution_count": 30,
     "metadata": {},
     "output_type": "execute_result"
    }
   ],
   "source": [
    "episodes"
   ]
  },
  {
   "cell_type": "markdown",
   "id": "006d8987",
   "metadata": {},
   "source": [
    "**Question 2.1.** Create a DataFrame `mean_by_director` with the director's name as the index and just one column called `'mean_rating'` that contains the mean rating of all of the episodes directed by that director.\n",
    "\n",
    "***Note:*** There is one episode that had two directors, separated by `'&'`. Exclude this episode, so that we're only looking at episodes with a single director."
   ]
  },
  {
   "cell_type": "code",
   "execution_count": 31,
   "id": "10f400fb",
   "metadata": {},
   "outputs": [
    {
     "data": {
      "text/html": [
       "<div>\n",
       "<style scoped>\n",
       "    .dataframe tbody tr th:only-of-type {\n",
       "        vertical-align: middle;\n",
       "    }\n",
       "\n",
       "    .dataframe tbody tr th {\n",
       "        vertical-align: top;\n",
       "    }\n",
       "\n",
       "    .dataframe thead th {\n",
       "        text-align: right;\n",
       "    }\n",
       "</style>\n",
       "<table border=\"1\" class=\"dataframe\">\n",
       "  <thead>\n",
       "    <tr style=\"text-align: right;\">\n",
       "      <th></th>\n",
       "      <th>mean_rating</th>\n",
       "    </tr>\n",
       "    <tr>\n",
       "      <th>directed_by</th>\n",
       "      <th></th>\n",
       "    </tr>\n",
       "  </thead>\n",
       "  <tbody>\n",
       "    <tr>\n",
       "      <th>Alan Myerson</th>\n",
       "      <td>8.45</td>\n",
       "    </tr>\n",
       "    <tr>\n",
       "      <th>Andrew Tsao</th>\n",
       "      <td>8.60</td>\n",
       "    </tr>\n",
       "    <tr>\n",
       "      <th>Arlene Sanford</th>\n",
       "      <td>8.10</td>\n",
       "    </tr>\n",
       "    <tr>\n",
       "      <th>Ben Weiss</th>\n",
       "      <td>8.30</td>\n",
       "    </tr>\n",
       "    <tr>\n",
       "      <th>Dana DeValley Piazza</th>\n",
       "      <td>8.50</td>\n",
       "    </tr>\n",
       "    <tr>\n",
       "      <th>...</th>\n",
       "      <td>...</td>\n",
       "    </tr>\n",
       "    <tr>\n",
       "      <th>Stephen Prime</th>\n",
       "      <td>8.40</td>\n",
       "    </tr>\n",
       "    <tr>\n",
       "      <th>Steve Zuckerman</th>\n",
       "      <td>8.10</td>\n",
       "    </tr>\n",
       "    <tr>\n",
       "      <th>Terry Hughes</th>\n",
       "      <td>8.22</td>\n",
       "    </tr>\n",
       "    <tr>\n",
       "      <th>Thomas Schlamme</th>\n",
       "      <td>8.05</td>\n",
       "    </tr>\n",
       "    <tr>\n",
       "      <th>Todd Holland</th>\n",
       "      <td>8.00</td>\n",
       "    </tr>\n",
       "  </tbody>\n",
       "</table>\n",
       "<p>29 rows × 1 columns</p>\n",
       "</div>"
      ],
      "text/plain": [
       "                      mean_rating\n",
       "directed_by                      \n",
       "Alan Myerson                 8.45\n",
       "Andrew Tsao                  8.60\n",
       "Arlene Sanford               8.10\n",
       "Ben Weiss                    8.30\n",
       "Dana DeValley Piazza         8.50\n",
       "...                           ...\n",
       "Stephen Prime                8.40\n",
       "Steve Zuckerman              8.10\n",
       "Terry Hughes                 8.22\n",
       "Thomas Schlamme              8.05\n",
       "Todd Holland                 8.00\n",
       "\n",
       "[29 rows x 1 columns]"
      ]
     },
     "execution_count": 31,
     "metadata": {},
     "output_type": "execute_result"
    }
   ],
   "source": [
    "single = episodes[episodes.get('directed_by').str.contains('&') == False]\n",
    "mean_by_director = single.groupby('directed_by').mean()\n",
    "x = mean_by_director.get('imdb_rating')\n",
    "mean_by_director = mean_by_director.assign(mean_rating=x).drop(columns=['season', 'episode', 'us_views_millions', 'imdb_rating'])\n",
    "mean_by_director"
   ]
  },
  {
   "cell_type": "code",
   "execution_count": 32,
   "id": "ab7af1e2",
   "metadata": {
    "deletable": false,
    "editable": false
   },
   "outputs": [
    {
     "data": {
      "text/html": [
       "<p><strong><pre style='display: inline;'>q2_1</pre></strong> passed!</p>"
      ],
      "text/plain": [
       "q2_1 results: All test cases passed!"
      ]
     },
     "execution_count": 32,
     "metadata": {},
     "output_type": "execute_result"
    }
   ],
   "source": [
    "grader.check(\"q2_1\")"
   ]
  },
  {
   "cell_type": "markdown",
   "id": "f5942a1b",
   "metadata": {},
   "source": [
    "Now let's look at how Gary Halvorson's episodes are rated, on average."
   ]
  },
  {
   "cell_type": "code",
   "execution_count": 33,
   "id": "63d1534b",
   "metadata": {},
   "outputs": [
    {
     "data": {
      "text/plain": [
       "8.401851851851852"
      ]
     },
     "execution_count": 33,
     "metadata": {},
     "output_type": "execute_result"
    }
   ],
   "source": [
    "mean_by_director.get('mean_rating').loc['Gary Halvorson']"
   ]
  },
  {
   "cell_type": "markdown",
   "id": "0d3a0e9e",
   "metadata": {},
   "source": [
    "How accurate is this number in reflecting Gary's true potential as a director? In this section, we'll consider the data we have to be a sample of each director's potential abilities. Based on this sample, we want to infer each director's ability more broadly. \n",
    "\n",
    "For example, the average rating of episodes that Gary actually directed was 8.4, but the set of episodes he *might* have directed with additional opportunities (representing his potential as a director) could have had a higher or lower average rating. By looking at a data set of *Friends* episodes directed by Gary, we are only looking at a sample from a larger population.\n",
    "\n",
    "We'll estimate each director's mean episode rating in the population based on their mean episode in the sample using **bootstrapping**.\n",
    "\n",
    "**Question 2.2.** Below, write a function called `simulate_estimates`. It should take 3 arguments:\n",
    "- `director_df`: A DataFrame with a row for each episode, which includes columns `'directed_by'` and `'imdb_rating'`.\n",
    "- `director`: The name of the director whose mean episode rating we are trying to estimate.\n",
    "- `repetitions`: The number of repetitions to perform (the number of resamples to create).\n",
    "\n",
    "It should take `repetitions` resamples with replacement from the rows of `director_df` that correspond to the given `director`. For each of those resamples, it should compute the mean episode rating for that resample. Then it should return an array containing the values of those means for each resample."
   ]
  },
  {
   "cell_type": "code",
   "execution_count": 329,
   "id": "d8c348a5",
   "metadata": {},
   "outputs": [],
   "source": [
    "def simulate_estimates(director_df, director, repetitions):\n",
    "    '''Returns an array of length repetitions, \n",
    "    containing bootstrapped means of the data \n",
    "    in the imbdb_rating column for the given director. '''\n",
    "    bootstrapped_means = []\n",
    "    director_ratings = director_df[director_df.get('directed_by') == director]\n",
    "    for i in range(repetitions):\n",
    "        resample = director_ratings.sample(director_ratings.shape[0], replace=True).groupby('directed_by').mean().get('imdb_rating').loc[director]\n",
    "        bootstrapped_means.append(resample)\n",
    "    \n",
    "    return np.array(bootstrapped_means)"
   ]
  },
  {
   "cell_type": "code",
   "execution_count": 330,
   "id": "6859853d",
   "metadata": {
    "deletable": false,
    "editable": false
   },
   "outputs": [
    {
     "data": {
      "text/html": [
       "<p><strong><pre style='display: inline;'>q2_2</pre></strong> passed!</p>"
      ],
      "text/plain": [
       "q2_2 results: All test cases passed!"
      ]
     },
     "execution_count": 330,
     "metadata": {},
     "output_type": "execute_result"
    }
   ],
   "source": [
    "grader.check(\"q2_2\")"
   ]
  },
  {
   "cell_type": "markdown",
   "id": "e83f5833",
   "metadata": {},
   "source": [
    "**Question 2.3.** Use your function `simulate_estimates` to estimate the mean rating of Gary Halvorson's episodes. Use `repetitions = 5000`, and save your array of bootstrapped means in the variable `gary_boot_means`. Repeat the same process for Kevin S. Bright, storing your results in `kevin_boot_means`.  \n",
    "\n",
    "Then, plot the distributions of these arrays in one [overlaid density histogram](https://dsc10.com/resources/lectures/lec07/lec07.html#Plotting-overlaid-histograms). Use the optional parameter `alpha=0.5` in your call to `.plot`, which changes the opacity so you can see the distributions more clearly."
   ]
  },
  {
   "cell_type": "code",
   "execution_count": 335,
   "id": "b8659f27",
   "metadata": {},
   "outputs": [
    {
     "data": {
      "image/png": "[encoded data removed]",
      "text/plain": [
       "<Figure size 720x360 with 1 Axes>"
      ]
     },
     "metadata": {},
     "output_type": "display_data"
    }
   ],
   "source": [
    "gary_boot_means = simulate_estimates(episodes, 'Gary Halvorson', 5000)\n",
    "kevin_boot_means = simulate_estimates(episodes, 'Kevin S. Bright', 5000)\n",
    "\n",
    "# Plot your overlaid histogram here.\n",
    "\n",
    "overlaid = bpd.DataFrame().assign(Gary=gary_boot_means, Kevin=kevin_boot_means).plot(kind='hist', density=True, bins=np.arange(8,9,0.1), figsize=(10,5), alpha=0.5);"
   ]
  },
  {
   "cell_type": "code",
   "execution_count": 38,
   "id": "0023222e",
   "metadata": {
    "deletable": false,
    "editable": false
   },
   "outputs": [
    {
     "data": {
      "text/html": [
       "<p><strong><pre style='display: inline;'>q2_3</pre></strong> passed!</p>"
      ],
      "text/plain": [
       "q2_3 results: All test cases passed!"
      ]
     },
     "execution_count": 38,
     "metadata": {},
     "output_type": "execute_result"
    }
   ],
   "source": [
    "grader.check(\"q2_3\")"
   ]
  },
  {
   "cell_type": "markdown",
   "id": "a4fb8dfe",
   "metadata": {},
   "source": [
    "**Question 2.4.** Now we want to calculate a 99% confidence interval for the mean episode rating of each of the two directors. To do this, create a function `confidence_interval_99`, which takes in an array of bootstrapped statistics `boot_stats` and returns a list of length two, containing the left endpoint and the right endpoint of the 99% confidence interval. "
   ]
  },
  {
   "cell_type": "code",
   "execution_count": 336,
   "id": "37f338e6",
   "metadata": {},
   "outputs": [
    {
     "name": "stdout",
     "output_type": "stream",
     "text": [
      "Gary 99% CI: [8.27962962962963, 8.527787037037038]\n",
      "Kevin 99% CI: [8.479245283018868, 8.824528301886792]\n"
     ]
    }
   ],
   "source": [
    "def confidence_interval_99(boot_stats):\n",
    "    '''Returns a list of the endpoints of a 99% confidence interval based on boot_stats.'''\n",
    "    left = np.percentile(boot_stats, 0.5)\n",
    "    right = np.percentile(boot_stats, 99.5)\n",
    "    return [left, right]\n",
    "\n",
    "print('Gary 99% CI:', confidence_interval_99(gary_boot_means))\n",
    "print('Kevin 99% CI:', confidence_interval_99(kevin_boot_means))"
   ]
  },
  {
   "cell_type": "code",
   "execution_count": 337,
   "id": "2b4afb7c",
   "metadata": {
    "deletable": false,
    "editable": false
   },
   "outputs": [
    {
     "data": {
      "text/html": [
       "<p><strong><pre style='display: inline;'>q2_4</pre></strong> passed!</p>"
      ],
      "text/plain": [
       "q2_4 results: All test cases passed!"
      ]
     },
     "execution_count": 337,
     "metadata": {},
     "output_type": "execute_result"
    }
   ],
   "source": [
    "grader.check(\"q2_4\")"
   ]
  },
  {
   "cell_type": "markdown",
   "id": "8c3924ce",
   "metadata": {},
   "source": [
    "From what we've done so far, we've established that Kevin's episodes are generally rated better than Gary's episodes, however there is some overlap in their confidence intervals. This means it could be the case that Gary is just as strong a director as Kevin, but this is just not reflected in our sample. \n",
    "\n",
    "We'll address this possibility by performing a hypothesis test with the following hypotheses:\n",
    "\n",
    "- **Null Hypothesis:** The mean rating of Kevin's episodes in the population equals the mean rating of Gary's episodes in the population. Equivalently, the difference in the mean rating for Kevin's and Gary's episodes in the population equals 0.\n",
    "- **Alternative Hypothesis:** The mean rating of Kevin's episodes in the population does not equal the mean rating of Gary's episodes in the population. Equivalently, the difference in the mean rating for Kevin's and Gary's episodes in the population does not equal 0.\n",
    "\n",
    "Remember, the population represents all episodes they *might* have directed, or their potential as a director.\n",
    "\n",
    "Since we were able to set up our hypothesis test as a question of whether our population parameter – the difference in mean rating for Kevin's and Gary's episodes – is equal to a certain value, we can **test our hypotheses by constructing a confidence interval for the parameter**. This is the method we used in [Lecture 22](https://dsc10.com/resources/lectures/lec22/lec22.html#Visualizing-the-distribution-of-each-group) to test whether the mean human body temperature was actually 98.6 degrees Fahrenheit. For a refresher on this method, you can read more about conducting a hypothesis test with a confidence interval in [CIT 13.4](https://inferentialthinking.com/chapters/13/4/Using_Confidence_Intervals.html#)."
   ]
  },
  {
   "cell_type": "markdown",
   "id": "f2703d3c",
   "metadata": {},
   "source": [
    "**Question 2.5.** ⭐⭐ Compute 1000 bootstrapped estimates for the difference in the mean rating for Kevin's episodes and Gary's episodes in the population (subtract in the order Kevin minus Gary). Store your 1000 estimates in the `difference_means` array.\n",
    "\n",
    "You should generate your resamples of Kevin's episodes by sampling from the set of episodes directed by Kevin, and similarly for Gary, by sampling from the set of episodes directed by Gary."
   ]
  },
  {
   "cell_type": "code",
   "execution_count": 338,
   "id": "11d10f06",
   "metadata": {},
   "outputs": [
    {
     "data": {
      "text/plain": [
       "array([0.33245982, 0.30045423, 0.04716981, 0.4362334 , 0.33515024,\n",
       "       0.16694619, 0.33032844, 0.25681342, 0.35115304, 0.24426974])"
      ]
     },
     "execution_count": 338,
     "metadata": {},
     "output_type": "execute_result"
    }
   ],
   "source": [
    "gary_boot_meansx = simulate_estimates(episodes, 'Gary Halvorson', 1000)\n",
    "kevin_boot_meansx = simulate_estimates(episodes, 'Kevin S. Bright', 1000)\n",
    "difference_means = kevin_boot_meansx - gary_boot_meansx\n",
    "\n",
    "# Just display the first ten differences.\n",
    "difference_means[:10]"
   ]
  },
  {
   "cell_type": "code",
   "execution_count": 339,
   "id": "2b4a5d9c",
   "metadata": {
    "deletable": false,
    "editable": false
   },
   "outputs": [
    {
     "data": {
      "text/html": [
       "<p><strong><pre style='display: inline;'>q2_5</pre></strong> passed!</p>"
      ],
      "text/plain": [
       "q2_5 results: All test cases passed!"
      ]
     },
     "execution_count": 339,
     "metadata": {},
     "output_type": "execute_result"
    }
   ],
   "source": [
    "grader.check(\"q2_5\")"
   ]
  },
  {
   "cell_type": "markdown",
   "id": "cd5b9f67",
   "metadata": {},
   "source": [
    "Let's visualize your estimates:"
   ]
  },
  {
   "cell_type": "code",
   "execution_count": 340,
   "id": "8c0f679b",
   "metadata": {
    "scrolled": true
   },
   "outputs": [
    {
     "data": {
      "image/png": "[encoded data removed]",
      "text/plain": [
       "<Figure size 720x360 with 1 Axes>"
      ]
     },
     "metadata": {},
     "output_type": "display_data"
    }
   ],
   "source": [
    "(bpd.DataFrame().assign(DifferenceMeans = difference_means)\n",
    " .plot(kind='hist', density=True, ec='w', figsize=(10, 5)));"
   ]
  },
  {
   "cell_type": "markdown",
   "id": "5f887a47",
   "metadata": {},
   "source": [
    "**Question 2.6.** Use the function `confidence_interval_99` you created before to compute a 99% confidence interval for the difference in the mean rating of Kevin's and Gary's episodes (as before, Kevin minus Gary). Assign to `kevin_gary_difference_CI` a list containing the endpoints of this confidence interval."
   ]
  },
  {
   "cell_type": "code",
   "execution_count": 341,
   "id": "67763335",
   "metadata": {},
   "outputs": [
    {
     "data": {
      "text/plain": [
       "[0.04714605171209132, 0.4632791754018187]"
      ]
     },
     "execution_count": 341,
     "metadata": {},
     "output_type": "execute_result"
    }
   ],
   "source": [
    "kevin_gary_difference_CI = confidence_interval_99(difference_means)\n",
    "kevin_gary_difference_CI"
   ]
  },
  {
   "cell_type": "code",
   "execution_count": 342,
   "id": "e1ecf63c",
   "metadata": {
    "deletable": false,
    "editable": false
   },
   "outputs": [
    {
     "data": {
      "text/html": [
       "<p><strong><pre style='display: inline;'>q2_6</pre></strong> passed!</p>"
      ],
      "text/plain": [
       "q2_6 results: All test cases passed!"
      ]
     },
     "execution_count": 342,
     "metadata": {},
     "output_type": "execute_result"
    }
   ],
   "source": [
    "grader.check(\"q2_6\")"
   ]
  },
  {
   "cell_type": "markdown",
   "id": "c2308e33",
   "metadata": {},
   "source": [
    "Recall the hypotheses we were testing:\n",
    "\n",
    "- **Null Hypothesis:** The mean rating of Kevin's episodes in the population equals the mean rating of Gary's episodes in the population. Equivalently, the difference in the mean rating for Kevin's and Gary's episodes in the population equals 0.\n",
    "- **Alternative Hypothesis:** The mean rating of Kevin's episodes in the population does not equal the mean rating of Gary's episodes in the population. Equivalently, the difference in the mean rating for Kevin's and Gary's episodes in the population does not equal 0.\n",
    "\n",
    "**Question 2.7.** Based on the confidence interval you've created, would you reject the null hypothesis at the 0.01 significance level? Set `reject_kevin_gary` to True if you would reject the null hypothesis, and False if you would not."
   ]
  },
  {
   "cell_type": "code",
   "execution_count": null,
   "id": "53c697a0",
   "metadata": {},
   "outputs": [],
   "source": []
  },
  {
   "cell_type": "code",
   "execution_count": 343,
   "id": "0fb417c7",
   "metadata": {},
   "outputs": [
    {
     "data": {
      "text/plain": [
       "True"
      ]
     },
     "execution_count": 343,
     "metadata": {},
     "output_type": "execute_result"
    }
   ],
   "source": [
    "reject_kevin_gary = True\n",
    "reject_kevin_gary"
   ]
  },
  {
   "cell_type": "code",
   "execution_count": 344,
   "id": "cfd638ef",
   "metadata": {
    "deletable": false,
    "editable": false
   },
   "outputs": [
    {
     "data": {
      "text/html": [
       "<p><strong><pre style='display: inline;'>q2_7</pre></strong> passed!</p>"
      ],
      "text/plain": [
       "q2_7 results: All test cases passed!"
      ]
     },
     "execution_count": 344,
     "metadata": {},
     "output_type": "execute_result"
    }
   ],
   "source": [
    "grader.check(\"q2_7\")"
   ]
  },
  {
   "cell_type": "markdown",
   "id": "03a9ffbc",
   "metadata": {},
   "source": [
    "We have now discovered which of these two directors would likely make better episodes for your reboot. However, we also want to know whether Gary and Kevin's episodes have other differences besides the ratings they generate. For example, does one of them tend to direct episodes with more views?\n",
    "\n",
    "Let's write a single function that works for both rating and viewership. To do this, we want to generalize our simulation code from Question 2.2 so that we can create a confidence interval for either variable.\n",
    "\n",
    "**Question 2.8.** Create a function called `compare_gary_kevin`, which takes in 3 inputs:\n",
    "- `sample_df`, a DataFrame with a row for each episode in our sample, which includes a column called `'directed_by'`.\n",
    "- `variable`, the column name of the relevant variable whose mean we want to estimate. \n",
    "- `repetitions`, the number of repetitions to perform (the number of resamples to create).\n",
    "                       \n",
    "The function should adhere to these specifications:\n",
    "1. The function should generate an overlaid density histogram, showing the distributions of bootstrapped means of the given variable, for both Kevin and Gary. Make sure to give your histogram a descriptive title and to use appropriate labels. Use `bins=20`, `alpha=0.5`, and `figsize=(10,5)`.\n",
    "2. The function should print a statement with the 99% confidence interval for the mean value of the given variable in the population, for both Kevin and Gary. See the example below for the type of statement to print, but the exact formatting is up to you.\n",
    "3. The function should return nothing.\n",
    "\n",
    "***Hints:***\n",
    "- This is designed to be a challenging question, but remember that you can use any of the functions you've already created. \n",
    "- Our solution does the necessary operations once for Gary and once for Kevin and assigns columns named `'Gary_mean_estimate'` and `'Kevin_mean_estimate'`.\n",
    "\n",
    "Here is an example output that shows a comparison of estimates for Gary and Kevin's mean `'imdb_rating'`.\n",
    "<img src=\"images/gary_kevin_example.jpg\" width = 700>"
   ]
  },
  {
   "cell_type": "code",
   "execution_count": 350,
   "id": "4e911cac",
   "metadata": {},
   "outputs": [
    {
     "name": "stdout",
     "output_type": "stream",
     "text": [
      "Gary's 99% CI for imdb_rating: [8.27962962962963, 8.527787037037038]\n",
      "Kevin's 99% CI for imdb_rating: [8.479245283018868, 8.824528301886792]\n"
     ]
    },
    {
     "data": {
      "image/png": "[encoded data removed]",
      "text/plain": [
       "<Figure size 720x360 with 1 Axes>"
      ]
     },
     "metadata": {},
     "output_type": "display_data"
    }
   ],
   "source": [
    "def simulate_estimatesx(director_df, director, repetitions, variable):\n",
    "    '''Returns an array of length repetitions, \n",
    "    containing bootstrapped means of the data \n",
    "    in the imbdb_rating column for the given director. '''\n",
    "    bootstrapped_means = []\n",
    "    director_ratings = director_df[director_df.get('directed_by') == director]\n",
    "    for i in range(repetitions):\n",
    "        resample = director_ratings.sample(director_ratings.shape[0], replace=True).groupby('directed_by').mean().get(variable).loc[director]\n",
    "        bootstrapped_means.append(resample)\n",
    "    \n",
    "    return np.array(bootstrapped_means)\n",
    "\n",
    "def compare_gary_kevin(sample_df, variable, repetitions):\n",
    "    '''For each of Gary and Kevin, display a distribution of bootstrapped means and\n",
    "    a confidence interval for the mean value of the variable from sample_df.'''\n",
    "    gary_boot_means1 = simulate_estimatesx(sample_df, 'Gary Halvorson', repetitions, variable)\n",
    "    kevin_boot_means1 = simulate_estimatesx(sample_df, 'Kevin S. Bright', repetitions, variable)\n",
    "    plot = bpd.DataFrame().assign(Gary=gary_boot_means1, Kevin=kevin_boot_means1).plot(kind='hist',bins=20,figsize=(10,5), alpha=0.5);\n",
    "    gary_ci = confidence_interval_99(gary_boot_means)\n",
    "    kevin_ci = confidence_interval_99(kevin_boot_means)\n",
    "    print(\"Gary's 99% CI for \" + variable + ':', gary_ci)\n",
    "    print(\"Kevin's 99% CI for \" + variable + ':', kevin_ci)\n",
    "\n",
    "    \n",
    "\n",
    "# Try to replicate the graph shown in the example.\n",
    "compare_gary_kevin(episodes, 'imdb_rating', 1000)"
   ]
  },
  {
   "cell_type": "markdown",
   "id": "f9b0c810",
   "metadata": {},
   "source": [
    "**Question 2.9.** ⭐⭐ Using the `compare_gary_kevin` function you just wrote, create a plot and confidence intervals that would help you answer the following question.\n",
    "\n",
    ">Whose episodes have more views on average, Kevin's or Gary's?\n",
    "\n",
    "This question is not difficult; it is worth two points because it tests your implementation of the function `compare_gary_kevin` which you wrote in the previous question. All you need to do here is make one call to your function with the appropriate inputs. Use `repetitions=1000`."
   ]
  },
  {
   "cell_type": "markdown",
   "id": "9807a709",
   "metadata": {
    "deletable": false,
    "editable": false
   },
   "source": [
    "<!-- BEGIN QUESTION -->\n",
    "\n",
    "<!--\n",
    "BEGIN QUESTION\n",
    "name: q2_9\n",
    "manual: True\n",
    "\n",
    "-->"
   ]
  },
  {
   "cell_type": "code",
   "execution_count": 351,
   "id": "f5ccadaf",
   "metadata": {},
   "outputs": [
    {
     "name": "stdout",
     "output_type": "stream",
     "text": [
      "Gary's 99% CI for us_views_millions: [8.27962962962963, 8.527787037037038]\n",
      "Kevin's 99% CI for us_views_millions: [8.479245283018868, 8.824528301886792]\n"
     ]
    },
    {
     "data": {
      "image/png": "[encoded data removed]",
      "text/plain": [
       "<Figure size 720x360 with 1 Axes>"
      ]
     },
     "metadata": {},
     "output_type": "display_data"
    }
   ],
   "source": [
    "# Make your function call here. Be sure to run this cell before submitting.\n",
    "compare_gary_kevin(episodes, 'us_views_millions', 1000)"
   ]
  },
  {
   "cell_type": "markdown",
   "id": "86e3fa06",
   "metadata": {},
   "source": [
    "<!-- END QUESTION -->\n",
    "\n",
    "\n",
    "\n",
    "At this point it should be clear which director you'll be reaching out to for your reboot!"
   ]
  },
  {
   "cell_type": "markdown",
   "id": "fdb6b962",
   "metadata": {},
   "source": [
    "<a id='section3'></a>\n",
    "## Section 3: The One About Gender Balance 👩⚖️🧑\n",
    "\n",
    "<small>(<a href=\"#outline\">return to the outline</a>)</small>\n",
    "\n",
    "After watching a couple of episodes of <i>Friends</i>, you start to wonder if the three male main characters (`'Ross Geller'`, \n",
    "`'Chandler Bing'`, `'Joey Tribbiani'`) speak more lines than the the three female main characters (`'Rachel Green'`, `'Monica Geller'`, `'Phoebe Buffay'`). You want your reboot to be true to the spirit of the original show, but you don't feel great about creating a television show that has a significant gender imbalance.\n",
    "\n",
    "Below is the `lines` DataFrame, which contains information on all the lines from a random sample of 30 *Friends* episodes. Notice that `lines` contains **every** line from each one of these 30 episodes, including lines from characters other than the main six, and even the scene directions."
   ]
  },
  {
   "cell_type": "code",
   "execution_count": 50,
   "id": "fc52a048",
   "metadata": {},
   "outputs": [
    {
     "data": {
      "text/html": [
       "<div>\n",
       "<style scoped>\n",
       "    .dataframe tbody tr th:only-of-type {\n",
       "        vertical-align: middle;\n",
       "    }\n",
       "\n",
       "    .dataframe tbody tr th {\n",
       "        vertical-align: top;\n",
       "    }\n",
       "\n",
       "    .dataframe thead th {\n",
       "        text-align: right;\n",
       "    }\n",
       "</style>\n",
       "<table border=\"1\" class=\"dataframe\">\n",
       "  <thead>\n",
       "    <tr style=\"text-align: right;\">\n",
       "      <th></th>\n",
       "      <th>text</th>\n",
       "      <th>speaker</th>\n",
       "      <th>season</th>\n",
       "      <th>episode</th>\n",
       "      <th>scene</th>\n",
       "      <th>utterance</th>\n",
       "    </tr>\n",
       "  </thead>\n",
       "  <tbody>\n",
       "    <tr>\n",
       "      <th>0</th>\n",
       "      <td>Everybody? Shh, shhh. Uhhh... Central Perk is ...</td>\n",
       "      <td>Rachel Green</td>\n",
       "      <td>1</td>\n",
       "      <td>7</td>\n",
       "      <td>1</td>\n",
       "      <td>1</td>\n",
       "    </tr>\n",
       "    <tr>\n",
       "      <th>1</th>\n",
       "      <td>(applause)</td>\n",
       "      <td>Scene Directions</td>\n",
       "      <td>1</td>\n",
       "      <td>7</td>\n",
       "      <td>1</td>\n",
       "      <td>2</td>\n",
       "    </tr>\n",
       "    <tr>\n",
       "      <th>2</th>\n",
       "      <td>Hi. Um, I want to start with a song thats abou...</td>\n",
       "      <td>Phoebe Buffay</td>\n",
       "      <td>1</td>\n",
       "      <td>7</td>\n",
       "      <td>1</td>\n",
       "      <td>3</td>\n",
       "    </tr>\n",
       "    <tr>\n",
       "      <th>3</th>\n",
       "      <td>Oh, great. This is just...</td>\n",
       "      <td>Chandler Bing</td>\n",
       "      <td>1</td>\n",
       "      <td>7</td>\n",
       "      <td>2</td>\n",
       "      <td>1</td>\n",
       "    </tr>\n",
       "    <tr>\n",
       "      <th>4</th>\n",
       "      <td>(Chandler sees that there is a gorgeous model ...</td>\n",
       "      <td>Scene Directions</td>\n",
       "      <td>1</td>\n",
       "      <td>7</td>\n",
       "      <td>2</td>\n",
       "      <td>2</td>\n",
       "    </tr>\n",
       "    <tr>\n",
       "      <th>...</th>\n",
       "      <td>...</td>\n",
       "      <td>...</td>\n",
       "      <td>...</td>\n",
       "      <td>...</td>\n",
       "      <td>...</td>\n",
       "      <td>...</td>\n",
       "    </tr>\n",
       "    <tr>\n",
       "      <th>8452</th>\n",
       "      <td>That I can do.</td>\n",
       "      <td>Joey Tribbiani</td>\n",
       "      <td>10</td>\n",
       "      <td>13</td>\n",
       "      <td>13</td>\n",
       "      <td>9</td>\n",
       "    </tr>\n",
       "    <tr>\n",
       "      <th>8453</th>\n",
       "      <td>Come on! You can drink a gallon of milk in 10 ...</td>\n",
       "      <td>Phoebe Buffay</td>\n",
       "      <td>10</td>\n",
       "      <td>13</td>\n",
       "      <td>13</td>\n",
       "      <td>10</td>\n",
       "    </tr>\n",
       "    <tr>\n",
       "      <th>8454</th>\n",
       "      <td>All right, watch me! Okay, you time me. Ready?</td>\n",
       "      <td>Joey Tribbiani</td>\n",
       "      <td>10</td>\n",
       "      <td>13</td>\n",
       "      <td>13</td>\n",
       "      <td>11</td>\n",
       "    </tr>\n",
       "    <tr>\n",
       "      <th>8455</th>\n",
       "      <td>Ready... GO!</td>\n",
       "      <td>Phoebe Buffay</td>\n",
       "      <td>10</td>\n",
       "      <td>13</td>\n",
       "      <td>13</td>\n",
       "      <td>12</td>\n",
       "    </tr>\n",
       "    <tr>\n",
       "      <th>8456</th>\n",
       "      <td>You did it!</td>\n",
       "      <td>Phoebe Buffay</td>\n",
       "      <td>10</td>\n",
       "      <td>13</td>\n",
       "      <td>13</td>\n",
       "      <td>13</td>\n",
       "    </tr>\n",
       "  </tbody>\n",
       "</table>\n",
       "<p>8457 rows × 6 columns</p>\n",
       "</div>"
      ],
      "text/plain": [
       "                                                   text           speaker  \\\n",
       "0     Everybody? Shh, shhh. Uhhh... Central Perk is ...      Rachel Green   \n",
       "1                                            (applause)  Scene Directions   \n",
       "2     Hi. Um, I want to start with a song thats abou...     Phoebe Buffay   \n",
       "3                            Oh, great. This is just...     Chandler Bing   \n",
       "4     (Chandler sees that there is a gorgeous model ...  Scene Directions   \n",
       "...                                                 ...               ...   \n",
       "8452                                     That I can do.    Joey Tribbiani   \n",
       "8453  Come on! You can drink a gallon of milk in 10 ...     Phoebe Buffay   \n",
       "8454     All right, watch me! Okay, you time me. Ready?    Joey Tribbiani   \n",
       "8455                                       Ready... GO!     Phoebe Buffay   \n",
       "8456                                        You did it!     Phoebe Buffay   \n",
       "\n",
       "      season  episode  scene  utterance  \n",
       "0          1        7      1          1  \n",
       "1          1        7      1          2  \n",
       "2          1        7      1          3  \n",
       "3          1        7      2          1  \n",
       "4          1        7      2          2  \n",
       "...      ...      ...    ...        ...  \n",
       "8452      10       13     13          9  \n",
       "8453      10       13     13         10  \n",
       "8454      10       13     13         11  \n",
       "8455      10       13     13         12  \n",
       "8456      10       13     13         13  \n",
       "\n",
       "[8457 rows x 6 columns]"
      ]
     },
     "execution_count": 50,
     "metadata": {},
     "output_type": "execute_result"
    }
   ],
   "source": [
    "lines"
   ]
  },
  {
   "cell_type": "markdown",
   "id": "bcc1fb83",
   "metadata": {},
   "source": [
    "**Question 3.1.** Write a function named `main_char` that takes in the name of a single speaker and determines whether that speaker is one of the six main characters:\n",
    "- `'Ross Geller'`\n",
    "- `'Chandler Bing'`\n",
    "- `'Joey Tribbiani'`\n",
    "- `'Rachel Green'`\n",
    "- `'Monica Geller'`\n",
    "- `'Phoebe Buffay'`\n",
    "\n",
    "For example, `main_char('Chandler Bing')` should return `True`, but `main_char('Janice Hosenstein')` should return `False`.\n",
    "\n",
    "Then, use your function to filter the `lines` DataFrame to contain only lines spoken by one of the six main characters, saving the result as `main_lines`."
   ]
  },
  {
   "cell_type": "code",
   "execution_count": 51,
   "id": "1bd43d71",
   "metadata": {},
   "outputs": [
    {
     "data": {
      "text/html": [
       "<div>\n",
       "<style scoped>\n",
       "    .dataframe tbody tr th:only-of-type {\n",
       "        vertical-align: middle;\n",
       "    }\n",
       "\n",
       "    .dataframe tbody tr th {\n",
       "        vertical-align: top;\n",
       "    }\n",
       "\n",
       "    .dataframe thead th {\n",
       "        text-align: right;\n",
       "    }\n",
       "</style>\n",
       "<table border=\"1\" class=\"dataframe\">\n",
       "  <thead>\n",
       "    <tr style=\"text-align: right;\">\n",
       "      <th></th>\n",
       "      <th>text</th>\n",
       "      <th>speaker</th>\n",
       "      <th>season</th>\n",
       "      <th>episode</th>\n",
       "      <th>scene</th>\n",
       "      <th>utterance</th>\n",
       "    </tr>\n",
       "  </thead>\n",
       "  <tbody>\n",
       "    <tr>\n",
       "      <th>0</th>\n",
       "      <td>Everybody? Shh, shhh. Uhhh... Central Perk is ...</td>\n",
       "      <td>Rachel Green</td>\n",
       "      <td>1</td>\n",
       "      <td>7</td>\n",
       "      <td>1</td>\n",
       "      <td>1</td>\n",
       "    </tr>\n",
       "    <tr>\n",
       "      <th>2</th>\n",
       "      <td>Hi. Um, I want to start with a song thats abou...</td>\n",
       "      <td>Phoebe Buffay</td>\n",
       "      <td>1</td>\n",
       "      <td>7</td>\n",
       "      <td>1</td>\n",
       "      <td>3</td>\n",
       "    </tr>\n",
       "    <tr>\n",
       "      <th>3</th>\n",
       "      <td>Oh, great. This is just...</td>\n",
       "      <td>Chandler Bing</td>\n",
       "      <td>1</td>\n",
       "      <td>7</td>\n",
       "      <td>2</td>\n",
       "      <td>1</td>\n",
       "    </tr>\n",
       "    <tr>\n",
       "      <th>5</th>\n",
       "      <td>Wow, this is so cool, you guys. The entire cit...</td>\n",
       "      <td>Rachel Green</td>\n",
       "      <td>1</td>\n",
       "      <td>7</td>\n",
       "      <td>3</td>\n",
       "      <td>1</td>\n",
       "    </tr>\n",
       "    <tr>\n",
       "      <th>6</th>\n",
       "      <td>Mom says it's all of Manhattan, parts of Brook...</td>\n",
       "      <td>Monica Geller</td>\n",
       "      <td>1</td>\n",
       "      <td>7</td>\n",
       "      <td>3</td>\n",
       "      <td>2</td>\n",
       "    </tr>\n",
       "    <tr>\n",
       "      <th>...</th>\n",
       "      <td>...</td>\n",
       "      <td>...</td>\n",
       "      <td>...</td>\n",
       "      <td>...</td>\n",
       "      <td>...</td>\n",
       "      <td>...</td>\n",
       "    </tr>\n",
       "    <tr>\n",
       "      <th>8452</th>\n",
       "      <td>That I can do.</td>\n",
       "      <td>Joey Tribbiani</td>\n",
       "      <td>10</td>\n",
       "      <td>13</td>\n",
       "      <td>13</td>\n",
       "      <td>9</td>\n",
       "    </tr>\n",
       "    <tr>\n",
       "      <th>8453</th>\n",
       "      <td>Come on! You can drink a gallon of milk in 10 ...</td>\n",
       "      <td>Phoebe Buffay</td>\n",
       "      <td>10</td>\n",
       "      <td>13</td>\n",
       "      <td>13</td>\n",
       "      <td>10</td>\n",
       "    </tr>\n",
       "    <tr>\n",
       "      <th>8454</th>\n",
       "      <td>All right, watch me! Okay, you time me. Ready?</td>\n",
       "      <td>Joey Tribbiani</td>\n",
       "      <td>10</td>\n",
       "      <td>13</td>\n",
       "      <td>13</td>\n",
       "      <td>11</td>\n",
       "    </tr>\n",
       "    <tr>\n",
       "      <th>8455</th>\n",
       "      <td>Ready... GO!</td>\n",
       "      <td>Phoebe Buffay</td>\n",
       "      <td>10</td>\n",
       "      <td>13</td>\n",
       "      <td>13</td>\n",
       "      <td>12</td>\n",
       "    </tr>\n",
       "    <tr>\n",
       "      <th>8456</th>\n",
       "      <td>You did it!</td>\n",
       "      <td>Phoebe Buffay</td>\n",
       "      <td>10</td>\n",
       "      <td>13</td>\n",
       "      <td>13</td>\n",
       "      <td>13</td>\n",
       "    </tr>\n",
       "  </tbody>\n",
       "</table>\n",
       "<p>6593 rows × 6 columns</p>\n",
       "</div>"
      ],
      "text/plain": [
       "                                                   text         speaker  \\\n",
       "0     Everybody? Shh, shhh. Uhhh... Central Perk is ...    Rachel Green   \n",
       "2     Hi. Um, I want to start with a song thats abou...   Phoebe Buffay   \n",
       "3                            Oh, great. This is just...   Chandler Bing   \n",
       "5     Wow, this is so cool, you guys. The entire cit...    Rachel Green   \n",
       "6     Mom says it's all of Manhattan, parts of Brook...   Monica Geller   \n",
       "...                                                 ...             ...   \n",
       "8452                                     That I can do.  Joey Tribbiani   \n",
       "8453  Come on! You can drink a gallon of milk in 10 ...   Phoebe Buffay   \n",
       "8454     All right, watch me! Okay, you time me. Ready?  Joey Tribbiani   \n",
       "8455                                       Ready... GO!   Phoebe Buffay   \n",
       "8456                                        You did it!   Phoebe Buffay   \n",
       "\n",
       "      season  episode  scene  utterance  \n",
       "0          1        7      1          1  \n",
       "2          1        7      1          3  \n",
       "3          1        7      2          1  \n",
       "5          1        7      3          1  \n",
       "6          1        7      3          2  \n",
       "...      ...      ...    ...        ...  \n",
       "8452      10       13     13          9  \n",
       "8453      10       13     13         10  \n",
       "8454      10       13     13         11  \n",
       "8455      10       13     13         12  \n",
       "8456      10       13     13         13  \n",
       "\n",
       "[6593 rows x 6 columns]"
      ]
     },
     "execution_count": 51,
     "metadata": {},
     "output_type": "execute_result"
    }
   ],
   "source": [
    "def main_char(speaker): \n",
    "    '''Returns True if speaker is a main character, False otherwise.'''\n",
    "    main = ['Ross Geller', 'Chandler Bing', 'Joey Tribbiani', 'Rachel Green', 'Monica Geller', 'Phoebe Buffay']\n",
    "    if speaker in main:\n",
    "        return True\n",
    "    else:\n",
    "        return False\n",
    "\n",
    "main_lines = lines[lines.get('speaker').apply(main_cha\n",
    "main_lines"
   ]
  },
  {
   "cell_type": "code",
   "execution_count": 52,
   "id": "5b5d88ef",
   "metadata": {
    "deletable": false,
    "editable": false
   },
   "outputs": [
    {
     "data": {
      "text/html": [
       "<p><strong><pre style='display: inline;'>q3_1</pre></strong> passed!</p>"
      ],
      "text/plain": [
       "q3_1 results: All test cases passed!"
      ]
     },
     "execution_count": 52,
     "metadata": {},
     "output_type": "execute_result"
    }
   ],
   "source": [
    "grader.check(\"q3_1\")"
   ]
  },
  {
   "cell_type": "markdown",
   "id": "38d4d303",
   "metadata": {},
   "source": [
    "**Question 3.2.** Using the `main_lines` DataFrame, count the total number of lines spoken by a main character across all episodes in the sample and assign your answer to the variable `line_count`.\n",
    "\n",
    "Then compute the proportion of these lines that were spoken by male characters (`'Ross Geller'`, \n",
    "`'Chandler Bing'`, `'Joey Tribbiani'`) and the proportion of lines that were spoken by female characters (`'Rachel Green'`, `'Monica Geller'`, `'Phoebe Buffay'`). Assign your answers to the variables `observed_male_prop` and  `observed_female_prop`. "
   ]
  },
  {
   "cell_type": "code",
   "execution_count": 352,
   "id": "07452ef8",
   "metadata": {},
   "outputs": [
    {
     "name": "stdout",
     "output_type": "stream",
     "text": [
      "Number of Lines: 6593\n",
      "Male Proportion: 0.5090247231912635\n",
      "Female Proportion: 0.49097527680873654\n"
     ]
    }
   ],
   "source": [
    "line_count = main_lines.shape[0]\n",
    "observed_female_prop = main_lines[(main_lines.get('speaker') == 'Rachel Green') | (main_lines.get('speaker') == 'Monica Geller') | (main_lines.get('speaker') == 'Phoebe Buffay')].shape[0] / line_count\n",
    "observed_male_prop = main_lines[(main_lines.get('speaker') == 'Ross Geller') | (main_lines.get('speaker') == 'Chandler Bing') | (main_lines.get('speaker') == 'Joey Tribbiani')].shape[0] / line_count\n",
    "\n",
    "print('Number of Lines: ' + str(line_count))\n",
    "print('Male Proportion: ' + str(observed_male_prop))\n",
    "print('Female Proportion: ' + str(observed_female_prop))"
   ]
  },
  {
   "cell_type": "code",
   "execution_count": 353,
   "id": "feba6be4",
   "metadata": {
    "deletable": false,
    "editable": false
   },
   "outputs": [
    {
     "data": {
      "text/html": [
       "<p><strong><pre style='display: inline;'>q3_2</pre></strong> passed!</p>"
      ],
      "text/plain": [
       "q3_2 results: All test cases passed!"
      ]
     },
     "execution_count": 353,
     "metadata": {},
     "output_type": "execute_result"
    }
   ],
   "source": [
    "grader.check(\"q3_2\")"
   ]
  },
  {
   "cell_type": "markdown",
   "id": "d6e52dc6",
   "metadata": {},
   "source": [
    "You recognize that `observed_female_prop` and `observed_male_prop` are similar but they're not exactly the same. Is this just random chance that your sample happened to include more lines by male main characters? Or is the case that throughout the show *Friends*, lines spoken by one of the six main characters are actually more likely to be spoken by male characters? Let's do a hypothesis test with the following hypotheses:\n",
    "\n",
    "- **Null Hypothesis**: Throughout the ten seasons of *Friends*, male main characters speak the same number of lines as female main characters.  \n",
    "- **Alternative Hypothesis**: Throughout the ten seasons of *Friends*, male main characters speak more lines than female main characters.\n",
    "\n",
    "Run the cell below to define a variable `null_distribution` that shows the proportion of each gender according to our model."
   ]
  },
  {
   "cell_type": "code",
   "execution_count": 354,
   "id": "d06ca299",
   "metadata": {},
   "outputs": [
    {
     "data": {
      "text/plain": [
       "array([0.5, 0.5])"
      ]
     },
     "execution_count": 354,
     "metadata": {},
     "output_type": "execute_result"
    }
   ],
   "source": [
    "null_distribution = np.array([0.5, 0.5])\n",
    "null_distribution"
   ]
  },
  {
   "cell_type": "markdown",
   "id": "7d3e2aab",
   "metadata": {},
   "source": [
    "**Question 3.3.** To perform our hypothesis test, we will simulate drawing a random sample of size `line_count` from the null distribution, and then compute a test statistic on each simulated sample. We must first choose a reasonable test statistic that will help us determine whether or not to reject the null hypothesis.\n",
    "\n",
    "From the options below, find **all** valid test statistics that we could use for this hypothesis test. Save the numbers of your choices in a **list** called `gender_test_statistics`. Valid test statistics are ones that would allow us to distinguish between the null and alternative hypotheses. \n",
    "\n",
    "***Hint:*** To determine whether a test statistic is valid, think about which values of the statistic (high, low, moderate) would make you lean towards the null and which would make you lean towards the alternative.\n",
    "\n",
    "1. The difference between the proportion of female-spoken lines and 0.5.\n",
    "2. The difference between the number of male-spoken lines and the number of female-spoken lines. \n",
    "3. The difference between the number of female-spoken lines and one half of `line_count`.\n",
    "4. Three times the difference between the proportion of male-spoken lines and 0.5.\n",
    "5. The total variation distance between the gender distribution of lines spoken and the null distribution."
   ]
  },
  {
   "cell_type": "code",
   "execution_count": 56,
   "id": "7fb956bd",
   "metadata": {},
   "outputs": [
    {
     "data": {
      "text/plain": [
       "[1, 2, 4, 5]"
      ]
     },
     "execution_count": 56,
     "metadata": {},
     "output_type": "execute_result"
    }
   ],
   "source": [
    "gender_test_statistics = [1, 2, 4, 5]\n",
    "gender_test_statistics"
   ]
  },
  {
   "cell_type": "code",
   "execution_count": 57,
   "id": "3eb1d372",
   "metadata": {
    "deletable": false,
    "editable": false
   },
   "outputs": [
    {
     "data": {
      "text/html": [
       "<p><strong><pre style='display: inline;'>q3_3</pre></strong> passed!</p>"
      ],
      "text/plain": [
       "q3_3 results: All test cases passed!"
      ]
     },
     "execution_count": 57,
     "metadata": {},
     "output_type": "execute_result"
    }
   ],
   "source": [
    "grader.check(\"q3_3\")"
   ]
  },
  {
   "cell_type": "markdown",
   "id": "9a73e31c",
   "metadata": {},
   "source": [
    "**Question 3.4.** For this hypothesis test, we'll use the proportion of male-spoken lines as our test statistic. Write a simulation that runs 10,000 times, each time drawing a random sample of size `line_count` under the assumption of the null hypothesis. Keep track of the simulated test statistics in the `gender_stats` array. "
   ]
  },
  {
   "cell_type": "code",
   "execution_count": 356,
   "id": "079662d0",
   "metadata": {
    "scrolled": true
   },
   "outputs": [
    {
     "data": {
      "image/png": "[encoded data removed]",
      "text/plain": [
       "<Figure size 720x360 with 1 Axes>"
      ]
     },
     "metadata": {},
     "output_type": "display_data"
    }
   ],
   "source": [
    "gender_stats = []\n",
    "for i in range(10000):\n",
    "    simulated_sample = np.random.multinomial(line_count, null_distribution)\n",
    "    simulated_male_prop = simulated_sample[0] / line_count\n",
    "    gender_stats.append(simulated_male_prop)\n",
    "gender_stats = np.array(gender_stats)\n",
    "    \n",
    "# Visualize with a histogram\n",
    "bpd.DataFrame().assign(gender_stats=gender_stats).plot(kind='hist', density=True, ec='w', figsize=(10, 5));\n",
    "plt.axvline(x=observed_male_prop, color='black', linewidth=4, label='observed statistic')\n",
    "plt.legend();"
   ]
  },
  {
   "cell_type": "code",
   "execution_count": 357,
   "id": "52237ec0",
   "metadata": {
    "deletable": false,
    "editable": false
   },
   "outputs": [
    {
     "data": {
      "text/html": [
       "<p><strong><pre style='display: inline;'>q3_4</pre></strong> passed!</p>"
      ],
      "text/plain": [
       "q3_4 results: All test cases passed!"
      ]
     },
     "execution_count": 357,
     "metadata": {},
     "output_type": "execute_result"
    }
   ],
   "source": [
    "grader.check(\"q3_4\")"
   ]
  },
  {
   "cell_type": "markdown",
   "id": "480e4acf",
   "metadata": {},
   "source": [
    "**Question 3.5.** Compute the p-value for this hypothesis test, and save the result to `gender_p_value`."
   ]
  },
  {
   "cell_type": "code",
   "execution_count": 358,
   "id": "4c8119f1",
   "metadata": {},
   "outputs": [
    {
     "data": {
      "text/plain": [
       "0.0704"
      ]
     },
     "execution_count": 358,
     "metadata": {},
     "output_type": "execute_result"
    }
   ],
   "source": [
    "gender_p_value = np.mean(gender_stats >= observed_male_prop)\n",
    "gender_p_value"
   ]
  },
  {
   "cell_type": "code",
   "execution_count": 61,
   "id": "84d7e250",
   "metadata": {
    "deletable": false,
    "editable": false
   },
   "outputs": [
    {
     "data": {
      "text/html": [
       "<p><strong><pre style='display: inline;'>q3_5</pre></strong> passed!</p>"
      ],
      "text/plain": [
       "q3_5 results: All test cases passed!"
      ]
     },
     "execution_count": 61,
     "metadata": {},
     "output_type": "execute_result"
    }
   ],
   "source": [
    "grader.check(\"q3_5\")"
   ]
  },
  {
   "cell_type": "markdown",
   "id": "215afc47",
   "metadata": {},
   "source": [
    "You should find that the p-value is above the standard cutoff of 0.05 for statistical significance. So in this case, we fail to reject the null. You'll use this information when creating your reboot - you'll assign an equal number of lines to the male main characters and the female main characters."
   ]
  },
  {
   "cell_type": "markdown",
   "id": "1a34247e",
   "metadata": {},
   "source": [
    "**Question 3.6.** Conceptually, how would you expect the statistics in `gender_stats` to change if `line_count` were a much larger value and `observed_male_prop` were the same? What effect would that have on the result of the hypothesis test?\n",
    "\n",
    "From the options below, save the number of your choice in the variable`gender_stats_change`.\n",
    "\n",
    "1. The values in `gender_stats` would be **less spread out**. We'd be **less** likely to reject the null hypothesis if `observed_male_prop` remained the same.\n",
    "2. The values in `gender_stats` would be **less spread out**. We'd be **more** likely to reject the null hypothesis if `observed_male_prop` remained the same.\n",
    "3. The values in `gender_stats` would be **about the same**. We'd be **equally** likely to reject the null hypothesis if `observed_male_prop` remained the same.\n",
    "4. The values in `gender_stats` would be **more spread out**. We'd be **less** likely to reject the null hypothesis if `observed_male_prop` remained the same.\n",
    "5. The values in `gender_stats` would be **more spread out**. We'd be **more** likely to reject the null hypothesis if `observed_male_prop` remained the same."
   ]
  },
  {
   "cell_type": "code",
   "execution_count": 359,
   "id": "1a5fac3b",
   "metadata": {},
   "outputs": [
    {
     "data": {
      "text/plain": [
       "2"
      ]
     },
     "execution_count": 359,
     "metadata": {},
     "output_type": "execute_result"
    }
   ],
   "source": [
    "gender_stats_change = 2\n",
    "gender_stats_change"
   ]
  },
  {
   "cell_type": "code",
   "execution_count": 360,
   "id": "5133d790",
   "metadata": {
    "deletable": false,
    "editable": false
   },
   "outputs": [
    {
     "data": {
      "text/html": [
       "<p><strong><pre style='display: inline;'>q3_6</pre></strong> passed!</p>"
      ],
      "text/plain": [
       "q3_6 results: All test cases passed!"
      ]
     },
     "execution_count": 360,
     "metadata": {},
     "output_type": "execute_result"
    }
   ],
   "source": [
    "grader.check(\"q3_6\")"
   ]
  },
  {
   "cell_type": "markdown",
   "id": "49ba2fa1",
   "metadata": {},
   "source": [
    "<a id='section4'></a>\n",
    "## Section 4: The Emotional One 😁😢😨\n",
    "\n",
    "<small>(<a href=\"#outline\">return to the outline</a>)</small>\n",
    "\n",
    "Now it's time to investigate the character dynamics of the show! In order to do this, we'll look at the `emotions` dataset. In data science, we often refer to emotion as \"sentiment.\" We only have sentiment data for certain lines from the first four seasons of the show, so we'll base our investigation on those lines only. Since we also have knowledge of probability, we'll utilize that as well."
   ]
  },
  {
   "cell_type": "markdown",
   "id": "fa322d0a",
   "metadata": {},
   "source": [
    "Let's take a look at the data in `emotions`."
   ]
  },
  {
   "cell_type": "code",
   "execution_count": 64,
   "id": "d70295c7",
   "metadata": {
    "scrolled": true
   },
   "outputs": [
    {
     "data": {
      "text/html": [
       "<div>\n",
       "<style scoped>\n",
       "    .dataframe tbody tr th:only-of-type {\n",
       "        vertical-align: middle;\n",
       "    }\n",
       "\n",
       "    .dataframe tbody tr th {\n",
       "        vertical-align: top;\n",
       "    }\n",
       "\n",
       "    .dataframe thead th {\n",
       "        text-align: right;\n",
       "    }\n",
       "</style>\n",
       "<table border=\"1\" class=\"dataframe\">\n",
       "  <thead>\n",
       "    <tr style=\"text-align: right;\">\n",
       "      <th></th>\n",
       "      <th>text</th>\n",
       "      <th>speaker</th>\n",
       "      <th>season</th>\n",
       "      <th>episode</th>\n",
       "      <th>scene</th>\n",
       "      <th>utterance</th>\n",
       "      <th>emotion</th>\n",
       "    </tr>\n",
       "  </thead>\n",
       "  <tbody>\n",
       "    <tr>\n",
       "      <th>0</th>\n",
       "      <td>I'm supposed to attach a brackety thing to the...</td>\n",
       "      <td>Ross Geller</td>\n",
       "      <td>1</td>\n",
       "      <td>1</td>\n",
       "      <td>4</td>\n",
       "      <td>1</td>\n",
       "      <td>Mad</td>\n",
       "    </tr>\n",
       "    <tr>\n",
       "      <th>1</th>\n",
       "      <td>I'm thinking we've got a bookcase here.</td>\n",
       "      <td>Joey Tribbiani</td>\n",
       "      <td>1</td>\n",
       "      <td>1</td>\n",
       "      <td>4</td>\n",
       "      <td>3</td>\n",
       "      <td>Neutral</td>\n",
       "    </tr>\n",
       "    <tr>\n",
       "      <th>2</th>\n",
       "      <td>It's a beautiful thing.</td>\n",
       "      <td>Chandler Bing</td>\n",
       "      <td>1</td>\n",
       "      <td>1</td>\n",
       "      <td>4</td>\n",
       "      <td>4</td>\n",
       "      <td>Joyful</td>\n",
       "    </tr>\n",
       "    <tr>\n",
       "      <th>3</th>\n",
       "      <td>What's this?</td>\n",
       "      <td>Joey Tribbiani</td>\n",
       "      <td>1</td>\n",
       "      <td>1</td>\n",
       "      <td>4</td>\n",
       "      <td>5</td>\n",
       "      <td>Neutral</td>\n",
       "    </tr>\n",
       "    <tr>\n",
       "      <th>4</th>\n",
       "      <td>I would have to say that is an 'L'-shaped brac...</td>\n",
       "      <td>Chandler Bing</td>\n",
       "      <td>1</td>\n",
       "      <td>1</td>\n",
       "      <td>4</td>\n",
       "      <td>6</td>\n",
       "      <td>Neutral</td>\n",
       "    </tr>\n",
       "    <tr>\n",
       "      <th>...</th>\n",
       "      <td>...</td>\n",
       "      <td>...</td>\n",
       "      <td>...</td>\n",
       "      <td>...</td>\n",
       "      <td>...</td>\n",
       "      <td>...</td>\n",
       "      <td>...</td>\n",
       "    </tr>\n",
       "    <tr>\n",
       "      <th>12601</th>\n",
       "      <td>Ahh, yes, I will have a glass of the Merlot</td>\n",
       "      <td>Rachel Green</td>\n",
       "      <td>4</td>\n",
       "      <td>24</td>\n",
       "      <td>25</td>\n",
       "      <td>2</td>\n",
       "      <td>Neutral</td>\n",
       "    </tr>\n",
       "    <tr>\n",
       "      <th>12602</th>\n",
       "      <td>Okay.</td>\n",
       "      <td>Air Hostess</td>\n",
       "      <td>4</td>\n",
       "      <td>24</td>\n",
       "      <td>25</td>\n",
       "      <td>3</td>\n",
       "      <td>Neutral</td>\n",
       "    </tr>\n",
       "    <tr>\n",
       "      <th>12603</th>\n",
       "      <td>And uh, he will have a white wine spritzer.</td>\n",
       "      <td>Rachel Green</td>\n",
       "      <td>4</td>\n",
       "      <td>24</td>\n",
       "      <td>25</td>\n",
       "      <td>4</td>\n",
       "      <td>Neutral</td>\n",
       "    </tr>\n",
       "    <tr>\n",
       "      <th>12604</th>\n",
       "      <td>Okay, good. Thank you. I'll be back shortly, a...</td>\n",
       "      <td>Air Hostess</td>\n",
       "      <td>4</td>\n",
       "      <td>24</td>\n",
       "      <td>25</td>\n",
       "      <td>5</td>\n",
       "      <td>Joyful</td>\n",
       "    </tr>\n",
       "    <tr>\n",
       "      <th>12605</th>\n",
       "      <td>All right. Woo! Hey, look at that, the airport...</td>\n",
       "      <td>Rachel Green</td>\n",
       "      <td>4</td>\n",
       "      <td>24</td>\n",
       "      <td>25</td>\n",
       "      <td>6</td>\n",
       "      <td>Scared</td>\n",
       "    </tr>\n",
       "  </tbody>\n",
       "</table>\n",
       "<p>12606 rows × 7 columns</p>\n",
       "</div>"
      ],
      "text/plain": [
       "                                                    text         speaker  \\\n",
       "0      I'm supposed to attach a brackety thing to the...     Ross Geller   \n",
       "1                I'm thinking we've got a bookcase here.  Joey Tribbiani   \n",
       "2                                It's a beautiful thing.   Chandler Bing   \n",
       "3                                           What's this?  Joey Tribbiani   \n",
       "4      I would have to say that is an 'L'-shaped brac...   Chandler Bing   \n",
       "...                                                  ...             ...   \n",
       "12601        Ahh, yes, I will have a glass of the Merlot    Rachel Green   \n",
       "12602                                              Okay.     Air Hostess   \n",
       "12603        And uh, he will have a white wine spritzer.    Rachel Green   \n",
       "12604  Okay, good. Thank you. I'll be back shortly, a...     Air Hostess   \n",
       "12605  All right. Woo! Hey, look at that, the airport...    Rachel Green   \n",
       "\n",
       "       season  episode  scene  utterance  emotion  \n",
       "0           1        1      4          1      Mad  \n",
       "1           1        1      4          3  Neutral  \n",
       "2           1        1      4          4   Joyful  \n",
       "3           1        1      4          5  Neutral  \n",
       "4           1        1      4          6  Neutral  \n",
       "...       ...      ...    ...        ...      ...  \n",
       "12601       4       24     25          2  Neutral  \n",
       "12602       4       24     25          3  Neutral  \n",
       "12603       4       24     25          4  Neutral  \n",
       "12604       4       24     25          5   Joyful  \n",
       "12605       4       24     25          6   Scared  \n",
       "\n",
       "[12606 rows x 7 columns]"
      ]
     },
     "execution_count": 64,
     "metadata": {},
     "output_type": "execute_result"
    }
   ],
   "source": [
    "emotions"
   ]
  },
  {
   "cell_type": "markdown",
   "id": "b1db5841",
   "metadata": {},
   "source": [
    "The `emotions` DataFrame includes the emotion for lines spoken by minor characters like `'Air Hostess'`, but we want to focus on the emotions of the six main characters, whose names are included in the `main` DataFrame defined below."
   ]
  },
  {
   "cell_type": "code",
   "execution_count": 65,
   "id": "ca8a1d32",
   "metadata": {},
   "outputs": [
    {
     "data": {
      "text/html": [
       "<div>\n",
       "<style scoped>\n",
       "    .dataframe tbody tr th:only-of-type {\n",
       "        vertical-align: middle;\n",
       "    }\n",
       "\n",
       "    .dataframe tbody tr th {\n",
       "        vertical-align: top;\n",
       "    }\n",
       "\n",
       "    .dataframe thead th {\n",
       "        text-align: right;\n",
       "    }\n",
       "</style>\n",
       "<table border=\"1\" class=\"dataframe\">\n",
       "  <thead>\n",
       "    <tr style=\"text-align: right;\">\n",
       "      <th></th>\n",
       "      <th>speaker</th>\n",
       "    </tr>\n",
       "  </thead>\n",
       "  <tbody>\n",
       "    <tr>\n",
       "      <th>0</th>\n",
       "      <td>Monica Geller</td>\n",
       "    </tr>\n",
       "    <tr>\n",
       "      <th>1</th>\n",
       "      <td>Ross Geller</td>\n",
       "    </tr>\n",
       "    <tr>\n",
       "      <th>2</th>\n",
       "      <td>Rachel Green</td>\n",
       "    </tr>\n",
       "    <tr>\n",
       "      <th>3</th>\n",
       "      <td>Chandler Bing</td>\n",
       "    </tr>\n",
       "    <tr>\n",
       "      <th>4</th>\n",
       "      <td>Phoebe Buffay</td>\n",
       "    </tr>\n",
       "    <tr>\n",
       "      <th>5</th>\n",
       "      <td>Joey Tribbiani</td>\n",
       "    </tr>\n",
       "  </tbody>\n",
       "</table>\n",
       "</div>"
      ],
      "text/plain": [
       "          speaker\n",
       "0   Monica Geller\n",
       "1     Ross Geller\n",
       "2    Rachel Green\n",
       "3   Chandler Bing\n",
       "4   Phoebe Buffay\n",
       "5  Joey Tribbiani"
      ]
     },
     "execution_count": 65,
     "metadata": {},
     "output_type": "execute_result"
    }
   ],
   "source": [
    "main = bpd.DataFrame().assign(speaker =  ['Monica Geller', 'Ross Geller', 'Rachel Green', 'Chandler Bing', 'Phoebe Buffay', 'Joey Tribbiani'])\n",
    "main"
   ]
  },
  {
   "cell_type": "markdown",
   "id": "12b0a8fd",
   "metadata": {},
   "source": [
    "**Question 4.1.** Create a DataFrame called `main_emotions` by merging the `main` and `emotions` DataFrame so that the resulting DataFrame contains the same columns as `emotions`, but only has rows corresponding to lines spoken by one of the six main characters. The rows and columns of `main_emotions` can be in any order."
   ]
  },
  {
   "cell_type": "code",
   "execution_count": 66,
   "id": "4c891aa3",
   "metadata": {
    "scrolled": true
   },
   "outputs": [
    {
     "data": {
      "text/html": [
       "<div>\n",
       "<style scoped>\n",
       "    .dataframe tbody tr th:only-of-type {\n",
       "        vertical-align: middle;\n",
       "    }\n",
       "\n",
       "    .dataframe tbody tr th {\n",
       "        vertical-align: top;\n",
       "    }\n",
       "\n",
       "    .dataframe thead th {\n",
       "        text-align: right;\n",
       "    }\n",
       "</style>\n",
       "<table border=\"1\" class=\"dataframe\">\n",
       "  <thead>\n",
       "    <tr style=\"text-align: right;\">\n",
       "      <th></th>\n",
       "      <th>text</th>\n",
       "      <th>speaker</th>\n",
       "      <th>season</th>\n",
       "      <th>episode</th>\n",
       "      <th>scene</th>\n",
       "      <th>utterance</th>\n",
       "      <th>emotion</th>\n",
       "    </tr>\n",
       "  </thead>\n",
       "  <tbody>\n",
       "    <tr>\n",
       "      <th>0</th>\n",
       "      <td>I'm supposed to attach a brackety thing to the...</td>\n",
       "      <td>Ross Geller</td>\n",
       "      <td>1</td>\n",
       "      <td>1</td>\n",
       "      <td>4</td>\n",
       "      <td>1</td>\n",
       "      <td>Mad</td>\n",
       "    </tr>\n",
       "    <tr>\n",
       "      <th>1</th>\n",
       "      <td>This was Carol's favorite beer. She always dra...</td>\n",
       "      <td>Ross Geller</td>\n",
       "      <td>1</td>\n",
       "      <td>1</td>\n",
       "      <td>4</td>\n",
       "      <td>12</td>\n",
       "      <td>Sad</td>\n",
       "    </tr>\n",
       "    <tr>\n",
       "      <th>2</th>\n",
       "      <td>You guys.</td>\n",
       "      <td>Ross Geller</td>\n",
       "      <td>1</td>\n",
       "      <td>1</td>\n",
       "      <td>4</td>\n",
       "      <td>16</td>\n",
       "      <td>Sad</td>\n",
       "    </tr>\n",
       "    <tr>\n",
       "      <th>3</th>\n",
       "      <td>I'm divorced! I'm only 26 and I'm divorced!</td>\n",
       "      <td>Ross Geller</td>\n",
       "      <td>1</td>\n",
       "      <td>1</td>\n",
       "      <td>7</td>\n",
       "      <td>1</td>\n",
       "      <td>Sad</td>\n",
       "    </tr>\n",
       "    <tr>\n",
       "      <th>4</th>\n",
       "      <td>That only took me an hour.</td>\n",
       "      <td>Ross Geller</td>\n",
       "      <td>1</td>\n",
       "      <td>1</td>\n",
       "      <td>7</td>\n",
       "      <td>4</td>\n",
       "      <td>Sad</td>\n",
       "    </tr>\n",
       "    <tr>\n",
       "      <th>...</th>\n",
       "      <td>...</td>\n",
       "      <td>...</td>\n",
       "      <td>...</td>\n",
       "      <td>...</td>\n",
       "      <td>...</td>\n",
       "      <td>...</td>\n",
       "      <td>...</td>\n",
       "    </tr>\n",
       "    <tr>\n",
       "      <th>9771</th>\n",
       "      <td>Well I just came... I just needed to tell you....</td>\n",
       "      <td>Rachel Green</td>\n",
       "      <td>4</td>\n",
       "      <td>24</td>\n",
       "      <td>17</td>\n",
       "      <td>27</td>\n",
       "      <td>Peaceful</td>\n",
       "    </tr>\n",
       "    <tr>\n",
       "      <th>9772</th>\n",
       "      <td>Hey-hey, you guys oh hurry up, get some, there...</td>\n",
       "      <td>Rachel Green</td>\n",
       "      <td>4</td>\n",
       "      <td>24</td>\n",
       "      <td>22</td>\n",
       "      <td>15</td>\n",
       "      <td>Joyful</td>\n",
       "    </tr>\n",
       "    <tr>\n",
       "      <th>9773</th>\n",
       "      <td>Ahh, yes, I will have a glass of the Merlot</td>\n",
       "      <td>Rachel Green</td>\n",
       "      <td>4</td>\n",
       "      <td>24</td>\n",
       "      <td>25</td>\n",
       "      <td>2</td>\n",
       "      <td>Neutral</td>\n",
       "    </tr>\n",
       "    <tr>\n",
       "      <th>9774</th>\n",
       "      <td>And uh, he will have a white wine spritzer.</td>\n",
       "      <td>Rachel Green</td>\n",
       "      <td>4</td>\n",
       "      <td>24</td>\n",
       "      <td>25</td>\n",
       "      <td>4</td>\n",
       "      <td>Neutral</td>\n",
       "    </tr>\n",
       "    <tr>\n",
       "      <th>9775</th>\n",
       "      <td>All right. Woo! Hey, look at that, the airport...</td>\n",
       "      <td>Rachel Green</td>\n",
       "      <td>4</td>\n",
       "      <td>24</td>\n",
       "      <td>25</td>\n",
       "      <td>6</td>\n",
       "      <td>Scared</td>\n",
       "    </tr>\n",
       "  </tbody>\n",
       "</table>\n",
       "<p>9776 rows × 7 columns</p>\n",
       "</div>"
      ],
      "text/plain": [
       "                                                   text       speaker  season  \\\n",
       "0     I'm supposed to attach a brackety thing to the...   Ross Geller       1   \n",
       "1     This was Carol's favorite beer. She always dra...   Ross Geller       1   \n",
       "2                                             You guys.   Ross Geller       1   \n",
       "3           I'm divorced! I'm only 26 and I'm divorced!   Ross Geller       1   \n",
       "4                            That only took me an hour.   Ross Geller       1   \n",
       "...                                                 ...           ...     ...   \n",
       "9771  Well I just came... I just needed to tell you....  Rachel Green       4   \n",
       "9772  Hey-hey, you guys oh hurry up, get some, there...  Rachel Green       4   \n",
       "9773        Ahh, yes, I will have a glass of the Merlot  Rachel Green       4   \n",
       "9774        And uh, he will have a white wine spritzer.  Rachel Green       4   \n",
       "9775  All right. Woo! Hey, look at that, the airport...  Rachel Green       4   \n",
       "\n",
       "      episode  scene  utterance   emotion  \n",
       "0           1      4          1       Mad  \n",
       "1           1      4         12       Sad  \n",
       "2           1      4         16       Sad  \n",
       "3           1      7          1       Sad  \n",
       "4           1      7          4       Sad  \n",
       "...       ...    ...        ...       ...  \n",
       "9771       24     17         27  Peaceful  \n",
       "9772       24     22         15    Joyful  \n",
       "9773       24     25          2   Neutral  \n",
       "9774       24     25          4   Neutral  \n",
       "9775       24     25          6    Scared  \n",
       "\n",
       "[9776 rows x 7 columns]"
      ]
     },
     "execution_count": 66,
     "metadata": {},
     "output_type": "execute_result"
    }
   ],
   "source": [
    "main_emotions = emotions.merge(main, on='speaker')\n",
    "main_emotions"
   ]
  },
  {
   "cell_type": "code",
   "execution_count": 67,
   "id": "2c20a02c",
   "metadata": {
    "deletable": false,
    "editable": false
   },
   "outputs": [
    {
     "data": {
      "text/html": [
       "<p><strong><pre style='display: inline;'>q4_1</pre></strong> passed!</p>"
      ],
      "text/plain": [
       "q4_1 results: All test cases passed!"
      ]
     },
     "execution_count": 67,
     "metadata": {},
     "output_type": "execute_result"
    }
   ],
   "source": [
    "grader.check(\"q4_1\")"
   ]
  },
  {
   "cell_type": "markdown",
   "id": "626211a0",
   "metadata": {},
   "source": [
    "We'll use `main_emotions` instead of `emotions` for the rest of this section. Let's look into how sentiment varies across the six main characters by investigating some probabilities.\n",
    "\n",
    "**Question 4.2.** If we randomly select a line spoken `'Phoebe Buffay'` from `main_emotions`, what is the probability that the line is characterized as `'Joyful'`? Assign your answer to the variable `p_joyful_given_phoebe`."
   ]
  },
  {
   "cell_type": "code",
   "execution_count": 68,
   "id": "bafe2dd0",
   "metadata": {},
   "outputs": [
    {
     "data": {
      "text/plain": [
       "0.2483912483912484"
      ]
     },
     "execution_count": 68,
     "metadata": {},
     "output_type": "execute_result"
    }
   ],
   "source": [
    "joyful_lines_phoebe = main_emotions[(main_emotions.get('speaker') == 'Phoebe Buffay') & (main_emotions.get('emotion') == 'Joyful')].shape[0]\n",
    "total_lines_phoebe = main_emotions[main_emotions.get('speaker') == 'Phoebe Buffay'].shape[0]\n",
    "p_joyful_given_phoebe = joyful_lines_phoebe / total_lines_phoebe\n",
    "p_joyful_given_phoebe"
   ]
  },
  {
   "cell_type": "code",
   "execution_count": 69,
   "id": "f8b2a38f",
   "metadata": {
    "deletable": false,
    "editable": false
   },
   "outputs": [
    {
     "data": {
      "text/html": [
       "<p><strong><pre style='display: inline;'>q4_2</pre></strong> passed!</p>"
      ],
      "text/plain": [
       "q4_2 results: All test cases passed!"
      ]
     },
     "execution_count": 69,
     "metadata": {},
     "output_type": "execute_result"
    }
   ],
   "source": [
    "grader.check(\"q4_2\")"
   ]
  },
  {
   "cell_type": "markdown",
   "id": "55087576",
   "metadata": {},
   "source": [
    "**Question 4.3.** It's hard to know from this probability alone whether Phoebe is a particularly joyful character compared to other characters. Let's instead answer a related question: if we randomly select a `'Joyful'` line from `main_emotions`, what is the probability that it was spoken by `'Phoebe Buffay'`? Assign your answer to the variable `p_phoebe_given_joyful`."
   ]
  },
  {
   "cell_type": "code",
   "execution_count": 70,
   "id": "ebb5de0e",
   "metadata": {
    "scrolled": true
   },
   "outputs": [
    {
     "data": {
      "text/plain": [
       "0.18293838862559242"
      ]
     },
     "execution_count": 70,
     "metadata": {},
     "output_type": "execute_result"
    }
   ],
   "source": [
    "totalL = main_emotions[main_emotions.get('emotion') == 'Joyful'].shape[0]\n",
    "p_phoebe_given_joyful = joyful_lines_phoebe / totalL\n",
    "p_phoebe_given_joyful"
   ]
  },
  {
   "cell_type": "code",
   "execution_count": 71,
   "id": "04f0802c",
   "metadata": {
    "deletable": false,
    "editable": false
   },
   "outputs": [
    {
     "data": {
      "text/html": [
       "<p><strong><pre style='display: inline;'>q4_3</pre></strong> passed!</p>"
      ],
      "text/plain": [
       "q4_3 results: All test cases passed!"
      ]
     },
     "execution_count": 71,
     "metadata": {},
     "output_type": "execute_result"
    }
   ],
   "source": [
    "grader.check(\"q4_3\")"
   ]
  },
  {
   "cell_type": "markdown",
   "id": "18aed975",
   "metadata": {},
   "source": [
    "Notice that in both of the previous questions, you calculated a conditional probability. First you calculated the probability of an emotion given a speaker, then you calculated the probability of a speaker given an emotion. Next, we want to do these same kinds of calculations for _all_ of the main characters and _all_ of the emotions. Let's generalize the code for these calculations so that we can more easily compute conditional probabilities with other conditions.\n",
    "\n",
    "**Question 4.4.** ⭐⭐ Your job is to implement the function `conditional_probability`. It has two arguments, `find` and `given`, both of which are lists. Let's walk through how this works using an example. Suppose we want to compute the probability that a `'Joyful'` line is spoken by `'Phoebe Buffay'` as we did in the previous question.\n",
    "\n",
    "- `find` is a list of two elements:\n",
    "    - The first element in `find` is the column in `main_emotions` that contains the event that we are trying to find the probability of. In our example, this is `'speaker'`.\n",
    "    - The second element in `find` is the value in the aforementioned column that we're trying to find. In our example, this is `'Phoebe Buffay'`.\n",
    "- `given` is a list of two elements:\n",
    "    - The first element in `given` is the column in `main_emotions` that contains the event that is known to be true. In our example, this is `'emotion'`. \n",
    "    - The second element in `given` is the value in the aforementioned column. In our example, this is `'Joyful'`.\n",
    "\n",
    "Putting this all together, this means that `conditional_probability(['speaker', 'Phoebe Buffay'], ['emotion', 'Joyful'])` should evaluate to your answer from the previous part (but the `conditional_probability` function should work for any example, not just this one).\n",
    "\n"
   ]
  },
  {
   "cell_type": "code",
   "execution_count": 72,
   "id": "3fb4991e",
   "metadata": {},
   "outputs": [
    {
     "data": {
      "text/plain": [
       "0.18293838862559242"
      ]
     },
     "execution_count": 72,
     "metadata": {},
     "output_type": "execute_result"
    }
   ],
   "source": [
    "def conditional_probability(find, given):\n",
    "    '''Returns the conditional probability of an event given a known condition.'''\n",
    "    given_count = main_emotions[main_emotions.get(given[0]) == given[1]].shape[0]\n",
    "    find_given_count = main_emotions[(main_emotions.get(find[0]) == find[1]) & (main_emotions.get(given[0]) == given[1])].shape[0]\n",
    "    conditional_prob = find_given_count / given_count\n",
    "    return conditional_prob\n",
    "    \n",
    "# This should evalaute to your answer to Question 4.3. Feel free to try calculating other conditional probabilities.\n",
    "conditional_probability(['speaker', 'Phoebe Buffay'], ['emotion', 'Joyful'])"
   ]
  },
  {
   "cell_type": "code",
   "execution_count": 73,
   "id": "6c314ac6",
   "metadata": {
    "deletable": false,
    "editable": false
   },
   "outputs": [
    {
     "data": {
      "text/html": [
       "<p><strong><pre style='display: inline;'>q4_4</pre></strong> passed!</p>"
      ],
      "text/plain": [
       "q4_4 results: All test cases passed!"
      ]
     },
     "execution_count": 73,
     "metadata": {},
     "output_type": "execute_result"
    }
   ],
   "source": [
    "grader.check(\"q4_4\")"
   ]
  },
  {
   "cell_type": "markdown",
   "id": "7ec13ee0",
   "metadata": {},
   "source": [
    "**Question 4.5.** Now, use the `conditional_probability` function you just wrote to find some probabilities:\n",
    "- `p_mad_given_ross`: The probability that a line spoken by `'Ross Geller'` is `'Mad'`. \n",
    "- `p_monica_given_neutral`: The probability that a `'Neutral'` line is said by `'Monica Geller'`."
   ]
  },
  {
   "cell_type": "code",
   "execution_count": 361,
   "id": "0aa17549",
   "metadata": {},
   "outputs": [
    {
     "name": "stdout",
     "output_type": "stream",
     "text": [
      "P(Mad given Ross) = 0.10821759259259259\n",
      "P(Neutral given Monica) = 0.16713483146067415\n"
     ]
    }
   ],
   "source": [
    "p_mad_given_ross = conditional_probability(['emotion', 'Mad'], ['speaker', 'Ross Geller'])\n",
    "p_monica_given_neutral = conditional_probability(['speaker', 'Monica Geller'], ['emotion', 'Neutral'])\n",
    "\n",
    "print('P(Mad given Ross) = ' + str(p_mad_given_ross))\n",
    "print('P(Neutral given Monica) = ' + str(p_monica_given_neutral))"
   ]
  },
  {
   "cell_type": "code",
   "execution_count": 75,
   "id": "56b39341",
   "metadata": {
    "deletable": false,
    "editable": false
   },
   "outputs": [
    {
     "data": {
      "text/html": [
       "<p><strong><pre style='display: inline;'>q4_5</pre></strong> passed!</p>"
      ],
      "text/plain": [
       "q4_5 results: All test cases passed!"
      ]
     },
     "execution_count": 75,
     "metadata": {},
     "output_type": "execute_result"
    }
   ],
   "source": [
    "grader.check(\"q4_5\")"
   ]
  },
  {
   "cell_type": "markdown",
   "id": "fe641e68",
   "metadata": {},
   "source": [
    "**Question 4.6.** ⭐⭐ Now you want to focus on a particular emotion and order the characters from most likely to say a line of that emotion to least likely. Create a function called `rank_speakers_by_emotion`that takes as input a string `emotion` representing one of the seven emotions, and a boolean `draw_plot`.\n",
    "\n",
    "If `draw_plot` is `True`, the function should plot a horizontal bar chart where the bar lengths represent the probability that a line of the given emotion is spoken by each of the the six main characters. The total length of the six bars should sum to 1 and the bars should be ordered from longest to shortest. Give your plot an appropriate title.\n",
    "\n",
    "When `draw_plot` is `False`, the function should not draw a plot.\n",
    "\n",
    "Regardless of the value of `draw_plot`, the function should return an array of the six main characters, ranked in descending order of their probabilities of saying a line of the given emotion. \n",
    "\n",
    "For example, `rank_speakers_by_emotion('Sad', True)` should behave as follows.\n",
    "<img src=\"images/sad_line.jpg\" width = 700>"
   ]
  },
  {
   "cell_type": "markdown",
   "id": "898f5fb5",
   "metadata": {},
   "source": [
    "***Hint:*** You can solve this problem in at least two different ways. One way involves calling your `conditional_probability` function repeatedly with different inputs. Another way doesn't use the `conditional_probability` function at all, but instead uses `groupby`. You can use either approach, or try both for extra practice."
   ]
  },
  {
   "cell_type": "code",
   "execution_count": 233,
   "id": "77c43ec9",
   "metadata": {},
   "outputs": [
    {
     "data": {
      "text/plain": [
       "array(['Phoebe Buffay', 'Monica Geller', 'Rachel Green', 'Ross Geller',\n",
       "       'Joey Tribbiani', 'Chandler Bing'], dtype='<U14')"
      ]
     },
     "execution_count": 233,
     "metadata": {},
     "output_type": "execute_result"
    },
    {
     "data": {
      "image/png": "[encoded data removed]",
      "text/plain": [
       "<Figure size 1080x720 with 1 Axes>"
      ]
     },
     "metadata": {},
     "output_type": "display_data"
    }
   ],
   "source": [
    "def rank_speakers_by_emotion(emotion, draw_plot):\n",
    "    '''Returns an ordered array of main characters, ranked by their conditional probabilities of \n",
    "    speaking a line of the given emotion. Draws a bar graph when draw_plot is True. '''\n",
    "    \n",
    "    filtered_emotions = main_emotions[main_emotions.get('emotion') == emotion]\n",
    "    grouped = filtered_emotions.groupby('speaker').size().sort_values(ascending=True)\n",
    "    probabilities = grouped / grouped.sum()\n",
    "    if draw_plot:\n",
    "        probabilities.plot(kind='barh', color='r', ec='w', x='Probability', y='Main Character',figsize=(15,10), title=f'Friends Characters Ranked by Probability of a {emotion} Line')\n",
    "    characters = np.array(probabilities.reset_index().get('speaker'))\n",
    "    reversed = []\n",
    "    for char in np.arange(len(characters)-1, -1, -1):\n",
    "        reversed.append(characters[char])\n",
    "    return np.array(reversed)\n",
    "\n",
    "# Example usage\n",
    "rank_speakers_by_emotion('Sad', True)"
   ]
  },
  {
   "cell_type": "code",
   "execution_count": 234,
   "id": "e7526a24",
   "metadata": {
    "deletable": false,
    "editable": false
   },
   "outputs": [
    {
     "data": {
      "text/html": [
       "<p><strong><pre style='display: inline;'>q4_6</pre></strong> passed!</p>"
      ],
      "text/plain": [
       "q4_6 results: All test cases passed!"
      ]
     },
     "execution_count": 234,
     "metadata": {},
     "output_type": "execute_result"
    }
   ],
   "source": [
    "grader.check(\"q4_6\")"
   ]
  },
  {
   "cell_type": "markdown",
   "id": "361db6ee",
   "metadata": {},
   "source": [
    "Now, let's try using our function on all seven emotions."
   ]
  },
  {
   "cell_type": "code",
   "execution_count": 235,
   "id": "eb9e4593",
   "metadata": {},
   "outputs": [
    {
     "name": "stdout",
     "output_type": "stream",
     "text": [
      "Characters in descending order of Mad: \n",
      " ['Rachel Green' 'Chandler Bing' 'Monica Geller' 'Ross Geller'\n",
      " 'Joey Tribbiani' 'Phoebe Buffay'] \n",
      "\n",
      "Characters in descending order of Sad: \n",
      " ['Phoebe Buffay' 'Monica Geller' 'Rachel Green' 'Ross Geller'\n",
      " 'Joey Tribbiani' 'Chandler Bing'] \n",
      "\n",
      "Characters in descending order of Scared: \n",
      " ['Ross Geller' 'Chandler Bing' 'Monica Geller' 'Joey Tribbiani'\n",
      " 'Phoebe Buffay' 'Rachel Green'] \n",
      "\n",
      "Characters in descending order of Peaceful: \n",
      " ['Chandler Bing' 'Ross Geller' 'Monica Geller' 'Phoebe Buffay'\n",
      " 'Joey Tribbiani' 'Rachel Green'] \n",
      "\n",
      "Characters in descending order of Neutral: \n",
      " ['Chandler Bing' 'Ross Geller' 'Monica Geller' 'Joey Tribbiani'\n",
      " 'Phoebe Buffay' 'Rachel Green'] \n",
      "\n",
      "Characters in descending order of Joyful: \n",
      " ['Chandler Bing' 'Phoebe Buffay' 'Joey Tribbiani' 'Monica Geller'\n",
      " 'Ross Geller' 'Rachel Green'] \n",
      "\n",
      "Characters in descending order of Powerful: \n",
      " ['Joey Tribbiani' 'Chandler Bing' 'Ross Geller' 'Phoebe Buffay'\n",
      " 'Monica Geller' 'Rachel Green'] \n",
      "\n"
     ]
    },
    {
     "data": {
      "image/png": "[encoded data removed]",
      "text/plain": [
       "<Figure size 1080x720 with 1 Axes>"
      ]
     },
     "metadata": {},
     "output_type": "display_data"
    }
   ],
   "source": [
    "seven_emotions = main_emotions.get('emotion').unique()\n",
    "for emotion in seven_emotions:\n",
    "    print('Characters in descending order of '+emotion+': \\n', rank_speakers_by_emotion(emotion, True), '\\n')"
   ]
  },
  {
   "cell_type": "markdown",
   "id": "4b46c80f",
   "metadata": {},
   "source": [
    "Now, you want to create a visualization that will represent the distribution of different emotions for each character. You plan to give this visualization to the writers you will hire for the reboot, as they will need to understand the emotional range of each character to write a reboot that is true to the spirit of the original *Friends* sitcom.\n",
    "\n",
    "**Question 4.7.** Your task is to create a function `emotions_by_speaker` that will take in a `speaker` and calculate the probability of that character saying a line of each of the seven emotions. The function should return a DataFrame, indexed by `'emotion'`, with one column `'probability'`, containing values that sum to 1. The rows should appear **alphabetically** by `'emotion'`\n",
    "\n",
    "For example, `emotions_by_speaker('Chandler Bing')` should return this DataFrame:"
   ]
  },
  {
   "cell_type": "markdown",
   "id": "bc71888b",
   "metadata": {},
   "source": [
    "<table border=\"1\" class=\"dataframe\">\n",
    "  <thead>\n",
    "    <tr style=\"text-align: right;\">\n",
    "      <th></th>\n",
    "      <th>probability</th>\n",
    "    </tr>\n",
    "    <tr>\n",
    "      <th>emotion</th>\n",
    "      <th></th>\n",
    "    </tr>\n",
    "  </thead>\n",
    "  <tbody>\n",
    "    <tr>\n",
    "      <th>Joyful</th>\n",
    "      <td>0.220890</td>\n",
    "    </tr>\n",
    "    <tr>\n",
    "      <th>Mad</th>\n",
    "      <td>0.124429</td>\n",
    "    </tr>\n",
    "    <tr>\n",
    "      <th>Neutral</th>\n",
    "      <td>0.306507</td>\n",
    "    </tr>\n",
    "    <tr>\n",
    "      <th>Peaceful</th>\n",
    "      <td>0.096461</td>\n",
    "    </tr>\n",
    "    <tr>\n",
    "      <th>Powerful</th>\n",
    "      <td>0.080479</td>\n",
    "    </tr>\n",
    "    <tr>\n",
    "      <th>Sad</th>\n",
    "      <td>0.044521</td>\n",
    "    </tr>\n",
    "    <tr>\n",
    "      <th>Scared</th>\n",
    "      <td>0.126712</td>\n",
    "    </tr>\n",
    "  </tbody>\n",
    "</table>"
   ]
  },
  {
   "cell_type": "code",
   "execution_count": 270,
   "id": "0f41c28b",
   "metadata": {
    "scrolled": true
   },
   "outputs": [
    {
     "data": {
      "text/html": [
       "<div>\n",
       "<style scoped>\n",
       "    .dataframe tbody tr th:only-of-type {\n",
       "        vertical-align: middle;\n",
       "    }\n",
       "\n",
       "    .dataframe tbody tr th {\n",
       "        vertical-align: top;\n",
       "    }\n",
       "\n",
       "    .dataframe thead th {\n",
       "        text-align: right;\n",
       "    }\n",
       "</style>\n",
       "<table border=\"1\" class=\"dataframe\">\n",
       "  <thead>\n",
       "    <tr style=\"text-align: right;\">\n",
       "      <th></th>\n",
       "      <th>probability</th>\n",
       "    </tr>\n",
       "    <tr>\n",
       "      <th>emotion</th>\n",
       "      <th></th>\n",
       "    </tr>\n",
       "  </thead>\n",
       "  <tbody>\n",
       "    <tr>\n",
       "      <th>Joyful</th>\n",
       "      <td>0.220890</td>\n",
       "    </tr>\n",
       "    <tr>\n",
       "      <th>Mad</th>\n",
       "      <td>0.124429</td>\n",
       "    </tr>\n",
       "    <tr>\n",
       "      <th>Neutral</th>\n",
       "      <td>0.306507</td>\n",
       "    </tr>\n",
       "    <tr>\n",
       "      <th>Peaceful</th>\n",
       "      <td>0.096461</td>\n",
       "    </tr>\n",
       "    <tr>\n",
       "      <th>Powerful</th>\n",
       "      <td>0.080479</td>\n",
       "    </tr>\n",
       "    <tr>\n",
       "      <th>Sad</th>\n",
       "      <td>0.044521</td>\n",
       "    </tr>\n",
       "    <tr>\n",
       "      <th>Scared</th>\n",
       "      <td>0.126712</td>\n",
       "    </tr>\n",
       "  </tbody>\n",
       "</table>\n",
       "</div>"
      ],
      "text/plain": [
       "          probability\n",
       "emotion              \n",
       "Joyful       0.220890\n",
       "Mad          0.124429\n",
       "Neutral      0.306507\n",
       "Peaceful     0.096461\n",
       "Powerful     0.080479\n",
       "Sad          0.044521\n",
       "Scared       0.126712"
      ]
     },
     "execution_count": 270,
     "metadata": {},
     "output_type": "execute_result"
    }
   ],
   "source": [
    "def emotions_by_speaker(speaker):\n",
    "    '''Returns a DataFrame of emotions and their associated probabilities for the given speaker.'''\n",
    "    grouped = main_emotions[main_emotions.get('speaker') == speaker].groupby('emotion').size()\n",
    "    probabilities = grouped / grouped.sum()\n",
    "    emotions_df = probabilities.reset_index()\n",
    "    inter = emotions_df.iloc[:, 1]\n",
    "    emotions_df = emotions_df.assign(probability=inter).get(['emotion','probability']).set_index('emotion')\n",
    "    return emotions_df\n",
    "\n",
    "\n",
    "# Example usage\n",
    "emotions_by_speaker('Chandler Bing')"
   ]
  },
  {
   "cell_type": "code",
   "execution_count": 268,
   "id": "8fa23ea4",
   "metadata": {
    "deletable": false,
    "editable": false
   },
   "outputs": [
    {
     "data": {
      "text/html": [
       "<p><strong><pre style='display: inline;'>q4_7</pre></strong> passed!</p>"
      ],
      "text/plain": [
       "q4_7 results: All test cases passed!"
      ]
     },
     "execution_count": 268,
     "metadata": {},
     "output_type": "execute_result"
    }
   ],
   "source": [
    "grader.check(\"q4_7\")"
   ]
  },
  {
   "cell_type": "markdown",
   "id": "c6dae0e9",
   "metadata": {},
   "source": [
    "**Question 4.8.** Now, we'll use your function to create a visualization of speaker emotions, which should show the similarities and differences between the types of emotions each character uses when they speak. We've completed the visualization code for you, you just need to fill in a few missing lines as indicated by the comments. You do not need to know how the code for this visualization works!"
   ]
  },
  {
   "cell_type": "code",
   "execution_count": 362,
   "id": "88f25cac",
   "metadata": {},
   "outputs": [
    {
     "ename": "FileNotFoundError",
     "evalue": "[Errno 2] No such file or directory: 'images/face_pics/None.png'",
     "output_type": "error",
     "traceback": [
      "\u001b[0;31m---------------------------------------------------------------------------\u001b[0m",
      "\u001b[0;31mFileNotFoundError\u001b[0m                         Traceback (most recent call last)",
      "\u001b[0;32m/tmp/ipykernel_169/3685158751.py\u001b[0m in \u001b[0;36m<module>\u001b[0;34m\u001b[0m\n\u001b[1;32m     17\u001b[0m \u001b[0mmax_height\u001b[0m \u001b[0;34m=\u001b[0m \u001b[0mmax_width\u001b[0m \u001b[0;34m=\u001b[0m \u001b[0;36m0\u001b[0m\u001b[0;34m\u001b[0m\u001b[0;34m\u001b[0m\u001b[0m\n\u001b[1;32m     18\u001b[0m \u001b[0;32mfor\u001b[0m \u001b[0mcharacter\u001b[0m \u001b[0;32min\u001b[0m \u001b[0mcharacters\u001b[0m\u001b[0;34m:\u001b[0m\u001b[0;34m\u001b[0m\u001b[0;34m\u001b[0m\u001b[0m\n\u001b[0;32m---> 19\u001b[0;31m     \u001b[0mimg\u001b[0m \u001b[0;34m=\u001b[0m \u001b[0mplt\u001b[0m\u001b[0;34m.\u001b[0m\u001b[0mimread\u001b[0m\u001b[0;34m(\u001b[0m\u001b[0;34mf'images/face_pics/{first_name(character)}.png'\u001b[0m\u001b[0;34m)\u001b[0m\u001b[0;34m\u001b[0m\u001b[0;34m\u001b[0m\u001b[0m\n\u001b[0m\u001b[1;32m     20\u001b[0m     \u001b[0mh\u001b[0m\u001b[0;34m,\u001b[0m \u001b[0mw\u001b[0m\u001b[0;34m,\u001b[0m \u001b[0m_\u001b[0m \u001b[0;34m=\u001b[0m \u001b[0mimg\u001b[0m\u001b[0;34m.\u001b[0m\u001b[0mshape\u001b[0m\u001b[0;34m\u001b[0m\u001b[0;34m\u001b[0m\u001b[0m\n\u001b[1;32m     21\u001b[0m     \u001b[0mmax_height\u001b[0m \u001b[0;34m=\u001b[0m \u001b[0mmax\u001b[0m\u001b[0;34m(\u001b[0m\u001b[0mmax_height\u001b[0m\u001b[0;34m,\u001b[0m \u001b[0mh\u001b[0m\u001b[0;34m)\u001b[0m\u001b[0;34m\u001b[0m\u001b[0;34m\u001b[0m\u001b[0m\n",
      "\u001b[0;32m/opt/conda/lib/python3.9/site-packages/matplotlib/pyplot.py\u001b[0m in \u001b[0;36mimread\u001b[0;34m(fname, format)\u001b[0m\n\u001b[1;32m   2405\u001b[0m \u001b[0;34m@\u001b[0m\u001b[0m_copy_docstring_and_deprecators\u001b[0m\u001b[0;34m(\u001b[0m\u001b[0mmatplotlib\u001b[0m\u001b[0;34m.\u001b[0m\u001b[0mimage\u001b[0m\u001b[0;34m.\u001b[0m\u001b[0mimread\u001b[0m\u001b[0;34m)\u001b[0m\u001b[0;34m\u001b[0m\u001b[0;34m\u001b[0m\u001b[0m\n\u001b[1;32m   2406\u001b[0m \u001b[0;32mdef\u001b[0m \u001b[0mimread\u001b[0m\u001b[0;34m(\u001b[0m\u001b[0mfname\u001b[0m\u001b[0;34m,\u001b[0m \u001b[0mformat\u001b[0m\u001b[0;34m=\u001b[0m\u001b[0;32mNone\u001b[0m\u001b[0;34m)\u001b[0m\u001b[0;34m:\u001b[0m\u001b[0;34m\u001b[0m\u001b[0;34m\u001b[0m\u001b[0m\n\u001b[0;32m-> 2407\u001b[0;31m     \u001b[0;32mreturn\u001b[0m \u001b[0mmatplotlib\u001b[0m\u001b[0;34m.\u001b[0m\u001b[0mimage\u001b[0m\u001b[0;34m.\u001b[0m\u001b[0mimread\u001b[0m\u001b[0;34m(\u001b[0m\u001b[0mfname\u001b[0m\u001b[0;34m,\u001b[0m \u001b[0mformat\u001b[0m\u001b[0;34m)\u001b[0m\u001b[0;34m\u001b[0m\u001b[0;34m\u001b[0m\u001b[0m\n\u001b[0m\u001b[1;32m   2408\u001b[0m \u001b[0;34m\u001b[0m\u001b[0m\n\u001b[1;32m   2409\u001b[0m \u001b[0;34m\u001b[0m\u001b[0m\n",
      "\u001b[0;32m/opt/conda/lib/python3.9/site-packages/matplotlib/image.py\u001b[0m in \u001b[0;36mimread\u001b[0;34m(fname, format)\u001b[0m\n\u001b[1;32m   1499\u001b[0m                     \u001b[0mresponse\u001b[0m \u001b[0;34m=\u001b[0m \u001b[0mio\u001b[0m\u001b[0;34m.\u001b[0m\u001b[0mBytesIO\u001b[0m\u001b[0;34m(\u001b[0m\u001b[0mresponse\u001b[0m\u001b[0;34m.\u001b[0m\u001b[0mread\u001b[0m\u001b[0;34m(\u001b[0m\u001b[0;34m)\u001b[0m\u001b[0;34m)\u001b[0m\u001b[0;34m\u001b[0m\u001b[0;34m\u001b[0m\u001b[0m\n\u001b[1;32m   1500\u001b[0m                 \u001b[0;32mreturn\u001b[0m \u001b[0mimread\u001b[0m\u001b[0;34m(\u001b[0m\u001b[0mresponse\u001b[0m\u001b[0;34m,\u001b[0m \u001b[0mformat\u001b[0m\u001b[0;34m=\u001b[0m\u001b[0mext\u001b[0m\u001b[0;34m)\u001b[0m\u001b[0;34m\u001b[0m\u001b[0;34m\u001b[0m\u001b[0m\n\u001b[0;32m-> 1501\u001b[0;31m     \u001b[0;32mwith\u001b[0m \u001b[0mimg_open\u001b[0m\u001b[0;34m(\u001b[0m\u001b[0mfname\u001b[0m\u001b[0;34m)\u001b[0m \u001b[0;32mas\u001b[0m \u001b[0mimage\u001b[0m\u001b[0;34m:\u001b[0m\u001b[0;34m\u001b[0m\u001b[0;34m\u001b[0m\u001b[0m\n\u001b[0m\u001b[1;32m   1502\u001b[0m         return (_pil_png_to_float_array(image)\n\u001b[1;32m   1503\u001b[0m                 \u001b[0;32mif\u001b[0m \u001b[0misinstance\u001b[0m\u001b[0;34m(\u001b[0m\u001b[0mimage\u001b[0m\u001b[0;34m,\u001b[0m \u001b[0mPIL\u001b[0m\u001b[0;34m.\u001b[0m\u001b[0mPngImagePlugin\u001b[0m\u001b[0;34m.\u001b[0m\u001b[0mPngImageFile\u001b[0m\u001b[0;34m)\u001b[0m \u001b[0;32melse\u001b[0m\u001b[0;34m\u001b[0m\u001b[0;34m\u001b[0m\u001b[0m\n",
      "\u001b[0;32m/opt/conda/lib/python3.9/site-packages/PIL/ImageFile.py\u001b[0m in \u001b[0;36m__init__\u001b[0;34m(self, fp, filename)\u001b[0m\n\u001b[1;32m    107\u001b[0m         \u001b[0;32mif\u001b[0m \u001b[0misPath\u001b[0m\u001b[0;34m(\u001b[0m\u001b[0mfp\u001b[0m\u001b[0;34m)\u001b[0m\u001b[0;34m:\u001b[0m\u001b[0;34m\u001b[0m\u001b[0;34m\u001b[0m\u001b[0m\n\u001b[1;32m    108\u001b[0m             \u001b[0;31m# filename\u001b[0m\u001b[0;34m\u001b[0m\u001b[0;34m\u001b[0m\u001b[0;34m\u001b[0m\u001b[0m\n\u001b[0;32m--> 109\u001b[0;31m             \u001b[0mself\u001b[0m\u001b[0;34m.\u001b[0m\u001b[0mfp\u001b[0m \u001b[0;34m=\u001b[0m \u001b[0mopen\u001b[0m\u001b[0;34m(\u001b[0m\u001b[0mfp\u001b[0m\u001b[0;34m,\u001b[0m \u001b[0;34m\"rb\"\u001b[0m\u001b[0;34m)\u001b[0m\u001b[0;34m\u001b[0m\u001b[0;34m\u001b[0m\u001b[0m\n\u001b[0m\u001b[1;32m    110\u001b[0m             \u001b[0mself\u001b[0m\u001b[0;34m.\u001b[0m\u001b[0mfilename\u001b[0m \u001b[0;34m=\u001b[0m \u001b[0mfp\u001b[0m\u001b[0;34m\u001b[0m\u001b[0;34m\u001b[0m\u001b[0m\n\u001b[1;32m    111\u001b[0m             \u001b[0mself\u001b[0m\u001b[0;34m.\u001b[0m\u001b[0m_exclusive_fp\u001b[0m \u001b[0;34m=\u001b[0m \u001b[0;32mTrue\u001b[0m\u001b[0;34m\u001b[0m\u001b[0;34m\u001b[0m\u001b[0m\n",
      "\u001b[0;31mFileNotFoundError\u001b[0m: [Errno 2] No such file or directory: 'images/face_pics/None.png'"
     ]
    },
    {
     "data": {
      "image/png": "[encoded data removed]",
      "text/plain": [
       "<Figure size 1080x720 with 6 Axes>"
      ]
     },
     "metadata": {},
     "output_type": "display_data"
    }
   ],
   "source": [
    "# Set characters to an array of the names of the six main characters.\n",
    "characters = ['Monica Geller', 'Ross Geller', 'Rachel Green', 'Chandler Bing', 'Phoebe Buffay', 'Joey Tribbiani']\n",
    "\n",
    "dfs = {}\n",
    "for speaker in characters:\n",
    "    # Call your emotions_by_speaker function on each speaker, and save the result as dfs[speaker].\n",
    "    dfs[speaker] = emotions_by_speaker(speaker)\n",
    "\n",
    "def first_name(character):\n",
    "    # Return the first name of the input character's name, converted to lowercase.\n",
    "    # For example, RacheL Green -> rachel.\n",
    "    character.split(' ')[0].lower()\n",
    "\n",
    "fig, axes = plt.subplots(2, 3, figsize=(15, 10))\n",
    "axes = axes.flatten()\n",
    "\n",
    "max_height = max_width = 0\n",
    "for character in characters:\n",
    "    img = plt.imread(f'images/face_pics/{first_name(character)}.png')\n",
    "    h, w, _ = img.shape\n",
    "    max_height = max(max_height, h)\n",
    "    max_width = max(max_width, w)\n",
    "\n",
    "for ax, character in zip(axes, characters):\n",
    "    df = dfs[character]\n",
    "    pie, _, _ = ax.pie(df.get('probability'), labels=df.index, startangle=90, autopct='%1.1f%%', pctdistance=0.85, normalize=False)\n",
    "    ax.set_title(character)\n",
    "\n",
    "    img = plt.imread(f'images/face_pics/{first_name(character)}.png')\n",
    "\n",
    "    h, w, _ = img.shape\n",
    "    radius = min(h, w) // 2\n",
    "    y, x = np.ogrid[:h, :w]\n",
    "    mask = ((y - h // 2) ** 2 + (x - w // 2) ** 2) > radius ** 2\n",
    "    img[mask] = [1, 1, 1, 0]  \n",
    "\n",
    "    zoom_factor = max_height / h if h > w else max_width / w\n",
    "    imagebox = OffsetImage(img, zoom=zoom_factor * 0.43)\n",
    "    ab = AnnotationBbox(imagebox, (0.5, 0.5), frameon=False, pad=0, xycoords='axes fraction', boxcoords='axes fraction')\n",
    "    ax.add_artist(ab)\n",
    "\n",
    "plt.tight_layout()\n",
    "plt.show()"
   ]
  },
  {
   "cell_type": "code",
   "execution_count": 303,
   "id": "ba129f03",
   "metadata": {
    "deletable": false,
    "editable": false
   },
   "outputs": [
    {
     "data": {
      "text/html": [
       "<p><strong><pre style='display: inline;'>q4_8</pre></strong> passed!</p>"
      ],
      "text/plain": [
       "q4_8 results: All test cases passed!"
      ]
     },
     "execution_count": 303,
     "metadata": {},
     "output_type": "execute_result"
    }
   ],
   "source": [
    "grader.check(\"q4_8\")"
   ]
  },
  {
   "cell_type": "markdown",
   "id": "483fc4ba",
   "metadata": {},
   "source": [
    "This visualization will serve as a great template for the writers of the new reboot!"
   ]
  },
  {
   "cell_type": "markdown",
   "id": "143e1ad1",
   "metadata": {},
   "source": [
    "<a id='section5'></a>\n",
    "## Section 5: The One with the Spoilers 🙊\n",
    "\n",
    "<small>(<a href=\"#outline\">return to the outline</a>)</small>\n",
    "\n",
    "In this section, we will use permutation testing to compare different groups of episodes from *Friends* in terms of their viewership and ratings. This might help us make some decisions about what kinds of episodes our reboot should include to boost viewership and ratings! \n",
    "\n",
    "We'll start by looking at how earlier seasons of *Friends* (seasons 1-5) compared to later seasons (seasons 6-10) in terms of viewership. Check out the information you'll be working with in the `episodes` DataFrame:"
   ]
  },
  {
   "cell_type": "code",
   "execution_count": 79,
   "id": "8df81638",
   "metadata": {},
   "outputs": [
    {
     "data": {
      "text/html": [
       "<div>\n",
       "<style scoped>\n",
       "    .dataframe tbody tr th:only-of-type {\n",
       "        vertical-align: middle;\n",
       "    }\n",
       "\n",
       "    .dataframe tbody tr th {\n",
       "        vertical-align: top;\n",
       "    }\n",
       "\n",
       "    .dataframe thead th {\n",
       "        text-align: right;\n",
       "    }\n",
       "</style>\n",
       "<table border=\"1\" class=\"dataframe\">\n",
       "  <thead>\n",
       "    <tr style=\"text-align: right;\">\n",
       "      <th></th>\n",
       "      <th>season</th>\n",
       "      <th>episode</th>\n",
       "      <th>title</th>\n",
       "      <th>directed_by</th>\n",
       "      <th>written_by</th>\n",
       "      <th>air_date</th>\n",
       "      <th>us_views_millions</th>\n",
       "      <th>imdb_rating</th>\n",
       "    </tr>\n",
       "  </thead>\n",
       "  <tbody>\n",
       "    <tr>\n",
       "      <th>0</th>\n",
       "      <td>1</td>\n",
       "      <td>1</td>\n",
       "      <td>The Pilot</td>\n",
       "      <td>James Burrows</td>\n",
       "      <td>David Crane &amp; Marta Kauffman</td>\n",
       "      <td>9/22/94</td>\n",
       "      <td>21.50</td>\n",
       "      <td>8.3</td>\n",
       "    </tr>\n",
       "    <tr>\n",
       "      <th>1</th>\n",
       "      <td>1</td>\n",
       "      <td>2</td>\n",
       "      <td>The One with the Sonogram at the End</td>\n",
       "      <td>James Burrows</td>\n",
       "      <td>David Crane &amp; Marta Kauffman</td>\n",
       "      <td>9/29/94</td>\n",
       "      <td>20.20</td>\n",
       "      <td>8.1</td>\n",
       "    </tr>\n",
       "    <tr>\n",
       "      <th>2</th>\n",
       "      <td>1</td>\n",
       "      <td>3</td>\n",
       "      <td>The One with the Thumb</td>\n",
       "      <td>James Burrows</td>\n",
       "      <td>Jeffrey Astrof &amp; Mike Sikowitz</td>\n",
       "      <td>10/6/94</td>\n",
       "      <td>19.50</td>\n",
       "      <td>8.2</td>\n",
       "    </tr>\n",
       "    <tr>\n",
       "      <th>3</th>\n",
       "      <td>1</td>\n",
       "      <td>4</td>\n",
       "      <td>The One with George Stephanopoulos</td>\n",
       "      <td>James Burrows</td>\n",
       "      <td>Alexa Junge</td>\n",
       "      <td>10/13/94</td>\n",
       "      <td>19.70</td>\n",
       "      <td>8.1</td>\n",
       "    </tr>\n",
       "    <tr>\n",
       "      <th>4</th>\n",
       "      <td>1</td>\n",
       "      <td>5</td>\n",
       "      <td>The One with the East German Laundry Detergent</td>\n",
       "      <td>Pamela Fryman</td>\n",
       "      <td>Jeff Greenstein &amp; Jeff Strauss</td>\n",
       "      <td>10/20/94</td>\n",
       "      <td>18.60</td>\n",
       "      <td>8.5</td>\n",
       "    </tr>\n",
       "    <tr>\n",
       "      <th>...</th>\n",
       "      <td>...</td>\n",
       "      <td>...</td>\n",
       "      <td>...</td>\n",
       "      <td>...</td>\n",
       "      <td>...</td>\n",
       "      <td>...</td>\n",
       "      <td>...</td>\n",
       "      <td>...</td>\n",
       "    </tr>\n",
       "    <tr>\n",
       "      <th>231</th>\n",
       "      <td>10</td>\n",
       "      <td>14</td>\n",
       "      <td>The One with Princess Consuela</td>\n",
       "      <td>Gary Halvorson</td>\n",
       "      <td>Story by: Robert CarlockTeleplay by: Tracy Reilly</td>\n",
       "      <td>2/26/04</td>\n",
       "      <td>22.83</td>\n",
       "      <td>8.6</td>\n",
       "    </tr>\n",
       "    <tr>\n",
       "      <th>232</th>\n",
       "      <td>10</td>\n",
       "      <td>15</td>\n",
       "      <td>The One Where Estelle Dies</td>\n",
       "      <td>Gary Halvorson</td>\n",
       "      <td>Story by: Mark KunerthTeleplay by: David Crane...</td>\n",
       "      <td>4/22/04</td>\n",
       "      <td>22.64</td>\n",
       "      <td>8.5</td>\n",
       "    </tr>\n",
       "    <tr>\n",
       "      <th>233</th>\n",
       "      <td>10</td>\n",
       "      <td>16</td>\n",
       "      <td>The One with Rachel's Going Away Party</td>\n",
       "      <td>Gary Halvorson</td>\n",
       "      <td>Andrew Reich &amp; Ted Cohen</td>\n",
       "      <td>4/29/04</td>\n",
       "      <td>24.51</td>\n",
       "      <td>8.9</td>\n",
       "    </tr>\n",
       "    <tr>\n",
       "      <th>234</th>\n",
       "      <td>10</td>\n",
       "      <td>17</td>\n",
       "      <td>The Last One</td>\n",
       "      <td>Kevin S. Bright</td>\n",
       "      <td>Marta Kauffman &amp; David Crane</td>\n",
       "      <td>5/6/04</td>\n",
       "      <td>52.46</td>\n",
       "      <td>9.7</td>\n",
       "    </tr>\n",
       "    <tr>\n",
       "      <th>235</th>\n",
       "      <td>10</td>\n",
       "      <td>18</td>\n",
       "      <td>The Last One</td>\n",
       "      <td>Kevin S. Bright</td>\n",
       "      <td>Marta Kauffman &amp; David Crane</td>\n",
       "      <td>5/6/04</td>\n",
       "      <td>52.46</td>\n",
       "      <td>9.7</td>\n",
       "    </tr>\n",
       "  </tbody>\n",
       "</table>\n",
       "<p>236 rows × 8 columns</p>\n",
       "</div>"
      ],
      "text/plain": [
       "     season  episode                                           title  \\\n",
       "0         1        1                                       The Pilot   \n",
       "1         1        2            The One with the Sonogram at the End   \n",
       "2         1        3                          The One with the Thumb   \n",
       "3         1        4              The One with George Stephanopoulos   \n",
       "4         1        5  The One with the East German Laundry Detergent   \n",
       "..      ...      ...                                             ...   \n",
       "231      10       14                  The One with Princess Consuela   \n",
       "232      10       15                      The One Where Estelle Dies   \n",
       "233      10       16          The One with Rachel's Going Away Party   \n",
       "234      10       17                                    The Last One   \n",
       "235      10       18                                    The Last One   \n",
       "\n",
       "         directed_by                                         written_by  \\\n",
       "0      James Burrows                       David Crane & Marta Kauffman   \n",
       "1      James Burrows                       David Crane & Marta Kauffman   \n",
       "2      James Burrows                     Jeffrey Astrof & Mike Sikowitz   \n",
       "3      James Burrows                                        Alexa Junge   \n",
       "4      Pamela Fryman                     Jeff Greenstein & Jeff Strauss   \n",
       "..               ...                                                ...   \n",
       "231   Gary Halvorson  Story by: Robert CarlockTeleplay by: Tracy Reilly   \n",
       "232   Gary Halvorson  Story by: Mark KunerthTeleplay by: David Crane...   \n",
       "233   Gary Halvorson                           Andrew Reich & Ted Cohen   \n",
       "234  Kevin S. Bright                       Marta Kauffman & David Crane   \n",
       "235  Kevin S. Bright                       Marta Kauffman & David Crane   \n",
       "\n",
       "     air_date  us_views_millions  imdb_rating  \n",
       "0     9/22/94              21.50          8.3  \n",
       "1     9/29/94              20.20          8.1  \n",
       "2     10/6/94              19.50          8.2  \n",
       "3    10/13/94              19.70          8.1  \n",
       "4    10/20/94              18.60          8.5  \n",
       "..        ...                ...          ...  \n",
       "231   2/26/04              22.83          8.6  \n",
       "232   4/22/04              22.64          8.5  \n",
       "233   4/29/04              24.51          8.9  \n",
       "234    5/6/04              52.46          9.7  \n",
       "235    5/6/04              52.46          9.7  \n",
       "\n",
       "[236 rows x 8 columns]"
      ]
     },
     "execution_count": 79,
     "metadata": {},
     "output_type": "execute_result"
    }
   ],
   "source": [
    "episodes"
   ]
  },
  {
   "cell_type": "markdown",
   "id": "da0edee4",
   "metadata": {},
   "source": [
    "You'll notice that we have data about viewership and rating for 236 episodes (10 seasons). Let's start by labeling the episodes in `episodes` to make it easier to answer our question: \n",
    "> *Which half of the show has more viewers?*\n",
    "\n",
    "**Question 5.1.** Create a DataFrame called `halves` which has the same data as `episodes` and an additional column called `'which_half'`. In this column, values should be either `'first half'` (for seasons 1-5) or `'second half'` (for seasons 6-10)."
   ]
  },
  {
   "cell_type": "code",
   "execution_count": 80,
   "id": "7cf71a59",
   "metadata": {
    "scrolled": true
   },
   "outputs": [
    {
     "data": {
      "text/html": [
       "<div>\n",
       "<style scoped>\n",
       "    .dataframe tbody tr th:only-of-type {\n",
       "        vertical-align: middle;\n",
       "    }\n",
       "\n",
       "    .dataframe tbody tr th {\n",
       "        vertical-align: top;\n",
       "    }\n",
       "\n",
       "    .dataframe thead th {\n",
       "        text-align: right;\n",
       "    }\n",
       "</style>\n",
       "<table border=\"1\" class=\"dataframe\">\n",
       "  <thead>\n",
       "    <tr style=\"text-align: right;\">\n",
       "      <th></th>\n",
       "      <th>season</th>\n",
       "      <th>episode</th>\n",
       "      <th>title</th>\n",
       "      <th>directed_by</th>\n",
       "      <th>written_by</th>\n",
       "      <th>air_date</th>\n",
       "      <th>us_views_millions</th>\n",
       "      <th>imdb_rating</th>\n",
       "      <th>which_half</th>\n",
       "    </tr>\n",
       "  </thead>\n",
       "  <tbody>\n",
       "    <tr>\n",
       "      <th>0</th>\n",
       "      <td>1</td>\n",
       "      <td>1</td>\n",
       "      <td>The Pilot</td>\n",
       "      <td>James Burrows</td>\n",
       "      <td>David Crane &amp; Marta Kauffman</td>\n",
       "      <td>9/22/94</td>\n",
       "      <td>21.50</td>\n",
       "      <td>8.3</td>\n",
       "      <td>first half</td>\n",
       "    </tr>\n",
       "    <tr>\n",
       "      <th>1</th>\n",
       "      <td>1</td>\n",
       "      <td>2</td>\n",
       "      <td>The One with the Sonogram at the End</td>\n",
       "      <td>James Burrows</td>\n",
       "      <td>David Crane &amp; Marta Kauffman</td>\n",
       "      <td>9/29/94</td>\n",
       "      <td>20.20</td>\n",
       "      <td>8.1</td>\n",
       "      <td>first half</td>\n",
       "    </tr>\n",
       "    <tr>\n",
       "      <th>2</th>\n",
       "      <td>1</td>\n",
       "      <td>3</td>\n",
       "      <td>The One with the Thumb</td>\n",
       "      <td>James Burrows</td>\n",
       "      <td>Jeffrey Astrof &amp; Mike Sikowitz</td>\n",
       "      <td>10/6/94</td>\n",
       "      <td>19.50</td>\n",
       "      <td>8.2</td>\n",
       "      <td>first half</td>\n",
       "    </tr>\n",
       "    <tr>\n",
       "      <th>3</th>\n",
       "      <td>1</td>\n",
       "      <td>4</td>\n",
       "      <td>The One with George Stephanopoulos</td>\n",
       "      <td>James Burrows</td>\n",
       "      <td>Alexa Junge</td>\n",
       "      <td>10/13/94</td>\n",
       "      <td>19.70</td>\n",
       "      <td>8.1</td>\n",
       "      <td>first half</td>\n",
       "    </tr>\n",
       "    <tr>\n",
       "      <th>4</th>\n",
       "      <td>1</td>\n",
       "      <td>5</td>\n",
       "      <td>The One with the East German Laundry Detergent</td>\n",
       "      <td>Pamela Fryman</td>\n",
       "      <td>Jeff Greenstein &amp; Jeff Strauss</td>\n",
       "      <td>10/20/94</td>\n",
       "      <td>18.60</td>\n",
       "      <td>8.5</td>\n",
       "      <td>first half</td>\n",
       "    </tr>\n",
       "    <tr>\n",
       "      <th>...</th>\n",
       "      <td>...</td>\n",
       "      <td>...</td>\n",
       "      <td>...</td>\n",
       "      <td>...</td>\n",
       "      <td>...</td>\n",
       "      <td>...</td>\n",
       "      <td>...</td>\n",
       "      <td>...</td>\n",
       "      <td>...</td>\n",
       "    </tr>\n",
       "    <tr>\n",
       "      <th>231</th>\n",
       "      <td>10</td>\n",
       "      <td>14</td>\n",
       "      <td>The One with Princess Consuela</td>\n",
       "      <td>Gary Halvorson</td>\n",
       "      <td>Story by: Robert CarlockTeleplay by: Tracy Reilly</td>\n",
       "      <td>2/26/04</td>\n",
       "      <td>22.83</td>\n",
       "      <td>8.6</td>\n",
       "      <td>second half</td>\n",
       "    </tr>\n",
       "    <tr>\n",
       "      <th>232</th>\n",
       "      <td>10</td>\n",
       "      <td>15</td>\n",
       "      <td>The One Where Estelle Dies</td>\n",
       "      <td>Gary Halvorson</td>\n",
       "      <td>Story by: Mark KunerthTeleplay by: David Crane...</td>\n",
       "      <td>4/22/04</td>\n",
       "      <td>22.64</td>\n",
       "      <td>8.5</td>\n",
       "      <td>second half</td>\n",
       "    </tr>\n",
       "    <tr>\n",
       "      <th>233</th>\n",
       "      <td>10</td>\n",
       "      <td>16</td>\n",
       "      <td>The One with Rachel's Going Away Party</td>\n",
       "      <td>Gary Halvorson</td>\n",
       "      <td>Andrew Reich &amp; Ted Cohen</td>\n",
       "      <td>4/29/04</td>\n",
       "      <td>24.51</td>\n",
       "      <td>8.9</td>\n",
       "      <td>second half</td>\n",
       "    </tr>\n",
       "    <tr>\n",
       "      <th>234</th>\n",
       "      <td>10</td>\n",
       "      <td>17</td>\n",
       "      <td>The Last One</td>\n",
       "      <td>Kevin S. Bright</td>\n",
       "      <td>Marta Kauffman &amp; David Crane</td>\n",
       "      <td>5/6/04</td>\n",
       "      <td>52.46</td>\n",
       "      <td>9.7</td>\n",
       "      <td>second half</td>\n",
       "    </tr>\n",
       "    <tr>\n",
       "      <th>235</th>\n",
       "      <td>10</td>\n",
       "      <td>18</td>\n",
       "      <td>The Last One</td>\n",
       "      <td>Kevin S. Bright</td>\n",
       "      <td>Marta Kauffman &amp; David Crane</td>\n",
       "      <td>5/6/04</td>\n",
       "      <td>52.46</td>\n",
       "      <td>9.7</td>\n",
       "      <td>second half</td>\n",
       "    </tr>\n",
       "  </tbody>\n",
       "</table>\n",
       "<p>236 rows × 9 columns</p>\n",
       "</div>"
      ],
      "text/plain": [
       "     season  episode                                           title  \\\n",
       "0         1        1                                       The Pilot   \n",
       "1         1        2            The One with the Sonogram at the End   \n",
       "2         1        3                          The One with the Thumb   \n",
       "3         1        4              The One with George Stephanopoulos   \n",
       "4         1        5  The One with the East German Laundry Detergent   \n",
       "..      ...      ...                                             ...   \n",
       "231      10       14                  The One with Princess Consuela   \n",
       "232      10       15                      The One Where Estelle Dies   \n",
       "233      10       16          The One with Rachel's Going Away Party   \n",
       "234      10       17                                    The Last One   \n",
       "235      10       18                                    The Last One   \n",
       "\n",
       "         directed_by                                         written_by  \\\n",
       "0      James Burrows                       David Crane & Marta Kauffman   \n",
       "1      James Burrows                       David Crane & Marta Kauffman   \n",
       "2      James Burrows                     Jeffrey Astrof & Mike Sikowitz   \n",
       "3      James Burrows                                        Alexa Junge   \n",
       "4      Pamela Fryman                     Jeff Greenstein & Jeff Strauss   \n",
       "..               ...                                                ...   \n",
       "231   Gary Halvorson  Story by: Robert CarlockTeleplay by: Tracy Reilly   \n",
       "232   Gary Halvorson  Story by: Mark KunerthTeleplay by: David Crane...   \n",
       "233   Gary Halvorson                           Andrew Reich & Ted Cohen   \n",
       "234  Kevin S. Bright                       Marta Kauffman & David Crane   \n",
       "235  Kevin S. Bright                       Marta Kauffman & David Crane   \n",
       "\n",
       "     air_date  us_views_millions  imdb_rating   which_half  \n",
       "0     9/22/94              21.50          8.3   first half  \n",
       "1     9/29/94              20.20          8.1   first half  \n",
       "2     10/6/94              19.50          8.2   first half  \n",
       "3    10/13/94              19.70          8.1   first half  \n",
       "4    10/20/94              18.60          8.5   first half  \n",
       "..        ...                ...          ...          ...  \n",
       "231   2/26/04              22.83          8.6  second half  \n",
       "232   4/22/04              22.64          8.5  second half  \n",
       "233   4/29/04              24.51          8.9  second half  \n",
       "234    5/6/04              52.46          9.7  second half  \n",
       "235    5/6/04              52.46          9.7  second half  \n",
       "\n",
       "[236 rows x 9 columns]"
      ]
     },
     "execution_count": 80,
     "metadata": {},
     "output_type": "execute_result"
    }
   ],
   "source": [
    "def label_season(season):\n",
    "    if season in [1, 2, 3, 4, 5]:\n",
    "        return 'first half'\n",
    "    elif season in [6, 7, 8, 9, 10]:\n",
    "        return 'second half'\n",
    "\n",
    "halves = episodes.assign(which_half=episodes.get('season').apply(label_season))\n",
    "halves"
   ]
  },
  {
   "cell_type": "code",
   "execution_count": 81,
   "id": "48236e5f",
   "metadata": {
    "deletable": false,
    "editable": false
   },
   "outputs": [
    {
     "data": {
      "text/html": [
       "<p><strong><pre style='display: inline;'>q5_1</pre></strong> passed!</p>"
      ],
      "text/plain": [
       "q5_1 results: All test cases passed!"
      ]
     },
     "execution_count": 81,
     "metadata": {},
     "output_type": "execute_result"
    }
   ],
   "source": [
    "grader.check(\"q5_1\")"
   ]
  },
  {
   "cell_type": "markdown",
   "id": "9dc6123d",
   "metadata": {},
   "source": [
    "**Question 5.2.** Before we start permutation testing, let's visualize the difference in viewership between the first half and second half of *Friends* episodes. Create an overlaid density histogram that compares the distribution of `'us_views_millions'` for first half episodes with that of second half episodes. Add a title, legend, and appropriate axis labels to your plot.\n",
    "\n",
    "Then, assign the difference in **average** viewership (in millions) between the two groups to the variable <code>view_difference</code>. Here, `view_difference` should represent how much **greater** the first half viewership is than the second half, on average.\n",
    "\n",
    "***Hint:***  Refer to the smoking and birth weight example in [Lecture 22](https://dsc10.com/resources/lectures/lec22/lec22.html#Visualizing-the-distribution-of-each-group) for help creating the overlaid histogram! Think about what bin size is best suited to show the differences between these two distributions. You might want to tweak the bins until the differences become clearer. "
   ]
  },
  {
   "cell_type": "markdown",
   "id": "ce842b30",
   "metadata": {
    "deletable": false,
    "editable": false
   },
   "source": [
    "<!-- BEGIN QUESTION -->\n",
    "\n",
    "<!--\n",
    "BEGIN QUESTION\n",
    "name: q5_2\n",
    "points: 1\n",
    "manual: True\n",
    "-->"
   ]
  },
  {
   "cell_type": "code",
   "execution_count": 305,
   "id": "c1905c2d",
   "metadata": {},
   "outputs": [
    {
     "data": {
      "text/plain": [
       "2.322696370822854"
      ]
     },
     "execution_count": 305,
     "metadata": {},
     "output_type": "execute_result"
    },
    {
     "data": {
      "image/png": "[encoded data removed]",
      "text/plain": [
       "<Figure size 720x360 with 1 Axes>"
      ]
     },
     "metadata": {},
     "output_type": "display_data"
    }
   ],
   "source": [
    "first_halfv = halves[halves.get('which_half') == 'first half'].get('us_views_millions')\n",
    "second_halfv = halves[halves.get('which_half') == 'second half'].get('us_views_millions')\n",
    "plt.figure(figsize=(10, 5))\n",
    "plt.hist(first_halfv, bins=20, density=True, alpha=0.5, label='First Half Views')\n",
    "plt.hist(second_halfv, bins=20, density=True, alpha=0.5, label='Second Half Views')\n",
    "plt.title(\"Density Histogram of Viewership for First and Second Half Episodes of Friends\")\n",
    "plt.xlabel(\"Viewership (millions)\")\n",
    "plt.ylabel(\"Density\")\n",
    "plt.legend()\n",
    "\n",
    "view_difference = first_halfv.mean() - second_halfv.mean()\n",
    "view_difference"
   ]
  },
  {
   "cell_type": "code",
   "execution_count": 83,
   "id": "613b88fa",
   "metadata": {
    "deletable": false,
    "editable": false
   },
   "outputs": [
    {
     "data": {
      "text/html": [
       "<p><strong><pre style='display: inline;'>q5_2</pre></strong> passed!</p>"
      ],
      "text/plain": [
       "q5_2 results: All test cases passed!"
      ]
     },
     "execution_count": 83,
     "metadata": {},
     "output_type": "execute_result"
    }
   ],
   "source": [
    "grader.check(\"q5_2\")"
   ]
  },
  {
   "cell_type": "markdown",
   "id": "cd904ca8",
   "metadata": {},
   "source": [
    "<!-- END QUESTION -->\n",
    "\n",
    "\n",
    "\n",
    "You should see that viewership was higher in the first half of *Friends* than in the second. Is this difference significant or was it just by chance? Let's perform a permutation test to find out.\n",
    "\n",
    "**Question 5.3.** ⭐⭐ Let's clean up our DataFrame to focus only on the columns `'us_views_millions'` and `'which_half'`. To start, create a DataFrame <code>'views_by_group'</code> that only includes these two columns from `halves`. \n",
    "\n",
    "We would like to know whether the first half of episodes had significantly **more** viewership than the second half on average. Think about what your null and alternative hypotheses would be to answer this question. \n",
    "\n",
    "In the previous question, you computed the *observed statistic*, the average number of views by which the first half exceeds the second half. Perform a permutation test, simulating 1000 differences and storing them in the array <code>simulated_differences</code>. \n",
    "\n",
    "Once you're done, generate a density histogram of the simulated differences, which also shows your observed statistic for comparison. See [Lecture 19](https://dsc10.com/resources/lectures/lec19/lec19.html#Step-3-%E2%80%93-Visualize-the-resulting-distribution) for an example of the type of plot you'll need to create."
   ]
  },
  {
   "cell_type": "code",
   "execution_count": 87,
   "id": "d491de3c",
   "metadata": {
    "scrolled": true
   },
   "outputs": [
    {
     "data": {
      "image/png": "[encoded data removed]",
      "text/plain": [
       "<Figure size 720x360 with 1 Axes>"
      ]
     },
     "metadata": {},
     "output_type": "display_data"
    }
   ],
   "source": [
    "views_by_group = halves.drop(columns=['season', 'episode', 'title','directed_by', 'written_by', 'air_date', 'imdb_rating'])\n",
    "simulated_differences = []\n",
    "\n",
    "for i in range(1000):\n",
    "    shuffled_half = np.random.permutation(views_by_group.get('which_half'))\n",
    "    views_by_groupx = views_by_group.assign(shuffled_half=shuffled_half)\n",
    "    shuffled_means = views_by_groupx.groupby('shuffled_half').mean().get('us_views_millions')\n",
    "    simulated_difference = shuffled_means.iloc[0] - shuffled_means.iloc[1]\n",
    "    simulated_differences.append(simulated_difference)\n",
    "simulated_differences = np.array(simulated_differences)\n",
    "bpd.DataFrame().assign(Simulated_Differences=simulated_differences).plot(kind='hist', bins=20, density=True, ec='w', figsize=(10, 5), title='Distribution of Simulated Differences')\n",
    "plt.legend();"
   ]
  },
  {
   "cell_type": "code",
   "execution_count": 88,
   "id": "ab56f37a",
   "metadata": {
    "deletable": false,
    "editable": false
   },
   "outputs": [
    {
     "data": {
      "text/html": [
       "<p><strong><pre style='display: inline;'>q5_3</pre></strong> passed!</p>"
      ],
      "text/plain": [
       "q5_3 results: All test cases passed!"
      ]
     },
     "execution_count": 88,
     "metadata": {},
     "output_type": "execute_result"
    }
   ],
   "source": [
    "grader.check(\"q5_3\")"
   ]
  },
  {
   "cell_type": "markdown",
   "id": "0d6cca3e",
   "metadata": {},
   "source": [
    "**Question 5.4.** Calculate a p-value for this permutation test using the observed statistic and the simulated differences, and assign the result to `p_halves`. Then, interpret these results at the 0.05 significance level by assigning <code>True</code> to the variable <code>significant_difference</code> if you believe we can **reject** the null hypothesis and <code>False</code> otherwise."
   ]
  },
  {
   "cell_type": "code",
   "execution_count": 89,
   "id": "f4584b66",
   "metadata": {},
   "outputs": [
    {
     "data": {
      "text/plain": [
       "2.3226963708228503"
      ]
     },
     "execution_count": 89,
     "metadata": {},
     "output_type": "execute_result"
    }
   ],
   "source": [
    "observed_difference = views_by_group.groupby('which_half').mean().get('us_views_millions').iloc[0] - views_by_group.groupby('which_half').mean().get('us_views_millions').iloc[1]\n",
    "observed_difference"
   ]
  },
  {
   "cell_type": "code",
   "execution_count": 306,
   "id": "defb7988",
   "metadata": {
    "scrolled": true
   },
   "outputs": [
    {
     "data": {
      "text/plain": [
       "0.0"
      ]
     },
     "execution_count": 306,
     "metadata": {},
     "output_type": "execute_result"
    }
   ],
   "source": [
    "p_halves = np.mean(simulated_differences >= observed_difference)\n",
    "p_halves"
   ]
  },
  {
   "cell_type": "code",
   "execution_count": 307,
   "id": "0cd73d46",
   "metadata": {
    "deletable": false,
    "editable": false
   },
   "outputs": [
    {
     "data": {
      "text/html": [
       "<p><strong><pre style='display: inline;'>q5_4_a</pre></strong> passed!</p>"
      ],
      "text/plain": [
       "q5_4_a results: All test cases passed!"
      ]
     },
     "execution_count": 307,
     "metadata": {},
     "output_type": "execute_result"
    }
   ],
   "source": [
    "grader.check(\"q5_4_a\")"
   ]
  },
  {
   "cell_type": "code",
   "execution_count": 308,
   "id": "ccd8bcf1",
   "metadata": {},
   "outputs": [
    {
     "data": {
      "text/plain": [
       "True"
      ]
     },
     "execution_count": 308,
     "metadata": {},
     "output_type": "execute_result"
    }
   ],
   "source": [
    "significant_difference = True\n",
    "significant_difference"
   ]
  },
  {
   "cell_type": "code",
   "execution_count": 309,
   "id": "9300b003",
   "metadata": {
    "deletable": false,
    "editable": false,
    "scrolled": true
   },
   "outputs": [
    {
     "data": {
      "text/html": [
       "<p><strong><pre style='display: inline;'>q5_4_b</pre></strong> passed!</p>"
      ],
      "text/plain": [
       "q5_4_b results: All test cases passed!"
      ]
     },
     "execution_count": 309,
     "metadata": {},
     "output_type": "execute_result"
    }
   ],
   "source": [
    "grader.check(\"q5_4_b\")"
   ]
  },
  {
   "cell_type": "markdown",
   "id": "f57598f3",
   "metadata": {},
   "source": [
    "We've answered our first question with permutation testing, which helped us figure out whether there was a significant difference in viewership between two groups of episodes. We can use this insight when determining how many episodes our reboot should have. We'll explore the length of our reboot more in Section 7 of this project.\n",
    "\n",
    "Now, let's ask a different question that can be solved by the same tools: \n",
    "> *Do people prefer episodes where at least two of the main characters are in a romantic relationship over episodes where there aren't any couples?*"
   ]
  },
  {
   "cell_type": "markdown",
   "id": "19b4bc41",
   "metadata": {},
   "source": [
    "First, we need to label which episodes have an ongoing romantic relationship. \n",
    "\n",
    "<b><font color='red'>⚠ Spoiler alert! ⚠</font></b>\n",
    "\n",
    "In the show, there are two couples that each date for a period of time. \n",
    " - Ross and Rachel are in a relationship from Season 2, Episode 14 to Season 3, Episode 15, inclusive.\n",
    " - Monica and Chandler are in a relationship from Season 4, Episode 24 to Season 10, Episode 18, inclusive, which is through the end of the show.\n",
    " \n",
    "**Question 5.5.** ⭐⭐ Create a new DataFrame called `relationship` that has the same information as `episodes` and an additional column called `'couple'` that contains `True` if the episode falls in one of the intervals mentioned above, and `False` otherwise. \n",
    "\n",
    "***Hints:*** \n",
    "- To solve this problem with `apply`, you need to get around the limitation that you can only `apply` a function of one parameter. Consider writing a function that takes strings of the form `'x,y'` where `x` represents the season number and `y` represents the episode number.\n",
    "- It is also possible to solve this problem without using `apply`. For a challenge, try both ways and see which way is simpler!"
   ]
  },
  {
   "cell_type": "code",
   "execution_count": 94,
   "id": "603c70d3",
   "metadata": {},
   "outputs": [
    {
     "data": {
      "text/html": [
       "<div>\n",
       "<style scoped>\n",
       "    .dataframe tbody tr th:only-of-type {\n",
       "        vertical-align: middle;\n",
       "    }\n",
       "\n",
       "    .dataframe tbody tr th {\n",
       "        vertical-align: top;\n",
       "    }\n",
       "\n",
       "    .dataframe thead th {\n",
       "        text-align: right;\n",
       "    }\n",
       "</style>\n",
       "<table border=\"1\" class=\"dataframe\">\n",
       "  <thead>\n",
       "    <tr style=\"text-align: right;\">\n",
       "      <th></th>\n",
       "      <th>season</th>\n",
       "      <th>episode</th>\n",
       "      <th>title</th>\n",
       "      <th>directed_by</th>\n",
       "      <th>written_by</th>\n",
       "      <th>air_date</th>\n",
       "      <th>us_views_millions</th>\n",
       "      <th>imdb_rating</th>\n",
       "      <th>couple</th>\n",
       "    </tr>\n",
       "  </thead>\n",
       "  <tbody>\n",
       "    <tr>\n",
       "      <th>0</th>\n",
       "      <td>1</td>\n",
       "      <td>1</td>\n",
       "      <td>The Pilot</td>\n",
       "      <td>James Burrows</td>\n",
       "      <td>David Crane &amp; Marta Kauffman</td>\n",
       "      <td>9/22/94</td>\n",
       "      <td>21.50</td>\n",
       "      <td>8.3</td>\n",
       "      <td>False</td>\n",
       "    </tr>\n",
       "    <tr>\n",
       "      <th>1</th>\n",
       "      <td>1</td>\n",
       "      <td>2</td>\n",
       "      <td>The One with the Sonogram at the End</td>\n",
       "      <td>James Burrows</td>\n",
       "      <td>David Crane &amp; Marta Kauffman</td>\n",
       "      <td>9/29/94</td>\n",
       "      <td>20.20</td>\n",
       "      <td>8.1</td>\n",
       "      <td>False</td>\n",
       "    </tr>\n",
       "    <tr>\n",
       "      <th>2</th>\n",
       "      <td>1</td>\n",
       "      <td>3</td>\n",
       "      <td>The One with the Thumb</td>\n",
       "      <td>James Burrows</td>\n",
       "      <td>Jeffrey Astrof &amp; Mike Sikowitz</td>\n",
       "      <td>10/6/94</td>\n",
       "      <td>19.50</td>\n",
       "      <td>8.2</td>\n",
       "      <td>False</td>\n",
       "    </tr>\n",
       "    <tr>\n",
       "      <th>3</th>\n",
       "      <td>1</td>\n",
       "      <td>4</td>\n",
       "      <td>The One with George Stephanopoulos</td>\n",
       "      <td>James Burrows</td>\n",
       "      <td>Alexa Junge</td>\n",
       "      <td>10/13/94</td>\n",
       "      <td>19.70</td>\n",
       "      <td>8.1</td>\n",
       "      <td>False</td>\n",
       "    </tr>\n",
       "    <tr>\n",
       "      <th>4</th>\n",
       "      <td>1</td>\n",
       "      <td>5</td>\n",
       "      <td>The One with the East German Laundry Detergent</td>\n",
       "      <td>Pamela Fryman</td>\n",
       "      <td>Jeff Greenstein &amp; Jeff Strauss</td>\n",
       "      <td>10/20/94</td>\n",
       "      <td>18.60</td>\n",
       "      <td>8.5</td>\n",
       "      <td>False</td>\n",
       "    </tr>\n",
       "    <tr>\n",
       "      <th>...</th>\n",
       "      <td>...</td>\n",
       "      <td>...</td>\n",
       "      <td>...</td>\n",
       "      <td>...</td>\n",
       "      <td>...</td>\n",
       "      <td>...</td>\n",
       "      <td>...</td>\n",
       "      <td>...</td>\n",
       "      <td>...</td>\n",
       "    </tr>\n",
       "    <tr>\n",
       "      <th>231</th>\n",
       "      <td>10</td>\n",
       "      <td>14</td>\n",
       "      <td>The One with Princess Consuela</td>\n",
       "      <td>Gary Halvorson</td>\n",
       "      <td>Story by: Robert CarlockTeleplay by: Tracy Reilly</td>\n",
       "      <td>2/26/04</td>\n",
       "      <td>22.83</td>\n",
       "      <td>8.6</td>\n",
       "      <td>True</td>\n",
       "    </tr>\n",
       "    <tr>\n",
       "      <th>232</th>\n",
       "      <td>10</td>\n",
       "      <td>15</td>\n",
       "      <td>The One Where Estelle Dies</td>\n",
       "      <td>Gary Halvorson</td>\n",
       "      <td>Story by: Mark KunerthTeleplay by: David Crane...</td>\n",
       "      <td>4/22/04</td>\n",
       "      <td>22.64</td>\n",
       "      <td>8.5</td>\n",
       "      <td>True</td>\n",
       "    </tr>\n",
       "    <tr>\n",
       "      <th>233</th>\n",
       "      <td>10</td>\n",
       "      <td>16</td>\n",
       "      <td>The One with Rachel's Going Away Party</td>\n",
       "      <td>Gary Halvorson</td>\n",
       "      <td>Andrew Reich &amp; Ted Cohen</td>\n",
       "      <td>4/29/04</td>\n",
       "      <td>24.51</td>\n",
       "      <td>8.9</td>\n",
       "      <td>True</td>\n",
       "    </tr>\n",
       "    <tr>\n",
       "      <th>234</th>\n",
       "      <td>10</td>\n",
       "      <td>17</td>\n",
       "      <td>The Last One</td>\n",
       "      <td>Kevin S. Bright</td>\n",
       "      <td>Marta Kauffman &amp; David Crane</td>\n",
       "      <td>5/6/04</td>\n",
       "      <td>52.46</td>\n",
       "      <td>9.7</td>\n",
       "      <td>True</td>\n",
       "    </tr>\n",
       "    <tr>\n",
       "      <th>235</th>\n",
       "      <td>10</td>\n",
       "      <td>18</td>\n",
       "      <td>The Last One</td>\n",
       "      <td>Kevin S. Bright</td>\n",
       "      <td>Marta Kauffman &amp; David Crane</td>\n",
       "      <td>5/6/04</td>\n",
       "      <td>52.46</td>\n",
       "      <td>9.7</td>\n",
       "      <td>True</td>\n",
       "    </tr>\n",
       "  </tbody>\n",
       "</table>\n",
       "<p>236 rows × 9 columns</p>\n",
       "</div>"
      ],
      "text/plain": [
       "     season  episode                                           title  \\\n",
       "0         1        1                                       The Pilot   \n",
       "1         1        2            The One with the Sonogram at the End   \n",
       "2         1        3                          The One with the Thumb   \n",
       "3         1        4              The One with George Stephanopoulos   \n",
       "4         1        5  The One with the East German Laundry Detergent   \n",
       "..      ...      ...                                             ...   \n",
       "231      10       14                  The One with Princess Consuela   \n",
       "232      10       15                      The One Where Estelle Dies   \n",
       "233      10       16          The One with Rachel's Going Away Party   \n",
       "234      10       17                                    The Last One   \n",
       "235      10       18                                    The Last One   \n",
       "\n",
       "         directed_by                                         written_by  \\\n",
       "0      James Burrows                       David Crane & Marta Kauffman   \n",
       "1      James Burrows                       David Crane & Marta Kauffman   \n",
       "2      James Burrows                     Jeffrey Astrof & Mike Sikowitz   \n",
       "3      James Burrows                                        Alexa Junge   \n",
       "4      Pamela Fryman                     Jeff Greenstein & Jeff Strauss   \n",
       "..               ...                                                ...   \n",
       "231   Gary Halvorson  Story by: Robert CarlockTeleplay by: Tracy Reilly   \n",
       "232   Gary Halvorson  Story by: Mark KunerthTeleplay by: David Crane...   \n",
       "233   Gary Halvorson                           Andrew Reich & Ted Cohen   \n",
       "234  Kevin S. Bright                       Marta Kauffman & David Crane   \n",
       "235  Kevin S. Bright                       Marta Kauffman & David Crane   \n",
       "\n",
       "     air_date  us_views_millions  imdb_rating  couple  \n",
       "0     9/22/94              21.50          8.3   False  \n",
       "1     9/29/94              20.20          8.1   False  \n",
       "2     10/6/94              19.50          8.2   False  \n",
       "3    10/13/94              19.70          8.1   False  \n",
       "4    10/20/94              18.60          8.5   False  \n",
       "..        ...                ...          ...     ...  \n",
       "231   2/26/04              22.83          8.6    True  \n",
       "232   4/22/04              22.64          8.5    True  \n",
       "233   4/29/04              24.51          8.9    True  \n",
       "234    5/6/04              52.46          9.7    True  \n",
       "235    5/6/04              52.46          9.7    True  \n",
       "\n",
       "[236 rows x 9 columns]"
      ]
     },
     "execution_count": 94,
     "metadata": {},
     "output_type": "execute_result"
    }
   ],
   "source": [
    "def label_couple(row):\n",
    "    season = row['season']\n",
    "    episode = row['episode']\n",
    "    if (season == 2 and episode >= 14) or (season == 3 and episode <= 15):\n",
    "        return True\n",
    "    elif (season == 4 and episode >= 24) or (season == 10 and episode <= 18):\n",
    "        return True\n",
    "    else:\n",
    "        return False\n",
    "\n",
    "relationship = episodes.assign(couple=episodes.apply(label_couple, axis=1))\n",
    "relationship"
   ]
  },
  {
   "cell_type": "code",
   "execution_count": 95,
   "id": "d6a1b8c8",
   "metadata": {
    "deletable": false,
    "editable": false
   },
   "outputs": [
    {
     "data": {
      "text/html": [
       "<p><strong><pre style='display: inline;'>q5_5</pre></strong> passed!</p>"
      ],
      "text/plain": [
       "q5_5 results: All test cases passed!"
      ]
     },
     "execution_count": 95,
     "metadata": {},
     "output_type": "execute_result"
    }
   ],
   "source": [
    "grader.check(\"q5_5\")"
   ]
  },
  {
   "cell_type": "markdown",
   "id": "19129f92",
   "metadata": {},
   "source": [
    "**Question 5.6.**  Now, let's state the hypotheses for our permutation test to answer the question:\n",
    "> *Do episodes where characters **are** in a relationship have higher ratings than those where characters **aren't** in a relationship?*\n",
    "\n",
    "Consider the following choices for statements of the null and alternative hypotheses. For simplicity, let us call the relationship group \"R\" (for \"relationship\") and the non-relationship group \"S\" (for \"single\"). \n",
    "\n",
    "1. There is no difference in average episode rating between groups R and S.</li>\n",
    "1. There is a difference in average episode rating between groups R and S.</li>\n",
    "1. Group R has a higher rating than Group S, on average.</li>\n",
    "1. Group S has a higher rating than Group R, on average.</li>\n",
    "\n",
    "Set `null_choice` to a number 1 through 4, corresponding to your choice for the null hypothesis. Set `alternative_choice` to a number 1 through 4, corresponding to your choice for the alternative hypothesis. "
   ]
  },
  {
   "cell_type": "code",
   "execution_count": 363,
   "id": "7ec9e884",
   "metadata": {},
   "outputs": [],
   "source": [
    "null_choice = 1\n",
    "alternative_choice = 3"
   ]
  },
  {
   "cell_type": "code",
   "execution_count": 364,
   "id": "3ce511cb",
   "metadata": {
    "deletable": false,
    "editable": false
   },
   "outputs": [
    {
     "data": {
      "text/html": [
       "<p><strong><pre style='display: inline;'>q5_6</pre></strong> passed!</p>"
      ],
      "text/plain": [
       "q5_6 results: All test cases passed!"
      ]
     },
     "execution_count": 364,
     "metadata": {},
     "output_type": "execute_result"
    }
   ],
   "source": [
    "grader.check(\"q5_6\")"
   ]
  },
  {
   "cell_type": "markdown",
   "id": "254a6584",
   "metadata": {},
   "source": [
    "**Question 5.7.** Using the <code>relationship</code> DataFrame, compute the *observed statistic* representing the difference in mean rating between groups of episodes that have relationships (R) versus those that don't (S), in the order of R minus S. Store your result in the variable <code>couple_observed</code>. "
   ]
  },
  {
   "cell_type": "code",
   "execution_count": 366,
   "id": "2a97dd79",
   "metadata": {},
   "outputs": [
    {
     "data": {
      "text/plain": [
       "0.13550901687027128"
      ]
     },
     "execution_count": 366,
     "metadata": {},
     "output_type": "execute_result"
    }
   ],
   "source": [
    "mean_rating_R = relationship[relationship.get('couple') == True].get('imdb_rating').mean()\n",
    "mean_rating_S = relationship[relationship.get('couple') == False].get('imdb_rating').mean()\n",
    "couple_observed = mean_rating_R - mean_rating_S\n",
    "couple_observed"
   ]
  },
  {
   "cell_type": "code",
   "execution_count": 99,
   "id": "70665a9a",
   "metadata": {
    "deletable": false,
    "editable": false
   },
   "outputs": [
    {
     "data": {
      "text/html": [
       "<p><strong><pre style='display: inline;'>q5_7</pre></strong> passed!</p>"
      ],
      "text/plain": [
       "q5_7 results: All test cases passed!"
      ]
     },
     "execution_count": 99,
     "metadata": {},
     "output_type": "execute_result"
    }
   ],
   "source": [
    "grader.check(\"q5_7\")"
   ]
  },
  {
   "cell_type": "markdown",
   "id": "45ae344f",
   "metadata": {},
   "source": [
    "**Question 5.8.** Now it's time to run the permutation test. Similarly to how you did in Question 5.3, simulate 1000 differences of group means, storing them in the array `couple_stats`. Then, plot your simulated differences in rating and show how they compare to your observed statistic. Make sure you calculate your simulated differences by subtracting in the same order as you did when calculating your observed statistic."
   ]
  },
  {
   "cell_type": "code",
   "execution_count": null,
   "id": "f0375c2d",
   "metadata": {},
   "outputs": [],
   "source": []
  },
  {
   "cell_type": "code",
   "execution_count": 100,
   "id": "461c0524",
   "metadata": {},
   "outputs": [
    {
     "data": {
      "image/png": "[encoded data removed]",
      "text/plain": [
       "<Figure size 720x360 with 1 Axes>"
      ]
     },
     "metadata": {},
     "output_type": "display_data"
    }
   ],
   "source": [
    "couple_stats = []\n",
    "\n",
    "for i in range(1000):\n",
    "    shuffled_couple = np.random.permutation(relationship.get('couple'))\n",
    "    shuffled_relationship = relationship.assign(shuffled_couple=shuffled_couple)\n",
    "    mean_rating_R_shuffled = shuffled_relationship[shuffled_relationship.get('shuffled_couple') == True].get('imdb_rating').mean()\n",
    "    mean_rating_S_shuffled = shuffled_relationship[shuffled_relationship.get('shuffled_couple') == False].get('imdb_rating').mean()\n",
    "    simulated_difference = mean_rating_R_shuffled - mean_rating_S_shuffled\n",
    "    couple_stats.append(simulated_difference)\n",
    "couple_stats = np.array(couple_stats)\n",
    "\n",
    "bpd.DataFrame().assign(Couple_Stats=couple_stats).plot(kind='hist', bins=20, density=False, ec='w',figsize=(10,5), title='Simulated Differences R vs S Ratings')\n",
    "plt.legend();"
   ]
  },
  {
   "cell_type": "code",
   "execution_count": 101,
   "id": "3d4a3f23",
   "metadata": {
    "deletable": false,
    "editable": false
   },
   "outputs": [
    {
     "data": {
      "text/html": [
       "<p><strong><pre style='display: inline;'>q5_8</pre></strong> passed!</p>"
      ],
      "text/plain": [
       "q5_8 results: All test cases passed!"
      ]
     },
     "execution_count": 101,
     "metadata": {},
     "output_type": "execute_result"
    }
   ],
   "source": [
    "grader.check(\"q5_8\")"
   ]
  },
  {
   "cell_type": "markdown",
   "id": "1dcad9b5",
   "metadata": {},
   "source": [
    "**Question 5.9.** Calculate your p-value using the observed statistic and simulated differences, storing the result in `p_couple`. Assign <code>True</code> to the variable <code>couple_claim</code> if you believe we can **reject** the null hypothesis at the 0.05 significance level and <code>False</code> otherwise."
   ]
  },
  {
   "cell_type": "code",
   "execution_count": 102,
   "id": "a75a6f87",
   "metadata": {},
   "outputs": [
    {
     "data": {
      "text/plain": [
       "0.022"
      ]
     },
     "execution_count": 102,
     "metadata": {},
     "output_type": "execute_result"
    }
   ],
   "source": [
    "p_couple = np.mean(couple_stats >= couple_observed)\n",
    "p_couple"
   ]
  },
  {
   "cell_type": "code",
   "execution_count": 103,
   "id": "5ab3ac22",
   "metadata": {
    "deletable": false,
    "editable": false
   },
   "outputs": [
    {
     "data": {
      "text/html": [
       "<p><strong><pre style='display: inline;'>q5_9_a</pre></strong> passed!</p>"
      ],
      "text/plain": [
       "q5_9_a results: All test cases passed!"
      ]
     },
     "execution_count": 103,
     "metadata": {},
     "output_type": "execute_result"
    }
   ],
   "source": [
    "grader.check(\"q5_9_a\")"
   ]
  },
  {
   "cell_type": "code",
   "execution_count": 104,
   "id": "b3536626",
   "metadata": {},
   "outputs": [
    {
     "data": {
      "text/plain": [
       "True"
      ]
     },
     "execution_count": 104,
     "metadata": {},
     "output_type": "execute_result"
    }
   ],
   "source": [
    "couple_claim = True\n",
    "couple_claim"
   ]
  },
  {
   "cell_type": "code",
   "execution_count": 105,
   "id": "53e6fe55",
   "metadata": {
    "deletable": false,
    "editable": false
   },
   "outputs": [
    {
     "data": {
      "text/html": [
       "<p><strong><pre style='display: inline;'>q5_9_b</pre></strong> passed!</p>"
      ],
      "text/plain": [
       "q5_9_b results: All test cases passed!"
      ]
     },
     "execution_count": 105,
     "metadata": {},
     "output_type": "execute_result"
    }
   ],
   "source": [
    "grader.check(\"q5_9_b\")"
   ]
  },
  {
   "cell_type": "markdown",
   "id": "0aa2059d",
   "metadata": {},
   "source": [
    "Although we can't determine from our permutation test whether characters being in a relationship *causes* better ratings, we can detect an association. You'll use this information when planning the storyline of your reboot to determine whether to include a romance angle! 💘"
   ]
  },
  {
   "cell_type": "markdown",
   "id": "50b976e3",
   "metadata": {},
   "source": [
    "<a id='section6'></a>\n",
    "## Section 6: The One with the Generated Episode Titles 🖨️\n",
    "\n",
    "<small>(<a href=\"#outline\">return to the outline</a>)</small>\n",
    "\n",
    "In this section, we'll create a tool that randomly generates episode titles for our reboot, based on the words used in the titles of *Friends* episodes. To start, let's see how *Friends* episode titles are formatted. The cell below saves all the *Friends* episode titles in an array called `titles` and prints a random sample of 10 titles."
   ]
  },
  {
   "cell_type": "code",
   "execution_count": 368,
   "id": "ea41bbdf",
   "metadata": {},
   "outputs": [
    {
     "name": "stdout",
     "output_type": "stream",
     "text": [
      "The One with the Chicken Pox\n",
      "The One with the Chicken Pox\n",
      "The One with Ross's Thing\n",
      "The One with the Lottery\n",
      "The One with the Baby on the Bus\n",
      "The One Where Ross Dates a Student\n",
      "The One with the Metaphorical Tunnel\n",
      "The One with the Race Car Bed\n",
      "The One with the Mugging\n",
      "The One with Ross's Tan\n"
     ]
    }
   ],
   "source": [
    "titles = np.array(episodes.get('title'))\n",
    "for i in np.arange(10):\n",
    "    print(np.random.choice(titles, replace=False))"
   ]
  },
  {
   "cell_type": "markdown",
   "id": "937c925d",
   "metadata": {},
   "source": [
    "As you can see, most episode titles describe a major plot point of that episode and start with a phrase such as `'The One Where'` or `'The One with'`. In other words, the title of an episode is how you might describe the episode to someone else."
   ]
  },
  {
   "cell_type": "markdown",
   "id": "dccd92f0",
   "metadata": {},
   "source": [
    "When generating episode titles for our reboot, we want to use many of the same words that appear in the titles of *Friends* episodes, so that our reboot titles stay true to the spirit of the original show and follow a similar structure. The simplest way to do this is to randomly select words, one at a time and independently, from the set of words included `titles`.\n",
    "\n",
    "The variable `every_word` defined below is an array that contains all of the words in all of the *Friends* episode titles."
   ]
  },
  {
   "cell_type": "code",
   "execution_count": 369,
   "id": "388e2ae2",
   "metadata": {},
   "outputs": [
    {
     "data": {
      "text/plain": [
       "array(['The', 'Pilot', 'The', ..., 'The', 'Last', 'One'], dtype='<U14')"
      ]
     },
     "execution_count": 369,
     "metadata": {},
     "output_type": "execute_result"
    }
   ],
   "source": [
    "every_word = np.array((' ').join(titles).split(' '))\n",
    "every_word"
   ]
  },
  {
   "cell_type": "markdown",
   "id": "8e5d4c52",
   "metadata": {},
   "source": [
    "Some words appear in `every_word` much more frequently than others. We'd want these more common words, like `'The'` to appear more frequently in our generated titles, since they appear more frequently in actual *Friends* titles. Let's generate our titles randomly, one word at a time, so that each word is independently selected with a probability proportional to how often the word appears in a *Friends* title."
   ]
  },
  {
   "cell_type": "markdown",
   "id": "ba87612e",
   "metadata": {},
   "source": [
    "**Question 6.1.**  Complete the implementation of the function `find_proportion` which takes as input a word, and returns the proportion of words in `every_word` that are equal to the input word. This should be case-sensitive!\n",
    "\n",
    "Then calculate the proportion of words that are equal to `'Rachel'` and `'One'`, and save your results in `rachel_prop` and `one_prop`, respectively."
   ]
  },
  {
   "cell_type": "code",
   "execution_count": 370,
   "id": "57f1fe4d",
   "metadata": {},
   "outputs": [
    {
     "name": "stdout",
     "output_type": "stream",
     "text": [
      "Rachel: 0.010316875460574797\n",
      "One: 0.17391304347826086\n"
     ]
    }
   ],
   "source": [
    "def find_proportion(word):\n",
    "    '''Returns the proportion of words equal to the input word.'''\n",
    "    return np.sum(every_word == word) / len(every_word)\n",
    "\n",
    "rachel_prop = find_proportion('Rachel')\n",
    "one_prop = find_proportion('One')\n",
    "print('Rachel:', rachel_prop )\n",
    "print('One:', one_prop)"
   ]
  },
  {
   "cell_type": "code",
   "execution_count": 371,
   "id": "f38ce044",
   "metadata": {
    "deletable": false,
    "editable": false
   },
   "outputs": [
    {
     "data": {
      "text/html": [
       "<p><strong><pre style='display: inline;'>q6_1</pre></strong> passed!</p>"
      ],
      "text/plain": [
       "q6_1 results: All test cases passed!"
      ]
     },
     "execution_count": 371,
     "metadata": {},
     "output_type": "execute_result"
    }
   ],
   "source": [
    "grader.check(\"q6_1\")"
   ]
  },
  {
   "cell_type": "markdown",
   "id": "5ddcc962",
   "metadata": {},
   "source": [
    "We can interpret each word's proportion of usages as a probability of that word being selected when we randomly generate a reboot title. For example, if we generate a title by independently selecting three words, we can calculate the probability of generating the title `'Rachel One Rachel'` as follows, using the [multiplication rule for independent events](https://dsc10.com/resources/lectures/lec11/lec11_11am.pdf):\n",
    "\n",
    "$$\n",
    "P(\\text{Rachel One Rachel}) = P(\\text{Rachel}) * P(\\text{One}) * P(\\text{Rachel})\n",
    "$$"
   ]
  },
  {
   "cell_type": "code",
   "execution_count": 372,
   "id": "688cf0a8",
   "metadata": {},
   "outputs": [
    {
     "data": {
      "text/plain": [
       "1.851094248156703e-05"
      ]
     },
     "execution_count": 372,
     "metadata": {},
     "output_type": "execute_result"
    }
   ],
   "source": [
    "prob_rachel_one_rachel = rachel_prop * one_prop * rachel_prop\n",
    "prob_rachel_one_rachel"
   ]
  },
  {
   "cell_type": "markdown",
   "id": "ab3247ce",
   "metadata": {},
   "source": [
    "That's about a 1 in 50,000 chance that we'll generate the title `'Rachel One Rachel'`, which is so small primarily because `'Rachel'` is a rare word. The title `'One One One'` has a much larger chance of being generated, about 1 in 200, since `'One'` is a common word."
   ]
  },
  {
   "cell_type": "code",
   "execution_count": 373,
   "id": "77417a05",
   "metadata": {},
   "outputs": [
    {
     "data": {
      "text/plain": [
       "0.0052601298594559046"
      ]
     },
     "execution_count": 373,
     "metadata": {},
     "output_type": "execute_result"
    }
   ],
   "source": [
    "prob_one_one_one = one_prop ** 3\n",
    "prob_one_one_one"
   ]
  },
  {
   "cell_type": "markdown",
   "id": "4568b36a",
   "metadata": {},
   "source": [
    "While the strategy we've outlined gives a way of randomly generating reboot titles so that more common words are more likely to appear in the reboot title, it is unsatisfactory in many ways. Primarily, with this strategy, we can get titles like `'Rachel One Rachel'` and `'One One One'`, which not only don't make sense, but don't follow the structure of *Friends* episode titles that started with phrases like `'The One Where'`.\n",
    "\n",
    "Instead of considering the probabilities of individual words, let's consider the probability of **pairs** of consecutive words. For example, the pair of words `'The One'` is quite common and the pair of words `'The Last'` is quite rare. This says that when we generate a reboot title randomly one word at a time, if we start with the word `'The'`, we should be more likely to follow it with `'One'` than `'Last'`. \n",
    "\n",
    "We'll work on calculating the probability distribution of words that immediately follow a given word in *Friends* episode titles. As before, this is case-sensitive. For example, if the word is `'The'`, we'd want to look for want words that follow `'The'` only, not words that follow `'the'`."
   ]
  },
  {
   "cell_type": "markdown",
   "id": "02976fec",
   "metadata": {},
   "source": [
    "**Question 6.2.** ⭐⭐ Complete the implementation of the function `next_word` which takes as input a single episode `title` and a `word`, both strings. The function should return an array containing every word in `title` that appears immediately after `word`, or an empty array if there are no such words. This could happen either because the `word` is the last word in `title`, or because the `word` is not a part of `title` at all. The output array can contain duplicates if the same word follows the input `word` multiple times. \n",
    "\n",
    "Example behavior is shown below.\n",
    "\n",
    "```py\n",
    ">>> next_word('The One Where the Monkey Gets Away', 'Monkey')\n",
    "array(['Gets'])\n",
    "\n",
    ">>> next_word('The One with the Chicken Pox', 'Pox')\n",
    "array([])\n",
    "\n",
    ">>> next_word('This is the final project of the course', 'the')\n",
    "array(['final', 'course']\n",
    "\n",
    ">>> next_word('This is the final project of the course and there is also the final exam', 'the')\n",
    "array(['final', 'course', 'final']\n",
    "\n",
    "\n",
    "```\n"
   ]
  },
  {
   "cell_type": "code",
   "execution_count": 374,
   "id": "be87f655",
   "metadata": {},
   "outputs": [
    {
     "data": {
      "text/plain": [
       "array(['Gets'], dtype='<U4')"
      ]
     },
     "execution_count": 374,
     "metadata": {},
     "output_type": "execute_result"
    }
   ],
   "source": [
    "def next_word(title, word):\n",
    "    '''Given a title and an input word, return an array of all \n",
    "    words in the title that immediately follow the input word.'''\n",
    "    words = title.split()\n",
    "    following_words = []\n",
    "    for i in range(len(words) - 1):\n",
    "        if words[i] == word:\n",
    "            following_words.append(words[i + 1])\n",
    "            \n",
    "    return np.array(following_words)\n",
    "\n",
    "# An example call to your function. Feel free to change this and try out other inputs.\n",
    "next_word('The One Where the Monkey Gets Away', 'Monkey')"
   ]
  },
  {
   "cell_type": "code",
   "execution_count": 375,
   "id": "a1ec4dc3",
   "metadata": {
    "deletable": false,
    "editable": false
   },
   "outputs": [
    {
     "data": {
      "text/html": [
       "<p><strong><pre style='display: inline;'>q6_2</pre></strong> passed!</p>"
      ],
      "text/plain": [
       "q6_2 results: All test cases passed!"
      ]
     },
     "execution_count": 375,
     "metadata": {},
     "output_type": "execute_result"
    }
   ],
   "source": [
    "grader.check(\"q6_2\")"
   ]
  },
  {
   "cell_type": "markdown",
   "id": "d51fbca5",
   "metadata": {
    "deletable": false,
    "editable": false
   },
   "source": [
    "**Question 6.3.** Now that we know how to find the subsequent words in a single title, let's extend what we've done to find the subsequent words across all titles in `titles`. Complete the function `words_following`, which takes as input a single `word` and returns an array of all words that immediately follow `word` in a *Friends* episode title. To do this, you should call your `next_word` function once on each title.\n",
    "\n",
    "As before, the output array can contain duplicates if the same word follows `word` multiple times, and it can be empty if no word follows `word`.\n",
    "\n",
    "***Hint:*** You can use `np.append` to append a whole array of values onto an existing array, in the same way that you would append a single value onto an existing array.\n",
    "\n",
    "<!--\n",
    "BEGIN QUESTION\n",
    "name: q6_3\n",
    "points: 1\n",
    "-->"
   ]
  },
  {
   "cell_type": "code",
   "execution_count": 376,
   "id": "3ad721e7",
   "metadata": {},
   "outputs": [
    {
     "data": {
      "text/plain": [
       "array(['with', 'with', 'with', 'with', 'with', 'with', 'Where', 'Where',\n",
       "       'with', 'with', 'with', 'with', 'with', 'with', 'with', 'with',\n",
       "       'with', 'Where', 'with', 'with', 'with', 'with', 'Where', 'with',\n",
       "       'with', 'Where', 'with', 'with', 'with', 'Where', 'with', 'with',\n",
       "       'with', 'with', 'After', 'After', 'with', 'Where', 'Where',\n",
       "       'Where', 'Where', 'Where', 'Where', 'with', 'with', 'with', 'with',\n",
       "       'with', 'Where', 'with', 'with', 'with', 'with', 'with', 'with',\n",
       "       'with', 'Where', 'Where', 'with', 'Where', 'with', 'Where', 'with',\n",
       "       'Without', 'with', 'with', 'with', 'with', 'with', 'with', 'with',\n",
       "       'at', 'with', 'with', 'with', 'with', 'with', 'with', 'Where',\n",
       "       'with', 'Where', 'with', 'with', 'with', 'with', 'with', 'with',\n",
       "       'with', 'with', 'with', 'with', 'with', 'with', 'with', 'with',\n",
       "       'with', 'After', 'with', 'Hundredth', 'Where', 'with', 'with',\n",
       "       'Where', 'with', 'with', 'with', 'with', 'with', 'with', 'Where',\n",
       "       'with', 'with', 'with', 'Where', 'Where', 'with', 'with', 'with',\n",
       "       'in', 'in', 'After', 'Where', 'with', 'Where', 'with', 'on',\n",
       "       'Where', 'with', 'Where', 'with', 'with', 'with', 'with', 'Where',\n",
       "       'That', 'That', 'with', 'Where', 'with', 'with', 'Where', 'Where',\n",
       "       'with', 'with', 'with', 'with', 'with', 'with', 'with', 'with',\n",
       "       'with', 'with', 'Where', 'with', 'with', 'with', 'Where', 'Where',\n",
       "       'Where', 'with', 'with', 'with', 'with', 'with', 'with', 'with',\n",
       "       'with', 'with', 'with', 'After', 'with', 'Where', 'with', 'with',\n",
       "       'with', 'with', 'with', 'with', 'with', 'with', 'Where', 'Where',\n",
       "       'with', 'with', 'Where', 'with', 'in', 'with', 'with', 'with',\n",
       "       'Where', 'Where', 'Where', 'Where', 'Proposes', 'Where', 'with',\n",
       "       'with', 'with', 'with', 'with', 'with', 'with', 'with', 'Where',\n",
       "       'with', 'Where', 'with', 'with', 'with', 'with', 'with', 'with',\n",
       "       'with', 'with', 'with', 'in', 'in', 'After', 'Where', 'with',\n",
       "       'with', 'Where', 'with', 'with', 'with', 'with', 'Where', 'Where',\n",
       "       'with', 'Where', 'with', 'Where', 'with'], dtype='<U9')"
      ]
     },
     "execution_count": 376,
     "metadata": {},
     "output_type": "execute_result"
    }
   ],
   "source": [
    "def words_following(word):\n",
    "    '''Given an input word, return an array of all words that \n",
    "    immediately follow the input word in episode titles in titles.'''\n",
    "    following_words = []\n",
    "    for title in titles:\n",
    "        following_words += list(next_word(title, word))\n",
    "    return np.array(following_words)\n",
    "\n",
    "# An example call to your function. Feel free to change this and try out other input words.\n",
    "words_following('One')"
   ]
  },
  {
   "cell_type": "code",
   "execution_count": 377,
   "id": "6e3db268",
   "metadata": {
    "deletable": false,
    "editable": false
   },
   "outputs": [
    {
     "data": {
      "text/html": [
       "<p><strong><pre style='display: inline;'>q6_3</pre></strong> passed!</p>"
      ],
      "text/plain": [
       "q6_3 results: All test cases passed!"
      ]
     },
     "execution_count": 377,
     "metadata": {},
     "output_type": "execute_result"
    }
   ],
   "source": [
    "grader.check(\"q6_3\")"
   ]
  },
  {
   "cell_type": "markdown",
   "id": "e66af80e",
   "metadata": {
    "deletable": false,
    "editable": false
   },
   "source": [
    "Now that we know how to find all the words that follow a given word, we can create a probability distribution, where the probability of each subsequent word is just the proportion of times that word follows the given word. \n",
    "\n",
    "**Question 6.4.** ⭐⭐ Complete the `find_prob_distribution` function which takes as input a single `word` and returns a DataFrame indexed by subsequent words that can immediately follow `word`, and with one column called `'prob'` that contains the proportion of times the subsequent word follows `word`. Sort the rows in descending order of `'prob'` so that the most likely words are at the top of the DataFrame.\n",
    "\n",
    "For example, `find_prob_distribution('The')` should look like this:\n",
    "\n",
    "<table border=\"1\" class=\"dataframe\">\n",
    "  <thead>\n",
    "    <tr style=\"text-align: right;\">\n",
    "      <th></th>\n",
    "      <th>prob</th>\n",
    "    </tr>\n",
    "    <tr>\n",
    "      <th>word</th>\n",
    "      <th></th>\n",
    "    </tr>\n",
    "  </thead>\n",
    "  <tbody>\n",
    "    <tr>\n",
    "      <th>One</th>\n",
    "      <td>0.987288</td>\n",
    "    </tr>\n",
    "    <tr>\n",
    "      <th>Last</th>\n",
    "      <td>0.008475</td>\n",
    "    </tr>\n",
    "    <tr>\n",
    "      <th>Pilot</th>\n",
    "      <td>0.004237</td>\n",
    "    </tr>\n",
    "  </tbody>\n",
    "</table>\n",
    "\n",
    "<!--\n",
    "BEGIN QUESTION\n",
    "name: q6_4\n",
    "points: 2\n",
    "-->"
   ]
  },
  {
   "cell_type": "code",
   "execution_count": 378,
   "id": "213ee7f9",
   "metadata": {
    "scrolled": true
   },
   "outputs": [
    {
     "data": {
      "text/html": [
       "<div>\n",
       "<style scoped>\n",
       "    .dataframe tbody tr th:only-of-type {\n",
       "        vertical-align: middle;\n",
       "    }\n",
       "\n",
       "    .dataframe tbody tr th {\n",
       "        vertical-align: top;\n",
       "    }\n",
       "\n",
       "    .dataframe thead th {\n",
       "        text-align: right;\n",
       "    }\n",
       "</style>\n",
       "<table border=\"1\" class=\"dataframe\">\n",
       "  <thead>\n",
       "    <tr style=\"text-align: right;\">\n",
       "      <th></th>\n",
       "      <th>prob</th>\n",
       "    </tr>\n",
       "    <tr>\n",
       "      <th>word</th>\n",
       "      <th></th>\n",
       "    </tr>\n",
       "  </thead>\n",
       "  <tbody>\n",
       "    <tr>\n",
       "      <th>One</th>\n",
       "      <td>0.987288</td>\n",
       "    </tr>\n",
       "    <tr>\n",
       "      <th>Last</th>\n",
       "      <td>0.008475</td>\n",
       "    </tr>\n",
       "    <tr>\n",
       "      <th>Pilot</th>\n",
       "      <td>0.004237</td>\n",
       "    </tr>\n",
       "  </tbody>\n",
       "</table>\n",
       "</div>"
      ],
      "text/plain": [
       "           prob\n",
       "word           \n",
       "One    0.987288\n",
       "Last   0.008475\n",
       "Pilot  0.004237"
      ]
     },
     "execution_count": 378,
     "metadata": {},
     "output_type": "execute_result"
    }
   ],
   "source": [
    "def find_prob_distribution(word):\n",
    "    '''Returns a DataFrame containing the probability distribution\n",
    "    of words that can follow the given input word.'''\n",
    "    following_words = words_following(word)\n",
    "    word_counts = bpd.DataFrame().assign(word=following_words).groupby('word').size()\n",
    "    total_count = len(following_words)\n",
    "    probabilities = word_counts / total_count\n",
    "    prob_distribution = bpd.DataFrame().assign(prob=probabilities)\n",
    "    prob_distribution.index.name = 'word'\n",
    "    prob_distribution = prob_distribution.sort_values(by='prob', ascending=False)\n",
    "    return prob_distribution\n",
    "\n",
    "# An example call to your function. Feel free to change this to try out other input words.\n",
    "find_prob_distribution('The')"
   ]
  },
  {
   "cell_type": "code",
   "execution_count": 379,
   "id": "df2772f3",
   "metadata": {
    "deletable": false,
    "editable": false
   },
   "outputs": [
    {
     "data": {
      "text/html": [
       "<p><strong><pre style='display: inline;'>q6_4</pre></strong> passed!</p>"
      ],
      "text/plain": [
       "q6_4 results: All test cases passed!"
      ]
     },
     "execution_count": 379,
     "metadata": {},
     "output_type": "execute_result"
    }
   ],
   "source": [
    "grader.check(\"q6_4\")"
   ]
  },
  {
   "cell_type": "markdown",
   "id": "8055e670",
   "metadata": {},
   "source": [
    "Now, we can use these probability distributions to generate titles randomly. We'll start each title with the word `'The'`, since all *Friends* episodes start with this word. Then, the next word will be `'One'` with probability 0.987288, or `'Last'` with probability 0.008475, or `'Pilot'` with probability 0.004237. Almost certainly, the next word will be `'One'`, and then we'll figure out the next word according to the probabilities in the DataFrame below."
   ]
  },
  {
   "cell_type": "code",
   "execution_count": 382,
   "id": "c644cb60",
   "metadata": {
    "scrolled": true
   },
   "outputs": [
    {
     "data": {
      "text/html": [
       "<div>\n",
       "<style scoped>\n",
       "    .dataframe tbody tr th:only-of-type {\n",
       "        vertical-align: middle;\n",
       "    }\n",
       "\n",
       "    .dataframe tbody tr th {\n",
       "        vertical-align: top;\n",
       "    }\n",
       "\n",
       "    .dataframe thead th {\n",
       "        text-align: right;\n",
       "    }\n",
       "</style>\n",
       "<table border=\"1\" class=\"dataframe\">\n",
       "  <thead>\n",
       "    <tr style=\"text-align: right;\">\n",
       "      <th></th>\n",
       "      <th>prob</th>\n",
       "    </tr>\n",
       "    <tr>\n",
       "      <th>word</th>\n",
       "      <th></th>\n",
       "    </tr>\n",
       "  </thead>\n",
       "  <tbody>\n",
       "    <tr>\n",
       "      <th>with</th>\n",
       "      <td>0.696581</td>\n",
       "    </tr>\n",
       "    <tr>\n",
       "      <th>Where</th>\n",
       "      <td>0.226496</td>\n",
       "    </tr>\n",
       "    <tr>\n",
       "      <th>After</th>\n",
       "      <td>0.025641</td>\n",
       "    </tr>\n",
       "    <tr>\n",
       "      <th>in</th>\n",
       "      <td>0.021368</td>\n",
       "    </tr>\n",
       "    <tr>\n",
       "      <th>That</th>\n",
       "      <td>0.008547</td>\n",
       "    </tr>\n",
       "    <tr>\n",
       "      <th>Hundredth</th>\n",
       "      <td>0.004274</td>\n",
       "    </tr>\n",
       "    <tr>\n",
       "      <th>Proposes</th>\n",
       "      <td>0.004274</td>\n",
       "    </tr>\n",
       "    <tr>\n",
       "      <th>Without</th>\n",
       "      <td>0.004274</td>\n",
       "    </tr>\n",
       "    <tr>\n",
       "      <th>at</th>\n",
       "      <td>0.004274</td>\n",
       "    </tr>\n",
       "    <tr>\n",
       "      <th>on</th>\n",
       "      <td>0.004274</td>\n",
       "    </tr>\n",
       "  </tbody>\n",
       "</table>\n",
       "</div>"
      ],
      "text/plain": [
       "               prob\n",
       "word               \n",
       "with       0.696581\n",
       "Where      0.226496\n",
       "After      0.025641\n",
       "in         0.021368\n",
       "That       0.008547\n",
       "Hundredth  0.004274\n",
       "Proposes   0.004274\n",
       "Without    0.004274\n",
       "at         0.004274\n",
       "on         0.004274"
      ]
     },
     "execution_count": 382,
     "metadata": {},
     "output_type": "execute_result"
    }
   ],
   "source": [
    "find_prob_distribution('One')"
   ]
  },
  {
   "cell_type": "markdown",
   "id": "04c10701",
   "metadata": {},
   "source": [
    "Perhaps by random chance we'll end up with the next word being `'Proposes'` (though it's quite unlikely). To find the words that could follow `'Proposes'` along with their associated probabilities, we'll use this DataFrame:"
   ]
  },
  {
   "cell_type": "code",
   "execution_count": 383,
   "id": "23650084",
   "metadata": {
    "scrolled": true
   },
   "outputs": [
    {
     "data": {
      "text/html": [
       "<div>\n",
       "<style scoped>\n",
       "    .dataframe tbody tr th:only-of-type {\n",
       "        vertical-align: middle;\n",
       "    }\n",
       "\n",
       "    .dataframe tbody tr th {\n",
       "        vertical-align: top;\n",
       "    }\n",
       "\n",
       "    .dataframe thead th {\n",
       "        text-align: right;\n",
       "    }\n",
       "</style>\n",
       "<table border=\"1\" class=\"dataframe\">\n",
       "  <thead>\n",
       "    <tr style=\"text-align: right;\">\n",
       "      <th></th>\n",
       "      <th>prob</th>\n",
       "    </tr>\n",
       "    <tr>\n",
       "      <th>word</th>\n",
       "      <th></th>\n",
       "    </tr>\n",
       "  </thead>\n",
       "  <tbody>\n",
       "  </tbody>\n",
       "</table>\n",
       "</div>"
      ],
      "text/plain": [
       "Empty DataFrame\n",
       "Columns: [prob]\n",
       "Index: []"
      ]
     },
     "execution_count": 383,
     "metadata": {},
     "output_type": "execute_result"
    }
   ],
   "source": [
    "find_prob_distribution('Proposes')"
   ]
  },
  {
   "cell_type": "markdown",
   "id": "a88b6df6",
   "metadata": {},
   "source": [
    "Since this DataFrame has no rows, it means `'Proposes'` never appears in a *Friends* episode title with a word after it. That is, it only appears as the last word in an episode title. This means no word should come after it, so we're done generating our title, which in this example was `'The One Proposes'`. \n",
    "\n",
    "When we generate titles based on pairs of words in this way, the probability of generating `'The One Proposes'` can be computed as:\n",
    "\n",
    "$$\n",
    "P(\\text{The One Proposes}) = P(\\text{The}) * P(\\text{One}|\\text{The}) * P(\\text{Proposes}|\\text{One})\n",
    "$$\n",
    "\n",
    "Since all episode titles start with `'The'`, $P(\\text{The}) = 1$. The other probabilities are conditional probabilities based on the previous word. For example, $P(\\text{One}|\\text{The})$, which we read as \"the probability of `'One'` given `'The'`\", represents the probability of seeing the word `'One'` immediately after the word `'The'`. According to our `find_prob_distribution` function, this probability is quite high at 0.987288."
   ]
  },
  {
   "cell_type": "code",
   "execution_count": 384,
   "id": "e9b9cf0c",
   "metadata": {},
   "outputs": [
    {
     "data": {
      "text/html": [
       "<div>\n",
       "<style scoped>\n",
       "    .dataframe tbody tr th:only-of-type {\n",
       "        vertical-align: middle;\n",
       "    }\n",
       "\n",
       "    .dataframe tbody tr th {\n",
       "        vertical-align: top;\n",
       "    }\n",
       "\n",
       "    .dataframe thead th {\n",
       "        text-align: right;\n",
       "    }\n",
       "</style>\n",
       "<table border=\"1\" class=\"dataframe\">\n",
       "  <thead>\n",
       "    <tr style=\"text-align: right;\">\n",
       "      <th></th>\n",
       "      <th>prob</th>\n",
       "    </tr>\n",
       "    <tr>\n",
       "      <th>word</th>\n",
       "      <th></th>\n",
       "    </tr>\n",
       "  </thead>\n",
       "  <tbody>\n",
       "    <tr>\n",
       "      <th>One</th>\n",
       "      <td>0.987288</td>\n",
       "    </tr>\n",
       "    <tr>\n",
       "      <th>Last</th>\n",
       "      <td>0.008475</td>\n",
       "    </tr>\n",
       "    <tr>\n",
       "      <th>Pilot</th>\n",
       "      <td>0.004237</td>\n",
       "    </tr>\n",
       "  </tbody>\n",
       "</table>\n",
       "</div>"
      ],
      "text/plain": [
       "           prob\n",
       "word           \n",
       "One    0.987288\n",
       "Last   0.008475\n",
       "Pilot  0.004237"
      ]
     },
     "execution_count": 384,
     "metadata": {},
     "output_type": "execute_result"
    }
   ],
   "source": [
    "find_prob_distribution('The') # This says P(One|The) = 0.987288."
   ]
  },
  {
   "cell_type": "markdown",
   "id": "1420b872",
   "metadata": {},
   "source": [
    "Similarly, we can find $P(\\text{Proposes}|\\text{One})$ is very small, only 0.004274."
   ]
  },
  {
   "cell_type": "code",
   "execution_count": 385,
   "id": "0e01a24b",
   "metadata": {
    "scrolled": true
   },
   "outputs": [
    {
     "data": {
      "text/html": [
       "<div>\n",
       "<style scoped>\n",
       "    .dataframe tbody tr th:only-of-type {\n",
       "        vertical-align: middle;\n",
       "    }\n",
       "\n",
       "    .dataframe tbody tr th {\n",
       "        vertical-align: top;\n",
       "    }\n",
       "\n",
       "    .dataframe thead th {\n",
       "        text-align: right;\n",
       "    }\n",
       "</style>\n",
       "<table border=\"1\" class=\"dataframe\">\n",
       "  <thead>\n",
       "    <tr style=\"text-align: right;\">\n",
       "      <th></th>\n",
       "      <th>prob</th>\n",
       "    </tr>\n",
       "    <tr>\n",
       "      <th>word</th>\n",
       "      <th></th>\n",
       "    </tr>\n",
       "  </thead>\n",
       "  <tbody>\n",
       "    <tr>\n",
       "      <th>with</th>\n",
       "      <td>0.696581</td>\n",
       "    </tr>\n",
       "    <tr>\n",
       "      <th>Where</th>\n",
       "      <td>0.226496</td>\n",
       "    </tr>\n",
       "    <tr>\n",
       "      <th>After</th>\n",
       "      <td>0.025641</td>\n",
       "    </tr>\n",
       "    <tr>\n",
       "      <th>in</th>\n",
       "      <td>0.021368</td>\n",
       "    </tr>\n",
       "    <tr>\n",
       "      <th>That</th>\n",
       "      <td>0.008547</td>\n",
       "    </tr>\n",
       "    <tr>\n",
       "      <th>Hundredth</th>\n",
       "      <td>0.004274</td>\n",
       "    </tr>\n",
       "    <tr>\n",
       "      <th>Proposes</th>\n",
       "      <td>0.004274</td>\n",
       "    </tr>\n",
       "    <tr>\n",
       "      <th>Without</th>\n",
       "      <td>0.004274</td>\n",
       "    </tr>\n",
       "    <tr>\n",
       "      <th>at</th>\n",
       "      <td>0.004274</td>\n",
       "    </tr>\n",
       "    <tr>\n",
       "      <th>on</th>\n",
       "      <td>0.004274</td>\n",
       "    </tr>\n",
       "  </tbody>\n",
       "</table>\n",
       "</div>"
      ],
      "text/plain": [
       "               prob\n",
       "word               \n",
       "with       0.696581\n",
       "Where      0.226496\n",
       "After      0.025641\n",
       "in         0.021368\n",
       "That       0.008547\n",
       "Hundredth  0.004274\n",
       "Proposes   0.004274\n",
       "Without    0.004274\n",
       "at         0.004274\n",
       "on         0.004274"
      ]
     },
     "execution_count": 385,
     "metadata": {},
     "output_type": "execute_result"
    }
   ],
   "source": [
    "find_prob_distribution('One') # This says P(Proposes|One) = 0.004274"
   ]
  },
  {
   "cell_type": "markdown",
   "id": "643abad3",
   "metadata": {},
   "source": [
    "Therefore, the probability of generating `'The One Proposes'` is:\n",
    "\n",
    "$$\n",
    "\\begin{align}\n",
    "P(\\text{The One Proposes}) &= P(\\text{The}) * P(\\text{One}|\\text{The}) * P(\\text{Proposes}|\\text{One}) \\\\\n",
    "&= 1 * 0.987288 * 0.004274 \\\\\n",
    "&\\approx 0.004219\n",
    "\\end{align}\n",
    "$$"
   ]
  },
  {
   "cell_type": "markdown",
   "id": "4312af5b",
   "metadata": {},
   "source": [
    "This is about 1 in 2000."
   ]
  },
  {
   "cell_type": "markdown",
   "id": "577fefae",
   "metadata": {
    "deletable": false,
    "editable": false
   },
   "source": [
    "**Question 6.5.** Now that we know how to generate titles based on pairs of words, let's write a function that takes no inputs, and returns a randomly generated title by starting with the word `'The'`, then adding a new word based on the conditional probabilities of words that can follow `'The'`. We'll continue adding new words after each previous word, until we encounter a word that never had any words after it in an episode title (like `'Proposes'` in our example above). At that point, we'll stop generating new words. \n",
    "\n",
    "Since we don't know how many words we'll be adding in advance, it's hard to implement this with a `for`-loop, since we don't know how many iterations we'll need. Instead, we'll use what's known as a `while`-loop, which runs continuously, with as many iterations as needed, until some stopping condition is met. In our case, we'll keep adding new words as long as the DataFrame returned by `find_prob_dist` has at least one row, since that means there are more words we can add to our title. Our stopping condition, therefore, is when `find_prob_dist` produces a DataFrame with no rows. \n",
    "\n",
    "We've implemented the `while`-loop for you. Your task is to fill in the missing lines so that `generate_title` returns a randomly generated episode title. Some comments are included to help you.\n",
    "\n",
    "<!--\n",
    "BEGIN QUESTION\n",
    "name: q6_5\n",
    "points: 1\n",
    "-->"
   ]
  },
  {
   "cell_type": "code",
   "execution_count": 386,
   "id": "fab1ab11",
   "metadata": {},
   "outputs": [
    {
     "data": {
      "text/plain": [
       "'The One with Two Parts: Part 1'"
      ]
     },
     "execution_count": 386,
     "metadata": {},
     "output_type": "execute_result"
    }
   ],
   "source": [
    "def generate_title():\n",
    "\n",
    "    generated_title = 'The'\n",
    "    prob_dist_df = find_prob_distribution('The')\n",
    "\n",
    "    # Keep generating new words for our title so long as there are \n",
    "    # words that can follow the most recent word we've added.\n",
    "    while (prob_dist_df.shape[0] >= 1):\n",
    "        \n",
    "        # Set new_word to a random selection of the words represented in prob_dist_df, \n",
    "        # chosen according to their probabilities in prob_dist_df.\n",
    "        new_word_index = np.random.choice(prob_dist_df.index, p=prob_dist_df.get('prob'))\n",
    "        new_word = new_word_index\n",
    "\n",
    "        # Add onto your generated title in the variable generated_title. \n",
    "        # Make sure to include spaces between words.\n",
    "        generated_title += ' ' + new_word\n",
    "        \n",
    "        # Update prob_dist_df so that it contains the probability \n",
    "        # distribution of the word you just added to your title.\n",
    "        prob_dist_df = find_prob_distribution(new_word)\n",
    "\n",
    "\n",
    "    return generated_title\n",
    "\n",
    "generate_title()"
   ]
  },
  {
   "cell_type": "code",
   "execution_count": null,
   "id": "7d973276",
   "metadata": {
    "deletable": false,
    "editable": false
   },
   "outputs": [],
   "source": [
    "grader.check(\"q6_5\")"
   ]
  },
  {
   "cell_type": "markdown",
   "id": "5c411587",
   "metadata": {},
   "source": [
    "**Question 6.6.** Suppose you generate one title using the `generate_title()` function above. What is the probability that the title you generate is `'The One in Vegas'`? Set your answer to `vegas_prob`.\n",
    "\n",
    "***Note:*** This is a probability question that you should answer based on the conditional probability of seeing one word given the previous. You should not do any simulation for this question. "
   ]
  },
  {
   "cell_type": "code",
   "execution_count": 387,
   "id": "3df7449d",
   "metadata": {},
   "outputs": [
    {
     "data": {
      "text/plain": [
       "0.006027400095196705"
      ]
     },
     "execution_count": 387,
     "metadata": {},
     "output_type": "execute_result"
    }
   ],
   "source": [
    "prob_the = find_prob_distribution('The').get('prob').loc['One']\n",
    "prob_one_given_the = find_prob_distribution('One').get('prob').loc['in']\n",
    "prob_in_given_one = find_prob_distribution('in').get('prob').loc['Vegas']\n",
    "prob_vegas_given_in = 1\n",
    "vegas_prob = prob_the * prob_one_given_the * prob_in_given_one * prob_vegas_given_in\n",
    "vegas_prob"
   ]
  },
  {
   "cell_type": "code",
   "execution_count": 388,
   "id": "93c90f71",
   "metadata": {
    "deletable": false,
    "editable": false
   },
   "outputs": [
    {
     "data": {
      "text/html": [
       "<p><strong><pre style='display: inline;'>q6_6</pre></strong> passed!</p>"
      ],
      "text/plain": [
       "q6_6 results: All test cases passed!"
      ]
     },
     "execution_count": 388,
     "metadata": {},
     "output_type": "execute_result"
    }
   ],
   "source": [
    "grader.check(\"q6_6\")"
   ]
  },
  {
   "cell_type": "markdown",
   "id": "eea7c994",
   "metadata": {},
   "source": [
    "**Question 6.7.** You want to know how frequently your `generate_title()` function generates a title that actually is a real title for a *Friends* episode. Based on a simulation with 1,000 trials, estimate the probability of a generated title being a real *Friends* title, and store the result in `prob_real`."
   ]
  },
  {
   "cell_type": "code",
   "execution_count": 389,
   "id": "c15b2c1d",
   "metadata": {},
   "outputs": [
    {
     "data": {
      "text/plain": [
       "0.576"
      ]
     },
     "execution_count": 389,
     "metadata": {},
     "output_type": "execute_result"
    }
   ],
   "source": [
    "num_trials = 1000\n",
    "matches = 0\n",
    "for i in range(num_trials):\n",
    "    generated_title = generate_title()\n",
    "    if generated_title in titles:\n",
    "        matches += 1\n",
    "prob_real = matches / num_trials\n",
    "prob_real"
   ]
  },
  {
   "cell_type": "code",
   "execution_count": null,
   "id": "413d967d",
   "metadata": {},
   "outputs": [],
   "source": [
    "titles"
   ]
  },
  {
   "cell_type": "code",
   "execution_count": null,
   "id": "e55802f2",
   "metadata": {
    "deletable": false,
    "editable": false
   },
   "outputs": [],
   "source": [
    "grader.check(\"q6_7\")"
   ]
  },
  {
   "cell_type": "markdown",
   "id": "5038b579",
   "metadata": {},
   "source": [
    "You should find that there's a fairly high probability of generating a title that already exists. This happens because there aren't really that many words in the set of *Friends* episode titles. For example, if we randomly generate the word `'East'`, it's going to have to be followed up with `'German Laundry Detergent'` because the word `'East'` only appears once, which is in the episode title `'The One with the East German Laundry Detergent'`. With a relatively small body of text in *Friends* episode titles, there are many words that can only be followed by one thing.  For simplicity, we'll ignore the fact that we are generating many existing episode titles, though we could significantly improve the situation by basing our titles not just on past *Friends* episode titles, but on a larger body of text, such as the full scripts of all *Friends* episodes. This improvement would come at the cost of much more computation!"
   ]
  },
  {
   "cell_type": "markdown",
   "id": "5ef00ed3",
   "metadata": {},
   "source": [
    "Now, let's put all our hard work to use and generate episode titles for the first season of the reboot. Most seasons of *Friends* had 24 episodes, so you'll make sure your reboot starts out with a season of 24 episodes. Run the cell below to generate the titles for the first season of the reboot!"
   ]
  },
  {
   "cell_type": "code",
   "execution_count": null,
   "id": "dead8248",
   "metadata": {},
   "outputs": [],
   "source": [
    "for i in np.arange(1, 25):\n",
    "    print('Reboot Episode', i, ':', generate_title() )"
   ]
  },
  {
   "cell_type": "markdown",
   "id": "77dcea4e",
   "metadata": {},
   "source": [
    "<a id='section7'></a>\n",
    "## Section 7: The Last One 🔚🥳\n",
    "\n",
    "<small>(<a href=\"#outline\">return to the outline</a>)</small>\n",
    "\n",
    "In this section, you'll determine how many episodes your reboot should have to be successful. The first question is how should you measure success, in terms of views or in terms of ratings? You suspect that if an episode is good, it’s only natural that it will get more views *and* higher ratings, right? So there should be a positive correlation between viewership and ratings. You decide to explore the connection between these two variables using regression.\n",
    "\n",
    "Let's start by visualizing the data with a scatter plot to see if linear regression would make sense for this dataset."
   ]
  },
  {
   "cell_type": "code",
   "execution_count": 391,
   "id": "2f732bc7",
   "metadata": {
    "scrolled": true
   },
   "outputs": [
    {
     "data": {
      "image/png": "[encoded data removed]",
      "text/plain": [
       "<Figure size 432x288 with 1 Axes>"
      ]
     },
     "metadata": {},
     "output_type": "display_data"
    }
   ],
   "source": [
    "episodes.plot(kind='scatter', x='imdb_rating', y='us_views_millions');"
   ]
  },
  {
   "cell_type": "markdown",
   "id": "f4d6bcca",
   "metadata": {},
   "source": [
    "Based on the scatter plot, it seems like there is a slight positive linear association, and so linear regression would be an appropriate tool. Let's continue!"
   ]
  },
  {
   "cell_type": "markdown",
   "id": "225f2382",
   "metadata": {},
   "source": [
    "**Question 7.1.** The first step will be to convert our data into standard units. Complete the function `standard_units` which takes in an array or Series of numerical data and returns an array with the values in standard units. Then use your function to standardize the `'imdb_rating'` and `'us_views_millions'` columns from `episodes`. Store the standardized arrays in the variables `rating_standard` and `views_standard`."
   ]
  },
  {
   "cell_type": "code",
   "execution_count": 392,
   "id": "79271751",
   "metadata": {},
   "outputs": [],
   "source": [
    "def standard_units(sequence):\n",
    "    '''Returns the input sequence as an array in standard units.'''\n",
    "    # Convert the input to an array, if it is not already.\n",
    "    return ((np.array(sequence)) - sequence.mean()) / np.std(sequence)\n",
    "\n",
    "# Standardize the 'imdb_rating' and 'us_views_millions' columns\n",
    "rating_standard = standard_units(episodes.get('imdb_rating'))\n",
    "views_standard = standard_units(episodes.get('us_views_millions'))"
   ]
  },
  {
   "cell_type": "code",
   "execution_count": 393,
   "id": "cca7b0d4",
   "metadata": {
    "deletable": false,
    "editable": false
   },
   "outputs": [
    {
     "data": {
      "text/html": [
       "<p><strong><pre style='display: inline;'>q7_1</pre></strong> passed!</p>"
      ],
      "text/plain": [
       "q7_1 results: All test cases passed!"
      ]
     },
     "execution_count": 393,
     "metadata": {},
     "output_type": "execute_result"
    }
   ],
   "source": [
    "grader.check(\"q7_1\")"
   ]
  },
  {
   "cell_type": "markdown",
   "id": "a4ca1113",
   "metadata": {},
   "source": [
    "**Question 7.2.** Now that we know how to convert variables to standard units, we can calculate the correlation. Complete the function `correlation`, which should take in:\n",
    "1. `df`, a DataFrame,\n",
    "2. `independent`, the column label of the independent ($x$) variable, as a string, and \n",
    "3. `dependent`, the column label of the dependent ($y$) variable, as a string.\n",
    "\n",
    "The function should output the correlation between the two variables. \n",
    "\n",
    "Then, use your function to compute the correlation between `'imdb_rating'` and `'us_views_millions'` and store your result in the variable `corr`. Check that the number you get looks reasonable based on the scatter plot above."
   ]
  },
  {
   "cell_type": "code",
   "execution_count": 394,
   "id": "49850dc7",
   "metadata": {},
   "outputs": [
    {
     "data": {
      "text/plain": [
       "0.3774125207177469"
      ]
     },
     "execution_count": 394,
     "metadata": {},
     "output_type": "execute_result"
    }
   ],
   "source": [
    "def correlation(df, independent, dependent):\n",
    "    '''Returns the correlation between the independent and dependent variables in the given DataFrame.'''\n",
    "    x = df.get(independent)\n",
    "    y = df.get(dependent)\n",
    "    x_mean = x.mean()\n",
    "    y_mean = y.mean()\n",
    "    correlation = (((x - x_mean) * (y - y_mean)).mean()) / ((((x - x_mean) ** 2).mean() * ((y - y_mean) ** 2).mean())**0.5)\n",
    "    return correlation\n",
    "\n",
    "corr = correlation(episodes, 'imdb_rating', 'us_views_millions')\n",
    "corr"
   ]
  },
  {
   "cell_type": "code",
   "execution_count": null,
   "id": "aa10c91c",
   "metadata": {},
   "outputs": [],
   "source": []
  },
  {
   "cell_type": "code",
   "execution_count": 395,
   "id": "944f0606",
   "metadata": {
    "deletable": false,
    "editable": false
   },
   "outputs": [
    {
     "data": {
      "text/html": [
       "<p><strong><pre style='display: inline;'>q7_2</pre></strong> passed!</p>"
      ],
      "text/plain": [
       "q7_2 results: All test cases passed!"
      ]
     },
     "execution_count": 395,
     "metadata": {},
     "output_type": "execute_result"
    }
   ],
   "source": [
    "grader.check(\"q7_2\")"
   ]
  },
  {
   "cell_type": "markdown",
   "id": "2feb2a4f",
   "metadata": {},
   "source": [
    "**Question 7.3.** Now construct two functions, `reg_slope` and `reg_intercept`, which each take in the same three inputs as `correlation`. `reg_slope` should return the slope of the regression line and `reg_intercept` should return the intercept of the regression line, in original units. \n",
    "\n",
    "Use your function to store the slope and intercept of the regression line for  `'imdb_rating'` and `'us_views_millions'` in the variables `slope` and `intercept`."
   ]
  },
  {
   "cell_type": "code",
   "execution_count": 396,
   "id": "05c8c0e7",
   "metadata": {},
   "outputs": [],
   "source": [
    "def calculate_r(df, x, y):\n",
    "    '''Returns the average value of the product of x and y, \n",
    "       when both are measured in standard units.'''\n",
    "    xs = standard_units(df.get(x))\n",
    "    ys = standard_units(df.get(y))\n",
    "    return (xs * ys).mean()"
   ]
  },
  {
   "cell_type": "code",
   "execution_count": 397,
   "id": "4172fddd",
   "metadata": {},
   "outputs": [
    {
     "data": {
      "text/plain": [
       "(4.953290444993945, -16.542142752578002)"
      ]
     },
     "execution_count": 397,
     "metadata": {},
     "output_type": "execute_result"
    }
   ],
   "source": [
    "def reg_slope(df, independent, dependent):\n",
    "    '''Returns the slope of the regression line in original units.'''\n",
    "    r = calculate_r(df, independent, dependent)\n",
    "    return r * np.std(df.get(dependent)) / np.std(df.get(independent))\n",
    "def reg_intercept(df, independent, dependent):\n",
    "    '''Returns the intercept of the regression line in original units.'''\n",
    "    return df.get(dependent).mean() - reg_slope(df, independent, dependent) * df.get(independent).mean()\n",
    "\n",
    "slope = reg_slope(episodes, 'imdb_rating', 'us_views_millions')\n",
    "intercept = reg_intercept(episodes, 'imdb_rating', 'us_views_millions')\n",
    "slope, intercept"
   ]
  },
  {
   "cell_type": "code",
   "execution_count": 398,
   "id": "8fd117b1",
   "metadata": {
    "deletable": false,
    "editable": false
   },
   "outputs": [
    {
     "data": {
      "text/html": [
       "<p><strong><pre style='display: inline;'>q7_3</pre></strong> passed!</p>"
      ],
      "text/plain": [
       "q7_3 results: All test cases passed!"
      ]
     },
     "execution_count": 398,
     "metadata": {},
     "output_type": "execute_result"
    }
   ],
   "source": [
    "grader.check(\"q7_3\")"
   ]
  },
  {
   "cell_type": "markdown",
   "id": "2c51dfc9",
   "metadata": {},
   "source": [
    "**Question 7.4.** Create a function called `predict` that takes in the same three inputs as `correlation`. `predict` should return an array of predicted values of the dependent variable calculated from the regression line. \n",
    "\n",
    "Use your function to create an array of the predicted number of views, in millions, for each episode in the `episodes` DataFrame, based on the episode's rating. Save your answer as `predicted_views`. "
   ]
  },
  {
   "cell_type": "code",
   "execution_count": 399,
   "id": "a85d77a7",
   "metadata": {
    "scrolled": true
   },
   "outputs": [
    {
     "data": {
      "text/plain": [
       "array([24.57016794, 23.57950985, 24.0748389 , 23.57950985, 25.56082603,\n",
       "       23.57950985, 28.03747125, 23.57950985, 24.0748389 , 23.57950985,\n",
       "       24.0748389 , 24.0748389 , 26.55148412, 24.57016794, 24.0748389 ,\n",
       "       24.0748389 , 25.56082603, 27.04681316, 23.57950985, 22.58885176,\n",
       "       22.58885176, 24.57016794, 26.55148412, 27.54214221, 25.56082603,\n",
       "       24.0748389 , 25.06549699, 23.08418081, 24.57016794, 26.05615507,\n",
       "       28.03747125, 25.56082603, 23.08418081, 23.08418081, 23.57950985,\n",
       "       26.05615507, 27.04681316, 30.01878743, 27.54214221, 26.05615507,\n",
       "       24.57016794, 25.56082603, 26.05615507, 24.0748389 , 24.0748389 ,\n",
       "       28.03747125, 23.57950985, 24.0748389 , 25.06549699, 28.03747125,\n",
       "       23.57950985, 23.57950985, 23.57950985, 28.5328003 , 24.57016794,\n",
       "       25.06549699, 28.03747125, 23.57950985, 26.05615507, 24.0748389 ,\n",
       "       24.0748389 , 22.58885176, 26.05615507, 28.5328003 , 24.57016794,\n",
       "       25.06549699, 24.0748389 , 23.57950985, 26.55148412, 24.57016794,\n",
       "       23.57950985, 23.57950985, 27.04681316, 28.5328003 , 23.57950985,\n",
       "       25.56082603, 24.0748389 , 25.06549699, 25.56082603, 26.55148412,\n",
       "       28.5328003 , 22.58885176, 23.57950985, 25.56082603, 30.51411647,\n",
       "       24.0748389 , 24.0748389 , 25.56082603, 24.0748389 , 26.05615507,\n",
       "       24.57016794, 26.55148412, 25.56082603, 19.12154845, 25.56082603,\n",
       "       26.55148412, 29.02812934, 27.54214221, 28.03747125, 27.04681316,\n",
       "       24.57016794, 27.04681316, 23.57950985, 25.06549699, 29.02812934,\n",
       "       28.5328003 , 24.0748389 , 28.5328003 , 24.57016794, 23.57950985,\n",
       "       31.50477456, 25.56082603, 26.05615507, 25.56082603, 23.08418081,\n",
       "       26.55148412, 24.57016794, 25.56082603, 24.57016794, 27.04681316,\n",
       "       28.5328003 , 26.55148412, 24.0748389 , 24.0748389 , 25.56082603,\n",
       "       24.0748389 , 25.56082603, 25.06549699, 25.56082603, 29.02812934,\n",
       "       26.05615507, 23.57950985, 23.57950985, 24.0748389 , 26.05615507,\n",
       "       25.56082603, 25.56082603, 28.5328003 , 24.57016794, 24.57016794,\n",
       "       20.11220654, 26.05615507, 28.03747125, 26.05615507, 27.04681316,\n",
       "       29.52345839, 25.06549699, 24.57016794, 23.57950985, 23.57950985,\n",
       "       23.57950985, 27.54214221, 25.56082603, 24.0748389 , 23.57950985,\n",
       "       25.56082603, 26.05615507, 26.55148412, 25.06549699, 26.05615507,\n",
       "       25.06549699, 26.55148412, 25.06549699, 25.06549699, 26.55148412,\n",
       "       25.06549699, 20.60753558, 25.06549699, 27.54214221, 29.02812934,\n",
       "       26.55148412, 28.5328003 , 26.55148412, 29.52345839, 23.57950985,\n",
       "       25.56082603, 22.58885176, 27.04681316, 29.52345839, 23.57950985,\n",
       "       23.08418081, 26.05615507, 26.05615507, 24.0748389 , 25.06549699,\n",
       "       24.57016794, 23.57950985, 24.0748389 , 20.60753558, 24.0748389 ,\n",
       "       24.0748389 , 24.57016794, 27.04681316, 27.54214221, 26.05615507,\n",
       "       26.05615507, 24.0748389 , 24.0748389 , 25.56082603, 25.06549699,\n",
       "       26.55148412, 27.04681316, 24.0748389 , 20.60753558, 23.08418081,\n",
       "       23.08418081, 24.0748389 , 24.0748389 , 24.57016794, 24.0748389 ,\n",
       "       25.56082603, 26.05615507, 23.57950985, 24.57016794, 24.0748389 ,\n",
       "       22.09352272, 25.56082603, 26.55148412, 25.56082603, 27.04681316,\n",
       "       27.04681316, 24.57016794, 24.0748389 , 24.0748389 , 24.57016794,\n",
       "       27.54214221, 26.05615507, 23.08418081, 28.03747125, 27.54214221,\n",
       "       25.56082603, 26.05615507, 25.56082603, 27.54214221, 31.50477456,\n",
       "       31.50477456])"
      ]
     },
     "execution_count": 399,
     "metadata": {},
     "output_type": "execute_result"
    }
   ],
   "source": [
    "def predict(df, independent, dependent):\n",
    "    '''Returns an array of predicted values of the dependent variable calculated from the regression line.'''\n",
    "    slope = reg_slope(df, independent, dependent)\n",
    "    intercept = reg_intercept(df, independent, dependent)\n",
    "    x = df.get(independent)\n",
    "    predicted_values = slope * x + intercept\n",
    "    return predicted_values\n",
    "\n",
    "predicted_views = predict(episodes, 'imdb_rating', 'us_views_millions')\n",
    "predicted_views"
   ]
  },
  {
   "cell_type": "code",
   "execution_count": 400,
   "id": "60d82271",
   "metadata": {
    "deletable": false,
    "editable": false
   },
   "outputs": [
    {
     "data": {
      "text/html": [
       "<p><strong><pre style='display: inline;'>q7_4</pre></strong> passed!</p>"
      ],
      "text/plain": [
       "q7_4 results: All test cases passed!"
      ]
     },
     "execution_count": 400,
     "metadata": {},
     "output_type": "execute_result"
    }
   ],
   "source": [
    "grader.check(\"q7_4\")"
   ]
  },
  {
   "cell_type": "markdown",
   "id": "9366c188",
   "metadata": {},
   "source": [
    "**Question 7.5.** Use the strategy for overlaying scatter plots described in [this tutorial](https://www.statology.org/pandas-scatter-plot-multiple-columns/) to create an overlaid scatter plot with:\n",
    "- a blue dot 🔵 for each episode showing the ratings on the $x$-axis and the views on the $y$-axis (as in the scatter plot at the beginning of this section), and\n",
    "- a red dot 🔴 for each episode showing the ratings on the $x$-axis and the **predicted** views on the $y$-axis.\n",
    "\n",
    "The red dots should form a straight line - that's the regression line!\n",
    "\n",
    "***Note:*** This is the first time you've been asked to make an overlaid scatter plot, so you'll need to learn something new to answer this question. Read the linked tutorial carefully and try to mimic their example; you can learn how to do a lot of things this way!"
   ]
  },
  {
   "cell_type": "markdown",
   "id": "672f5194",
   "metadata": {
    "deletable": false,
    "editable": false
   },
   "source": [
    "<!-- BEGIN QUESTION -->\n",
    "\n",
    "<!--\n",
    "BEGIN QUESTION\n",
    "name: q7_5\n",
    "points: 1\n",
    "manual: True\n",
    "-->"
   ]
  },
  {
   "cell_type": "code",
   "execution_count": 401,
   "id": "efaa7fbb",
   "metadata": {},
   "outputs": [
    {
     "data": {
      "image/png": "[encoded data removed]",
      "text/plain": [
       "<Figure size 720x360 with 1 Axes>"
      ]
     },
     "metadata": {},
     "output_type": "display_data"
    }
   ],
   "source": [
    "ax = episodes.plot(kind='scatter', x='imdb_rating', y='us_views_millions', color='b', label='Actual Views', figsize=(10, 5), title='Ratings vs. Views with Regression Line')\n",
    "predicted_views = predict(episodes, 'imdb_rating', 'us_views_millions')\n",
    "plt.scatter(episodes.get('imdb_rating'), predicted_views, color='r', label='Predicted Views')\n",
    "ax.set_xlabel('Ratings')\n",
    "ax.set_ylabel('Views')\n",
    "plt.legend();"
   ]
  },
  {
   "cell_type": "markdown",
   "id": "4807446c",
   "metadata": {},
   "source": [
    "<!-- END QUESTION -->\n",
    "\n",
    "\n",
    "\n",
    "**Question 7.6.** Use the equation of the regression line to answer the following questions. Check that your answers are reasonable using the scatter plot above.\n",
    "\n",
    "1. What is the predicted number of views, in millions, for an episode with an IMDb rating of 8.6? Save your answer as `question_1`.\n",
    "2. An episode is predicted to have 30 million US views. What is its IMDb rating? Save your answer as `question_2`.\n",
    "3. Suppose an episode in season one has an IMDb rating of $d$ and an episode in season two has a IMDb rating of $d + 2$. How many millions more views would we predict the episode in season two to have compared to the episode in season one? Save your answer as `question_3`.\n"
   ]
  },
  {
   "cell_type": "code",
   "execution_count": 402,
   "id": "69785c2c",
   "metadata": {},
   "outputs": [
    {
     "name": "stdout",
     "output_type": "stream",
     "text": [
      "Answer to question 1:  25.4\n",
      "Answer to question 2:  9.4\n",
      "Answer to question 3:  9.9\n"
     ]
    }
   ],
   "source": [
    "question_1 = 25.4\n",
    "question_2 = 9.4\n",
    "question_3 = 9.9\n",
    "print('Answer to question 1: ', question_1)\n",
    "print('Answer to question 2: ', question_2)\n",
    "print('Answer to question 3: ', question_3)"
   ]
  },
  {
   "cell_type": "code",
   "execution_count": null,
   "id": "0bb7d69f",
   "metadata": {
    "deletable": false,
    "editable": false
   },
   "outputs": [],
   "source": [
    "grader.check(\"q7_6\")"
   ]
  },
  {
   "cell_type": "markdown",
   "id": "42e19a20",
   "metadata": {},
   "source": [
    "**Question 7.7.** Now that we have general code to calculate the regression line between any pair of variables in any DataFrame, let's generalize our code for the overlaid scatter plot so we can visualize relationships between other pairs of variables.\n",
    "\n",
    "Complete the function `display_predictions` below. This function should take in the same three inputs as the `correlation` function, create an overlaid scatter plot similar to the one in Question 7.5, and return a string describing the correlation between the variables and the slope and intercept of the regression line.\n",
    "\n",
    "Then, use your function to create a scatter plot and calculate the regression line that would allow you to predict IMDb rating based on viewership in millions. Store the result of your function call in the variable `rating_prediction`."
   ]
  },
  {
   "cell_type": "code",
   "execution_count": 403,
   "id": "53423201",
   "metadata": {},
   "outputs": [
    {
     "data": {
      "text/plain": [
       "'The correlation between us_views_millions and imdb_rating is 0.38.  The slope of the regression line is 0.03. The intercept of the regression line is 7.73.'"
      ]
     },
     "execution_count": 403,
     "metadata": {},
     "output_type": "execute_result"
    },
    {
     "data": {
      "image/png": "[encoded data removed]",
      "text/plain": [
       "<Figure size 720x360 with 1 Axes>"
      ]
     },
     "metadata": {},
     "output_type": "display_data"
    }
   ],
   "source": [
    "def display_predictions(df, independent, dependent):\n",
    "    '''Generates an overlaid scatter plot showing the relationship between the independent and dependent variables in df.\n",
    "    Returns a string describing the correlation and the slope and intercept of the regression line.'''\n",
    "    # Create scatter plot\n",
    "    ax = df.plot(kind='scatter', x=independent, y=dependent, color='b', label='Actual Views', figsize=(10, 5), title=f'{dependent} vs. {independent} with Regression Line')\n",
    "    predicted_views = predict(df, independent, dependent)\n",
    "    plt.scatter(df.get(independent), predicted_views, color='r', label='Predicted Views')\n",
    "    ax.set_xlabel(independent)\n",
    "    ax.set_ylabel(dependent)\n",
    "    plt.legend()\n",
    "\n",
    "    # We've provided the code for the return statement.\n",
    "    return ('The correlation between {0} and {1} is {2}. ' +\\\n",
    "           ' The slope of the regression line is {3}.' + \\\n",
    "           ' The intercept of the regression line is {4}.')\\\n",
    "                .format(independent,\n",
    "                        dependent,\n",
    "                        str(round(correlation(df, independent, dependent), 2)),\n",
    "                        str(round(reg_slope(df, independent, dependent), 2)),\n",
    "                        str(round(reg_intercept(df, independent, dependent), 2)))\n",
    "\n",
    "# Your function should produce the same scatter plot as in Question 7.5 on the inputs below.\n",
    "# Make sure to test it out on other inputs too.\n",
    "display_predictions(episodes, 'us_views_millions', 'imdb_rating')"
   ]
  },
  {
   "cell_type": "code",
   "execution_count": 404,
   "id": "9d6c8a4e",
   "metadata": {},
   "outputs": [
    {
     "data": {
      "text/plain": [
       "'The correlation between us_views_millions and imdb_rating is 0.38.  The slope of the regression line is 0.03. The intercept of the regression line is 7.73.'"
      ]
     },
     "execution_count": 404,
     "metadata": {},
     "output_type": "execute_result"
    },
    {
     "data": {
      "image/png": "[encoded data removed]",
      "text/plain": [
       "<Figure size 720x360 with 1 Axes>"
      ]
     },
     "metadata": {},
     "output_type": "display_data"
    }
   ],
   "source": [
    "rating_prediction = display_predictions(episodes, 'us_views_millions', 'imdb_rating')\n",
    "rating_prediction"
   ]
  },
  {
   "cell_type": "code",
   "execution_count": 405,
   "id": "895f2987",
   "metadata": {
    "deletable": false,
    "editable": false
   },
   "outputs": [
    {
     "data": {
      "text/html": [
       "<p><strong><pre style='display: inline;'>q7_7</pre></strong> passed!</p>"
      ],
      "text/plain": [
       "q7_7 results: All test cases passed!"
      ]
     },
     "execution_count": 405,
     "metadata": {},
     "output_type": "execute_result"
    }
   ],
   "source": [
    "grader.check(\"q7_7\")"
   ]
  },
  {
   "cell_type": "markdown",
   "id": "0ebb7424",
   "metadata": {},
   "source": [
    "**Question 7.8.** There seem to be just a few episodes with 40 million views or more. Since outliers can have a big impact on the regression line, let's see how different our regression line would look if we eliminated these outliers. Again using the `display_predictions` function you just wrote, create a scatter plot and calculate the regression line that would allow you to predict IMDb rating based on viewership, but based only on episodes with less than 40 million views. Store the result of your function call in the variable `no_outliers`."
   ]
  },
  {
   "cell_type": "code",
   "execution_count": 406,
   "id": "677a9f17",
   "metadata": {},
   "outputs": [
    {
     "data": {
      "text/plain": [
       "'The correlation between us_views_millions and imdb_rating is 0.3.  The slope of the regression line is 0.03. The intercept of the regression line is 7.69.'"
      ]
     },
     "execution_count": 406,
     "metadata": {},
     "output_type": "execute_result"
    },
    {
     "data": {
      "image/png": "[encoded data removed]",
      "text/plain": [
       "<Figure size 720x360 with 1 Axes>"
      ]
     },
     "metadata": {},
     "output_type": "display_data"
    }
   ],
   "source": [
    "episodes_no_outliers = episodes[episodes.get('us_views_millions') < 40]\n",
    "no_outliers = display_predictions(episodes_no_outliers, 'us_views_millions', 'imdb_rating')\n",
    "no_outliers"
   ]
  },
  {
   "cell_type": "code",
   "execution_count": 407,
   "id": "e4304ab6",
   "metadata": {
    "deletable": false,
    "editable": false
   },
   "outputs": [
    {
     "data": {
      "text/html": [
       "<p><strong><pre style='display: inline;'>q7_8</pre></strong> passed!</p>"
      ],
      "text/plain": [
       "q7_8 results: All test cases passed!"
      ]
     },
     "execution_count": 407,
     "metadata": {},
     "output_type": "execute_result"
    }
   ],
   "source": [
    "grader.check(\"q7_8\")"
   ]
  },
  {
   "cell_type": "markdown",
   "id": "6cc6c71b",
   "metadata": {},
   "source": [
    "Let's use some of the regression tools we've developed in this section to answer an important question about the reboot: how many episodes should it have? You are about to meet with the producers of the reboot to discuss this. To inform your discussion, you want to see how viewership of *Friends* changed as more episodes were made. \n",
    "\n",
    "**Question 7.9.** Call your `display_predictions` function so that it displays the regression line predicting `'us_views_millions'` based on the number of *Friends* episodes produced.\n",
    "\n",
    "***Hint:*** The `episodes` DataFrame does not have a column that counts the episode number from 1 to the total number of episodes. You'll need to add one!"
   ]
  },
  {
   "cell_type": "markdown",
   "id": "a5382200",
   "metadata": {
    "deletable": false,
    "editable": false
   },
   "source": [
    "<!-- BEGIN QUESTION -->\n",
    "\n",
    "<!--\n",
    "BEGIN QUESTION\n",
    "name: q7_9\n",
    "points: 1\n",
    "manual: True\n",
    "-->"
   ]
  },
  {
   "cell_type": "code",
   "execution_count": 408,
   "id": "77d8ff96",
   "metadata": {},
   "outputs": [
    {
     "data": {
      "text/plain": [
       "'The correlation between episode_number and us_views_millions is -0.18.  The slope of the regression line is -0.01. The intercept of the regression line is 27.04.'"
      ]
     },
     "execution_count": 408,
     "metadata": {},
     "output_type": "execute_result"
    },
    {
     "data": {
      "image/png": "[encoded data removed]",
      "text/plain": [
       "<Figure size 720x360 with 1 Axes>"
      ]
     },
     "metadata": {},
     "output_type": "display_data"
    }
   ],
   "source": [
    "episodesx = episodes.assign(episode_number=np.arange(1, episodes.shape[0] + 1))\n",
    "display_predictions(episodesx, 'episode_number', 'us_views_millions')"
   ]
  },
  {
   "cell_type": "markdown",
   "id": "077628e2",
   "metadata": {},
   "source": [
    "<!-- END QUESTION -->\n",
    "\n",
    "\n",
    "\n",
    "Since the slope of the regression line is negative, this means that viewership of *Friends* ultimately declined as more episodes were created. But this wasn't always the case. When the show was just starting off, new episodes were getting more views than past episodes. The regression line fit to just the first 30 episodes, for example, would have a strongly positive slope. \n",
    "\n",
    "You interpret this data as meaning that maybe *Friends* went on for too long. You want your reboot to have few enough episodes that the excitement of the show doesn't wear off.\n",
    "\n",
    "**Question 7.10.**  Use your `display_predictions` function to display the regression lines predicting `'us_views_millions'` based on the first 20, 40, 60, 80, 100, and 120 episodes. The largest such number of episodes with a positive slope is the number of episodes you think the reboot should have. Save this number of episodes as `reboot_length`. You can type this number in manually after looking at the plots."
   ]
  },
  {
   "cell_type": "code",
   "execution_count": 409,
   "id": "f6d97ea5",
   "metadata": {},
   "outputs": [
    {
     "data": {
      "image/png": "[encoded data removed]",
      "text/plain": [
       "<Figure size 720x360 with 1 Axes>"
      ]
     },
     "metadata": {},
     "output_type": "display_data"
    },
    {
     "data": {
      "image/png": "[encoded data removed]",
      "text/plain": [
       "<Figure size 720x360 with 1 Axes>"
      ]
     },
     "metadata": {},
     "output_type": "display_data"
    },
    {
     "data": {
      "image/png": "[encoded data removed]",
      "text/plain": [
       "<Figure size 720x360 with 1 Axes>"
      ]
     },
     "metadata": {},
     "output_type": "display_data"
    },
    {
     "data": {
      "image/png": "[encoded data removed]",
      "text/plain": [
       "<Figure size 720x360 with 1 Axes>"
      ]
     },
     "metadata": {},
     "output_type": "display_data"
    },
    {
     "data": {
      "image/png": "[encoded data removed]",
      "text/plain": [
       "<Figure size 720x360 with 1 Axes>"
      ]
     },
     "metadata": {},
     "output_type": "display_data"
    },
    {
     "data": {
      "image/png": "[encoded data removed]",
      "text/plain": [
       "<Figure size 720x360 with 1 Axes>"
      ]
     },
     "metadata": {},
     "output_type": "display_data"
    }
   ],
   "source": [
    "num_episodes = [20, 40, 60, 80, 100, 120]\n",
    "for num in num_episodes:\n",
    "    episodes_with_episode_number = episodesx.iloc[:num]\n",
    "    display_predictions(episodes_with_episode_number, 'episode_number', 'us_views_millions')"
   ]
  },
  {
   "cell_type": "code",
   "execution_count": 410,
   "id": "a97982cb",
   "metadata": {},
   "outputs": [
    {
     "data": {
      "text/plain": [
       "80"
      ]
     },
     "execution_count": 410,
     "metadata": {},
     "output_type": "execute_result"
    }
   ],
   "source": [
    "# Plot your regression lines here.\n",
    "\n",
    "\n",
    "reboot_length = 80\n",
    "reboot_length"
   ]
  },
  {
   "cell_type": "code",
   "execution_count": null,
   "id": "7191fc11",
   "metadata": {
    "deletable": false,
    "editable": false
   },
   "outputs": [],
   "source": [
    "grader.check(\"q7_10\")"
   ]
  },
  {
   "cell_type": "markdown",
   "id": "50368200",
   "metadata": {},
   "source": [
    "Now that you know how many episodes your reboot should have, you've completed your plans for the reboot. Well done and best wishes for a successful show!"
   ]
  },
  {
   "cell_type": "markdown",
   "id": "1b609eea",
   "metadata": {},
   "source": [
    "## Finish Line 🏁"
   ]
  },
  {
   "cell_type": "markdown",
   "id": "e5d3d7bb",
   "metadata": {},
   "source": [
    "### **Congratulations! 🎉 You've completed the Final Project!**\n",
    "\n",
    "**_Citations:_** Did you use any generative artificial intelligence tools to assist you on this assignment? If so, please state, for each tool you used, the name of the tool (ex. ChatGPT) and the problem(s) in this assignment where you used the tool for help."
   ]
  },
  {
   "cell_type": "markdown",
   "id": "3dcc9bbd",
   "metadata": {},
   "source": [
    "<hr style=\"color:Maroon;background-color:Maroon;border:0 none; height: 3px;\">\n",
    "\n",
    "ChatGPT: On problem 1.5, 1.7, 4.7, 5.2, 5.5, 7.2, 7.3, 7.5\n",
    "\n",
    "<hr style=\"color:Maroon;background-color:Maroon;border:0 none; height: 3px;\">"
   ]
  },
  {
   "cell_type": "markdown",
   "id": "a65ce962",
   "metadata": {},
   "source": [
    "To submit your assignment:\n",
    "\n",
    "1. Select `Kernel -> Restart & Run All` to ensure that you have executed all cells, including the test cells. <p style=\"color: red\"><b>⚠️ Important!</b> We will allot 20 minutes of computer time to run your notebook. If your notebook takes longer than this to run, it may not pass the autograder! Select \"Kernel -> Restart and Run All\" to time how long your notebook takes. A notebook with correct answers should take less than 10 minutes.</p>\n",
    "\n",
    "2. Read through the notebook to make sure everything is fine and all tests passed.\n",
    "3. Run the cell below to run all tests, and make sure that they all pass.\n",
    "4. Download your notebook using File -> Download as -> Notebook (.ipynb), then upload your notebook to Gradescope. Don't forget to add your partner to your group on Gradescope!\n",
    "5. Stick around while the Gradescope autograder grades your work. Make sure you see that all tests have passed on Gradescope.\n",
    "6. Check that you have a confirmation email from Gradescope and save it as proof of your submission. \n",
    "\n",
    "If running all the tests at once causes a test to fail that didn't fail when you ran the notebook in order, check to see if you changed a variable's value later in your code. Make sure to use new variable names instead of reusing ones that are used in the tests. \n",
    "\n",
    "Remember, the tests here and on Gradescope just check the format of your answers. We will run correctness tests after the assignment's due date has passed."
   ]
  },
  {
   "cell_type": "code",
   "execution_count": null,
   "id": "8d3feaaa",
   "metadata": {},
   "outputs": [],
   "source": [
    "grader.check_all()"
   ]
  },
  {
   "cell_type": "markdown",
   "id": "93560960",
   "metadata": {},
   "source": [
    "<img style=\"float: left;\" src=\"images/friends_anticipation.png\" width=\"600\" height=\"600\">"
   ]
  }
 ],
 "metadata": {
  "kernelspec": {
   "display_name": "Python 3 (ipykernel)",
   "language": "python",
   "name": "python3"
  },
  "language_info": {
   "codemirror_mode": {
    "name": "ipython",
    "version": 3
   },
   "file_extension": ".py",
   "mimetype": "text/x-python",
   "name": "python",
   "nbconvert_exporter": "python",
   "pygments_lexer": "ipython3",
   "version": "3.9.5"
  }
 },
 "nbformat": 4,
 "nbformat_minor": 5
}
